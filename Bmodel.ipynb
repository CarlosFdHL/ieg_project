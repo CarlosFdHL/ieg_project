{
 "cells": [
  {
   "cell_type": "code",
   "execution_count": 24,
   "metadata": {},
   "outputs": [],
   "source": [
    "import pandas as pd\n",
    "import pypsa\n",
    "import matplotlib.pyplot as plt\n",
    "import numpy as np\n",
    "import pandas as pd\n",
    "\n",
    "plt.rcParams['font.family'] = 'serif'"
   ]
  },
  {
   "cell_type": "code",
   "execution_count": 25,
   "metadata": {},
   "outputs": [],
   "source": [
    "def annuity(n,r):\n",
    "    \"\"\" Calculate the annuity factor for an asset with lifetime n years and\n",
    "    discount rate  r \"\"\"\n",
    "\n",
    "    if r > 0:\n",
    "        return r/(1. - 1./(1.+r)**n)\n",
    "    else:\n",
    "        return 1/n"
   ]
  },
  {
   "cell_type": "code",
   "execution_count": 26,
   "metadata": {},
   "outputs": [],
   "source": [
    "# load electricity demand data\n",
    "df_elec = pd.read_csv('data/electricity_demand.csv', sep=';', index_col=0) # in MWh\n",
    "df_elec.index = pd.to_datetime(df_elec.index) #change index to datatime\n",
    "country='GBR'\n",
    "\n",
    "def model(co2_constraint):\n",
    "    network = pypsa.Network()\n",
    "    hours_in_2015 = pd.date_range('2015-01-01 00:00Z',\n",
    "                                '2015-12-31 23:00Z',\n",
    "                                freq='h')\n",
    "\n",
    "    network.set_snapshots(hours_in_2015.values)\n",
    "\n",
    "    network.add(\"Bus\",\n",
    "                \"electricity bus\")\n",
    "    # add load to the bus\n",
    "    network.add(\"Load\",\n",
    "                \"load\",\n",
    "                bus=\"electricity bus\",\n",
    "                p_set=df_elec[country].values)\n",
    "    # CAPEX values for different technologies (in €/MW)\n",
    "    offshoreWind_capex = 2.8e6\n",
    "    onshoreWind_capex = 1.4e6\n",
    "    solar_capex = 628e3\n",
    "    ccgt_capex = 1.04e6\n",
    "    nuclear_capex = 11.08e6\n",
    "\n",
    "    # add the different carriers, only gas emits CO2\n",
    "    network.add(\"Carrier\", \"gas\", co2_emissions=0.2019) # in t_CO2/MWh_th\n",
    "    network.add(\"Carrier\", \"onshorewind\")\n",
    "    network.add(\"Carrier\", \"solar\")\n",
    "    network.add(\"Carrier\", \"offshorewind\")\n",
    "    network.add(\"Carrier\", \"nuclear\")\n",
    "\n",
    "    # add onshore wind generator\n",
    "    df_onshorewind = pd.read_csv('data/onshore_wind_1979-2017.csv', sep=';', index_col=0)\n",
    "    df_onshorewind.index = pd.to_datetime(df_onshorewind.index)\n",
    "    CF_windOnshore = df_onshorewind[country][[hour.strftime(\"%Y-%m-%dT%H:%M:%SZ\") for hour in network.snapshots]]\n",
    "    capital_cost_onshorewind = annuity(25,0.07)*onshoreWind_capex * (1+0.03) # in €/MW !!!!!!!!!!!!!!!!!!!!!!!!!!!!!!!!!!!!!!!!!!!!!!!!!!!!!!!!!!!!!!!!!!!!\n",
    "    network.add(\"Generator\",\n",
    "                \"onshorewind\",\n",
    "                bus=\"electricity bus\",\n",
    "                p_nom_extendable=True,\n",
    "                carrier=\"onshorewind\",\n",
    "                #p_nom_max=1000, # maximum capacity can be limited due to environmental constraints\n",
    "                capital_cost = capital_cost_onshorewind,\n",
    "                marginal_cost = 0,\n",
    "                p_max_pu = CF_windOnshore.values)\n",
    "\n",
    "    # add offshore wind generator\n",
    "    df_offshore = pd.read_csv('data/offshore_wind_1979-2017.csv', sep=';', index_col=0)\n",
    "    df_offshore.index = pd.to_datetime(df_offshore.index)\n",
    "    CF_windOffshore = df_offshore[country][[hour.strftime(\"%Y-%m-%dT%H:%M:%SZ\") for hour in network.snapshots]]\n",
    "    capital_cost_offshore = annuity(25,0.07)*offshoreWind_capex *(1+0.03) # in €/MW !!!!!!!!!!!!!!!!!!!!!!!!!!!!!!!!!!!!!!!!!!!!!!!!!!!!!!!!!!!!!!!!!!!!\n",
    "    network.add(\"Generator\",\n",
    "                \"offshorewind\",\n",
    "                bus=\"electricity bus\",\n",
    "                p_nom_extendable=True,\n",
    "                carrier=\"offshorewind\",\n",
    "                #p_nom_max=1000, # maximum capacity can be limited due to environmental constraints\n",
    "                capital_cost = capital_cost_offshore,\n",
    "                marginal_cost = 0,\n",
    "                p_max_pu = CF_windOffshore.values)\n",
    "\n",
    "    # add solar PV generator\n",
    "    df_solar = pd.read_csv('data/pv_optimal.csv', sep=';', index_col=0)\n",
    "    df_solar.index = pd.to_datetime(df_solar.index)\n",
    "    CF_solar = df_solar[country][[hour.strftime(\"%Y-%m-%dT%H:%M:%SZ\") for hour in network.snapshots]]\n",
    "    capital_cost_solar = annuity(25,0.07)*solar_capex*(1+0.03) # in €/MW\n",
    "    network.add(\"Generator\",\n",
    "                \"solar\",\n",
    "                bus=\"electricity bus\",\n",
    "                p_nom_extendable=True,\n",
    "                carrier=\"solar\",\n",
    "                #p_nom_max=1000, # maximum capacity can be limited due to environmental constraints\n",
    "                capital_cost = capital_cost_solar,\n",
    "                marginal_cost = 0,\n",
    "                p_max_pu = CF_solar.values)\n",
    "\n",
    "    # add CCGT (Combine Cycle Gas Turbine) generator\n",
    "    capital_cost_CCGT = annuity(30,0.07)*(ccgt_capex + 14.32 * 1000) # in €/MW\n",
    "    fuel_cost = 30.32 # in €/MWh_th\n",
    "    efficiency = 0.5 # MWh_elec/MWh_th\n",
    "    marginal_cost_CCGT = fuel_cost/efficiency # in €/MWh_el\n",
    "    network.add(\"Generator\",\n",
    "                \"CCGT\",\n",
    "                bus=\"electricity bus\",\n",
    "                p_nom_extendable=True,\n",
    "                carrier=\"gas\",\n",
    "                #p_nom_max=1000,\n",
    "                capital_cost = capital_cost_CCGT,\n",
    "                marginal_cost = marginal_cost_CCGT)\n",
    "\n",
    "    # add nuclear generator\n",
    "    capital_cost_nuclear = annuity(40,0.07)*(nuclear_capex + 14.45 * 1000) # in €/MW\n",
    "    fuel_cost = 6.2 # in €/MWh_th\n",
    "    efficiency = 0.33 # MWh_elec/MWh_th\n",
    "    marginal_cost_nuclear = fuel_cost/efficiency # in €/MWh_el\n",
    "    network.add(\"Generator\",\n",
    "                \"nuclear\",\n",
    "                bus=\"electricity bus\",\n",
    "                p_nom_extendable=True,\n",
    "                carrier=\"nuclear\",\n",
    "                #p_nom_max=1000,\n",
    "                capital_cost = capital_cost_nuclear,\n",
    "                marginal_cost = marginal_cost_nuclear)\n",
    "    \n",
    "    # CO2 Constraint\n",
    "    network.add(\"GlobalConstraint\",\n",
    "            \"co2_limit\",\n",
    "            type=\"primary_energy\",\n",
    "            carrier_attribute=\"co2_emissions\",\n",
    "            sense=\"<=\",\n",
    "            constant=co2_constraint)\n",
    "    network.optimize(solver_name='gurobi', solver_options={\"LogToConsole\": 0})\n",
    "\n",
    "    return network\n",
    "\n"
   ]
  },
  {
   "cell_type": "code",
   "execution_count": 27,
   "metadata": {},
   "outputs": [
    {
     "name": "stderr",
     "output_type": "stream",
     "text": [
      "WARNING:pypsa.consistency:The following buses have carriers which are not defined:\n",
      "Index(['electricity bus'], dtype='object', name='Bus')\n",
      "INFO:linopy.model: Solve problem using Gurobi solver\n",
      "INFO:linopy.model:Solver options:\n",
      " - LogToConsole: 0\n",
      "INFO:linopy.io:Writing objective.\n",
      "Writing constraints.: 100%|\u001b[38;2;128;191;255m██████████\u001b[0m| 6/6 [00:00<00:00, 16.47it/s]\n",
      "Writing continuous variables.: 100%|\u001b[38;2;128;191;255m██████████\u001b[0m| 2/2 [00:00<00:00, 33.01it/s]\n",
      "INFO:linopy.io: Writing time: 0.46s\n"
     ]
    },
    {
     "name": "stdout",
     "output_type": "stream",
     "text": [
      "Set parameter Username\n"
     ]
    },
    {
     "name": "stderr",
     "output_type": "stream",
     "text": [
      "INFO:gurobipy:Set parameter Username\n"
     ]
    },
    {
     "name": "stdout",
     "output_type": "stream",
     "text": [
      "Set parameter LicenseID to value 2587918\n"
     ]
    },
    {
     "name": "stderr",
     "output_type": "stream",
     "text": [
      "INFO:gurobipy:Set parameter LicenseID to value 2587918\n"
     ]
    },
    {
     "name": "stdout",
     "output_type": "stream",
     "text": [
      "Academic license - for non-commercial use only - expires 2025-11-20\n"
     ]
    },
    {
     "name": "stderr",
     "output_type": "stream",
     "text": [
      "INFO:gurobipy:Academic license - for non-commercial use only - expires 2025-11-20\n"
     ]
    },
    {
     "name": "stdout",
     "output_type": "stream",
     "text": [
      "Read LP format model from file C:\\Users\\carlo\\AppData\\Local\\Temp\\linopy-problem-w_vpy055.lp\n"
     ]
    },
    {
     "name": "stderr",
     "output_type": "stream",
     "text": [
      "INFO:gurobipy:Read LP format model from file C:\\Users\\carlo\\AppData\\Local\\Temp\\linopy-problem-w_vpy055.lp\n"
     ]
    },
    {
     "name": "stdout",
     "output_type": "stream",
     "text": [
      "Reading time = 0.11 seconds\n"
     ]
    },
    {
     "name": "stderr",
     "output_type": "stream",
     "text": [
      "INFO:gurobipy:Reading time = 0.11 seconds\n"
     ]
    },
    {
     "name": "stdout",
     "output_type": "stream",
     "text": [
      "obj: 96366 rows, 43805 columns, 179719 nonzeros\n"
     ]
    },
    {
     "name": "stderr",
     "output_type": "stream",
     "text": [
      "INFO:gurobipy:obj: 96366 rows, 43805 columns, 179719 nonzeros\n",
      "INFO:linopy.constants: Optimization successful: \n",
      "Status: ok\n",
      "Termination condition: optimal\n",
      "Solution: 43805 primals, 96366 duals\n",
      "Objective: 3.70e+10\n",
      "Solver model: available\n",
      "Solver message: 2\n",
      "\n",
      "INFO:pypsa.optimization.optimize:The shadow-prices of the constraints Generator-ext-p-lower, Generator-ext-p-upper were not assigned to the network.\n"
     ]
    }
   ],
   "source": [
    "co2_limit=1000000 #tonCO2\n",
    "network = model(co2_limit)\n"
   ]
  },
  {
   "cell_type": "code",
   "execution_count": 28,
   "metadata": {},
   "outputs": [
    {
     "name": "stdout",
     "output_type": "stream",
     "text": [
      "37043.57044104162\n"
     ]
    }
   ],
   "source": [
    "print(network.objective/1000000) #in 10^6 €"
   ]
  },
  {
   "cell_type": "code",
   "execution_count": 29,
   "metadata": {},
   "outputs": [
    {
     "name": "stdout",
     "output_type": "stream",
     "text": [
      "Load\n",
      "load    131.26932\n",
      "dtype: float64\n"
     ]
    }
   ],
   "source": [
    "print(network.objective/network.loads_t.p.sum()) # EUR/MWh"
   ]
  },
  {
   "cell_type": "code",
   "execution_count": 30,
   "metadata": {},
   "outputs": [
    {
     "data": {
      "text/plain": [
       "Generator\n",
       "onshorewind     47035.679721\n",
       "offshorewind        0.000000\n",
       "solar           18129.914388\n",
       "CCGT            19648.072501\n",
       "nuclear         30427.143513\n",
       "Name: p_nom_opt, dtype: float64"
      ]
     },
     "execution_count": 30,
     "metadata": {},
     "output_type": "execute_result"
    }
   ],
   "source": [
    "network.generators.p_nom_opt # in MW"
   ]
  },
  {
   "cell_type": "code",
   "execution_count": 31,
   "metadata": {},
   "outputs": [
    {
     "name": "stderr",
     "output_type": "stream",
     "text": [
      "C:\\Users\\carlo\\AppData\\Local\\Temp\\ipykernel_55364\\2499115036.py:3: FutureWarning: 'H' is deprecated and will be removed in a future version, please use 'h' instead.\n",
      "  hours = pd.date_range(start=\"2015-01-01\", periods=num_hours_week, freq='H')\n"
     ]
    },
    {
     "data": {
      "image/png": "[encoded data removed]",
      "text/plain": [
       "<Figure size 1000x600 with 1 Axes>"
      ]
     },
     "metadata": {},
     "output_type": "display_data"
    }
   ],
   "source": [
    "# Selection of plotted hours\n",
    "num_hours_week = 24 * 7\n",
    "hours = pd.date_range(start=\"2015-01-01\", periods=num_hours_week, freq='H')\n",
    "\n",
    "demand = network.loads_t.p['load'][hours].values\n",
    "onshore_wind = network.generators_t.p['onshorewind'][hours].values\n",
    "solar = network.generators_t.p['solar'][hours].values    \n",
    "gas_ccgt = network.generators_t.p['CCGT'][hours].values\n",
    "offshore_wind = network.generators_t.p['offshorewind'][hours].values\n",
    "nuclear = network.generators_t.p['nuclear'][hours].values\n",
    "\n",
    "plt.figure(figsize=(10, 6))\n",
    "plt.plot(demand, color='black', label='demand')\n",
    "plt.plot(onshore_wind, color='blue', label='onshore wind')\n",
    "plt.plot(solar, color='orange', label='solar')\n",
    "plt.plot(gas_ccgt, color='red', label='gas (CCGT)')\n",
    "plt.plot(offshore_wind, color='green', label='offshore wind')\n",
    "plt.plot(nuclear, color='brown', label='nuclear')\n",
    "plt.legend(fancybox=True, shadow=True, loc='best')\n",
    "plt.xlabel('Time (hours)')\n",
    "plt.ylabel('Power (MW)')\n",
    "#plt.title('Energy Production and Demand')\n",
    "# plt.xticks(rotation=45)\n",
    "plt.grid(True)\n",
    "\n",
    "# Improve x-axis ticks\n",
    "# plt.gca().xaxis.set_major_locator(plt.MultipleLocator(12))\n",
    "# plt.gca().xaxis.set_minor_locator(plt.MultipleLocator(3))\n",
    "# plt.gca().xaxis.set_major_formatter(plt.matplotlib.dates.DateFormatter('%Y-%m-%d %H:%M'))\n",
    "\n",
    "plt.tight_layout()\n"
   ]
  },
  {
   "cell_type": "code",
   "execution_count": 32,
   "metadata": {},
   "outputs": [
    {
     "data": {
      "text/plain": [
       "Text(0.5, 1.07, 'Electricity mix')"
      ]
     },
     "execution_count": 32,
     "metadata": {},
     "output_type": "execute_result"
    },
    {
     "data": {
      "image/png": "[encoded data removed]",
      "text/plain": [
       "<Figure size 640x480 with 1 Axes>"
      ]
     },
     "metadata": {},
     "output_type": "display_data"
    }
   ],
   "source": [
    "labels = ['onshore wind',\n",
    "          'gas (CCGT)', \n",
    "          'solar',\n",
    "          'offshore wind',\n",
    "          'nuclear']\n",
    "sizes = [network.generators_t.p['onshorewind'].sum(),\n",
    "         network.generators_t.p['CCGT'].sum(),\n",
    "         network.generators_t.p['solar'].sum(),\n",
    "         network.generators_t.p['offshorewind'].sum(),\n",
    "         network.generators_t.p['nuclear'].sum()\n",
    "]\n",
    "\n",
    "colors=['blue', 'orange', 'brown', 'green', 'red']\n",
    "\n",
    "plt.pie(sizes,\n",
    "        colors=colors,\n",
    "        labels=labels,\n",
    "        wedgeprops={'linewidth':0})\n",
    "plt.axis('equal')\n",
    "\n",
    "plt.title('Electricity mix', y=1.07)"
   ]
  },
  {
   "cell_type": "code",
   "execution_count": 33,
   "metadata": {},
   "outputs": [
    {
     "data": {
      "image/png": "[encoded data removed]",
      "text/plain": [
       "<Figure size 700x400 with 1 Axes>"
      ]
     },
     "metadata": {},
     "output_type": "display_data"
    }
   ],
   "source": [
    "# Capacity factor calculation\n",
    "capacity_factors = {\n",
    "    \"onshore wind\": network.generators_t.p['onshorewind'] / network.generators.p_nom_opt['onshorewind'],\n",
    "    \"gas (CCGT)\": network.generators_t.p['CCGT'] / network.generators.p_nom_opt['CCGT'],\n",
    "    \"solar\": network.generators_t.p['solar'] / network.generators.p_nom_opt['solar'],\n",
    "    \"offshore wind\": network.generators_t.p['offshorewind'] / network.generators.p_nom_opt['offshorewind'],\n",
    "    \"nuclear\": network.generators_t.p['nuclear'] / network.generators.p_nom_opt['nuclear']\n",
    "}\n",
    "\n",
    "# Sorting data for duration curve plot\n",
    "duration_curves = {\n",
    "    tech: np.sort(data)[::-1]\n",
    "    for tech, data in capacity_factors.items()\n",
    "}\n",
    "\n",
    "# Plotting the duration curves\n",
    "plt.figure(figsize=(7, 4))\n",
    "for tech, data in duration_curves.items():\n",
    "    plt.plot(data, label=tech)\n",
    "\n",
    "plt.title('Duration Curves for Energy Technologies')\n",
    "plt.xlabel('Hours')\n",
    "plt.ylabel('Capacity Factor')\n",
    "plt.legend()\n",
    "plt.grid(True)\n",
    "plt.tight_layout()\n",
    "plt.show()\n"
   ]
  },
  {
   "cell_type": "code",
   "execution_count": 42,
   "metadata": {},
   "outputs": [
    {
     "name": "stderr",
     "output_type": "stream",
     "text": [
      "WARNING:pypsa.consistency:The following buses have carriers which are not defined:\n",
      "Index(['electricity bus'], dtype='object', name='Bus')\n",
      "INFO:linopy.model: Solve problem using Gurobi solver\n",
      "INFO:linopy.model:Solver options:\n",
      " - LogToConsole: 0\n",
      "INFO:linopy.io:Writing objective.\n",
      "Writing constraints.: 100%|\u001b[38;2;128;191;255m██████████\u001b[0m| 6/6 [00:00<00:00, 17.69it/s]\n",
      "Writing continuous variables.: 100%|\u001b[38;2;128;191;255m██████████\u001b[0m| 2/2 [00:00<00:00, 33.21it/s]\n",
      "INFO:linopy.io: Writing time: 0.43s\n"
     ]
    },
    {
     "name": "stdout",
     "output_type": "stream",
     "text": [
      "Set parameter Username\n"
     ]
    },
    {
     "name": "stderr",
     "output_type": "stream",
     "text": [
      "INFO:gurobipy:Set parameter Username\n"
     ]
    },
    {
     "name": "stdout",
     "output_type": "stream",
     "text": [
      "Set parameter LicenseID to value 2587918\n"
     ]
    },
    {
     "name": "stderr",
     "output_type": "stream",
     "text": [
      "INFO:gurobipy:Set parameter LicenseID to value 2587918\n"
     ]
    },
    {
     "name": "stdout",
     "output_type": "stream",
     "text": [
      "Academic license - for non-commercial use only - expires 2025-11-20\n"
     ]
    },
    {
     "name": "stderr",
     "output_type": "stream",
     "text": [
      "INFO:gurobipy:Academic license - for non-commercial use only - expires 2025-11-20\n"
     ]
    },
    {
     "name": "stdout",
     "output_type": "stream",
     "text": [
      "Read LP format model from file C:\\Users\\carlo\\AppData\\Local\\Temp\\linopy-problem-jtvwdbnc.lp\n"
     ]
    },
    {
     "name": "stderr",
     "output_type": "stream",
     "text": [
      "INFO:gurobipy:Read LP format model from file C:\\Users\\carlo\\AppData\\Local\\Temp\\linopy-problem-jtvwdbnc.lp\n"
     ]
    },
    {
     "name": "stdout",
     "output_type": "stream",
     "text": [
      "Reading time = 0.11 seconds\n"
     ]
    },
    {
     "name": "stderr",
     "output_type": "stream",
     "text": [
      "INFO:gurobipy:Reading time = 0.11 seconds\n"
     ]
    },
    {
     "name": "stdout",
     "output_type": "stream",
     "text": [
      "obj: 96366 rows, 43805 columns, 179719 nonzeros\n"
     ]
    },
    {
     "name": "stderr",
     "output_type": "stream",
     "text": [
      "INFO:gurobipy:obj: 96366 rows, 43805 columns, 179719 nonzeros\n",
      "INFO:linopy.constants: Optimization successful: \n",
      "Status: ok\n",
      "Termination condition: optimal\n",
      "Solution: 43805 primals, 96366 duals\n",
      "Objective: 2.08e+10\n",
      "Solver model: available\n",
      "Solver message: 2\n",
      "\n",
      "INFO:pypsa.optimization.optimize:The shadow-prices of the constraints Generator-ext-p-lower, Generator-ext-p-upper were not assigned to the network.\n",
      "WARNING:pypsa.consistency:The following buses have carriers which are not defined:\n",
      "Index(['electricity bus'], dtype='object', name='Bus')\n",
      "INFO:linopy.model: Solve problem using Gurobi solver\n",
      "INFO:linopy.model:Solver options:\n",
      " - LogToConsole: 0\n",
      "INFO:linopy.io:Writing objective.\n",
      "Writing constraints.: 100%|\u001b[38;2;128;191;255m██████████\u001b[0m| 6/6 [00:00<00:00, 17.80it/s]\n",
      "Writing continuous variables.: 100%|\u001b[38;2;128;191;255m██████████\u001b[0m| 2/2 [00:00<00:00, 36.29it/s]\n",
      "INFO:linopy.io: Writing time: 0.43s\n"
     ]
    },
    {
     "name": "stdout",
     "output_type": "stream",
     "text": [
      "Set parameter Username\n"
     ]
    },
    {
     "name": "stderr",
     "output_type": "stream",
     "text": [
      "INFO:gurobipy:Set parameter Username\n"
     ]
    },
    {
     "name": "stdout",
     "output_type": "stream",
     "text": [
      "Set parameter LicenseID to value 2587918\n"
     ]
    },
    {
     "name": "stderr",
     "output_type": "stream",
     "text": [
      "INFO:gurobipy:Set parameter LicenseID to value 2587918\n"
     ]
    },
    {
     "name": "stdout",
     "output_type": "stream",
     "text": [
      "Academic license - for non-commercial use only - expires 2025-11-20\n"
     ]
    },
    {
     "name": "stderr",
     "output_type": "stream",
     "text": [
      "INFO:gurobipy:Academic license - for non-commercial use only - expires 2025-11-20\n"
     ]
    },
    {
     "name": "stdout",
     "output_type": "stream",
     "text": [
      "Read LP format model from file C:\\Users\\carlo\\AppData\\Local\\Temp\\linopy-problem-ha4rfrg3.lp\n"
     ]
    },
    {
     "name": "stderr",
     "output_type": "stream",
     "text": [
      "INFO:gurobipy:Read LP format model from file C:\\Users\\carlo\\AppData\\Local\\Temp\\linopy-problem-ha4rfrg3.lp\n"
     ]
    },
    {
     "name": "stdout",
     "output_type": "stream",
     "text": [
      "Reading time = 0.11 seconds\n"
     ]
    },
    {
     "name": "stderr",
     "output_type": "stream",
     "text": [
      "INFO:gurobipy:Reading time = 0.11 seconds\n"
     ]
    },
    {
     "name": "stdout",
     "output_type": "stream",
     "text": [
      "obj: 96366 rows, 43805 columns, 179719 nonzeros\n"
     ]
    },
    {
     "name": "stderr",
     "output_type": "stream",
     "text": [
      "INFO:gurobipy:obj: 96366 rows, 43805 columns, 179719 nonzeros\n",
      "INFO:linopy.constants: Optimization successful: \n",
      "Status: ok\n",
      "Termination condition: optimal\n",
      "Solution: 43805 primals, 96366 duals\n",
      "Objective: 2.08e+10\n",
      "Solver model: available\n",
      "Solver message: 2\n",
      "\n",
      "INFO:pypsa.optimization.optimize:The shadow-prices of the constraints Generator-ext-p-lower, Generator-ext-p-upper were not assigned to the network.\n",
      "WARNING:pypsa.consistency:The following buses have carriers which are not defined:\n",
      "Index(['electricity bus'], dtype='object', name='Bus')\n",
      "INFO:linopy.model: Solve problem using Gurobi solver\n",
      "INFO:linopy.model:Solver options:\n",
      " - LogToConsole: 0\n",
      "INFO:linopy.io:Writing objective.\n",
      "Writing constraints.: 100%|\u001b[38;2;128;191;255m██████████\u001b[0m| 6/6 [00:00<00:00, 17.90it/s]\n",
      "Writing continuous variables.: 100%|\u001b[38;2;128;191;255m██████████\u001b[0m| 2/2 [00:00<00:00, 33.11it/s]\n",
      "INFO:linopy.io: Writing time: 0.41s\n"
     ]
    },
    {
     "name": "stdout",
     "output_type": "stream",
     "text": [
      "Set parameter Username\n"
     ]
    },
    {
     "name": "stderr",
     "output_type": "stream",
     "text": [
      "INFO:gurobipy:Set parameter Username\n"
     ]
    },
    {
     "name": "stdout",
     "output_type": "stream",
     "text": [
      "Set parameter LicenseID to value 2587918\n"
     ]
    },
    {
     "name": "stderr",
     "output_type": "stream",
     "text": [
      "INFO:gurobipy:Set parameter LicenseID to value 2587918\n"
     ]
    },
    {
     "name": "stdout",
     "output_type": "stream",
     "text": [
      "Academic license - for non-commercial use only - expires 2025-11-20\n"
     ]
    },
    {
     "name": "stderr",
     "output_type": "stream",
     "text": [
      "INFO:gurobipy:Academic license - for non-commercial use only - expires 2025-11-20\n"
     ]
    },
    {
     "name": "stdout",
     "output_type": "stream",
     "text": [
      "Read LP format model from file C:\\Users\\carlo\\AppData\\Local\\Temp\\linopy-problem-il1ioqr9.lp\n"
     ]
    },
    {
     "name": "stderr",
     "output_type": "stream",
     "text": [
      "INFO:gurobipy:Read LP format model from file C:\\Users\\carlo\\AppData\\Local\\Temp\\linopy-problem-il1ioqr9.lp\n"
     ]
    },
    {
     "name": "stdout",
     "output_type": "stream",
     "text": [
      "Reading time = 0.12 seconds\n"
     ]
    },
    {
     "name": "stderr",
     "output_type": "stream",
     "text": [
      "INFO:gurobipy:Reading time = 0.12 seconds\n"
     ]
    },
    {
     "name": "stdout",
     "output_type": "stream",
     "text": [
      "obj: 96366 rows, 43805 columns, 179719 nonzeros\n"
     ]
    },
    {
     "name": "stderr",
     "output_type": "stream",
     "text": [
      "INFO:gurobipy:obj: 96366 rows, 43805 columns, 179719 nonzeros\n",
      "INFO:linopy.constants: Optimization successful: \n",
      "Status: ok\n",
      "Termination condition: optimal\n",
      "Solution: 43805 primals, 96366 duals\n",
      "Objective: 2.08e+10\n",
      "Solver model: available\n",
      "Solver message: 2\n",
      "\n",
      "INFO:pypsa.optimization.optimize:The shadow-prices of the constraints Generator-ext-p-lower, Generator-ext-p-upper were not assigned to the network.\n",
      "WARNING:pypsa.consistency:The following buses have carriers which are not defined:\n",
      "Index(['electricity bus'], dtype='object', name='Bus')\n",
      "INFO:linopy.model: Solve problem using Gurobi solver\n",
      "INFO:linopy.model:Solver options:\n",
      " - LogToConsole: 0\n",
      "INFO:linopy.io:Writing objective.\n",
      "Writing constraints.: 100%|\u001b[38;2;128;191;255m██████████\u001b[0m| 6/6 [00:00<00:00, 17.73it/s]\n",
      "Writing continuous variables.: 100%|\u001b[38;2;128;191;255m██████████\u001b[0m| 2/2 [00:00<00:00, 32.08it/s]\n",
      "INFO:linopy.io: Writing time: 0.43s\n"
     ]
    },
    {
     "name": "stdout",
     "output_type": "stream",
     "text": [
      "Set parameter Username\n"
     ]
    },
    {
     "name": "stderr",
     "output_type": "stream",
     "text": [
      "INFO:gurobipy:Set parameter Username\n"
     ]
    },
    {
     "name": "stdout",
     "output_type": "stream",
     "text": [
      "Set parameter LicenseID to value 2587918\n"
     ]
    },
    {
     "name": "stderr",
     "output_type": "stream",
     "text": [
      "INFO:gurobipy:Set parameter LicenseID to value 2587918\n"
     ]
    },
    {
     "name": "stdout",
     "output_type": "stream",
     "text": [
      "Academic license - for non-commercial use only - expires 2025-11-20\n"
     ]
    },
    {
     "name": "stderr",
     "output_type": "stream",
     "text": [
      "INFO:gurobipy:Academic license - for non-commercial use only - expires 2025-11-20\n"
     ]
    },
    {
     "name": "stdout",
     "output_type": "stream",
     "text": [
      "Read LP format model from file C:\\Users\\carlo\\AppData\\Local\\Temp\\linopy-problem-k4rdnrtx.lp\n"
     ]
    },
    {
     "name": "stderr",
     "output_type": "stream",
     "text": [
      "INFO:gurobipy:Read LP format model from file C:\\Users\\carlo\\AppData\\Local\\Temp\\linopy-problem-k4rdnrtx.lp\n"
     ]
    },
    {
     "name": "stdout",
     "output_type": "stream",
     "text": [
      "Reading time = 0.11 seconds\n"
     ]
    },
    {
     "name": "stderr",
     "output_type": "stream",
     "text": [
      "INFO:gurobipy:Reading time = 0.11 seconds\n"
     ]
    },
    {
     "name": "stdout",
     "output_type": "stream",
     "text": [
      "obj: 96366 rows, 43805 columns, 179719 nonzeros\n"
     ]
    },
    {
     "name": "stderr",
     "output_type": "stream",
     "text": [
      "INFO:gurobipy:obj: 96366 rows, 43805 columns, 179719 nonzeros\n",
      "INFO:linopy.constants: Optimization successful: \n",
      "Status: ok\n",
      "Termination condition: optimal\n",
      "Solution: 43805 primals, 96366 duals\n",
      "Objective: 2.08e+10\n",
      "Solver model: available\n",
      "Solver message: 2\n",
      "\n",
      "INFO:pypsa.optimization.optimize:The shadow-prices of the constraints Generator-ext-p-lower, Generator-ext-p-upper were not assigned to the network.\n",
      "WARNING:pypsa.consistency:The following buses have carriers which are not defined:\n",
      "Index(['electricity bus'], dtype='object', name='Bus')\n",
      "INFO:linopy.model: Solve problem using Gurobi solver\n",
      "INFO:linopy.model:Solver options:\n",
      " - LogToConsole: 0\n",
      "INFO:linopy.io:Writing objective.\n",
      "Writing constraints.: 100%|\u001b[38;2;128;191;255m██████████\u001b[0m| 6/6 [00:00<00:00, 18.36it/s]\n",
      "Writing continuous variables.: 100%|\u001b[38;2;128;191;255m██████████\u001b[0m| 2/2 [00:00<00:00, 38.61it/s]\n",
      "INFO:linopy.io: Writing time: 0.4s\n"
     ]
    },
    {
     "name": "stdout",
     "output_type": "stream",
     "text": [
      "Set parameter Username\n"
     ]
    },
    {
     "name": "stderr",
     "output_type": "stream",
     "text": [
      "INFO:gurobipy:Set parameter Username\n"
     ]
    },
    {
     "name": "stdout",
     "output_type": "stream",
     "text": [
      "Set parameter LicenseID to value 2587918\n"
     ]
    },
    {
     "name": "stderr",
     "output_type": "stream",
     "text": [
      "INFO:gurobipy:Set parameter LicenseID to value 2587918\n"
     ]
    },
    {
     "name": "stdout",
     "output_type": "stream",
     "text": [
      "Academic license - for non-commercial use only - expires 2025-11-20\n"
     ]
    },
    {
     "name": "stderr",
     "output_type": "stream",
     "text": [
      "INFO:gurobipy:Academic license - for non-commercial use only - expires 2025-11-20\n"
     ]
    },
    {
     "name": "stdout",
     "output_type": "stream",
     "text": [
      "Read LP format model from file C:\\Users\\carlo\\AppData\\Local\\Temp\\linopy-problem-are4hy1_.lp\n"
     ]
    },
    {
     "name": "stderr",
     "output_type": "stream",
     "text": [
      "INFO:gurobipy:Read LP format model from file C:\\Users\\carlo\\AppData\\Local\\Temp\\linopy-problem-are4hy1_.lp\n"
     ]
    },
    {
     "name": "stdout",
     "output_type": "stream",
     "text": [
      "Reading time = 0.11 seconds\n"
     ]
    },
    {
     "name": "stderr",
     "output_type": "stream",
     "text": [
      "INFO:gurobipy:Reading time = 0.11 seconds\n"
     ]
    },
    {
     "name": "stdout",
     "output_type": "stream",
     "text": [
      "obj: 96366 rows, 43805 columns, 179719 nonzeros\n"
     ]
    },
    {
     "name": "stderr",
     "output_type": "stream",
     "text": [
      "INFO:gurobipy:obj: 96366 rows, 43805 columns, 179719 nonzeros\n",
      "INFO:linopy.constants: Optimization successful: \n",
      "Status: ok\n",
      "Termination condition: optimal\n",
      "Solution: 43805 primals, 96366 duals\n",
      "Objective: 2.09e+10\n",
      "Solver model: available\n",
      "Solver message: 2\n",
      "\n",
      "INFO:pypsa.optimization.optimize:The shadow-prices of the constraints Generator-ext-p-lower, Generator-ext-p-upper were not assigned to the network.\n",
      "WARNING:pypsa.consistency:The following buses have carriers which are not defined:\n",
      "Index(['electricity bus'], dtype='object', name='Bus')\n",
      "INFO:linopy.model: Solve problem using Gurobi solver\n",
      "INFO:linopy.model:Solver options:\n",
      " - LogToConsole: 0\n",
      "INFO:linopy.io:Writing objective.\n",
      "Writing constraints.: 100%|\u001b[38;2;128;191;255m██████████\u001b[0m| 6/6 [00:00<00:00, 19.05it/s]\n",
      "Writing continuous variables.: 100%|\u001b[38;2;128;191;255m██████████\u001b[0m| 2/2 [00:00<00:00, 33.88it/s]\n",
      "INFO:linopy.io: Writing time: 0.4s\n"
     ]
    },
    {
     "name": "stdout",
     "output_type": "stream",
     "text": [
      "Set parameter Username\n"
     ]
    },
    {
     "name": "stderr",
     "output_type": "stream",
     "text": [
      "INFO:gurobipy:Set parameter Username\n"
     ]
    },
    {
     "name": "stdout",
     "output_type": "stream",
     "text": [
      "Set parameter LicenseID to value 2587918\n"
     ]
    },
    {
     "name": "stderr",
     "output_type": "stream",
     "text": [
      "INFO:gurobipy:Set parameter LicenseID to value 2587918\n"
     ]
    },
    {
     "name": "stdout",
     "output_type": "stream",
     "text": [
      "Academic license - for non-commercial use only - expires 2025-11-20\n"
     ]
    },
    {
     "name": "stderr",
     "output_type": "stream",
     "text": [
      "INFO:gurobipy:Academic license - for non-commercial use only - expires 2025-11-20\n"
     ]
    },
    {
     "name": "stdout",
     "output_type": "stream",
     "text": [
      "Read LP format model from file C:\\Users\\carlo\\AppData\\Local\\Temp\\linopy-problem-yy8bmmbp.lp\n"
     ]
    },
    {
     "name": "stderr",
     "output_type": "stream",
     "text": [
      "INFO:gurobipy:Read LP format model from file C:\\Users\\carlo\\AppData\\Local\\Temp\\linopy-problem-yy8bmmbp.lp\n"
     ]
    },
    {
     "name": "stdout",
     "output_type": "stream",
     "text": [
      "Reading time = 0.11 seconds\n"
     ]
    },
    {
     "name": "stderr",
     "output_type": "stream",
     "text": [
      "INFO:gurobipy:Reading time = 0.11 seconds\n"
     ]
    },
    {
     "name": "stdout",
     "output_type": "stream",
     "text": [
      "obj: 96366 rows, 43805 columns, 179719 nonzeros\n"
     ]
    },
    {
     "name": "stderr",
     "output_type": "stream",
     "text": [
      "INFO:gurobipy:obj: 96366 rows, 43805 columns, 179719 nonzeros\n",
      "INFO:linopy.constants: Optimization successful: \n",
      "Status: ok\n",
      "Termination condition: optimal\n",
      "Solution: 43805 primals, 96366 duals\n",
      "Objective: 2.23e+10\n",
      "Solver model: available\n",
      "Solver message: 2\n",
      "\n",
      "INFO:pypsa.optimization.optimize:The shadow-prices of the constraints Generator-ext-p-lower, Generator-ext-p-upper were not assigned to the network.\n",
      "WARNING:pypsa.consistency:The following buses have carriers which are not defined:\n",
      "Index(['electricity bus'], dtype='object', name='Bus')\n",
      "INFO:linopy.model: Solve problem using Gurobi solver\n",
      "INFO:linopy.model:Solver options:\n",
      " - LogToConsole: 0\n",
      "INFO:linopy.io:Writing objective.\n",
      "Writing constraints.: 100%|\u001b[38;2;128;191;255m██████████\u001b[0m| 6/6 [00:00<00:00, 19.18it/s]\n",
      "Writing continuous variables.: 100%|\u001b[38;2;128;191;255m██████████\u001b[0m| 2/2 [00:00<00:00, 36.64it/s]\n",
      "INFO:linopy.io: Writing time: 0.4s\n"
     ]
    },
    {
     "name": "stdout",
     "output_type": "stream",
     "text": [
      "Set parameter Username\n"
     ]
    },
    {
     "name": "stderr",
     "output_type": "stream",
     "text": [
      "INFO:gurobipy:Set parameter Username\n"
     ]
    },
    {
     "name": "stdout",
     "output_type": "stream",
     "text": [
      "Set parameter LicenseID to value 2587918\n"
     ]
    },
    {
     "name": "stderr",
     "output_type": "stream",
     "text": [
      "INFO:gurobipy:Set parameter LicenseID to value 2587918\n"
     ]
    },
    {
     "name": "stdout",
     "output_type": "stream",
     "text": [
      "Academic license - for non-commercial use only - expires 2025-11-20\n"
     ]
    },
    {
     "name": "stderr",
     "output_type": "stream",
     "text": [
      "INFO:gurobipy:Academic license - for non-commercial use only - expires 2025-11-20\n"
     ]
    },
    {
     "name": "stdout",
     "output_type": "stream",
     "text": [
      "Read LP format model from file C:\\Users\\carlo\\AppData\\Local\\Temp\\linopy-problem-tt39hc2j.lp\n"
     ]
    },
    {
     "name": "stderr",
     "output_type": "stream",
     "text": [
      "INFO:gurobipy:Read LP format model from file C:\\Users\\carlo\\AppData\\Local\\Temp\\linopy-problem-tt39hc2j.lp\n"
     ]
    },
    {
     "name": "stdout",
     "output_type": "stream",
     "text": [
      "Reading time = 0.10 seconds\n"
     ]
    },
    {
     "name": "stderr",
     "output_type": "stream",
     "text": [
      "INFO:gurobipy:Reading time = 0.10 seconds\n"
     ]
    },
    {
     "name": "stdout",
     "output_type": "stream",
     "text": [
      "obj: 96366 rows, 43805 columns, 179719 nonzeros\n"
     ]
    },
    {
     "name": "stderr",
     "output_type": "stream",
     "text": [
      "INFO:gurobipy:obj: 96366 rows, 43805 columns, 179719 nonzeros\n",
      "INFO:linopy.constants: Optimization successful: \n",
      "Status: ok\n",
      "Termination condition: optimal\n",
      "Solution: 43805 primals, 96366 duals\n",
      "Objective: 2.31e+10\n",
      "Solver model: available\n",
      "Solver message: 2\n",
      "\n",
      "INFO:pypsa.optimization.optimize:The shadow-prices of the constraints Generator-ext-p-lower, Generator-ext-p-upper were not assigned to the network.\n",
      "WARNING:pypsa.consistency:The following buses have carriers which are not defined:\n",
      "Index(['electricity bus'], dtype='object', name='Bus')\n",
      "INFO:linopy.model: Solve problem using Gurobi solver\n",
      "INFO:linopy.model:Solver options:\n",
      " - LogToConsole: 0\n",
      "INFO:linopy.io:Writing objective.\n",
      "Writing constraints.: 100%|\u001b[38;2;128;191;255m██████████\u001b[0m| 6/6 [00:00<00:00, 19.36it/s]\n",
      "Writing continuous variables.: 100%|\u001b[38;2;128;191;255m██████████\u001b[0m| 2/2 [00:00<00:00, 27.21it/s]\n",
      "INFO:linopy.io: Writing time: 0.42s\n"
     ]
    },
    {
     "name": "stdout",
     "output_type": "stream",
     "text": [
      "Set parameter Username\n"
     ]
    },
    {
     "name": "stderr",
     "output_type": "stream",
     "text": [
      "INFO:gurobipy:Set parameter Username\n"
     ]
    },
    {
     "name": "stdout",
     "output_type": "stream",
     "text": [
      "Set parameter LicenseID to value 2587918\n"
     ]
    },
    {
     "name": "stderr",
     "output_type": "stream",
     "text": [
      "INFO:gurobipy:Set parameter LicenseID to value 2587918\n"
     ]
    },
    {
     "name": "stdout",
     "output_type": "stream",
     "text": [
      "Academic license - for non-commercial use only - expires 2025-11-20\n"
     ]
    },
    {
     "name": "stderr",
     "output_type": "stream",
     "text": [
      "INFO:gurobipy:Academic license - for non-commercial use only - expires 2025-11-20\n"
     ]
    },
    {
     "name": "stdout",
     "output_type": "stream",
     "text": [
      "Read LP format model from file C:\\Users\\carlo\\AppData\\Local\\Temp\\linopy-problem-ti10tbc9.lp\n"
     ]
    },
    {
     "name": "stderr",
     "output_type": "stream",
     "text": [
      "INFO:gurobipy:Read LP format model from file C:\\Users\\carlo\\AppData\\Local\\Temp\\linopy-problem-ti10tbc9.lp\n"
     ]
    },
    {
     "name": "stdout",
     "output_type": "stream",
     "text": [
      "Reading time = 0.12 seconds\n"
     ]
    },
    {
     "name": "stderr",
     "output_type": "stream",
     "text": [
      "INFO:gurobipy:Reading time = 0.12 seconds\n"
     ]
    },
    {
     "name": "stdout",
     "output_type": "stream",
     "text": [
      "obj: 96366 rows, 43805 columns, 179719 nonzeros\n"
     ]
    },
    {
     "name": "stderr",
     "output_type": "stream",
     "text": [
      "INFO:gurobipy:obj: 96366 rows, 43805 columns, 179719 nonzeros\n",
      "INFO:linopy.constants: Optimization successful: \n",
      "Status: ok\n",
      "Termination condition: optimal\n",
      "Solution: 43805 primals, 96366 duals\n",
      "Objective: 2.46e+10\n",
      "Solver model: available\n",
      "Solver message: 2\n",
      "\n",
      "INFO:pypsa.optimization.optimize:The shadow-prices of the constraints Generator-ext-p-lower, Generator-ext-p-upper were not assigned to the network.\n",
      "WARNING:pypsa.consistency:The following buses have carriers which are not defined:\n",
      "Index(['electricity bus'], dtype='object', name='Bus')\n",
      "INFO:linopy.model: Solve problem using Gurobi solver\n",
      "INFO:linopy.model:Solver options:\n",
      " - LogToConsole: 0\n",
      "INFO:linopy.io:Writing objective.\n",
      "Writing constraints.: 100%|\u001b[38;2;128;191;255m██████████\u001b[0m| 6/6 [00:00<00:00, 19.27it/s]\n",
      "Writing continuous variables.: 100%|\u001b[38;2;128;191;255m██████████\u001b[0m| 2/2 [00:00<00:00, 37.30it/s]\n",
      "INFO:linopy.io: Writing time: 0.39s\n"
     ]
    },
    {
     "name": "stdout",
     "output_type": "stream",
     "text": [
      "Set parameter Username\n"
     ]
    },
    {
     "name": "stderr",
     "output_type": "stream",
     "text": [
      "INFO:gurobipy:Set parameter Username\n"
     ]
    },
    {
     "name": "stdout",
     "output_type": "stream",
     "text": [
      "Set parameter LicenseID to value 2587918\n"
     ]
    },
    {
     "name": "stderr",
     "output_type": "stream",
     "text": [
      "INFO:gurobipy:Set parameter LicenseID to value 2587918\n"
     ]
    },
    {
     "name": "stdout",
     "output_type": "stream",
     "text": [
      "Academic license - for non-commercial use only - expires 2025-11-20\n"
     ]
    },
    {
     "name": "stderr",
     "output_type": "stream",
     "text": [
      "INFO:gurobipy:Academic license - for non-commercial use only - expires 2025-11-20\n"
     ]
    },
    {
     "name": "stdout",
     "output_type": "stream",
     "text": [
      "Read LP format model from file C:\\Users\\carlo\\AppData\\Local\\Temp\\linopy-problem-s4n3ftlr.lp\n"
     ]
    },
    {
     "name": "stderr",
     "output_type": "stream",
     "text": [
      "INFO:gurobipy:Read LP format model from file C:\\Users\\carlo\\AppData\\Local\\Temp\\linopy-problem-s4n3ftlr.lp\n"
     ]
    },
    {
     "name": "stdout",
     "output_type": "stream",
     "text": [
      "Reading time = 0.10 seconds\n"
     ]
    },
    {
     "name": "stderr",
     "output_type": "stream",
     "text": [
      "INFO:gurobipy:Reading time = 0.10 seconds\n"
     ]
    },
    {
     "name": "stdout",
     "output_type": "stream",
     "text": [
      "obj: 96366 rows, 43805 columns, 179719 nonzeros\n"
     ]
    },
    {
     "name": "stderr",
     "output_type": "stream",
     "text": [
      "INFO:gurobipy:obj: 96366 rows, 43805 columns, 179719 nonzeros\n",
      "INFO:linopy.constants: Optimization successful: \n",
      "Status: ok\n",
      "Termination condition: optimal\n",
      "Solution: 43805 primals, 96366 duals\n",
      "Objective: 3.07e+10\n",
      "Solver model: available\n",
      "Solver message: 2\n",
      "\n",
      "INFO:pypsa.optimization.optimize:The shadow-prices of the constraints Generator-ext-p-lower, Generator-ext-p-upper were not assigned to the network.\n",
      "WARNING:pypsa.consistency:The following buses have carriers which are not defined:\n",
      "Index(['electricity bus'], dtype='object', name='Bus')\n",
      "INFO:linopy.model: Solve problem using Gurobi solver\n",
      "INFO:linopy.model:Solver options:\n",
      " - LogToConsole: 0\n",
      "INFO:linopy.io:Writing objective.\n",
      "Writing constraints.: 100%|\u001b[38;2;128;191;255m██████████\u001b[0m| 6/6 [00:00<00:00, 19.49it/s]\n",
      "Writing continuous variables.: 100%|\u001b[38;2;128;191;255m██████████\u001b[0m| 2/2 [00:00<00:00, 34.00it/s]\n",
      "INFO:linopy.io: Writing time: 0.39s\n"
     ]
    },
    {
     "name": "stdout",
     "output_type": "stream",
     "text": [
      "Set parameter Username\n"
     ]
    },
    {
     "name": "stderr",
     "output_type": "stream",
     "text": [
      "INFO:gurobipy:Set parameter Username\n"
     ]
    },
    {
     "name": "stdout",
     "output_type": "stream",
     "text": [
      "Set parameter LicenseID to value 2587918\n"
     ]
    },
    {
     "name": "stderr",
     "output_type": "stream",
     "text": [
      "INFO:gurobipy:Set parameter LicenseID to value 2587918\n"
     ]
    },
    {
     "name": "stdout",
     "output_type": "stream",
     "text": [
      "Academic license - for non-commercial use only - expires 2025-11-20\n"
     ]
    },
    {
     "name": "stderr",
     "output_type": "stream",
     "text": [
      "INFO:gurobipy:Academic license - for non-commercial use only - expires 2025-11-20\n"
     ]
    },
    {
     "name": "stdout",
     "output_type": "stream",
     "text": [
      "Read LP format model from file C:\\Users\\carlo\\AppData\\Local\\Temp\\linopy-problem-0pkhgkm2.lp\n"
     ]
    },
    {
     "name": "stderr",
     "output_type": "stream",
     "text": [
      "INFO:gurobipy:Read LP format model from file C:\\Users\\carlo\\AppData\\Local\\Temp\\linopy-problem-0pkhgkm2.lp\n"
     ]
    },
    {
     "name": "stdout",
     "output_type": "stream",
     "text": [
      "Reading time = 0.11 seconds\n"
     ]
    },
    {
     "name": "stderr",
     "output_type": "stream",
     "text": [
      "INFO:gurobipy:Reading time = 0.11 seconds\n"
     ]
    },
    {
     "name": "stdout",
     "output_type": "stream",
     "text": [
      "obj: 96366 rows, 43805 columns, 179719 nonzeros\n"
     ]
    },
    {
     "name": "stderr",
     "output_type": "stream",
     "text": [
      "INFO:gurobipy:obj: 96366 rows, 43805 columns, 179719 nonzeros\n",
      "INFO:linopy.constants: Optimization successful: \n",
      "Status: ok\n",
      "Termination condition: optimal\n",
      "Solution: 43805 primals, 96366 duals\n",
      "Objective: 3.70e+10\n",
      "Solver model: available\n",
      "Solver message: 2\n",
      "\n",
      "INFO:pypsa.optimization.optimize:The shadow-prices of the constraints Generator-ext-p-lower, Generator-ext-p-upper were not assigned to the network.\n",
      "WARNING:pypsa.consistency:The following buses have carriers which are not defined:\n",
      "Index(['electricity bus'], dtype='object', name='Bus')\n",
      "INFO:linopy.model: Solve problem using Gurobi solver\n",
      "INFO:linopy.model:Solver options:\n",
      " - LogToConsole: 0\n",
      "INFO:linopy.io:Writing objective.\n",
      "Writing constraints.: 100%|\u001b[38;2;128;191;255m██████████\u001b[0m| 6/6 [00:00<00:00, 18.78it/s]\n",
      "Writing continuous variables.: 100%|\u001b[38;2;128;191;255m██████████\u001b[0m| 2/2 [00:00<00:00, 36.37it/s]\n",
      "INFO:linopy.io: Writing time: 0.4s\n"
     ]
    },
    {
     "name": "stdout",
     "output_type": "stream",
     "text": [
      "Set parameter Username\n"
     ]
    },
    {
     "name": "stderr",
     "output_type": "stream",
     "text": [
      "INFO:gurobipy:Set parameter Username\n"
     ]
    },
    {
     "name": "stdout",
     "output_type": "stream",
     "text": [
      "Set parameter LicenseID to value 2587918\n"
     ]
    },
    {
     "name": "stderr",
     "output_type": "stream",
     "text": [
      "INFO:gurobipy:Set parameter LicenseID to value 2587918\n"
     ]
    },
    {
     "name": "stdout",
     "output_type": "stream",
     "text": [
      "Academic license - for non-commercial use only - expires 2025-11-20\n"
     ]
    },
    {
     "name": "stderr",
     "output_type": "stream",
     "text": [
      "INFO:gurobipy:Academic license - for non-commercial use only - expires 2025-11-20\n"
     ]
    },
    {
     "name": "stdout",
     "output_type": "stream",
     "text": [
      "Read LP format model from file C:\\Users\\carlo\\AppData\\Local\\Temp\\linopy-problem-iyqjxj1u.lp\n"
     ]
    },
    {
     "name": "stderr",
     "output_type": "stream",
     "text": [
      "INFO:gurobipy:Read LP format model from file C:\\Users\\carlo\\AppData\\Local\\Temp\\linopy-problem-iyqjxj1u.lp\n"
     ]
    },
    {
     "name": "stdout",
     "output_type": "stream",
     "text": [
      "Reading time = 0.11 seconds\n"
     ]
    },
    {
     "name": "stderr",
     "output_type": "stream",
     "text": [
      "INFO:gurobipy:Reading time = 0.11 seconds\n"
     ]
    },
    {
     "name": "stdout",
     "output_type": "stream",
     "text": [
      "obj: 96366 rows, 43805 columns, 179719 nonzeros\n"
     ]
    },
    {
     "name": "stderr",
     "output_type": "stream",
     "text": [
      "INFO:gurobipy:obj: 96366 rows, 43805 columns, 179719 nonzeros\n",
      "INFO:linopy.constants: Optimization successful: \n",
      "Status: ok\n",
      "Termination condition: optimal\n",
      "Solution: 43805 primals, 96366 duals\n",
      "Objective: 4.47e+10\n",
      "Solver model: available\n",
      "Solver message: 2\n",
      "\n",
      "INFO:pypsa.optimization.optimize:The shadow-prices of the constraints Generator-ext-p-lower, Generator-ext-p-upper were not assigned to the network.\n",
      "WARNING:pypsa.consistency:The following buses have carriers which are not defined:\n",
      "Index(['electricity bus'], dtype='object', name='Bus')\n",
      "INFO:linopy.model: Solve problem using Gurobi solver\n",
      "INFO:linopy.model:Solver options:\n",
      " - LogToConsole: 0\n",
      "INFO:linopy.io:Writing objective.\n",
      "Writing constraints.: 100%|\u001b[38;2;128;191;255m██████████\u001b[0m| 6/6 [00:00<00:00, 19.04it/s]\n",
      "Writing continuous variables.: 100%|\u001b[38;2;128;191;255m██████████\u001b[0m| 2/2 [00:00<00:00, 37.64it/s]\n",
      "INFO:linopy.io: Writing time: 0.41s\n"
     ]
    },
    {
     "name": "stdout",
     "output_type": "stream",
     "text": [
      "Set parameter Username\n"
     ]
    },
    {
     "name": "stderr",
     "output_type": "stream",
     "text": [
      "INFO:gurobipy:Set parameter Username\n"
     ]
    },
    {
     "name": "stdout",
     "output_type": "stream",
     "text": [
      "Set parameter LicenseID to value 2587918\n"
     ]
    },
    {
     "name": "stderr",
     "output_type": "stream",
     "text": [
      "INFO:gurobipy:Set parameter LicenseID to value 2587918\n"
     ]
    },
    {
     "name": "stdout",
     "output_type": "stream",
     "text": [
      "Academic license - for non-commercial use only - expires 2025-11-20\n"
     ]
    },
    {
     "name": "stderr",
     "output_type": "stream",
     "text": [
      "INFO:gurobipy:Academic license - for non-commercial use only - expires 2025-11-20\n"
     ]
    },
    {
     "name": "stdout",
     "output_type": "stream",
     "text": [
      "Read LP format model from file C:\\Users\\carlo\\AppData\\Local\\Temp\\linopy-problem-1gqmxziu.lp\n"
     ]
    },
    {
     "name": "stderr",
     "output_type": "stream",
     "text": [
      "INFO:gurobipy:Read LP format model from file C:\\Users\\carlo\\AppData\\Local\\Temp\\linopy-problem-1gqmxziu.lp\n"
     ]
    },
    {
     "name": "stdout",
     "output_type": "stream",
     "text": [
      "Reading time = 0.10 seconds\n"
     ]
    },
    {
     "name": "stderr",
     "output_type": "stream",
     "text": [
      "INFO:gurobipy:Reading time = 0.10 seconds\n"
     ]
    },
    {
     "name": "stdout",
     "output_type": "stream",
     "text": [
      "obj: 96366 rows, 43805 columns, 179719 nonzeros\n"
     ]
    },
    {
     "name": "stderr",
     "output_type": "stream",
     "text": [
      "INFO:gurobipy:obj: 96366 rows, 43805 columns, 179719 nonzeros\n",
      "INFO:linopy.constants: Optimization successful: \n",
      "Status: ok\n",
      "Termination condition: optimal\n",
      "Solution: 43805 primals, 96366 duals\n",
      "Objective: 4.68e+10\n",
      "Solver model: available\n",
      "Solver message: 2\n",
      "\n",
      "INFO:pypsa.optimization.optimize:The shadow-prices of the constraints Generator-ext-p-lower, Generator-ext-p-upper were not assigned to the network.\n",
      "WARNING:pypsa.consistency:The following buses have carriers which are not defined:\n",
      "Index(['electricity bus'], dtype='object', name='Bus')\n",
      "INFO:linopy.model: Solve problem using Gurobi solver\n",
      "INFO:linopy.model:Solver options:\n",
      " - LogToConsole: 0\n",
      "INFO:linopy.io:Writing objective.\n",
      "Writing constraints.: 100%|\u001b[38;2;128;191;255m██████████\u001b[0m| 6/6 [00:00<00:00, 18.31it/s]\n",
      "Writing continuous variables.: 100%|\u001b[38;2;128;191;255m██████████\u001b[0m| 2/2 [00:00<00:00, 33.97it/s]\n",
      "INFO:linopy.io: Writing time: 0.41s\n"
     ]
    },
    {
     "name": "stdout",
     "output_type": "stream",
     "text": [
      "Set parameter Username\n"
     ]
    },
    {
     "name": "stderr",
     "output_type": "stream",
     "text": [
      "INFO:gurobipy:Set parameter Username\n"
     ]
    },
    {
     "name": "stdout",
     "output_type": "stream",
     "text": [
      "Set parameter LicenseID to value 2587918\n"
     ]
    },
    {
     "name": "stderr",
     "output_type": "stream",
     "text": [
      "INFO:gurobipy:Set parameter LicenseID to value 2587918\n"
     ]
    },
    {
     "name": "stdout",
     "output_type": "stream",
     "text": [
      "Academic license - for non-commercial use only - expires 2025-11-20\n"
     ]
    },
    {
     "name": "stderr",
     "output_type": "stream",
     "text": [
      "INFO:gurobipy:Academic license - for non-commercial use only - expires 2025-11-20\n"
     ]
    },
    {
     "name": "stdout",
     "output_type": "stream",
     "text": [
      "Read LP format model from file C:\\Users\\carlo\\AppData\\Local\\Temp\\linopy-problem-5ugnwpnk.lp\n"
     ]
    },
    {
     "name": "stderr",
     "output_type": "stream",
     "text": [
      "INFO:gurobipy:Read LP format model from file C:\\Users\\carlo\\AppData\\Local\\Temp\\linopy-problem-5ugnwpnk.lp\n"
     ]
    },
    {
     "name": "stdout",
     "output_type": "stream",
     "text": [
      "Reading time = 0.10 seconds\n"
     ]
    },
    {
     "name": "stderr",
     "output_type": "stream",
     "text": [
      "INFO:gurobipy:Reading time = 0.10 seconds\n"
     ]
    },
    {
     "name": "stdout",
     "output_type": "stream",
     "text": [
      "obj: 96366 rows, 43805 columns, 179719 nonzeros\n"
     ]
    },
    {
     "name": "stderr",
     "output_type": "stream",
     "text": [
      "INFO:gurobipy:obj: 96366 rows, 43805 columns, 179719 nonzeros\n",
      "INFO:linopy.constants: Optimization successful: \n",
      "Status: ok\n",
      "Termination condition: optimal\n",
      "Solution: 43805 primals, 96366 duals\n",
      "Objective: 4.82e+10\n",
      "Solver model: available\n",
      "Solver message: 2\n",
      "\n",
      "INFO:pypsa.optimization.optimize:The shadow-prices of the constraints Generator-ext-p-lower, Generator-ext-p-upper were not assigned to the network.\n",
      "WARNING:pypsa.consistency:The following buses have carriers which are not defined:\n",
      "Index(['electricity bus'], dtype='object', name='Bus')\n",
      "INFO:linopy.model: Solve problem using Gurobi solver\n",
      "INFO:linopy.model:Solver options:\n",
      " - LogToConsole: 0\n",
      "INFO:linopy.io:Writing objective.\n",
      "Writing constraints.: 100%|\u001b[38;2;128;191;255m██████████\u001b[0m| 6/6 [00:00<00:00, 18.79it/s]\n",
      "Writing continuous variables.: 100%|\u001b[38;2;128;191;255m██████████\u001b[0m| 2/2 [00:00<00:00, 34.79it/s]\n",
      "INFO:linopy.io: Writing time: 0.4s\n"
     ]
    },
    {
     "name": "stdout",
     "output_type": "stream",
     "text": [
      "Set parameter Username\n"
     ]
    },
    {
     "name": "stderr",
     "output_type": "stream",
     "text": [
      "INFO:gurobipy:Set parameter Username\n"
     ]
    },
    {
     "name": "stdout",
     "output_type": "stream",
     "text": [
      "Set parameter LicenseID to value 2587918\n"
     ]
    },
    {
     "name": "stderr",
     "output_type": "stream",
     "text": [
      "INFO:gurobipy:Set parameter LicenseID to value 2587918\n"
     ]
    },
    {
     "name": "stdout",
     "output_type": "stream",
     "text": [
      "Academic license - for non-commercial use only - expires 2025-11-20\n"
     ]
    },
    {
     "name": "stderr",
     "output_type": "stream",
     "text": [
      "INFO:gurobipy:Academic license - for non-commercial use only - expires 2025-11-20\n"
     ]
    },
    {
     "name": "stdout",
     "output_type": "stream",
     "text": [
      "Read LP format model from file C:\\Users\\carlo\\AppData\\Local\\Temp\\linopy-problem-4nfhb1no.lp\n"
     ]
    },
    {
     "name": "stderr",
     "output_type": "stream",
     "text": [
      "INFO:gurobipy:Read LP format model from file C:\\Users\\carlo\\AppData\\Local\\Temp\\linopy-problem-4nfhb1no.lp\n"
     ]
    },
    {
     "name": "stdout",
     "output_type": "stream",
     "text": [
      "Reading time = 0.12 seconds\n"
     ]
    },
    {
     "name": "stderr",
     "output_type": "stream",
     "text": [
      "INFO:gurobipy:Reading time = 0.12 seconds\n"
     ]
    },
    {
     "name": "stdout",
     "output_type": "stream",
     "text": [
      "obj: 96366 rows, 43805 columns, 179719 nonzeros\n"
     ]
    },
    {
     "name": "stderr",
     "output_type": "stream",
     "text": [
      "INFO:gurobipy:obj: 96366 rows, 43805 columns, 179719 nonzeros\n",
      "INFO:linopy.constants: Optimization successful: \n",
      "Status: ok\n",
      "Termination condition: optimal\n",
      "Solution: 43805 primals, 96366 duals\n",
      "Objective: 4.87e+10\n",
      "Solver model: available\n",
      "Solver message: 2\n",
      "\n",
      "INFO:pypsa.optimization.optimize:The shadow-prices of the constraints Generator-ext-p-lower, Generator-ext-p-upper were not assigned to the network.\n",
      "WARNING:pypsa.consistency:The following buses have carriers which are not defined:\n",
      "Index(['electricity bus'], dtype='object', name='Bus')\n",
      "INFO:linopy.model: Solve problem using Gurobi solver\n",
      "INFO:linopy.model:Solver options:\n",
      " - LogToConsole: 0\n",
      "INFO:linopy.io:Writing objective.\n",
      "Writing constraints.: 100%|\u001b[38;2;128;191;255m██████████\u001b[0m| 6/6 [00:00<00:00, 19.56it/s]\n",
      "Writing continuous variables.: 100%|\u001b[38;2;128;191;255m██████████\u001b[0m| 2/2 [00:00<00:00, 33.43it/s]\n",
      "INFO:linopy.io: Writing time: 0.4s\n"
     ]
    },
    {
     "name": "stdout",
     "output_type": "stream",
     "text": [
      "Set parameter Username\n"
     ]
    },
    {
     "name": "stderr",
     "output_type": "stream",
     "text": [
      "INFO:gurobipy:Set parameter Username\n"
     ]
    },
    {
     "name": "stdout",
     "output_type": "stream",
     "text": [
      "Set parameter LicenseID to value 2587918\n"
     ]
    },
    {
     "name": "stderr",
     "output_type": "stream",
     "text": [
      "INFO:gurobipy:Set parameter LicenseID to value 2587918\n"
     ]
    },
    {
     "name": "stdout",
     "output_type": "stream",
     "text": [
      "Academic license - for non-commercial use only - expires 2025-11-20\n"
     ]
    },
    {
     "name": "stderr",
     "output_type": "stream",
     "text": [
      "INFO:gurobipy:Academic license - for non-commercial use only - expires 2025-11-20\n"
     ]
    },
    {
     "name": "stdout",
     "output_type": "stream",
     "text": [
      "Read LP format model from file C:\\Users\\carlo\\AppData\\Local\\Temp\\linopy-problem-grncceur.lp\n"
     ]
    },
    {
     "name": "stderr",
     "output_type": "stream",
     "text": [
      "INFO:gurobipy:Read LP format model from file C:\\Users\\carlo\\AppData\\Local\\Temp\\linopy-problem-grncceur.lp\n"
     ]
    },
    {
     "name": "stdout",
     "output_type": "stream",
     "text": [
      "Reading time = 0.11 seconds\n"
     ]
    },
    {
     "name": "stderr",
     "output_type": "stream",
     "text": [
      "INFO:gurobipy:Reading time = 0.11 seconds\n"
     ]
    },
    {
     "name": "stdout",
     "output_type": "stream",
     "text": [
      "obj: 96366 rows, 43805 columns, 179719 nonzeros\n"
     ]
    },
    {
     "name": "stderr",
     "output_type": "stream",
     "text": [
      "INFO:gurobipy:obj: 96366 rows, 43805 columns, 179719 nonzeros\n",
      "INFO:linopy.constants: Optimization successful: \n",
      "Status: ok\n",
      "Termination condition: optimal\n",
      "Solution: 43805 primals, 96366 duals\n",
      "Objective: 4.89e+10\n",
      "Solver model: available\n",
      "Solver message: 2\n",
      "\n",
      "INFO:pypsa.optimization.optimize:The shadow-prices of the constraints Generator-ext-p-lower, Generator-ext-p-upper were not assigned to the network.\n"
     ]
    },
    {
     "name": "stdout",
     "output_type": "stream",
     "text": [
      "[{'CO2_Limit': 170000000.0, 'Capacity_MW': Generator\n",
      "onshorewind     49966.804979\n",
      "offshorewind        0.000000\n",
      "solar               0.000000\n",
      "CCGT            49928.659751\n",
      "nuclear             0.000000\n",
      "Name: p_nom_opt, dtype: float64, 'CO2_Price': np.float64(-0.0), 'System_capex': component  carrier    \n",
      "Generator  gas            4242.131505\n",
      "           onshorewind    6182.830781\n",
      "dtype: float64, 'System_opex': component  carrier\n",
      "Generator  gas        10347.969413\n",
      "Name: generators, dtype: float64, 'System_cost': component  carrier    \n",
      "Generator  gas            0.01459\n",
      "           onshorewind        NaN\n",
      "dtype: float64}, {'CO2_Limit': 140000000.0, 'Capacity_MW': Generator\n",
      "onshorewind     49966.804979\n",
      "offshorewind        0.000000\n",
      "solar               0.000000\n",
      "CCGT            49928.659751\n",
      "nuclear             0.000000\n",
      "Name: p_nom_opt, dtype: float64, 'CO2_Price': np.float64(-0.0), 'System_capex': component  carrier    \n",
      "Generator  gas            4242.131505\n",
      "           onshorewind    6182.830781\n",
      "dtype: float64, 'System_opex': component  carrier\n",
      "Generator  gas        10347.969413\n",
      "Name: generators, dtype: float64, 'System_cost': component  carrier    \n",
      "Generator  gas            0.01459\n",
      "           onshorewind        NaN\n",
      "dtype: float64}, {'CO2_Limit': 70000000.0, 'Capacity_MW': Generator\n",
      "onshorewind     49966.804979\n",
      "offshorewind        0.000000\n",
      "solar               0.000000\n",
      "CCGT            49928.659751\n",
      "nuclear             0.000000\n",
      "Name: p_nom_opt, dtype: float64, 'CO2_Price': np.float64(-0.0), 'System_capex': component  carrier    \n",
      "Generator  gas            4242.131505\n",
      "           onshorewind    6182.830781\n",
      "dtype: float64, 'System_opex': component  carrier\n",
      "Generator  gas        10347.969413\n",
      "Name: generators, dtype: float64, 'System_cost': component  carrier    \n",
      "Generator  gas            0.01459\n",
      "           onshorewind        NaN\n",
      "dtype: float64}, {'CO2_Limit': 35000000.0, 'Capacity_MW': Generator\n",
      "onshorewind     49966.804979\n",
      "offshorewind        0.000000\n",
      "solar               0.000000\n",
      "CCGT            49928.659751\n",
      "nuclear             0.000000\n",
      "Name: p_nom_opt, dtype: float64, 'CO2_Price': np.float64(-0.0), 'System_capex': component  carrier    \n",
      "Generator  gas            4242.131505\n",
      "           onshorewind    6182.830781\n",
      "dtype: float64, 'System_opex': component  carrier\n",
      "Generator  gas        10347.969413\n",
      "Name: generators, dtype: float64, 'System_cost': component  carrier    \n",
      "Generator  gas            0.01459\n",
      "           onshorewind        NaN\n",
      "dtype: float64}, {'CO2_Limit': 30000000.0, 'Capacity_MW': Generator\n",
      "onshorewind     55002.487562\n",
      "offshorewind        0.000000\n",
      "solar           14861.698049\n",
      "CCGT            49676.875622\n",
      "nuclear             0.000000\n",
      "Name: p_nom_opt, dtype: float64, 'CO2_Price': np.float64(39.25909131943672), 'System_capex': component  carrier    \n",
      "Generator  gas            4220.738954\n",
      "           onshorewind    6805.939929\n",
      "           solar           824.908581\n",
      "dtype: float64, 'System_opex': component  carrier\n",
      "Generator  gas        9010.401189\n",
      "Name: generators, dtype: float64, 'System_cost': component  carrier    \n",
      "Generator  gas            0.013231\n",
      "           onshorewind         NaN\n",
      "           solar               NaN\n",
      "dtype: float64}, {'CO2_Limit': 20000000.0, 'Capacity_MW': Generator\n",
      "onshorewind     77842.290824\n",
      "offshorewind        0.000000\n",
      "solar           45634.654087\n",
      "CCGT            48534.885459\n",
      "nuclear             0.000000\n",
      "Name: p_nom_opt, dtype: float64, 'CO2_Price': np.float64(324.84440330663637), 'System_capex': component  carrier    \n",
      "Generator  gas            4123.711065\n",
      "           onshorewind    9632.108996\n",
      "           solar          2532.982277\n",
      "dtype: float64, 'System_opex': component  carrier\n",
      "Generator  gas        6006.934126\n",
      "Name: generators, dtype: float64, 'System_cost': component  carrier    \n",
      "Generator  gas            0.010131\n",
      "           onshorewind         NaN\n",
      "           solar               NaN\n",
      "dtype: float64}, {'CO2_Limit': 18000000.0, 'Capacity_MW': Generator\n",
      "onshorewind     87398.433716\n",
      "offshorewind        0.000000\n",
      "solar           49637.828225\n",
      "CCGT            48057.078314\n",
      "nuclear             0.000000\n",
      "Name: p_nom_opt, dtype: float64, 'CO2_Price': np.float64(446.71276337662704), 'System_capex': component  carrier    \n",
      "Generator  gas             4083.114727\n",
      "           onshorewind    10814.574324\n",
      "           solar           2755.181159\n",
      "dtype: float64, 'System_opex': component  carrier\n",
      "Generator  gas        5406.240713\n",
      "Name: generators, dtype: float64, 'System_cost': component  carrier    \n",
      "Generator  gas            0.009489\n",
      "           onshorewind         NaN\n",
      "           solar               NaN\n",
      "dtype: float64}, {'CO2_Limit': 15000000.0, 'Capacity_MW': Generator\n",
      "onshorewind     84492.710826\n",
      "offshorewind        0.000000\n",
      "solar           47737.664431\n",
      "CCGT            44844.525024\n",
      "nuclear          3357.839434\n",
      "Name: p_nom_opt, dtype: float64, 'CO2_Price': np.float64(515.8033188864067), 'System_capex': component  carrier    \n",
      "Generator  gas             3810.163809\n",
      "           nuclear         2794.344082\n",
      "           onshorewind    10455.023759\n",
      "           solar           2649.711285\n",
      "dtype: float64, 'System_opex': component  carrier\n",
      "Generator  gas        4505.200594\n",
      "           nuclear     337.363261\n",
      "Name: generators, dtype: float64, 'System_cost': component  carrier    \n",
      "Generator  gas            0.008315\n",
      "           nuclear        0.003132\n",
      "           onshorewind         NaN\n",
      "           solar               NaN\n",
      "dtype: float64}, {'CO2_Limit': 5000000.0, 'Capacity_MW': Generator\n",
      "onshorewind     57185.598059\n",
      "offshorewind        0.000000\n",
      "solar           29487.387439\n",
      "CCGT            30474.721939\n",
      "nuclear         19092.998158\n",
      "Name: p_nom_opt, dtype: float64, 'CO2_Price': np.float64(872.836752890018), 'System_capex': component  carrier    \n",
      "Generator  gas             2589.249915\n",
      "           nuclear        15888.909360\n",
      "           onshorewind     7076.075327\n",
      "           solar           1636.717343\n",
      "dtype: float64, 'System_opex': component  carrier\n",
      "Generator  gas        1501.733531\n",
      "           nuclear    2048.411037\n",
      "Name: generators, dtype: float64, 'System_cost': component  carrier    \n",
      "Generator  gas            0.004091\n",
      "           nuclear        0.017937\n",
      "           onshorewind         NaN\n",
      "           solar               NaN\n",
      "dtype: float64}, {'CO2_Limit': 1000000.0, 'Capacity_MW': Generator\n",
      "onshorewind     47035.679721\n",
      "offshorewind        0.000000\n",
      "solar           18129.914388\n",
      "CCGT            19648.072501\n",
      "nuclear         30427.143513\n",
      "Name: p_nom_opt, dtype: float64, 'CO2_Price': np.float64(3471.1839242457777), 'System_capex': component  carrier    \n",
      "Generator  gas             1669.376021\n",
      "           nuclear        25321.016708\n",
      "           onshorewind     5820.136959\n",
      "           solar           1006.313135\n",
      "dtype: float64, 'System_opex': component  carrier\n",
      "Generator  gas         300.346706\n",
      "           nuclear    2926.380912\n",
      "Name: generators, dtype: float64, 'System_cost': component  carrier    \n",
      "Generator  gas            0.001970\n",
      "           nuclear        0.028247\n",
      "           onshorewind         NaN\n",
      "           solar               NaN\n",
      "dtype: float64}, {'CO2_Limit': 50000.0, 'Capacity_MW': Generator\n",
      "onshorewind     17432.397855\n",
      "offshorewind        0.000000\n",
      "solar            3794.726981\n",
      "CCGT             6792.854561\n",
      "nuclear         44762.525546\n",
      "Name: p_nom_opt, dtype: float64, 'CO2_Price': np.float64(33053.04293484823), 'System_capex': component  carrier    \n",
      "Generator  gas              577.147123\n",
      "           nuclear        37250.708623\n",
      "           onshorewind     2157.063396\n",
      "           solar            210.628882\n",
      "dtype: float64, 'System_opex': component  carrier\n",
      "Generator  gas          15.017335\n",
      "           nuclear    4486.551871\n",
      "Name: generators, dtype: float64, 'System_cost': component  carrier    \n",
      "Generator  gas            0.000592\n",
      "           nuclear        0.041737\n",
      "           onshorewind         NaN\n",
      "           solar               NaN\n",
      "dtype: float64}, {'CO2_Limit': 10000.0, 'Capacity_MW': Generator\n",
      "onshorewind     15364.835075\n",
      "offshorewind        0.000000\n",
      "solar               0.000000\n",
      "CCGT             3723.725261\n",
      "nuclear         47935.032985\n",
      "Name: p_nom_opt, dtype: float64, 'CO2_Price': np.float64(109860.38210232099), 'System_capex': component  carrier    \n",
      "Generator  gas              316.382060\n",
      "           nuclear        39890.822173\n",
      "           onshorewind     1901.225729\n",
      "dtype: float64, 'System_opex': component  carrier\n",
      "Generator  gas           3.003467\n",
      "           nuclear    4643.252565\n",
      "Name: generators, dtype: float64, 'System_cost': component  carrier    \n",
      "Generator  gas            0.000319\n",
      "           nuclear        0.044534\n",
      "           onshorewind         NaN\n",
      "dtype: float64}, {'CO2_Limit': 1000.0, 'Capacity_MW': Generator\n",
      "onshorewind      2343.369220\n",
      "offshorewind        0.000000\n",
      "solar               0.000000\n",
      "CCGT             1124.071691\n",
      "nuclear         51185.759848\n",
      "Name: p_nom_opt, dtype: float64, 'CO2_Price': np.float64(287472.5028415546), 'System_capex': component  carrier    \n",
      "Generator  gas               95.505466\n",
      "           nuclear        42596.028765\n",
      "           onshorewind      289.965615\n",
      "dtype: float64, 'System_opex': component  carrier\n",
      "Generator  gas           0.300347\n",
      "           nuclear    5201.451977\n",
      "Name: generators, dtype: float64, 'System_cost': component  carrier    \n",
      "Generator  gas            0.000096\n",
      "           nuclear        0.047797\n",
      "           onshorewind         NaN\n",
      "dtype: float64}, {'CO2_Limit': 100.0, 'Capacity_MW': Generator\n",
      "onshorewind         0.00000\n",
      "offshorewind        0.00000\n",
      "solar               0.00000\n",
      "CCGT              278.64735\n",
      "nuclear         52148.35265\n",
      "Name: p_nom_opt, dtype: float64, 'CO2_Price': np.float64(1850266.417988548), 'System_capex': component  carrier\n",
      "Generator  gas           23.674954\n",
      "           nuclear    43397.084191\n",
      "dtype: float64, 'System_opex': component  carrier\n",
      "Generator  gas           0.030035\n",
      "           nuclear    5301.839700\n",
      "Name: generators, dtype: float64, 'System_cost': component  carrier\n",
      "Generator  gas        0.000024\n",
      "           nuclear    0.048699\n",
      "dtype: float64}, {'CO2_Limit': 0, 'Capacity_MW': Generator\n",
      "onshorewind         0.0\n",
      "offshorewind        0.0\n",
      "solar               0.0\n",
      "CCGT                0.0\n",
      "nuclear         52427.0\n",
      "Name: p_nom_opt, dtype: float64, 'CO2_Price': np.float64(4121561.6079979585), 'System_capex': component  carrier\n",
      "Generator  nuclear    43628.970375\n",
      "dtype: float64, 'System_opex': component  carrier\n",
      "Generator  nuclear    5301.849005\n",
      "Name: generators, dtype: float64, 'System_cost': component  carrier\n",
      "Generator  nuclear    0.048931\n",
      "dtype: float64}]\n"
     ]
    }
   ],
   "source": [
    "# Define the CO2 constraint values for sensitivity analysis\n",
    "co2_limits = [170e6, 140e6, 70e6, 35e6, 30e6, 20e6, 18e6, 15e6, 5e6, 1e6, 0.5e5, 1e4, 1e3, 1e2, 0]  # in tons of CO2\n",
    "\n",
    "results = []\n",
    "\n",
    "# Loop through each CO2 limit\n",
    "for co2_limit in co2_limits:\n",
    "    # Add or update the CO2 constraint in the network\n",
    "    \n",
    "    # Solve the network\n",
    "    network = model(co2_limit) \n",
    "\n",
    "    capex = network.statistics.capex().div(1e6)  # million €/y\n",
    "    opex = network.statistics.opex().div(1e6) # million €/y\n",
    "    tsc = capex + opex\n",
    "    tsc = tsc.div(1e6)  # million €/y  \n",
    "    co2_price = -network.global_constraints.mu['co2_limit']\n",
    "\n",
    "    # Extract the optimized generator capacities\n",
    "    results.append({\n",
    "        \"CO2_Limit\": co2_limit,\n",
    "        \"Capacity_MW\": network.generators.p_nom_opt,\n",
    "        \"CO2_Price\": co2_price,\n",
    "        \"System_capex\": capex,  # million €/y\n",
    "        \"System_opex\": opex,  # million €/y\n",
    "        \"System_cost\": tsc,  # million €/y\n",
    "    })\n",
    "\n",
    "# Save the results to a CSV file for further analysis\n",
    "# results.to_csv(\"sensitivity_analysis_results.csv\", index=False)\n",
    "\n",
    "# Display the results\n",
    "print(results)"
   ]
  },
  {
   "cell_type": "code",
   "execution_count": 35,
   "metadata": {},
   "outputs": [],
   "source": [
    "total_capacity = [entry[\"Capacity_MW\"].sum() for entry in results]\n",
    "\n",
    "solar = [entry[\"Capacity_MW\"][\"solar\"] / total for entry, total in zip(results, total_capacity)]\n",
    "onshorewind = [entry[\"Capacity_MW\"][\"onshorewind\"] / total for entry, total in zip(results, total_capacity)]\n",
    "ccgt = [entry[\"Capacity_MW\"][\"CCGT\"] / total for entry, total in zip(results, total_capacity)]\n",
    "offshorewind = [entry[\"Capacity_MW\"][\"offshorewind\"] / total for entry, total in zip(results, total_capacity)]\n",
    "nuclear = [entry[\"Capacity_MW\"][\"nuclear\"] / total for entry, total in zip(results, total_capacity)]"
   ]
  },
  {
   "cell_type": "code",
   "execution_count": 45,
   "metadata": {},
   "outputs": [
    {
     "data": {
      "image/png": "[encoded data removed]",
      "text/plain": [
       "<Figure size 1000x600 with 1 Axes>"
      ]
     },
     "metadata": {},
     "output_type": "display_data"
    }
   ],
   "source": [
    "\n",
    "\n",
    "# Plot: Generation mix as a function of CO₂ constraint\n",
    "plt.figure(figsize=(10, 6))\n",
    "plt.stackplot(co2_limits, solar, onshorewind, ccgt, offshorewind, nuclear,\n",
    "              labels=['Solar', 'Onshore wind', 'CCGT', 'Offshore wind', 'Nuclear'],\n",
    "              colors=['gold', 'skyblue', 'lightcoral', 'lightgreen', 'lightgrey'],\n",
    "              alpha=0.9)\n",
    "\n",
    "plt.xlabel('CO₂ Constraint (tCO₂/year)')\n",
    "plt.ylabel('Generation Share (%)')\n",
    "plt.title('Generation Mix Sensitivity to CO₂ Constraint')\n",
    "plt.xlim(0,50e6)\n",
    "plt.ylim(0,1)\n",
    "plt.legend(loc='upper left')\n",
    "plt.grid(True)\n",
    "plt.gca().invert_xaxis()  # So tighter constraint appears on the right\n",
    "plt.tight_layout()\n"
   ]
  },
  {
   "cell_type": "code",
   "execution_count": null,
   "metadata": {},
   "outputs": [
    {
     "name": "stdout",
     "output_type": "stream",
     "text": [
      "component  carrier\n",
      "Generator  gas        10347.969413\n",
      "Name: generators, dtype: float64\n",
      "component  carrier\n",
      "Generator  gas        10347.969413\n",
      "Name: generators, dtype: float64\n",
      "component  carrier\n",
      "Generator  gas        10347.969413\n",
      "Name: generators, dtype: float64\n",
      "component  carrier\n",
      "Generator  gas        10347.969413\n",
      "Name: generators, dtype: float64\n",
      "component  carrier\n",
      "Generator  gas        9010.401189\n",
      "Name: generators, dtype: float64\n",
      "component  carrier\n",
      "Generator  gas        6006.934126\n",
      "Name: generators, dtype: float64\n",
      "component  carrier\n",
      "Generator  gas        5406.240713\n",
      "Name: generators, dtype: float64\n",
      "component  carrier\n",
      "Generator  gas        4505.200594\n",
      "           nuclear     337.363261\n",
      "Name: generators, dtype: float64\n",
      "component  carrier\n",
      "Generator  gas        1501.733531\n",
      "           nuclear    2048.411037\n",
      "Name: generators, dtype: float64\n",
      "component  carrier\n",
      "Generator  gas         300.346706\n",
      "           nuclear    2926.380912\n",
      "Name: generators, dtype: float64\n",
      "component  carrier\n",
      "Generator  gas          15.017335\n",
      "           nuclear    4486.551871\n",
      "Name: generators, dtype: float64\n",
      "component  carrier\n",
      "Generator  gas           3.003467\n",
      "           nuclear    4643.252565\n",
      "Name: generators, dtype: float64\n",
      "component  carrier\n",
      "Generator  gas           0.300347\n",
      "           nuclear    5201.451977\n",
      "Name: generators, dtype: float64\n",
      "component  carrier\n",
      "Generator  gas           0.030035\n",
      "           nuclear    5301.839700\n",
      "Name: generators, dtype: float64\n",
      "component  carrier\n",
      "Generator  nuclear    5301.849005\n",
      "Name: generators, dtype: float64\n"
     ]
    }
   ],
   "source": [
    "for result in results:\n",
    "    print(result[\"System_opex\"])"
   ]
  },
  {
   "cell_type": "code",
   "execution_count": 86,
   "metadata": {},
   "outputs": [
    {
     "data": {
      "image/png": "[encoded data removed]",
      "text/plain": [
       "<Figure size 400x400 with 1 Axes>"
      ]
     },
     "metadata": {},
     "output_type": "display_data"
    }
   ],
   "source": [
    "system_costs = {}\n",
    "for result in results:\n",
    "    # Making sure that there is no NaN values, although in some scenarios some tecs dont have opex or capex values\n",
    "    capex = result[\"System_capex\"].droplevel(0).reindex(result[\"System_capex\"].index.levels[1], fill_value=0)\n",
    "    opex = result[\"System_opex\"].droplevel(0).reindex(result[\"System_capex\"].index.levels[1], fill_value=0)\n",
    "    \n",
    "    # Add the costs to the dictionary\n",
    "    system_costs[result[\"CO2_Limit\"]] = capex + opex\n",
    "\n",
    "labels = ['solar', 'onshorewind', 'gas', 'offshorewind', 'nuclear']  # Asegúrate de usar los nombres exactos\n",
    "colors = ['gold', 'skyblue', 'lightcoral', 'lightgreen', 'lightgrey']\n",
    "\n",
    "df = pd.DataFrame(system_costs).T \n",
    "\n",
    "df = df[labels]\n",
    "df.plot.area(\n",
    "    stacked=True,\n",
    "    linewidth=0,\n",
    "    color=colors,\n",
    "    figsize=(4, 4),\n",
    "    xlim = (0,50e6),\n",
    "    xlabel=r\"CO$_2$ emissions [t/a]\",\n",
    "    ylabel=\"System cost [m€/a]\",\n",
    "    #ylim=(0, 4),\n",
    ")\n",
    "from matplotlib.patches import Patch\n",
    "legend_patches = [Patch(color=color, label=label) for color, label in zip(colors, labels)]\n",
    "plt.legend(handles=legend_patches, frameon=False, loc=(1.05, 0))\n",
    "plt.gca().invert_xaxis()"
   ]
  },
  {
   "cell_type": "code",
   "execution_count": 80,
   "metadata": {},
   "outputs": [
    {
     "data": {
      "image/png": "[encoded data removed]",
      "text/plain": [
       "<Figure size 1000x600 with 1 Axes>"
      ]
     },
     "metadata": {},
     "output_type": "display_data"
    }
   ],
   "source": [
    "import pandas as pd\n",
    "import matplotlib.pyplot as plt\n",
    "\n",
    "# Asegurarse que los datos están correctamente poblados en df\n",
    "# Asumiendo que 'df' ya está creado y contiene las columnas correctas con datos de costos del sistema\n",
    "\n",
    "labels = ['solar', 'onshorewind', 'gas', 'offshorewind', 'nuclear']\n",
    "colors = ['gold', 'skyblue', 'lightcoral', 'lightgreen', 'lightgrey']\n",
    "\n",
    "# Graficar el área\n",
    "ax = df.plot.area(stacked=True, linewidth=0, figsize=(10, 6), xlim=(0, 50e6),\n",
    "                  xlabel=r\"CO$_2$ emissions [Mt/a]\", ylabel=\"System cost [bn€/a]\")\n",
    "\n",
    "# Invertir el eje x\n",
    "plt.gca().invert_xaxis()\n",
    "\n",
    "# Crear una leyenda personalizada con los colores correspondientes\n",
    "from matplotlib.patches import Patch\n",
    "legend_patches = [Patch(color=color, label=label) for color, label in zip(colors, labels)]\n",
    "plt.legend(handles=legend_patches, frameon=False, loc=(1.05, 0))\n",
    "\n",
    "plt.show()\n"
   ]
  }
 ],
 "metadata": {
  "kernelspec": {
   "display_name": "py311",
   "language": "python",
   "name": "python3"
  },
  "language_info": {
   "codemirror_mode": {
    "name": "ipython",
    "version": 3
   },
   "file_extension": ".py",
   "mimetype": "text/x-python",
   "name": "python",
   "nbconvert_exporter": "python",
   "pygments_lexer": "ipython3",
   "version": "3.11.10"
  }
 },
 "nbformat": 4,
 "nbformat_minor": 2
}
