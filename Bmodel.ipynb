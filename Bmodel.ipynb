{
 "cells": [
  {
   "cell_type": "code",
   "execution_count": 19,
   "metadata": {},
   "outputs": [],
   "source": [
    "import pandas as pd\n",
    "import pypsa\n",
    "import matplotlib.pyplot as plt\n",
    "import numpy as np\n",
    "import pandas as pd\n",
    "\n",
    "plt.rcParams['font.family'] = 'serif'"
   ]
  },
  {
   "cell_type": "code",
   "execution_count": 20,
   "metadata": {},
   "outputs": [],
   "source": [
    "def annuity(n,r):\n",
    "    \"\"\" Calculate the annuity factor for an asset with lifetime n years and\n",
    "    discount rate  r \"\"\"\n",
    "\n",
    "    if r > 0:\n",
    "        return r/(1. - 1./(1.+r)**n)\n",
    "    else:\n",
    "        return 1/n"
   ]
  },
  {
   "cell_type": "code",
   "execution_count": 21,
   "metadata": {},
   "outputs": [],
   "source": [
    "# load electricity demand data\n",
    "df_elec = pd.read_csv('data/electricity_demand.csv', sep=';', index_col=0) # in MWh\n",
    "df_elec.index = pd.to_datetime(df_elec.index) #change index to datatime\n",
    "country='GBR'\n",
    "\n",
    "def model(co2_constraint):\n",
    "    network = pypsa.Network()\n",
    "    hours_in_2015 = pd.date_range('2015-01-01 00:00Z',\n",
    "                                '2015-12-31 23:00Z',\n",
    "                                freq='h')\n",
    "\n",
    "    network.set_snapshots(hours_in_2015.values)\n",
    "\n",
    "    network.add(\"Bus\",\n",
    "                \"electricity bus\")\n",
    "    # add load to the bus\n",
    "    network.add(\"Load\",\n",
    "                \"load\",\n",
    "                bus=\"electricity bus\",\n",
    "                p_set=df_elec[country].values)\n",
    "    # CAPEX values for different technologies (in €/MW)\n",
    "    offshoreWind_capex = 2.8e6\n",
    "    onshoreWind_capex = 1.4e6\n",
    "    solar_capex = 628e3\n",
    "    ccgt_capex = 1.04e6\n",
    "    nuclear_capex = 11.08e6\n",
    "\n",
    "    # add the different carriers, only gas emits CO2\n",
    "    network.add(\"Carrier\", \"gas\", co2_emissions=0.2019) # in t_CO2/MWh_th\n",
    "    network.add(\"Carrier\", \"onshorewind\")\n",
    "    network.add(\"Carrier\", \"solar\")\n",
    "    network.add(\"Carrier\", \"offshorewind\")\n",
    "    network.add(\"Carrier\", \"nuclear\")\n",
    "\n",
    "    # add onshore wind generator\n",
    "    df_onshorewind = pd.read_csv('data/onshore_wind_1979-2017.csv', sep=';', index_col=0)\n",
    "    df_onshorewind.index = pd.to_datetime(df_onshorewind.index)\n",
    "    CF_windOnshore = df_onshorewind[country][[hour.strftime(\"%Y-%m-%dT%H:%M:%SZ\") for hour in network.snapshots]]\n",
    "    capital_cost_onshorewind = annuity(25,0.07)*onshoreWind_capex * (1+0.03) # in €/MW !!!!!!!!!!!!!!!!!!!!!!!!!!!!!!!!!!!!!!!!!!!!!!!!!!!!!!!!!!!!!!!!!!!!\n",
    "    network.add(\"Generator\",\n",
    "                \"onshorewind\",\n",
    "                bus=\"electricity bus\",\n",
    "                p_nom_extendable=True,\n",
    "                carrier=\"onshorewind\",\n",
    "                #p_nom_max=1000, # maximum capacity can be limited due to environmental constraints\n",
    "                capital_cost = capital_cost_onshorewind,\n",
    "                marginal_cost = 0,\n",
    "                p_max_pu = CF_windOnshore.values)\n",
    "\n",
    "    # add offshore wind generator\n",
    "    df_offshore = pd.read_csv('data/offshore_wind_1979-2017.csv', sep=';', index_col=0)\n",
    "    df_offshore.index = pd.to_datetime(df_offshore.index)\n",
    "    CF_windOffshore = df_offshore[country][[hour.strftime(\"%Y-%m-%dT%H:%M:%SZ\") for hour in network.snapshots]]\n",
    "    capital_cost_offshore = annuity(25,0.07)*offshoreWind_capex *(1+0.03) # in €/MW !!!!!!!!!!!!!!!!!!!!!!!!!!!!!!!!!!!!!!!!!!!!!!!!!!!!!!!!!!!!!!!!!!!!\n",
    "    network.add(\"Generator\",\n",
    "                \"offshorewind\",\n",
    "                bus=\"electricity bus\",\n",
    "                p_nom_extendable=True,\n",
    "                carrier=\"offshorewind\",\n",
    "                #p_nom_max=1000, # maximum capacity can be limited due to environmental constraints\n",
    "                capital_cost = capital_cost_offshore,\n",
    "                marginal_cost = 0,\n",
    "                p_max_pu = CF_windOffshore.values)\n",
    "\n",
    "    # add solar PV generator\n",
    "    df_solar = pd.read_csv('data/pv_optimal.csv', sep=';', index_col=0)\n",
    "    df_solar.index = pd.to_datetime(df_solar.index)\n",
    "    CF_solar = df_solar[country][[hour.strftime(\"%Y-%m-%dT%H:%M:%SZ\") for hour in network.snapshots]]\n",
    "    capital_cost_solar = annuity(25,0.07)*solar_capex*(1+0.03) # in €/MW\n",
    "    network.add(\"Generator\",\n",
    "                \"solar\",\n",
    "                bus=\"electricity bus\",\n",
    "                p_nom_extendable=True,\n",
    "                carrier=\"solar\",\n",
    "                #p_nom_max=1000, # maximum capacity can be limited due to environmental constraints\n",
    "                capital_cost = capital_cost_solar,\n",
    "                marginal_cost = 0,\n",
    "                p_max_pu = CF_solar.values)\n",
    "\n",
    "    # add CCGT (Combine Cycle Gas Turbine) generator\n",
    "    capital_cost_CCGT = annuity(30,0.07)*(ccgt_capex + 14.32 * 1000) # in €/MW\n",
    "    fuel_cost = 30.32 # in €/MWh_th\n",
    "    efficiency = 0.5 # MWh_elec/MWh_th\n",
    "    marginal_cost_CCGT = fuel_cost/efficiency # in €/MWh_el\n",
    "    network.add(\"Generator\",\n",
    "                \"CCGT\",\n",
    "                bus=\"electricity bus\",\n",
    "                p_nom_extendable=True,\n",
    "                carrier=\"gas\",\n",
    "                #p_nom_max=1000,\n",
    "                capital_cost = capital_cost_CCGT,\n",
    "                marginal_cost = marginal_cost_CCGT)\n",
    "\n",
    "    # add nuclear generator\n",
    "    capital_cost_nuclear = annuity(40,0.07)*(nuclear_capex + 14.45 * 1000) # in €/MW\n",
    "    fuel_cost = 6.2 # in €/MWh_th\n",
    "    efficiency = 0.33 # MWh_elec/MWh_th\n",
    "    marginal_cost_nuclear = fuel_cost/efficiency # in €/MWh_el\n",
    "    network.add(\"Generator\",\n",
    "                \"nuclear\",\n",
    "                bus=\"electricity bus\",\n",
    "                p_nom_extendable=True,\n",
    "                carrier=\"nuclear\",\n",
    "                #p_nom_max=1000,\n",
    "                capital_cost = capital_cost_nuclear,\n",
    "                marginal_cost = marginal_cost_nuclear)\n",
    "    \n",
    "    # CO2 Constraint\n",
    "    network.add(\"GlobalConstraint\",\n",
    "            \"co2_limit\",\n",
    "            type=\"primary_energy\",\n",
    "            carrier_attribute=\"co2_emissions\",\n",
    "            sense=\"<=\",\n",
    "            constant=co2_constraint)\n",
    "    network.optimize(solver_name='gurobi', solver_options={\"LogToConsole\": 0})\n",
    "\n",
    "    return network\n",
    "\n"
   ]
  },
  {
   "cell_type": "code",
   "execution_count": 22,
   "metadata": {},
   "outputs": [
    {
     "name": "stderr",
     "output_type": "stream",
     "text": [
      "WARNING:pypsa.consistency:The following buses have carriers which are not defined:\n",
      "Index(['electricity bus'], dtype='object', name='Bus')\n",
      "INFO:linopy.model: Solve problem using Gurobi solver\n",
      "INFO:linopy.model:Solver options:\n",
      " - LogToConsole: 0\n",
      "INFO:linopy.io:Writing objective.\n",
      "Writing constraints.: 100%|\u001b[38;2;128;191;255m██████████\u001b[0m| 6/6 [00:00<00:00, 11.19it/s]\n",
      "Writing continuous variables.: 100%|\u001b[38;2;128;191;255m██████████\u001b[0m| 2/2 [00:00<00:00, 23.96it/s]\n",
      "INFO:linopy.io: Writing time: 0.67s\n"
     ]
    },
    {
     "name": "stdout",
     "output_type": "stream",
     "text": [
      "Set parameter Username\n"
     ]
    },
    {
     "name": "stderr",
     "output_type": "stream",
     "text": [
      "INFO:gurobipy:Set parameter Username\n"
     ]
    },
    {
     "name": "stdout",
     "output_type": "stream",
     "text": [
      "Set parameter LicenseID to value 2659440\n"
     ]
    },
    {
     "name": "stderr",
     "output_type": "stream",
     "text": [
      "INFO:gurobipy:Set parameter LicenseID to value 2659440\n"
     ]
    },
    {
     "name": "stdout",
     "output_type": "stream",
     "text": [
      "Academic license - for non-commercial use only - expires 2026-04-30\n"
     ]
    },
    {
     "name": "stderr",
     "output_type": "stream",
     "text": [
      "INFO:gurobipy:Academic license - for non-commercial use only - expires 2026-04-30\n"
     ]
    },
    {
     "name": "stdout",
     "output_type": "stream",
     "text": [
      "Read LP format model from file /private/var/folders/dk/qccdw4qx5dq5wxkdgsyy_g400000gn/T/linopy-problem-09i1yh46.lp\n"
     ]
    },
    {
     "name": "stderr",
     "output_type": "stream",
     "text": [
      "INFO:gurobipy:Read LP format model from file /private/var/folders/dk/qccdw4qx5dq5wxkdgsyy_g400000gn/T/linopy-problem-09i1yh46.lp\n"
     ]
    },
    {
     "name": "stdout",
     "output_type": "stream",
     "text": [
      "Reading time = 0.22 seconds\n"
     ]
    },
    {
     "name": "stderr",
     "output_type": "stream",
     "text": [
      "INFO:gurobipy:Reading time = 0.22 seconds\n"
     ]
    },
    {
     "name": "stdout",
     "output_type": "stream",
     "text": [
      "obj: 96366 rows, 43805 columns, 179719 nonzeros\n"
     ]
    },
    {
     "name": "stderr",
     "output_type": "stream",
     "text": [
      "INFO:gurobipy:obj: 96366 rows, 43805 columns, 179719 nonzeros\n"
     ]
    },
    {
     "name": "stdout",
     "output_type": "stream",
     "text": [
      "Set parameter LogToConsole to value 0\n"
     ]
    },
    {
     "name": "stderr",
     "output_type": "stream",
     "text": [
      "INFO:gurobipy:Set parameter LogToConsole to value 0\n",
      "INFO:gurobipy:Gurobi Optimizer version 12.0.1 build v12.0.1rc0 (mac64[x86] - Darwin 21.6.0 21G531)\n",
      "INFO:gurobipy:\n",
      "INFO:gurobipy:CPU model: Intel(R) Core(TM) i5-8210Y CPU @ 1.60GHz\n",
      "INFO:gurobipy:Thread count: 2 physical cores, 4 logical processors, using up to 4 threads\n",
      "INFO:gurobipy:\n",
      "INFO:gurobipy:Non-default parameters:\n",
      "INFO:gurobipy:LogToConsole  0\n",
      "INFO:gurobipy:\n",
      "INFO:gurobipy:Optimize a model with 96366 rows, 43805 columns and 179719 nonzeros\n",
      "INFO:gurobipy:Model fingerprint: 0x527e3787\n",
      "INFO:gurobipy:Coefficient statistics:\n",
      "INFO:gurobipy:  Matrix range     [1e-03, 1e+00]\n",
      "INFO:gurobipy:  Objective range  [2e+01, 8e+05]\n",
      "INFO:gurobipy:  Bounds range     [0e+00, 0e+00]\n",
      "INFO:gurobipy:  RHS range        [2e+04, 1e+06]\n",
      "INFO:gurobipy:Presolve removed 48051 rows and 4246 columns\n",
      "INFO:gurobipy:Presolve time: 0.19s\n",
      "INFO:gurobipy:Presolved: 48315 rows, 39559 columns, 127422 nonzeros\n",
      "INFO:gurobipy:\n",
      "INFO:gurobipy:Concurrent LP optimizer: dual simplex and barrier\n",
      "INFO:gurobipy:Showing barrier log only...\n",
      "INFO:gurobipy:\n",
      "INFO:gurobipy:Ordering time: 0.01s\n",
      "INFO:gurobipy:\n",
      "INFO:gurobipy:Barrier statistics:\n",
      "INFO:gurobipy: Dense cols : 5\n",
      "INFO:gurobipy: AA' NZ     : 9.663e+04\n",
      "INFO:gurobipy: Factor NZ  : 4.272e+05 (roughly 40 MB of memory)\n",
      "INFO:gurobipy: Factor Ops : 3.925e+06 (less than 1 second per iteration)\n",
      "INFO:gurobipy: Threads    : 1\n",
      "INFO:gurobipy:\n",
      "INFO:gurobipy:                  Objective                Residual\n",
      "INFO:gurobipy:Iter       Primal          Dual         Primal    Dual     Compl     Time\n",
      "INFO:gurobipy:   0   1.10087500e+12  0.00000000e+00  2.08e+09 0.00e+00  6.93e+08     0s\n",
      "INFO:gurobipy:   1   1.65855962e+12 -6.61109671e+11  3.61e+08 2.94e+02  1.33e+08     0s\n",
      "INFO:gurobipy:   2   1.02670041e+12 -5.72358855e+11  6.71e+06 3.84e-09  1.43e+07     0s\n",
      "INFO:gurobipy:   3   1.56140535e+11 -5.82591096e+10  6.76e+05 2.15e-09  1.83e+06     0s\n",
      "INFO:gurobipy:   4   1.10943658e+11 -9.49080769e+09  4.49e+05 3.26e-09  1.02e+06     0s\n",
      "INFO:gurobipy:   5   9.37652862e+10 -6.85800241e+09  3.57e+05 2.91e-09  8.55e+05     1s\n",
      "INFO:gurobipy:   6   7.15658386e+10  2.65615881e+09  2.34e+05 1.63e-09  5.85e+05     1s\n",
      "INFO:gurobipy:   7   6.04925984e+10  9.93167683e+09  1.74e+05 2.68e-09  4.29e+05     1s\n",
      "INFO:gurobipy:   8   5.85558161e+10  1.41001581e+10  1.63e+05 2.21e-09  3.77e+05     1s\n",
      "INFO:gurobipy:   9   5.62325037e+10  1.67060050e+10  1.49e+05 7.28e-10  3.35e+05     1s\n",
      "INFO:gurobipy:  10   5.06820585e+10  2.24515412e+10  1.06e+05 6.98e-10  2.39e+05     1s\n",
      "INFO:gurobipy:  11   4.61023701e+10  2.41217399e+10  7.39e+04 2.04e-09  1.86e+05     1s\n",
      "INFO:gurobipy:  12   4.41763455e+10  2.50448087e+10  5.89e+04 2.79e-09  1.62e+05     1s\n",
      "INFO:gurobipy:  13   4.32288332e+10  2.57817834e+10  5.08e+04 1.05e-09  1.48e+05     1s\n",
      "INFO:gurobipy:  14   4.23459465e+10  2.71302680e+10  4.25e+04 2.39e-09  1.29e+05     1s\n",
      "INFO:gurobipy:  15   4.17975771e+10  2.77658928e+10  3.76e+04 1.63e-09  1.19e+05     1s\n",
      "INFO:gurobipy:  16   4.10317716e+10  2.89946868e+10  3.10e+04 1.80e-09  1.02e+05     1s\n",
      "INFO:gurobipy:  17   4.06296973e+10  2.96904990e+10  2.71e+04 1.16e-09  9.25e+04     1s\n",
      "INFO:gurobipy:  18   4.01143950e+10  3.11188006e+10  2.26e+04 2.44e-09  7.61e+04     1s\n",
      "INFO:gurobipy:  19   3.96819911e+10  3.13584841e+10  1.92e+04 4.66e-10  7.04e+04     1s\n",
      "INFO:gurobipy:  20   3.94109473e+10  3.19746671e+10  1.64e+04 1.57e-09  6.29e+04     1s\n",
      "INFO:gurobipy:  21   3.91961637e+10  3.22554381e+10  1.49e+04 2.56e-09  5.87e+04     1s\n",
      "INFO:gurobipy:  22   3.89260677e+10  3.30878285e+10  1.26e+04 9.31e-10  4.94e+04     1s\n",
      "INFO:gurobipy:  23   3.87158536e+10  3.33610544e+10  1.07e+04 7.57e-10  4.53e+04     1s\n",
      "INFO:gurobipy:  24   3.85147712e+10  3.41908702e+10  9.05e+03 4.37e-10  3.65e+04     1s\n",
      "INFO:gurobipy:  25   3.83485899e+10  3.43191164e+10  7.88e+03 1.31e-09  3.41e+04     1s\n",
      "INFO:gurobipy:  26   3.81581443e+10  3.45264428e+10  6.41e+03 1.16e-09  3.07e+04     1s\n",
      "INFO:gurobipy:  27   3.80534377e+10  3.46187294e+10  5.50e+03 1.22e-09  2.90e+04     1s\n",
      "INFO:gurobipy:  28   3.79556285e+10  3.47794865e+10  4.59e+03 1.16e-09  2.68e+04     1s\n",
      "INFO:gurobipy:  29   3.78812860e+10  3.48942814e+10  4.20e+03 4.37e-11  2.52e+04     2s\n",
      "INFO:gurobipy:  30   3.78248741e+10  3.50111970e+10  3.79e+03 3.14e-09  2.38e+04     2s\n",
      "INFO:gurobipy:  31   3.77135734e+10  3.53955912e+10  3.03e+03 6.98e-10  1.96e+04     2s\n",
      "INFO:gurobipy:  32   3.76034476e+10  3.55194273e+10  2.32e+03 7.57e-10  1.76e+04     2s\n",
      "INFO:gurobipy:  33   3.75785036e+10  3.56598853e+10  2.20e+03 3.20e-10  1.62e+04     2s\n",
      "INFO:gurobipy:  34   3.74834760e+10  3.58858733e+10  1.75e+03 7.57e-10  1.35e+04     2s\n",
      "INFO:gurobipy:  35   3.74777552e+10  3.59763005e+10  1.69e+03 5.82e-10  1.27e+04     2s\n",
      "INFO:gurobipy:  36   3.74161446e+10  3.60575613e+10  1.44e+03 4.22e-10  1.15e+04     2s\n",
      "INFO:gurobipy:  37   3.73957436e+10  3.60924722e+10  1.35e+03 9.31e-10  1.10e+04     2s\n",
      "INFO:gurobipy:  38   3.73796173e+10  3.61700364e+10  1.25e+03 5.02e-10  1.02e+04     2s\n",
      "INFO:gurobipy:  39   3.73481504e+10  3.62255702e+10  1.11e+03 6.11e-10  9.47e+03     2s\n",
      "INFO:gurobipy:  40   3.73224026e+10  3.63200567e+10  1.00e+03 6.98e-10  8.46e+03     2s\n",
      "INFO:gurobipy:  41   3.73081927e+10  3.63508227e+10  9.48e+02 1.05e-09  8.08e+03     2s\n",
      "INFO:gurobipy:  42   3.72907920e+10  3.63664040e+10  8.71e+02 7.57e-10  7.80e+03     2s\n",
      "INFO:gurobipy:  43   3.72760282e+10  3.65122197e+10  8.11e+02 9.46e-10  6.45e+03     2s\n",
      "INFO:gurobipy:  44   3.72539208e+10  3.65434293e+10  7.29e+02 6.48e-10  6.00e+03     2s\n",
      "INFO:gurobipy:  45   3.72308649e+10  3.65611578e+10  6.30e+02 7.28e-10  5.65e+03     2s\n",
      "INFO:gurobipy:  46   3.72206448e+10  3.65975910e+10  5.92e+02 6.69e-10  5.26e+03     2s\n",
      "INFO:gurobipy:  47   3.72004679e+10  3.66252391e+10  5.24e+02 7.64e-10  4.85e+03     2s\n",
      "INFO:gurobipy:  48   3.71913668e+10  3.66543102e+10  4.89e+02 1.29e-09  4.53e+03     2s\n",
      "INFO:gurobipy:  49   3.71763506e+10  3.66784670e+10  4.32e+02 1.73e-09  4.20e+03     2s\n",
      "INFO:gurobipy:  50   3.71746940e+10  3.66848866e+10  4.25e+02 1.62e-09  4.13e+03     2s\n",
      "INFO:gurobipy:  51   3.71736075e+10  3.66968152e+10  4.21e+02 1.78e-09  4.02e+03     2s\n",
      "INFO:gurobipy:  52   3.71627900e+10  3.67098823e+10  3.81e+02 1.83e-09  3.82e+03     2s\n",
      "INFO:gurobipy:  53   3.71564177e+10  3.67540028e+10  3.51e+02 3.11e-09  3.40e+03     2s\n",
      "INFO:gurobipy:  54   3.71521514e+10  3.67644663e+10  3.35e+02 3.30e-09  3.27e+03     2s\n",
      "INFO:gurobipy:  55   3.71317392e+10  3.68025651e+10  2.64e+02 4.33e-09  2.78e+03     2s\n",
      "INFO:gurobipy:  56   3.71176250e+10  3.68160396e+10  2.14e+02 4.55e-09  2.54e+03     3s\n",
      "INFO:gurobipy:  57   3.71091059e+10  3.68303094e+10  1.88e+02 4.68e-09  2.35e+03     3s\n",
      "INFO:gurobipy:  58   3.71038683e+10  3.68432860e+10  1.71e+02 4.65e-09  2.20e+03     3s\n",
      "INFO:gurobipy:  59   3.70994828e+10  3.68551596e+10  1.57e+02 4.54e-09  2.06e+03     3s\n",
      "INFO:gurobipy:  60   3.70974392e+10  3.68677687e+10  1.50e+02 4.39e-09  1.94e+03     3s\n",
      "INFO:gurobipy:  61   3.70864455e+10  3.68984990e+10  1.17e+02 3.45e-09  1.59e+03     3s\n",
      "INFO:gurobipy:  62   3.70827829e+10  3.69088889e+10  1.06e+02 2.89e-09  1.47e+03     3s\n",
      "INFO:gurobipy:  63   3.70806223e+10  3.69243495e+10  1.00e+02 2.70e-09  1.32e+03     3s\n",
      "INFO:gurobipy:  64   3.70777446e+10  3.69281708e+10  9.03e+01 2.57e-09  1.26e+03     3s\n",
      "INFO:gurobipy:  65   3.70736638e+10  3.69439373e+10  7.88e+01 1.91e-09  1.09e+03     3s\n",
      "INFO:gurobipy:  66   3.70693364e+10  3.69539781e+10  6.58e+01 1.76e-09  9.73e+02     3s\n",
      "INFO:gurobipy:  67   3.70648792e+10  3.69571662e+10  5.47e+01 1.38e-09  9.08e+02     3s\n",
      "INFO:gurobipy:  68   3.70627567e+10  3.69721357e+10  4.91e+01 5.82e-11  7.64e+02     3s\n",
      "INFO:gurobipy:  69   3.70586365e+10  3.69795659e+10  3.82e+01 7.57e-10  6.67e+02     3s\n",
      "INFO:gurobipy:  70   3.70548711e+10  3.69958097e+10  2.74e+01 2.65e-13  4.98e+02     3s\n",
      "INFO:gurobipy:  71   3.70536575e+10  3.70021009e+10  2.42e+01 5.53e-10  4.35e+02     3s\n",
      "INFO:gurobipy:  72   3.70530355e+10  3.70054727e+10  2.26e+01 2.04e-10  4.01e+02     3s\n",
      "INFO:gurobipy:  73   3.70514059e+10  3.70099202e+10  1.82e+01 5.24e-10  3.50e+02     3s\n",
      "INFO:gurobipy:  74   3.70504657e+10  3.70113555e+10  1.60e+01 6.98e-10  3.30e+02     3s\n",
      "INFO:gurobipy:  75   3.70499750e+10  3.70149020e+10  1.48e+01 1.75e-10  2.96e+02     3s\n",
      "INFO:gurobipy:  76   3.70471229e+10  3.70182010e+10  7.01e+00 2.91e-11  2.44e+02     3s\n",
      "INFO:gurobipy:  77   3.70460372e+10  3.70249389e+10  4.65e+00 2.44e-09  1.78e+02     3s\n",
      "INFO:gurobipy:  78   3.70455081e+10  3.70283279e+10  3.52e+00 1.75e-09  1.45e+02     3s\n",
      "INFO:gurobipy:  79   3.70449739e+10  3.70308905e+10  2.42e+00 2.91e-10  1.19e+02     3s\n",
      "INFO:gurobipy:  80   3.70448874e+10  3.70348131e+10  2.25e+00 1.92e-09  8.49e+01     3s\n",
      "INFO:gurobipy:  81   3.70442477e+10  3.70399182e+10  1.09e+00 1.11e-09  3.65e+01     4s\n",
      "INFO:gurobipy:  82   3.70439689e+10  3.70415816e+10  6.30e-01 9.31e-10  2.01e+01     4s\n",
      "INFO:gurobipy:  83   3.70437104e+10  3.70416291e+10  2.19e-01 1.16e-10  1.75e+01     4s\n",
      "INFO:gurobipy:  84   3.70436888e+10  3.70430930e+10  1.85e-01 6.29e-09  5.02e+00     4s\n",
      "INFO:gurobipy:  85   3.70436252e+10  3.70433859e+10  8.29e-02 7.86e-10  2.02e+00     4s\n",
      "INFO:gurobipy:  86   3.70435826e+10  3.70434241e+10  1.45e-02 3.29e-12  1.34e+00     4s\n",
      "INFO:gurobipy:  87   3.70435765e+10  3.70435600e+10  5.19e-03 3.68e-08  1.39e-01     4s\n",
      "INFO:gurobipy:  88   3.70435708e+10  3.70435621e+10  4.49e-05 3.03e-08  7.33e-02     4s\n",
      "INFO:gurobipy:  89   3.70435705e+10  3.70435702e+10  8.20e-07 1.53e-07  2.35e-03     4s\n",
      "INFO:gurobipy:  90   3.70435704e+10  3.70435704e+10  2.28e-09 1.19e-09  3.52e-06     4s\n",
      "INFO:gurobipy:  91   3.70435704e+10  3.70435704e+10  5.24e-07 2.33e-09  4.59e-12     4s\n",
      "INFO:gurobipy:\n",
      "INFO:gurobipy:Barrier solved model in 91 iterations and 3.84 seconds (1.75 work units)\n",
      "INFO:gurobipy:Optimal objective 3.70435704e+10\n",
      "INFO:gurobipy:\n",
      "INFO:gurobipy:Crossover log...\n",
      "INFO:gurobipy:\n",
      "INFO:gurobipy:    8767 DPushes remaining with DInf 0.0000000e+00                 4s\n",
      "INFO:gurobipy:       0 DPushes remaining with DInf 0.0000000e+00                 4s\n",
      "INFO:gurobipy:Warning: Markowitz tolerance tightened to 0.5\n",
      "INFO:gurobipy:\n",
      "INFO:gurobipy:     170 PPushes remaining with PInf 0.0000000e+00                 4s\n",
      "INFO:gurobipy:       0 PPushes remaining with PInf 0.0000000e+00                 4s\n",
      "INFO:gurobipy:\n",
      "INFO:gurobipy:  Push phase complete: Pinf 0.0000000e+00, Dinf 1.4048736e-08      4s\n",
      "INFO:gurobipy:\n",
      "INFO:gurobipy:\n",
      "INFO:gurobipy:Solved with barrier\n",
      "INFO:gurobipy:Iteration    Objective       Primal Inf.    Dual Inf.      Time\n",
      "INFO:gurobipy:    8452    3.7043570e+10   0.000000e+00   0.000000e+00      4s\n",
      "INFO:gurobipy:\n",
      "INFO:gurobipy:Solved in 8452 iterations and 4.11 seconds (1.85 work units)\n",
      "INFO:gurobipy:Optimal objective  3.704357044e+10\n",
      "INFO:linopy.constants: Optimization successful: \n",
      "Status: ok\n",
      "Termination condition: optimal\n",
      "Solution: 43805 primals, 96366 duals\n",
      "Objective: 3.70e+10\n",
      "Solver model: available\n",
      "Solver message: 2\n",
      "\n",
      "INFO:pypsa.optimization.optimize:The shadow-prices of the constraints Generator-ext-p-lower, Generator-ext-p-upper were not assigned to the network.\n"
     ]
    }
   ],
   "source": [
    "co2_limit=1000000 #tonCO2\n",
    "network = model(co2_limit)\n"
   ]
  },
  {
   "cell_type": "code",
   "execution_count": 23,
   "metadata": {},
   "outputs": [
    {
     "name": "stdout",
     "output_type": "stream",
     "text": [
      "37043.570441041586\n"
     ]
    }
   ],
   "source": [
    "print(network.objective/1000000) #in 10^6 €"
   ]
  },
  {
   "cell_type": "code",
   "execution_count": 24,
   "metadata": {},
   "outputs": [
    {
     "name": "stdout",
     "output_type": "stream",
     "text": [
      "Load\n",
      "load    131.26932\n",
      "dtype: float64\n"
     ]
    }
   ],
   "source": [
    "print(network.objective/network.loads_t.p.sum()) # EUR/MWh"
   ]
  },
  {
   "cell_type": "code",
   "execution_count": 25,
   "metadata": {},
   "outputs": [
    {
     "data": {
      "text/plain": [
       "Generator\n",
       "onshorewind     47035.679721\n",
       "offshorewind        0.000000\n",
       "solar           18129.914388\n",
       "CCGT            19648.072501\n",
       "nuclear         30427.143513\n",
       "Name: p_nom_opt, dtype: float64"
      ]
     },
     "execution_count": 25,
     "metadata": {},
     "output_type": "execute_result"
    }
   ],
   "source": [
    "network.generators.p_nom_opt # in MW"
   ]
  },
  {
   "cell_type": "code",
   "execution_count": 26,
   "metadata": {},
   "outputs": [
    {
     "name": "stderr",
     "output_type": "stream",
     "text": [
      "/var/folders/dk/qccdw4qx5dq5wxkdgsyy_g400000gn/T/ipykernel_35723/2499115036.py:3: FutureWarning: 'H' is deprecated and will be removed in a future version, please use 'h' instead.\n",
      "  hours = pd.date_range(start=\"2015-01-01\", periods=num_hours_week, freq='H')\n"
     ]
    },
    {
     "data": {
      "image/png": "[encoded data removed]",
      "text/plain": [
       "<Figure size 1000x600 with 1 Axes>"
      ]
     },
     "metadata": {},
     "output_type": "display_data"
    }
   ],
   "source": [
    "# Selection of plotted hours\n",
    "num_hours_week = 24 * 7\n",
    "hours = pd.date_range(start=\"2015-01-01\", periods=num_hours_week, freq='H')\n",
    "\n",
    "demand = network.loads_t.p['load'][hours].values\n",
    "onshore_wind = network.generators_t.p['onshorewind'][hours].values\n",
    "solar = network.generators_t.p['solar'][hours].values    \n",
    "gas_ccgt = network.generators_t.p['CCGT'][hours].values\n",
    "offshore_wind = network.generators_t.p['offshorewind'][hours].values\n",
    "nuclear = network.generators_t.p['nuclear'][hours].values\n",
    "\n",
    "plt.figure(figsize=(10, 6))\n",
    "plt.plot(demand, color='black', label='demand')\n",
    "plt.plot(onshore_wind, color='blue', label='onshore wind')\n",
    "plt.plot(solar, color='orange', label='solar')\n",
    "plt.plot(gas_ccgt, color='red', label='gas (CCGT)')\n",
    "plt.plot(offshore_wind, color='green', label='offshore wind')\n",
    "plt.plot(nuclear, color='brown', label='nuclear')\n",
    "plt.legend(fancybox=True, shadow=True, loc='best')\n",
    "plt.xlabel('Time (hours)')\n",
    "plt.ylabel('Power (MW)')\n",
    "#plt.title('Energy Production and Demand')\n",
    "# plt.xticks(rotation=45)\n",
    "plt.grid(True)\n",
    "\n",
    "# Improve x-axis ticks\n",
    "# plt.gca().xaxis.set_major_locator(plt.MultipleLocator(12))\n",
    "# plt.gca().xaxis.set_minor_locator(plt.MultipleLocator(3))\n",
    "# plt.gca().xaxis.set_major_formatter(plt.matplotlib.dates.DateFormatter('%Y-%m-%d %H:%M'))\n",
    "\n",
    "plt.tight_layout()\n"
   ]
  },
  {
   "cell_type": "code",
   "execution_count": 27,
   "metadata": {},
   "outputs": [
    {
     "data": {
      "text/plain": [
       "Text(0.5, 1.07, 'Electricity mix')"
      ]
     },
     "execution_count": 27,
     "metadata": {},
     "output_type": "execute_result"
    },
    {
     "data": {
      "image/png": "[encoded data removed]",
      "text/plain": [
       "<Figure size 640x480 with 1 Axes>"
      ]
     },
     "metadata": {},
     "output_type": "display_data"
    }
   ],
   "source": [
    "labels = ['onshore wind',\n",
    "          'gas (CCGT)', \n",
    "          'solar',\n",
    "          'offshore wind',\n",
    "          'nuclear']\n",
    "sizes = [network.generators_t.p['onshorewind'].sum(),\n",
    "         network.generators_t.p['CCGT'].sum(),\n",
    "         network.generators_t.p['solar'].sum(),\n",
    "         network.generators_t.p['offshorewind'].sum(),\n",
    "         network.generators_t.p['nuclear'].sum()\n",
    "]\n",
    "\n",
    "colors=['blue', 'orange', 'brown', 'green', 'red']\n",
    "\n",
    "plt.pie(sizes,\n",
    "        colors=colors,\n",
    "        labels=labels,\n",
    "        wedgeprops={'linewidth':0})\n",
    "plt.axis('equal')\n",
    "\n",
    "plt.title('Electricity mix', y=1.07)"
   ]
  },
  {
   "cell_type": "code",
   "execution_count": 28,
   "metadata": {},
   "outputs": [
    {
     "data": {
      "image/png": "[encoded data removed]",
      "text/plain": [
       "<Figure size 640x480 with 1 Axes>"
      ]
     },
     "metadata": {},
     "output_type": "display_data"
    }
   ],
   "source": [
    "import matplotlib.pyplot as plt\n",
    "\n",
    "# Define the mapping of tech to readable label and corresponding color\n",
    "tech_map = {\n",
    "    'onshorewind': ('onshore wind', 'skyblue'),\n",
    "    'CCGT': ('gas (CCGT)', 'lightcoral'),\n",
    "    'solar': ('solar', 'gold'),\n",
    "    'offshorewind': ('offshore wind', 'lightgreen'),\n",
    "    'nuclear': ('nuclear', 'lightgrey')\n",
    "}\n",
    "\n",
    "# Extract sizes, labels, and colors based on consistent order\n",
    "tech_keys = ['onshorewind', 'CCGT', 'solar', 'offshorewind', 'nuclear']\n",
    "sizes = [network.generators_t.p[tech].sum() for tech in tech_keys]\n",
    "labels = [tech_map[tech][0] for tech in tech_keys]\n",
    "colors = [tech_map[tech][1] for tech in tech_keys]\n",
    "\n",
    "# Plot the pie chart\n",
    "plt.pie(sizes, colors=colors, labels=labels, wedgeprops={'linewidth': 0})\n",
    "plt.axis('equal')\n",
    "plt.title('Electricity mix', y=1.07)\n",
    "plt.tight_layout()\n",
    "plt.show()\n"
   ]
  },
  {
   "cell_type": "code",
   "execution_count": 29,
   "metadata": {},
   "outputs": [
    {
     "data": {
      "image/png": "[encoded data removed]",
      "text/plain": [
       "<Figure size 700x400 with 1 Axes>"
      ]
     },
     "metadata": {},
     "output_type": "display_data"
    }
   ],
   "source": [
    "# Capacity factor calculation\n",
    "capacity_factors = {\n",
    "    \"onshore wind\": network.generators_t.p['onshorewind'] / network.generators.p_nom_opt['onshorewind'],\n",
    "    \"gas (CCGT)\": network.generators_t.p['CCGT'] / network.generators.p_nom_opt['CCGT'],\n",
    "    \"solar\": network.generators_t.p['solar'] / network.generators.p_nom_opt['solar'],\n",
    "    \"offshore wind\": network.generators_t.p['offshorewind'] / network.generators.p_nom_opt['offshorewind'],\n",
    "    \"nuclear\": network.generators_t.p['nuclear'] / network.generators.p_nom_opt['nuclear']\n",
    "}\n",
    "\n",
    "# Sorting data for duration curve plot\n",
    "duration_curves = {\n",
    "    tech: np.sort(data)[::-1]\n",
    "    for tech, data in capacity_factors.items()\n",
    "}\n",
    "\n",
    "# Plotting the duration curves\n",
    "plt.figure(figsize=(7, 4))\n",
    "for tech, data in duration_curves.items():\n",
    "    plt.plot(data, label=tech)\n",
    "\n",
    "plt.title('Duration Curves for Energy Technologies')\n",
    "plt.xlabel('Hours')\n",
    "plt.ylabel('Capacity Factor')\n",
    "plt.legend()\n",
    "plt.grid(True)\n",
    "plt.tight_layout()\n",
    "plt.show()\n"
   ]
  },
  {
   "cell_type": "code",
   "execution_count": 30,
   "metadata": {},
   "outputs": [
    {
     "name": "stderr",
     "output_type": "stream",
     "text": [
      "WARNING:pypsa.consistency:The following buses have carriers which are not defined:\n",
      "Index(['electricity bus'], dtype='object', name='Bus')\n",
      "INFO:linopy.model: Solve problem using Gurobi solver\n",
      "INFO:linopy.model:Solver options:\n",
      " - LogToConsole: 0\n",
      "INFO:linopy.io:Writing objective.\n",
      "Writing constraints.: 100%|\u001b[38;2;128;191;255m██████████\u001b[0m| 6/6 [00:00<00:00, 12.14it/s]\n",
      "Writing continuous variables.: 100%|\u001b[38;2;128;191;255m██████████\u001b[0m| 2/2 [00:00<00:00, 24.29it/s]\n",
      "INFO:linopy.io: Writing time: 0.62s\n"
     ]
    },
    {
     "name": "stdout",
     "output_type": "stream",
     "text": [
      "Set parameter Username\n"
     ]
    },
    {
     "name": "stderr",
     "output_type": "stream",
     "text": [
      "INFO:gurobipy:Set parameter Username\n"
     ]
    },
    {
     "name": "stdout",
     "output_type": "stream",
     "text": [
      "Set parameter LicenseID to value 2659440\n"
     ]
    },
    {
     "name": "stderr",
     "output_type": "stream",
     "text": [
      "INFO:gurobipy:Set parameter LicenseID to value 2659440\n"
     ]
    },
    {
     "name": "stdout",
     "output_type": "stream",
     "text": [
      "Academic license - for non-commercial use only - expires 2026-04-30\n"
     ]
    },
    {
     "name": "stderr",
     "output_type": "stream",
     "text": [
      "INFO:gurobipy:Academic license - for non-commercial use only - expires 2026-04-30\n"
     ]
    },
    {
     "name": "stdout",
     "output_type": "stream",
     "text": [
      "Read LP format model from file /private/var/folders/dk/qccdw4qx5dq5wxkdgsyy_g400000gn/T/linopy-problem-qqx3xh2x.lp\n"
     ]
    },
    {
     "name": "stderr",
     "output_type": "stream",
     "text": [
      "INFO:gurobipy:Read LP format model from file /private/var/folders/dk/qccdw4qx5dq5wxkdgsyy_g400000gn/T/linopy-problem-qqx3xh2x.lp\n"
     ]
    },
    {
     "name": "stdout",
     "output_type": "stream",
     "text": [
      "Reading time = 0.21 seconds\n"
     ]
    },
    {
     "name": "stderr",
     "output_type": "stream",
     "text": [
      "INFO:gurobipy:Reading time = 0.21 seconds\n"
     ]
    },
    {
     "name": "stdout",
     "output_type": "stream",
     "text": [
      "obj: 96366 rows, 43805 columns, 179719 nonzeros\n"
     ]
    },
    {
     "name": "stderr",
     "output_type": "stream",
     "text": [
      "INFO:gurobipy:obj: 96366 rows, 43805 columns, 179719 nonzeros\n"
     ]
    },
    {
     "name": "stdout",
     "output_type": "stream",
     "text": [
      "Set parameter LogToConsole to value 0\n"
     ]
    },
    {
     "name": "stderr",
     "output_type": "stream",
     "text": [
      "INFO:gurobipy:Set parameter LogToConsole to value 0\n",
      "INFO:gurobipy:Gurobi Optimizer version 12.0.1 build v12.0.1rc0 (mac64[x86] - Darwin 21.6.0 21G531)\n",
      "INFO:gurobipy:\n",
      "INFO:gurobipy:CPU model: Intel(R) Core(TM) i5-8210Y CPU @ 1.60GHz\n",
      "INFO:gurobipy:Thread count: 2 physical cores, 4 logical processors, using up to 4 threads\n",
      "INFO:gurobipy:\n",
      "INFO:gurobipy:Non-default parameters:\n",
      "INFO:gurobipy:LogToConsole  0\n",
      "INFO:gurobipy:\n",
      "INFO:gurobipy:Optimize a model with 96366 rows, 43805 columns and 179719 nonzeros\n",
      "INFO:gurobipy:Model fingerprint: 0xa035b9df\n",
      "INFO:gurobipy:Coefficient statistics:\n",
      "INFO:gurobipy:  Matrix range     [1e-03, 1e+00]\n",
      "INFO:gurobipy:  Objective range  [2e+01, 8e+05]\n",
      "INFO:gurobipy:  Bounds range     [0e+00, 0e+00]\n",
      "INFO:gurobipy:  RHS range        [2e+04, 2e+08]\n",
      "INFO:gurobipy:Presolve removed 48052 rows and 4246 columns\n",
      "INFO:gurobipy:Presolve time: 0.30s\n",
      "INFO:gurobipy:Presolved: 48314 rows, 39559 columns, 118662 nonzeros\n",
      "INFO:gurobipy:\n",
      "INFO:gurobipy:Concurrent LP optimizer: dual simplex and barrier\n",
      "INFO:gurobipy:Showing barrier log only...\n",
      "INFO:gurobipy:\n",
      "INFO:gurobipy:Ordering time: 0.01s\n",
      "INFO:gurobipy:\n",
      "INFO:gurobipy:Barrier statistics:\n",
      "INFO:gurobipy: Dense cols : 5\n",
      "INFO:gurobipy: AA' NZ     : 7.911e+04\n",
      "INFO:gurobipy: Factor NZ  : 3.788e+05 (roughly 40 MB of memory)\n",
      "INFO:gurobipy: Factor Ops : 3.119e+06 (less than 1 second per iteration)\n",
      "INFO:gurobipy: Threads    : 1\n",
      "INFO:gurobipy:\n",
      "INFO:gurobipy:                  Objective                Residual\n",
      "INFO:gurobipy:Iter       Primal          Dual         Primal    Dual     Compl     Time\n",
      "INFO:gurobipy:   0   2.47623250e+11  0.00000000e+00  3.20e+05 0.00e+00  1.51e+08     0s\n",
      "INFO:gurobipy:   1   3.71885297e+11 -5.26638434e+11  5.11e+04 4.18e+02  3.10e+07     0s\n",
      "INFO:gurobipy:   2   2.43213661e+11 -2.24509922e+11  5.82e-11 2.91e-09  3.94e+06     1s\n",
      "INFO:gurobipy:   3   1.16529636e+11 -2.34768578e+10  5.82e-11 1.89e-09  1.18e+06     1s\n",
      "INFO:gurobipy:   4   5.48635219e+10  5.19811555e+09  1.16e-10 1.86e-09  4.19e+05     1s\n",
      "INFO:gurobipy:   5   4.61790314e+10  1.03213941e+10  6.98e-10 1.14e-09  3.02e+05     1s\n",
      "INFO:gurobipy:   6   3.95832572e+10  1.38959234e+10  5.24e-10 1.86e-09  2.16e+05     1s\n",
      "INFO:gurobipy:   7   3.29417834e+10  1.58136496e+10  3.49e-10 8.15e-10  1.44e+05     1s\n",
      "INFO:gurobipy:   8   2.77759809e+10  1.72013855e+10  1.75e-10 5.24e-10  8.91e+04     1s\n",
      "INFO:gurobipy:   9   2.52292379e+10  1.81773841e+10  1.31e-10 4.37e-10  5.94e+04     1s\n",
      "INFO:gurobipy:  10   2.37748152e+10  1.88327141e+10  5.82e-11 3.78e-10  4.16e+04     1s\n",
      "INFO:gurobipy:  11   2.36772335e+10  1.91763218e+10  7.28e-11 6.98e-10  3.79e+04     1s\n",
      "INFO:gurobipy:  12   2.23909238e+10  1.97272042e+10  4.95e-10 1.14e-09  2.24e+04     1s\n",
      "INFO:gurobipy:  13   2.20003519e+10  1.98994917e+10  3.64e-10 4.66e-10  1.77e+04     1s\n",
      "INFO:gurobipy:  14   2.18518139e+10  2.02602171e+10  3.27e-10 2.91e-10  1.34e+04     1s\n",
      "INFO:gurobipy:  15   2.15729524e+10  2.04175874e+10  2.33e-10 7.28e-12  9.74e+03     1s\n",
      "INFO:gurobipy:  16   2.14046556e+10  2.05133652e+10  1.89e-10 1.40e-09  7.51e+03     1s\n",
      "INFO:gurobipy:  17   2.13313517e+10  2.05366924e+10  1.53e-10 8.73e-11  6.70e+03     1s\n",
      "INFO:gurobipy:  18   2.12204241e+10  2.06029263e+10  1.24e-10 1.98e-09  5.20e+03     1s\n",
      "INFO:gurobipy:  19   2.11737026e+10  2.06213039e+10  1.24e-10 5.82e-11  4.66e+03     1s\n",
      "INFO:gurobipy:  20   2.11333678e+10  2.06445119e+10  1.02e-10 9.31e-10  4.12e+03     1s\n",
      "INFO:gurobipy:  21   2.11222760e+10  2.06535452e+10  1.02e-10 1.28e-09  3.95e+03     1s\n",
      "INFO:gurobipy:  22   2.10612710e+10  2.06661328e+10  8.73e-11 2.33e-10  3.33e+03     2s\n",
      "INFO:gurobipy:  23   2.09914059e+10  2.06779722e+10  7.28e-11 1.86e-09  2.64e+03     2s\n",
      "INFO:gurobipy:  24   2.09664084e+10  2.06864462e+10  5.82e-11 5.82e-10  2.36e+03     2s\n",
      "INFO:gurobipy:  25   2.09280816e+10  2.07050189e+10  5.82e-11 1.22e-09  1.88e+03     2s\n",
      "INFO:gurobipy:  26   2.09065758e+10  2.07151217e+10  5.82e-11 3.78e-10  1.61e+03     2s\n",
      "INFO:gurobipy:  27   2.08936599e+10  2.07192169e+10  4.37e-11 2.91e-10  1.47e+03     2s\n",
      "INFO:gurobipy:  28   2.08835234e+10  2.07279908e+10  3.64e-11 1.16e-10  1.31e+03     2s\n",
      "INFO:gurobipy:  29   2.08577090e+10  2.07401657e+10  5.82e-11 2.91e-10  9.91e+02     2s\n",
      "INFO:gurobipy:  30   2.08463254e+10  2.07421182e+10  2.91e-11 6.98e-10  8.78e+02     2s\n",
      "INFO:gurobipy:  31   2.08348900e+10  2.07469265e+10  5.82e-11 2.79e-09  7.41e+02     2s\n",
      "INFO:gurobipy:  32   2.08254515e+10  2.07497996e+10  2.91e-11 3.20e-10  6.38e+02     2s\n",
      "INFO:gurobipy:  33   2.08168281e+10  2.07537271e+10  5.82e-11 4.07e-10  5.32e+02     2s\n",
      "INFO:gurobipy:  34   2.08139335e+10  2.07592060e+10  5.82e-11 5.53e-10  4.61e+02     2s\n",
      "INFO:gurobipy:\n",
      "INFO:gurobipy:Barrier performed 34 iterations in 2.34 seconds (0.88 work units)\n",
      "INFO:gurobipy:Barrier solve interrupted - model solved by another algorithm\n",
      "INFO:gurobipy:\n",
      "INFO:gurobipy:\n",
      "INFO:gurobipy:Solved with dual simplex\n",
      "INFO:gurobipy:Iteration    Objective       Primal Inf.    Dual Inf.      Time\n",
      "INFO:gurobipy:   32281    2.0772932e+10   0.000000e+00   0.000000e+00      3s\n",
      "INFO:gurobipy:\n",
      "INFO:gurobipy:Solved in 32281 iterations and 2.59 seconds (1.19 work units)\n",
      "INFO:gurobipy:Optimal objective  2.077293170e+10\n",
      "INFO:linopy.constants: Optimization successful: \n",
      "Status: ok\n",
      "Termination condition: optimal\n",
      "Solution: 43805 primals, 96366 duals\n",
      "Objective: 2.08e+10\n",
      "Solver model: available\n",
      "Solver message: 2\n",
      "\n",
      "INFO:pypsa.optimization.optimize:The shadow-prices of the constraints Generator-ext-p-lower, Generator-ext-p-upper were not assigned to the network.\n",
      "WARNING:pypsa.consistency:The following buses have carriers which are not defined:\n",
      "Index(['electricity bus'], dtype='object', name='Bus')\n",
      "INFO:linopy.model: Solve problem using Gurobi solver\n",
      "INFO:linopy.model:Solver options:\n",
      " - LogToConsole: 0\n",
      "INFO:linopy.io:Writing objective.\n",
      "Writing constraints.: 100%|\u001b[38;2;128;191;255m██████████\u001b[0m| 6/6 [00:00<00:00, 11.05it/s]\n",
      "Writing continuous variables.: 100%|\u001b[38;2;128;191;255m██████████\u001b[0m| 2/2 [00:00<00:00, 26.38it/s]\n",
      "INFO:linopy.io: Writing time: 0.71s\n"
     ]
    },
    {
     "name": "stdout",
     "output_type": "stream",
     "text": [
      "Set parameter Username\n"
     ]
    },
    {
     "name": "stderr",
     "output_type": "stream",
     "text": [
      "INFO:gurobipy:Set parameter Username\n"
     ]
    },
    {
     "name": "stdout",
     "output_type": "stream",
     "text": [
      "Set parameter LicenseID to value 2659440\n"
     ]
    },
    {
     "name": "stderr",
     "output_type": "stream",
     "text": [
      "INFO:gurobipy:Set parameter LicenseID to value 2659440\n"
     ]
    },
    {
     "name": "stdout",
     "output_type": "stream",
     "text": [
      "Academic license - for non-commercial use only - expires 2026-04-30\n"
     ]
    },
    {
     "name": "stderr",
     "output_type": "stream",
     "text": [
      "INFO:gurobipy:Academic license - for non-commercial use only - expires 2026-04-30\n"
     ]
    },
    {
     "name": "stdout",
     "output_type": "stream",
     "text": [
      "Read LP format model from file /private/var/folders/dk/qccdw4qx5dq5wxkdgsyy_g400000gn/T/linopy-problem-ua6qfzmi.lp\n"
     ]
    },
    {
     "name": "stderr",
     "output_type": "stream",
     "text": [
      "INFO:gurobipy:Read LP format model from file /private/var/folders/dk/qccdw4qx5dq5wxkdgsyy_g400000gn/T/linopy-problem-ua6qfzmi.lp\n"
     ]
    },
    {
     "name": "stdout",
     "output_type": "stream",
     "text": [
      "Reading time = 0.21 seconds\n"
     ]
    },
    {
     "name": "stderr",
     "output_type": "stream",
     "text": [
      "INFO:gurobipy:Reading time = 0.21 seconds\n"
     ]
    },
    {
     "name": "stdout",
     "output_type": "stream",
     "text": [
      "obj: 96366 rows, 43805 columns, 179719 nonzeros\n"
     ]
    },
    {
     "name": "stderr",
     "output_type": "stream",
     "text": [
      "INFO:gurobipy:obj: 96366 rows, 43805 columns, 179719 nonzeros\n"
     ]
    },
    {
     "name": "stdout",
     "output_type": "stream",
     "text": [
      "Set parameter LogToConsole to value 0\n"
     ]
    },
    {
     "name": "stderr",
     "output_type": "stream",
     "text": [
      "INFO:gurobipy:Set parameter LogToConsole to value 0\n",
      "INFO:gurobipy:Gurobi Optimizer version 12.0.1 build v12.0.1rc0 (mac64[x86] - Darwin 21.6.0 21G531)\n",
      "INFO:gurobipy:\n",
      "INFO:gurobipy:CPU model: Intel(R) Core(TM) i5-8210Y CPU @ 1.60GHz\n",
      "INFO:gurobipy:Thread count: 2 physical cores, 4 logical processors, using up to 4 threads\n",
      "INFO:gurobipy:\n",
      "INFO:gurobipy:Non-default parameters:\n",
      "INFO:gurobipy:LogToConsole  0\n",
      "INFO:gurobipy:\n",
      "INFO:gurobipy:Optimize a model with 96366 rows, 43805 columns and 179719 nonzeros\n",
      "INFO:gurobipy:Model fingerprint: 0x1b84a652\n",
      "INFO:gurobipy:Coefficient statistics:\n",
      "INFO:gurobipy:  Matrix range     [1e-03, 1e+00]\n",
      "INFO:gurobipy:  Objective range  [2e+01, 8e+05]\n",
      "INFO:gurobipy:  Bounds range     [0e+00, 0e+00]\n",
      "INFO:gurobipy:  RHS range        [2e+04, 1e+08]\n",
      "INFO:gurobipy:Presolve removed 48052 rows and 4246 columns\n",
      "INFO:gurobipy:Presolve time: 0.17s\n",
      "INFO:gurobipy:Presolved: 48314 rows, 39559 columns, 118662 nonzeros\n",
      "INFO:gurobipy:\n",
      "INFO:gurobipy:Concurrent LP optimizer: dual simplex and barrier\n",
      "INFO:gurobipy:Showing barrier log only...\n",
      "INFO:gurobipy:\n",
      "INFO:gurobipy:Ordering time: 0.02s\n",
      "INFO:gurobipy:\n",
      "INFO:gurobipy:Barrier statistics:\n",
      "INFO:gurobipy: Dense cols : 5\n",
      "INFO:gurobipy: AA' NZ     : 7.911e+04\n",
      "INFO:gurobipy: Factor NZ  : 3.788e+05 (roughly 40 MB of memory)\n",
      "INFO:gurobipy: Factor Ops : 3.119e+06 (less than 1 second per iteration)\n",
      "INFO:gurobipy: Threads    : 1\n",
      "INFO:gurobipy:\n",
      "INFO:gurobipy:                  Objective                Residual\n",
      "INFO:gurobipy:Iter       Primal          Dual         Primal    Dual     Compl     Time\n",
      "INFO:gurobipy:   0   2.47623250e+11  0.00000000e+00  3.20e+05 0.00e+00  1.51e+08     0s\n",
      "INFO:gurobipy:   1   3.71885297e+11 -5.26638434e+11  5.11e+04 4.18e+02  3.10e+07     0s\n",
      "INFO:gurobipy:   2   2.43213661e+11 -2.24509922e+11  5.82e-11 2.91e-09  3.94e+06     0s\n",
      "INFO:gurobipy:   3   1.16529636e+11 -2.34768578e+10  5.82e-11 1.89e-09  1.18e+06     0s\n",
      "INFO:gurobipy:   4   5.48635219e+10  5.19811555e+09  1.16e-10 1.86e-09  4.19e+05     1s\n",
      "INFO:gurobipy:   5   4.61790314e+10  1.03213941e+10  6.98e-10 1.14e-09  3.02e+05     1s\n",
      "INFO:gurobipy:   6   3.95832572e+10  1.38959234e+10  5.24e-10 1.86e-09  2.16e+05     1s\n",
      "INFO:gurobipy:   7   3.29417834e+10  1.58136496e+10  3.49e-10 8.15e-10  1.44e+05     1s\n",
      "INFO:gurobipy:   8   2.77759809e+10  1.72013855e+10  1.75e-10 5.24e-10  8.91e+04     1s\n",
      "INFO:gurobipy:   9   2.52292379e+10  1.81773841e+10  1.31e-10 4.37e-10  5.94e+04     1s\n",
      "INFO:gurobipy:  10   2.37748152e+10  1.88327141e+10  5.82e-11 3.78e-10  4.16e+04     1s\n",
      "INFO:gurobipy:  11   2.36772335e+10  1.91763218e+10  7.28e-11 6.98e-10  3.79e+04     1s\n",
      "INFO:gurobipy:  12   2.23909238e+10  1.97272042e+10  4.95e-10 1.14e-09  2.24e+04     1s\n",
      "INFO:gurobipy:  13   2.20003519e+10  1.98994917e+10  3.64e-10 4.66e-10  1.77e+04     1s\n",
      "INFO:gurobipy:  14   2.18518139e+10  2.02602171e+10  3.27e-10 2.91e-10  1.34e+04     1s\n",
      "INFO:gurobipy:  15   2.15729524e+10  2.04175874e+10  2.33e-10 7.28e-12  9.74e+03     1s\n",
      "INFO:gurobipy:  16   2.14046556e+10  2.05133652e+10  1.89e-10 1.40e-09  7.51e+03     1s\n",
      "INFO:gurobipy:  17   2.13313517e+10  2.05366924e+10  1.53e-10 8.73e-11  6.70e+03     1s\n",
      "INFO:gurobipy:  18   2.12204241e+10  2.06029263e+10  1.24e-10 1.98e-09  5.20e+03     1s\n",
      "INFO:gurobipy:  19   2.11737026e+10  2.06213039e+10  1.24e-10 5.82e-11  4.66e+03     1s\n",
      "INFO:gurobipy:  20   2.11333678e+10  2.06445119e+10  1.02e-10 9.31e-10  4.12e+03     1s\n",
      "INFO:gurobipy:  21   2.11222760e+10  2.06535452e+10  1.02e-10 1.28e-09  3.95e+03     1s\n",
      "INFO:gurobipy:  22   2.10612710e+10  2.06661328e+10  8.73e-11 2.33e-10  3.33e+03     1s\n",
      "INFO:gurobipy:  23   2.09914059e+10  2.06779722e+10  7.28e-11 1.86e-09  2.64e+03     1s\n",
      "INFO:gurobipy:  24   2.09664084e+10  2.06864462e+10  5.82e-11 5.82e-10  2.36e+03     1s\n",
      "INFO:gurobipy:  25   2.09280816e+10  2.07050189e+10  5.82e-11 1.22e-09  1.88e+03     1s\n",
      "INFO:gurobipy:  26   2.09065758e+10  2.07151217e+10  5.82e-11 3.78e-10  1.61e+03     1s\n",
      "INFO:gurobipy:  27   2.08936599e+10  2.07192169e+10  4.37e-11 2.91e-10  1.47e+03     1s\n",
      "INFO:gurobipy:  28   2.08835234e+10  2.07279908e+10  3.64e-11 1.16e-10  1.31e+03     2s\n",
      "INFO:gurobipy:  29   2.08577090e+10  2.07401657e+10  5.82e-11 2.91e-10  9.91e+02     2s\n",
      "INFO:gurobipy:  30   2.08463254e+10  2.07421182e+10  2.91e-11 6.98e-10  8.78e+02     2s\n",
      "INFO:gurobipy:  31   2.08348900e+10  2.07469265e+10  5.82e-11 2.79e-09  7.41e+02     2s\n",
      "INFO:gurobipy:  32   2.08254515e+10  2.07497996e+10  2.91e-11 3.20e-10  6.38e+02     2s\n",
      "INFO:gurobipy:  33   2.08168281e+10  2.07537271e+10  5.82e-11 4.07e-10  5.32e+02     2s\n",
      "INFO:gurobipy:  34   2.08139335e+10  2.07592060e+10  5.82e-11 5.53e-10  4.61e+02     2s\n",
      "INFO:gurobipy:\n",
      "INFO:gurobipy:Barrier performed 34 iterations in 1.81 seconds (0.88 work units)\n",
      "INFO:gurobipy:Barrier solve interrupted - model solved by another algorithm\n",
      "INFO:gurobipy:\n",
      "INFO:gurobipy:\n",
      "INFO:gurobipy:Solved with dual simplex\n",
      "INFO:gurobipy:Iteration    Objective       Primal Inf.    Dual Inf.      Time\n",
      "INFO:gurobipy:   32281    2.0772932e+10   0.000000e+00   0.000000e+00      2s\n",
      "INFO:gurobipy:\n",
      "INFO:gurobipy:Solved in 32281 iterations and 1.88 seconds (1.19 work units)\n",
      "INFO:gurobipy:Optimal objective  2.077293170e+10\n",
      "INFO:linopy.constants: Optimization successful: \n",
      "Status: ok\n",
      "Termination condition: optimal\n",
      "Solution: 43805 primals, 96366 duals\n",
      "Objective: 2.08e+10\n",
      "Solver model: available\n",
      "Solver message: 2\n",
      "\n",
      "INFO:pypsa.optimization.optimize:The shadow-prices of the constraints Generator-ext-p-lower, Generator-ext-p-upper were not assigned to the network.\n",
      "WARNING:pypsa.consistency:The following buses have carriers which are not defined:\n",
      "Index(['electricity bus'], dtype='object', name='Bus')\n",
      "INFO:linopy.model: Solve problem using Gurobi solver\n",
      "INFO:linopy.model:Solver options:\n",
      " - LogToConsole: 0\n",
      "INFO:linopy.io:Writing objective.\n",
      "Writing constraints.: 100%|\u001b[38;2;128;191;255m██████████\u001b[0m| 6/6 [00:00<00:00, 10.26it/s]\n",
      "Writing continuous variables.: 100%|\u001b[38;2;128;191;255m██████████\u001b[0m| 2/2 [00:00<00:00, 22.45it/s]\n",
      "INFO:linopy.io: Writing time: 0.72s\n"
     ]
    },
    {
     "name": "stdout",
     "output_type": "stream",
     "text": [
      "Set parameter Username\n"
     ]
    },
    {
     "name": "stderr",
     "output_type": "stream",
     "text": [
      "INFO:gurobipy:Set parameter Username\n"
     ]
    },
    {
     "name": "stdout",
     "output_type": "stream",
     "text": [
      "Set parameter LicenseID to value 2659440\n"
     ]
    },
    {
     "name": "stderr",
     "output_type": "stream",
     "text": [
      "INFO:gurobipy:Set parameter LicenseID to value 2659440\n"
     ]
    },
    {
     "name": "stdout",
     "output_type": "stream",
     "text": [
      "Academic license - for non-commercial use only - expires 2026-04-30\n"
     ]
    },
    {
     "name": "stderr",
     "output_type": "stream",
     "text": [
      "INFO:gurobipy:Academic license - for non-commercial use only - expires 2026-04-30\n"
     ]
    },
    {
     "name": "stdout",
     "output_type": "stream",
     "text": [
      "Read LP format model from file /private/var/folders/dk/qccdw4qx5dq5wxkdgsyy_g400000gn/T/linopy-problem-xqxa0byg.lp\n"
     ]
    },
    {
     "name": "stderr",
     "output_type": "stream",
     "text": [
      "INFO:gurobipy:Read LP format model from file /private/var/folders/dk/qccdw4qx5dq5wxkdgsyy_g400000gn/T/linopy-problem-xqxa0byg.lp\n"
     ]
    },
    {
     "name": "stdout",
     "output_type": "stream",
     "text": [
      "Reading time = 0.25 seconds\n"
     ]
    },
    {
     "name": "stderr",
     "output_type": "stream",
     "text": [
      "INFO:gurobipy:Reading time = 0.25 seconds\n"
     ]
    },
    {
     "name": "stdout",
     "output_type": "stream",
     "text": [
      "obj: 96366 rows, 43805 columns, 179719 nonzeros\n"
     ]
    },
    {
     "name": "stderr",
     "output_type": "stream",
     "text": [
      "INFO:gurobipy:obj: 96366 rows, 43805 columns, 179719 nonzeros\n"
     ]
    },
    {
     "name": "stdout",
     "output_type": "stream",
     "text": [
      "Set parameter LogToConsole to value 0\n"
     ]
    },
    {
     "name": "stderr",
     "output_type": "stream",
     "text": [
      "INFO:gurobipy:Set parameter LogToConsole to value 0\n",
      "INFO:gurobipy:Gurobi Optimizer version 12.0.1 build v12.0.1rc0 (mac64[x86] - Darwin 21.6.0 21G531)\n",
      "INFO:gurobipy:\n",
      "INFO:gurobipy:CPU model: Intel(R) Core(TM) i5-8210Y CPU @ 1.60GHz\n",
      "INFO:gurobipy:Thread count: 2 physical cores, 4 logical processors, using up to 4 threads\n",
      "INFO:gurobipy:\n",
      "INFO:gurobipy:Non-default parameters:\n",
      "INFO:gurobipy:LogToConsole  0\n",
      "INFO:gurobipy:\n",
      "INFO:gurobipy:Optimize a model with 96366 rows, 43805 columns and 179719 nonzeros\n",
      "INFO:gurobipy:Model fingerprint: 0x158ebff0\n",
      "INFO:gurobipy:Coefficient statistics:\n",
      "INFO:gurobipy:  Matrix range     [1e-03, 1e+00]\n",
      "INFO:gurobipy:  Objective range  [2e+01, 8e+05]\n",
      "INFO:gurobipy:  Bounds range     [0e+00, 0e+00]\n",
      "INFO:gurobipy:  RHS range        [2e+04, 7e+07]\n",
      "INFO:gurobipy:Presolve removed 48052 rows and 4246 columns\n",
      "INFO:gurobipy:Presolve time: 0.32s\n",
      "INFO:gurobipy:Presolved: 48314 rows, 39559 columns, 118662 nonzeros\n",
      "INFO:gurobipy:\n",
      "INFO:gurobipy:Concurrent LP optimizer: dual simplex and barrier\n",
      "INFO:gurobipy:Showing barrier log only...\n",
      "INFO:gurobipy:\n",
      "INFO:gurobipy:Ordering time: 0.01s\n",
      "INFO:gurobipy:\n",
      "INFO:gurobipy:Barrier statistics:\n",
      "INFO:gurobipy: Dense cols : 5\n",
      "INFO:gurobipy: AA' NZ     : 7.911e+04\n",
      "INFO:gurobipy: Factor NZ  : 3.788e+05 (roughly 40 MB of memory)\n",
      "INFO:gurobipy: Factor Ops : 3.119e+06 (less than 1 second per iteration)\n",
      "INFO:gurobipy: Threads    : 1\n",
      "INFO:gurobipy:\n",
      "INFO:gurobipy:                  Objective                Residual\n",
      "INFO:gurobipy:Iter       Primal          Dual         Primal    Dual     Compl     Time\n",
      "INFO:gurobipy:   0   2.47623250e+11  0.00000000e+00  3.20e+05 0.00e+00  1.51e+08     0s\n",
      "INFO:gurobipy:   1   3.71885297e+11 -5.26638434e+11  5.11e+04 4.18e+02  3.10e+07     0s\n",
      "INFO:gurobipy:   2   2.43213661e+11 -2.24509922e+11  5.82e-11 2.91e-09  3.94e+06     1s\n",
      "INFO:gurobipy:   3   1.16529636e+11 -2.34768578e+10  5.82e-11 1.89e-09  1.18e+06     1s\n",
      "INFO:gurobipy:   4   5.48635219e+10  5.19811555e+09  1.16e-10 1.86e-09  4.19e+05     1s\n",
      "INFO:gurobipy:   5   4.61790314e+10  1.03213941e+10  6.98e-10 1.14e-09  3.02e+05     1s\n",
      "INFO:gurobipy:   6   3.95832572e+10  1.38959234e+10  5.24e-10 1.86e-09  2.16e+05     1s\n",
      "INFO:gurobipy:   7   3.29417834e+10  1.58136496e+10  3.49e-10 8.15e-10  1.44e+05     1s\n",
      "INFO:gurobipy:   8   2.77759809e+10  1.72013855e+10  1.75e-10 5.24e-10  8.91e+04     1s\n",
      "INFO:gurobipy:   9   2.52292379e+10  1.81773841e+10  1.31e-10 4.37e-10  5.94e+04     1s\n",
      "INFO:gurobipy:  10   2.37748152e+10  1.88327141e+10  5.82e-11 3.78e-10  4.16e+04     1s\n",
      "INFO:gurobipy:  11   2.36772335e+10  1.91763218e+10  7.28e-11 6.98e-10  3.79e+04     1s\n",
      "INFO:gurobipy:  12   2.23909238e+10  1.97272042e+10  4.95e-10 1.14e-09  2.24e+04     1s\n",
      "INFO:gurobipy:  13   2.20003519e+10  1.98994917e+10  3.64e-10 4.66e-10  1.77e+04     1s\n",
      "INFO:gurobipy:  14   2.18518139e+10  2.02602171e+10  3.27e-10 2.91e-10  1.34e+04     1s\n",
      "INFO:gurobipy:  15   2.15729524e+10  2.04175874e+10  2.33e-10 7.28e-12  9.74e+03     1s\n",
      "INFO:gurobipy:  16   2.14046556e+10  2.05133652e+10  1.89e-10 1.40e-09  7.51e+03     1s\n",
      "INFO:gurobipy:  17   2.13313517e+10  2.05366924e+10  1.53e-10 8.73e-11  6.70e+03     1s\n",
      "INFO:gurobipy:  18   2.12204241e+10  2.06029263e+10  1.24e-10 1.98e-09  5.20e+03     1s\n",
      "INFO:gurobipy:  19   2.11737026e+10  2.06213039e+10  1.24e-10 5.82e-11  4.66e+03     1s\n",
      "INFO:gurobipy:  20   2.11333678e+10  2.06445119e+10  1.02e-10 9.31e-10  4.12e+03     2s\n",
      "INFO:gurobipy:  21   2.11222760e+10  2.06535452e+10  1.02e-10 1.28e-09  3.95e+03     2s\n",
      "INFO:gurobipy:  22   2.10612710e+10  2.06661328e+10  8.73e-11 2.33e-10  3.33e+03     2s\n",
      "INFO:gurobipy:  23   2.09914059e+10  2.06779722e+10  7.28e-11 1.86e-09  2.64e+03     2s\n",
      "INFO:gurobipy:  24   2.09664084e+10  2.06864462e+10  5.82e-11 5.82e-10  2.36e+03     2s\n",
      "INFO:gurobipy:  25   2.09280816e+10  2.07050189e+10  5.82e-11 1.22e-09  1.88e+03     2s\n",
      "INFO:gurobipy:  26   2.09065758e+10  2.07151217e+10  5.82e-11 3.78e-10  1.61e+03     2s\n",
      "INFO:gurobipy:  27   2.08936599e+10  2.07192169e+10  4.37e-11 2.91e-10  1.47e+03     2s\n",
      "INFO:gurobipy:  28   2.08835234e+10  2.07279908e+10  3.64e-11 1.16e-10  1.31e+03     2s\n",
      "INFO:gurobipy:  29   2.08577090e+10  2.07401657e+10  5.82e-11 2.91e-10  9.91e+02     2s\n",
      "INFO:gurobipy:  30   2.08463254e+10  2.07421182e+10  2.91e-11 6.98e-10  8.78e+02     2s\n",
      "INFO:gurobipy:  31   2.08348900e+10  2.07469265e+10  5.82e-11 2.79e-09  7.41e+02     2s\n",
      "INFO:gurobipy:  32   2.08254515e+10  2.07497996e+10  2.91e-11 3.20e-10  6.38e+02     2s\n",
      "INFO:gurobipy:  33   2.08168281e+10  2.07537271e+10  5.82e-11 4.07e-10  5.32e+02     2s\n",
      "INFO:gurobipy:  34   2.08139335e+10  2.07592060e+10  5.82e-11 5.53e-10  4.61e+02     2s\n",
      "INFO:gurobipy:\n",
      "INFO:gurobipy:Barrier performed 34 iterations in 2.38 seconds (0.88 work units)\n",
      "INFO:gurobipy:Barrier solve interrupted - model solved by another algorithm\n",
      "INFO:gurobipy:\n",
      "INFO:gurobipy:\n",
      "INFO:gurobipy:Solved with dual simplex\n",
      "INFO:gurobipy:Iteration    Objective       Primal Inf.    Dual Inf.      Time\n",
      "INFO:gurobipy:   32281    2.0772932e+10   0.000000e+00   0.000000e+00      2s\n",
      "INFO:gurobipy:\n",
      "INFO:gurobipy:Solved in 32281 iterations and 2.48 seconds (1.19 work units)\n",
      "INFO:gurobipy:Optimal objective  2.077293170e+10\n",
      "INFO:linopy.constants: Optimization successful: \n",
      "Status: ok\n",
      "Termination condition: optimal\n",
      "Solution: 43805 primals, 96366 duals\n",
      "Objective: 2.08e+10\n",
      "Solver model: available\n",
      "Solver message: 2\n",
      "\n",
      "INFO:pypsa.optimization.optimize:The shadow-prices of the constraints Generator-ext-p-lower, Generator-ext-p-upper were not assigned to the network.\n",
      "WARNING:pypsa.consistency:The following buses have carriers which are not defined:\n",
      "Index(['electricity bus'], dtype='object', name='Bus')\n",
      "INFO:linopy.model: Solve problem using Gurobi solver\n",
      "INFO:linopy.model:Solver options:\n",
      " - LogToConsole: 0\n",
      "INFO:linopy.io:Writing objective.\n",
      "Writing constraints.: 100%|\u001b[38;2;128;191;255m██████████\u001b[0m| 6/6 [00:00<00:00, 11.40it/s]\n",
      "Writing continuous variables.: 100%|\u001b[38;2;128;191;255m██████████\u001b[0m| 2/2 [00:00<00:00, 23.66it/s]\n",
      "INFO:linopy.io: Writing time: 0.66s\n"
     ]
    },
    {
     "name": "stdout",
     "output_type": "stream",
     "text": [
      "Set parameter Username\n"
     ]
    },
    {
     "name": "stderr",
     "output_type": "stream",
     "text": [
      "INFO:gurobipy:Set parameter Username\n"
     ]
    },
    {
     "name": "stdout",
     "output_type": "stream",
     "text": [
      "Set parameter LicenseID to value 2659440\n"
     ]
    },
    {
     "name": "stderr",
     "output_type": "stream",
     "text": [
      "INFO:gurobipy:Set parameter LicenseID to value 2659440\n"
     ]
    },
    {
     "name": "stdout",
     "output_type": "stream",
     "text": [
      "Academic license - for non-commercial use only - expires 2026-04-30\n"
     ]
    },
    {
     "name": "stderr",
     "output_type": "stream",
     "text": [
      "INFO:gurobipy:Academic license - for non-commercial use only - expires 2026-04-30\n"
     ]
    },
    {
     "name": "stdout",
     "output_type": "stream",
     "text": [
      "Read LP format model from file /private/var/folders/dk/qccdw4qx5dq5wxkdgsyy_g400000gn/T/linopy-problem-0bpasa2g.lp\n"
     ]
    },
    {
     "name": "stderr",
     "output_type": "stream",
     "text": [
      "INFO:gurobipy:Read LP format model from file /private/var/folders/dk/qccdw4qx5dq5wxkdgsyy_g400000gn/T/linopy-problem-0bpasa2g.lp\n"
     ]
    },
    {
     "name": "stdout",
     "output_type": "stream",
     "text": [
      "Reading time = 0.22 seconds\n"
     ]
    },
    {
     "name": "stderr",
     "output_type": "stream",
     "text": [
      "INFO:gurobipy:Reading time = 0.22 seconds\n"
     ]
    },
    {
     "name": "stdout",
     "output_type": "stream",
     "text": [
      "obj: 96366 rows, 43805 columns, 179719 nonzeros\n"
     ]
    },
    {
     "name": "stderr",
     "output_type": "stream",
     "text": [
      "INFO:gurobipy:obj: 96366 rows, 43805 columns, 179719 nonzeros\n"
     ]
    },
    {
     "name": "stdout",
     "output_type": "stream",
     "text": [
      "Set parameter LogToConsole to value 0\n"
     ]
    },
    {
     "name": "stderr",
     "output_type": "stream",
     "text": [
      "INFO:gurobipy:Set parameter LogToConsole to value 0\n",
      "INFO:gurobipy:Gurobi Optimizer version 12.0.1 build v12.0.1rc0 (mac64[x86] - Darwin 21.6.0 21G531)\n",
      "INFO:gurobipy:\n",
      "INFO:gurobipy:CPU model: Intel(R) Core(TM) i5-8210Y CPU @ 1.60GHz\n",
      "INFO:gurobipy:Thread count: 2 physical cores, 4 logical processors, using up to 4 threads\n",
      "INFO:gurobipy:\n",
      "INFO:gurobipy:Non-default parameters:\n",
      "INFO:gurobipy:LogToConsole  0\n",
      "INFO:gurobipy:\n",
      "INFO:gurobipy:Optimize a model with 96366 rows, 43805 columns and 179719 nonzeros\n",
      "INFO:gurobipy:Model fingerprint: 0x82446a8c\n",
      "INFO:gurobipy:Coefficient statistics:\n",
      "INFO:gurobipy:  Matrix range     [1e-03, 1e+00]\n",
      "INFO:gurobipy:  Objective range  [2e+01, 8e+05]\n",
      "INFO:gurobipy:  Bounds range     [0e+00, 0e+00]\n",
      "INFO:gurobipy:  RHS range        [2e+04, 4e+07]\n",
      "INFO:gurobipy:Presolve removed 48051 rows and 4246 columns\n",
      "INFO:gurobipy:Presolve time: 0.15s\n",
      "INFO:gurobipy:Presolved: 48315 rows, 39559 columns, 127422 nonzeros\n",
      "INFO:gurobipy:\n",
      "INFO:gurobipy:Concurrent LP optimizer: dual simplex and barrier\n",
      "INFO:gurobipy:Showing barrier log only...\n",
      "INFO:gurobipy:\n",
      "INFO:gurobipy:Ordering time: 0.01s\n",
      "INFO:gurobipy:\n",
      "INFO:gurobipy:Barrier statistics:\n",
      "INFO:gurobipy: Dense cols : 5\n",
      "INFO:gurobipy: AA' NZ     : 9.663e+04\n",
      "INFO:gurobipy: Factor NZ  : 4.272e+05 (roughly 40 MB of memory)\n",
      "INFO:gurobipy: Factor Ops : 3.925e+06 (less than 1 second per iteration)\n",
      "INFO:gurobipy: Threads    : 1\n",
      "INFO:gurobipy:\n",
      "INFO:gurobipy:                  Objective                Residual\n",
      "INFO:gurobipy:Iter       Primal          Dual         Primal    Dual     Compl     Time\n",
      "INFO:gurobipy:   0   6.15100671e+12  0.00000000e+00  1.18e+10 0.00e+00  3.87e+09     0s\n",
      "INFO:gurobipy:   1   9.22747050e+12 -7.77146040e+11  2.22e+09 2.89e+02  7.57e+08     0s\n",
      "INFO:gurobipy:   2   5.33276309e+12 -8.73731526e+11  5.04e+07 5.59e-09  6.05e+07     0s\n",
      "INFO:gurobipy:   3   6.10991848e+11 -3.59149853e+11  3.83e+03 9.09e-13  8.59e+06     0s\n",
      "INFO:gurobipy:   4   2.17457233e+11 -1.43672573e+11  1.13e+03 4.42e-09  3.10e+06     0s\n",
      "INFO:gurobipy:   5   8.10103309e+10 -1.50677789e+10  2.88e+02 1.28e-09  8.16e+05     0s\n",
      "INFO:gurobipy:   6   5.58249203e+10  2.96706658e+09  1.73e+02 2.15e-09  4.48e+05     1s\n",
      "INFO:gurobipy:   7   5.36457696e+10  6.49058666e+09  1.63e+02 9.02e-10  4.00e+05     1s\n",
      "INFO:gurobipy:   8   4.92434148e+10  9.75482130e+09  1.41e+02 1.80e-09  3.35e+05     1s\n",
      "INFO:gurobipy:   9   3.71588940e+10  1.32913713e+10  8.20e+01 1.05e-09  2.02e+05     1s\n",
      "INFO:gurobipy:  10   3.03558400e+10  1.54765884e+10  4.86e+01 6.98e-10  1.26e+05     1s\n",
      "INFO:gurobipy:  11   2.62797471e+10  1.79384864e+10  2.70e+01 1.63e-09  7.06e+04     1s\n",
      "INFO:gurobipy:  12   2.42932194e+10  1.86930099e+10  1.65e+01 2.21e-09  4.73e+04     1s\n",
      "INFO:gurobipy:  13   2.32443741e+10  1.95752661e+10  1.11e+01 1.63e-09  3.10e+04     1s\n",
      "INFO:gurobipy:  14   2.22026661e+10  1.99042773e+10  6.06e+00 1.46e-09  1.94e+04     1s\n",
      "INFO:gurobipy:  15   2.18712555e+10  2.00366651e+10  4.53e+00 2.85e-09  1.55e+04     1s\n",
      "INFO:gurobipy:  16   2.17604213e+10  2.01966257e+10  4.02e+00 1.86e-09  1.32e+04     1s\n",
      "INFO:gurobipy:  17   2.15178825e+10  2.03756962e+10  2.96e+00 6.69e-10  9.65e+03     1s\n",
      "INFO:gurobipy:  18   2.13471061e+10  2.04328857e+10  2.26e+00 1.86e-09  7.72e+03     1s\n",
      "INFO:gurobipy:  19   2.12603950e+10  2.04809712e+10  1.90e+00 2.04e-10  6.58e+03     1s\n",
      "INFO:gurobipy:  20   2.11880354e+10  2.05196505e+10  1.61e+00 1.80e-09  5.64e+03     1s\n",
      "INFO:gurobipy:  21   2.11303033e+10  2.05454841e+10  1.37e+00 2.91e-09  4.94e+03     1s\n",
      "INFO:gurobipy:  22   2.11047191e+10  2.05725948e+10  1.27e+00 1.28e-09  4.49e+03     1s\n",
      "INFO:gurobipy:  23   2.10758614e+10  2.05957223e+10  1.15e+00 1.05e-09  4.05e+03     1s\n",
      "INFO:gurobipy:  24   2.10521621e+10  2.06143556e+10  1.06e+00 4.07e-10  3.70e+03     1s\n",
      "INFO:gurobipy:  25   2.10194183e+10  2.06250346e+10  9.25e-01 1.40e-09  3.33e+03     1s\n",
      "INFO:gurobipy:  26   2.09734131e+10  2.06638526e+10  7.45e-01 1.63e-09  2.61e+03     1s\n",
      "INFO:gurobipy:  27   2.09337669e+10  2.06814426e+10  5.95e-01 1.75e-10  2.13e+03     1s\n",
      "INFO:gurobipy:  28   2.09124166e+10  2.06910826e+10  5.15e-01 1.02e-10  1.87e+03     1s\n",
      "INFO:gurobipy:  29   2.08889629e+10  2.07126787e+10  4.26e-01 2.74e-09  1.49e+03     1s\n",
      "INFO:gurobipy:  30   2.08731158e+10  2.07200644e+10  3.70e-01 3.03e-09  1.29e+03     2s\n",
      "INFO:gurobipy:  31   2.08577267e+10  2.07240247e+10  3.15e-01 8.73e-10  1.13e+03     2s\n",
      "INFO:gurobipy:  32   2.08495783e+10  2.07282039e+10  2.85e-01 3.03e-09  1.02e+03     2s\n",
      "INFO:gurobipy:  33   2.08379714e+10  2.07305784e+10  2.42e-01 2.56e-09  9.07e+02     2s\n",
      "INFO:gurobipy:  34   2.08328894e+10  2.07331435e+10  2.22e-01 1.75e-10  8.42e+02     2s\n",
      "INFO:gurobipy:  35   2.08240073e+10  2.07374999e+10  1.90e-01 1.63e-09  7.30e+02     2s\n",
      "INFO:gurobipy:  36   2.08217738e+10  2.07459247e+10  1.81e-01 6.11e-10  6.41e+02     2s\n",
      "INFO:gurobipy:  37   2.08115605e+10  2.07480902e+10  1.43e-01 4.07e-10  5.36e+02     2s\n",
      "INFO:gurobipy:  38   2.08058114e+10  2.07519645e+10  1.22e-01 6.98e-10  4.55e+02     2s\n",
      "INFO:gurobipy:  39   2.08033656e+10  2.07540840e+10  1.13e-01 4.07e-10  4.16e+02     2s\n",
      "INFO:gurobipy:  40   2.07987042e+10  2.07575668e+10  9.56e-02 4.07e-10  3.47e+02     2s\n",
      "INFO:gurobipy:  41   2.07961768e+10  2.07598419e+10  8.63e-02 1.34e-09  3.07e+02     2s\n",
      "INFO:gurobipy:  42   2.07927207e+10  2.07614792e+10  7.31e-02 8.73e-10  2.64e+02     2s\n",
      "INFO:gurobipy:  43   2.07920517e+10  2.07627455e+10  7.08e-02 1.16e-09  2.47e+02     2s\n",
      "INFO:gurobipy:  44   2.07899161e+10  2.07654719e+10  6.30e-02 9.90e-10  2.06e+02     2s\n",
      "INFO:gurobipy:  45   2.07858568e+10  2.07665856e+10  4.76e-02 1.28e-09  1.63e+02     2s\n",
      "INFO:gurobipy:  46   2.07845857e+10  2.07674604e+10  4.28e-02 1.57e-09  1.45e+02     2s\n",
      "INFO:gurobipy:  47   2.07828811e+10  2.07677840e+10  3.66e-02 1.11e-09  1.27e+02     2s\n",
      "INFO:gurobipy:  48   2.07816654e+10  2.07684481e+10  3.21e-02 1.51e-09  1.12e+02     3s\n",
      "INFO:gurobipy:  49   2.07784700e+10  2.07717450e+10  2.02e-02 1.46e-10  5.68e+01     3s\n",
      "INFO:gurobipy:  50   2.07782459e+10  2.07719373e+10  1.93e-02 1.28e-09  5.33e+01     3s\n",
      "INFO:gurobipy:  51   2.07780072e+10  2.07719722e+10  1.84e-02 1.63e-09  5.10e+01     3s\n",
      "INFO:gurobipy:  52   2.07770233e+10  2.07720852e+10  1.48e-02 1.28e-09  4.17e+01     3s\n",
      "INFO:gurobipy:  53   2.07756557e+10  2.07725877e+10  9.76e-03 2.97e-09  2.59e+01     3s\n",
      "INFO:gurobipy:  54   2.07750940e+10  2.07726292e+10  7.83e-03 8.15e-10  2.08e+01     3s\n",
      "INFO:gurobipy:  55   2.07747495e+10  2.07728922e+10  6.58e-03 1.86e-09  1.57e+01     3s\n",
      "INFO:gurobipy:  56   2.07740395e+10  2.07729080e+10  4.14e-03 2.62e-09  9.57e+00     3s\n",
      "INFO:gurobipy:  57   2.07731305e+10  2.07729306e+10  7.42e-04 8.73e-10  1.69e+00     3s\n",
      "INFO:gurobipy:  58   2.07729328e+10  2.07729316e+10  3.51e-06 1.11e-09  9.95e-03     3s\n",
      "INFO:gurobipy:  59   2.07729317e+10  2.07729317e+10  6.00e-07 2.62e-10  1.50e-08     3s\n",
      "INFO:gurobipy:  60   2.07729317e+10  2.07729317e+10  2.91e-11 2.27e-09  1.50e-11     3s\n",
      "INFO:gurobipy:\n",
      "INFO:gurobipy:Barrier solved model in 60 iterations and 3.16 seconds (1.18 work units)\n",
      "INFO:gurobipy:Optimal objective 2.07729317e+10\n",
      "INFO:gurobipy:\n",
      "INFO:gurobipy:Crossover log...\n",
      "INFO:gurobipy:\n",
      "INFO:gurobipy:   22036 DPushes remaining with DInf 0.0000000e+00                 3s\n",
      "INFO:gurobipy:       0 DPushes remaining with DInf 0.0000000e+00                 3s\n",
      "INFO:gurobipy:Warning: Markowitz tolerance tightened to 0.5\n",
      "INFO:gurobipy:\n",
      "INFO:gurobipy:       0 PPushes remaining with PInf 0.0000000e+00                 3s\n",
      "INFO:gurobipy:\n",
      "INFO:gurobipy:  Push phase complete: Pinf 0.0000000e+00, Dinf 1.2517489e-09      3s\n",
      "INFO:gurobipy:\n",
      "INFO:gurobipy:\n",
      "INFO:gurobipy:Solved with barrier\n",
      "INFO:gurobipy:Iteration    Objective       Primal Inf.    Dual Inf.      Time\n",
      "INFO:gurobipy:   20916    2.0772932e+10   0.000000e+00   0.000000e+00      3s\n",
      "INFO:gurobipy:\n",
      "INFO:gurobipy:Solved in 20916 iterations and 3.39 seconds (1.24 work units)\n",
      "INFO:gurobipy:Optimal objective  2.077293170e+10\n",
      "INFO:linopy.constants: Optimization successful: \n",
      "Status: ok\n",
      "Termination condition: optimal\n",
      "Solution: 43805 primals, 96366 duals\n",
      "Objective: 2.08e+10\n",
      "Solver model: available\n",
      "Solver message: 2\n",
      "\n",
      "INFO:pypsa.optimization.optimize:The shadow-prices of the constraints Generator-ext-p-lower, Generator-ext-p-upper were not assigned to the network.\n",
      "WARNING:pypsa.consistency:The following buses have carriers which are not defined:\n",
      "Index(['electricity bus'], dtype='object', name='Bus')\n",
      "INFO:linopy.model: Solve problem using Gurobi solver\n",
      "INFO:linopy.model:Solver options:\n",
      " - LogToConsole: 0\n",
      "INFO:linopy.io:Writing objective.\n",
      "Writing constraints.: 100%|\u001b[38;2;128;191;255m██████████\u001b[0m| 6/6 [00:00<00:00,  8.83it/s]\n",
      "Writing continuous variables.: 100%|\u001b[38;2;128;191;255m██████████\u001b[0m| 2/2 [00:00<00:00, 21.85it/s]\n",
      "INFO:linopy.io: Writing time: 0.84s\n"
     ]
    },
    {
     "name": "stdout",
     "output_type": "stream",
     "text": [
      "Set parameter Username\n"
     ]
    },
    {
     "name": "stderr",
     "output_type": "stream",
     "text": [
      "INFO:gurobipy:Set parameter Username\n"
     ]
    },
    {
     "name": "stdout",
     "output_type": "stream",
     "text": [
      "Set parameter LicenseID to value 2659440\n"
     ]
    },
    {
     "name": "stderr",
     "output_type": "stream",
     "text": [
      "INFO:gurobipy:Set parameter LicenseID to value 2659440\n"
     ]
    },
    {
     "name": "stdout",
     "output_type": "stream",
     "text": [
      "Academic license - for non-commercial use only - expires 2026-04-30\n"
     ]
    },
    {
     "name": "stderr",
     "output_type": "stream",
     "text": [
      "INFO:gurobipy:Academic license - for non-commercial use only - expires 2026-04-30\n"
     ]
    },
    {
     "name": "stdout",
     "output_type": "stream",
     "text": [
      "Read LP format model from file /private/var/folders/dk/qccdw4qx5dq5wxkdgsyy_g400000gn/T/linopy-problem-i8vceqk5.lp\n"
     ]
    },
    {
     "name": "stderr",
     "output_type": "stream",
     "text": [
      "INFO:gurobipy:Read LP format model from file /private/var/folders/dk/qccdw4qx5dq5wxkdgsyy_g400000gn/T/linopy-problem-i8vceqk5.lp\n"
     ]
    },
    {
     "name": "stdout",
     "output_type": "stream",
     "text": [
      "Reading time = 0.24 seconds\n"
     ]
    },
    {
     "name": "stderr",
     "output_type": "stream",
     "text": [
      "INFO:gurobipy:Reading time = 0.24 seconds\n"
     ]
    },
    {
     "name": "stdout",
     "output_type": "stream",
     "text": [
      "obj: 96366 rows, 43805 columns, 179719 nonzeros\n"
     ]
    },
    {
     "name": "stderr",
     "output_type": "stream",
     "text": [
      "INFO:gurobipy:obj: 96366 rows, 43805 columns, 179719 nonzeros\n"
     ]
    },
    {
     "name": "stdout",
     "output_type": "stream",
     "text": [
      "Set parameter LogToConsole to value 0\n"
     ]
    },
    {
     "name": "stderr",
     "output_type": "stream",
     "text": [
      "INFO:gurobipy:Set parameter LogToConsole to value 0\n",
      "INFO:gurobipy:Gurobi Optimizer version 12.0.1 build v12.0.1rc0 (mac64[x86] - Darwin 21.6.0 21G531)\n",
      "INFO:gurobipy:\n",
      "INFO:gurobipy:CPU model: Intel(R) Core(TM) i5-8210Y CPU @ 1.60GHz\n",
      "INFO:gurobipy:Thread count: 2 physical cores, 4 logical processors, using up to 4 threads\n",
      "INFO:gurobipy:\n",
      "INFO:gurobipy:Non-default parameters:\n",
      "INFO:gurobipy:LogToConsole  0\n",
      "INFO:gurobipy:\n",
      "INFO:gurobipy:Optimize a model with 96366 rows, 43805 columns and 179719 nonzeros\n",
      "INFO:gurobipy:Model fingerprint: 0x2affc9db\n",
      "INFO:gurobipy:Coefficient statistics:\n",
      "INFO:gurobipy:  Matrix range     [1e-03, 1e+00]\n",
      "INFO:gurobipy:  Objective range  [2e+01, 8e+05]\n",
      "INFO:gurobipy:  Bounds range     [0e+00, 0e+00]\n",
      "INFO:gurobipy:  RHS range        [2e+04, 3e+07]\n",
      "INFO:gurobipy:Presolve removed 48051 rows and 4246 columns\n",
      "INFO:gurobipy:Presolve time: 0.20s\n",
      "INFO:gurobipy:Presolved: 48315 rows, 39559 columns, 127422 nonzeros\n",
      "INFO:gurobipy:\n",
      "INFO:gurobipy:Concurrent LP optimizer: dual simplex and barrier\n",
      "INFO:gurobipy:Showing barrier log only...\n",
      "INFO:gurobipy:\n",
      "INFO:gurobipy:Ordering time: 0.01s\n",
      "INFO:gurobipy:\n",
      "INFO:gurobipy:Barrier statistics:\n",
      "INFO:gurobipy: Dense cols : 5\n",
      "INFO:gurobipy: AA' NZ     : 9.663e+04\n",
      "INFO:gurobipy: Factor NZ  : 4.272e+05 (roughly 40 MB of memory)\n",
      "INFO:gurobipy: Factor Ops : 3.925e+06 (less than 1 second per iteration)\n",
      "INFO:gurobipy: Threads    : 1\n",
      "INFO:gurobipy:\n",
      "INFO:gurobipy:                  Objective                Residual\n",
      "INFO:gurobipy:Iter       Primal          Dual         Primal    Dual     Compl     Time\n",
      "INFO:gurobipy:   0   5.69964092e+12  0.00000000e+00  1.09e+10 0.00e+00  3.59e+09     0s\n",
      "INFO:gurobipy:   1   8.55356606e+12 -7.69259082e+11  2.06e+09 2.90e+02  7.02e+08     0s\n",
      "INFO:gurobipy:   2   4.94695809e+12 -8.73248920e+11  4.43e+07 3.38e-09  5.62e+07     0s\n",
      "INFO:gurobipy:   3   5.13997694e+11 -2.41381453e+11  2.95e+03 2.21e-09  6.59e+06     1s\n",
      "INFO:gurobipy:   4   2.42164129e+11 -1.76577340e+11  1.27e+03 6.98e-10  3.61e+06     1s\n",
      "INFO:gurobipy:   5   9.91112530e+10 -6.35771074e+10  4.14e+02 1.63e-09  1.38e+06     1s\n",
      "INFO:gurobipy:   6   5.70557810e+10 -5.11917413e+09  1.84e+02 1.60e-09  5.27e+05     1s\n",
      "INFO:gurobipy:   7   4.91680277e+10  6.72623050e+09  1.50e+02 1.95e-09  3.60e+05     1s\n",
      "INFO:gurobipy:   8   4.38855105e+10  1.24489202e+10  1.23e+02 1.40e-09  2.66e+05     1s\n",
      "INFO:gurobipy:   9   3.15934988e+10  1.55428108e+10  5.99e+01 1.16e-10  1.36e+05     1s\n",
      "INFO:gurobipy:  10   2.71488298e+10  1.75691701e+10  3.47e+01 7.57e-10  8.11e+04     1s\n",
      "INFO:gurobipy:  11   2.39391853e+10  1.88448221e+10  1.45e+01 1.46e-09  4.31e+04     1s\n",
      "INFO:gurobipy:  12   2.24348719e+10  1.99754774e+10  6.86e+00 5.82e-10  2.08e+04     1s\n",
      "INFO:gurobipy:  13   2.18000063e+10  2.03646815e+10  3.98e+00 1.40e-09  1.21e+04     1s\n",
      "INFO:gurobipy:  14   2.14968827e+10  2.04655693e+10  2.65e+00 6.98e-10  8.71e+03     1s\n",
      "INFO:gurobipy:  15   2.13389930e+10  2.05426256e+10  1.97e+00 2.33e-09  6.73e+03     1s\n",
      "INFO:gurobipy:  16   2.11642437e+10  2.06757837e+10  1.22e+00 3.20e-10  4.13e+03     1s\n",
      "INFO:gurobipy:  17   2.10517345e+10  2.07388679e+10  7.54e-01 4.66e-10  2.64e+03     1s\n",
      "INFO:gurobipy:  18   2.10103813e+10  2.07685231e+10  5.91e-01 4.37e-10  2.04e+03     1s\n",
      "INFO:gurobipy:  19   2.09610612e+10  2.07844403e+10  3.90e-01 1.28e-09  1.49e+03     1s\n",
      "INFO:gurobipy:  20   2.09309524e+10  2.08163657e+10  2.68e-01 1.80e-09  9.68e+02     1s\n",
      "INFO:gurobipy:  21   2.09111657e+10  2.08293705e+10  1.89e-01 1.04e-13  6.91e+02     1s\n",
      "INFO:gurobipy:  22   2.08949107e+10  2.08420468e+10  1.25e-01 2.50e-09  4.46e+02     1s\n",
      "INFO:gurobipy:  23   2.08826782e+10  2.08494554e+10  7.67e-02 9.31e-10  2.81e+02     1s\n",
      "INFO:gurobipy:  24   2.08765949e+10  2.08532408e+10  5.36e-02 2.62e-09  1.97e+02     1s\n",
      "INFO:gurobipy:  25   2.08706600e+10  2.08564509e+10  3.13e-02 1.11e-09  1.20e+02     2s\n",
      "INFO:gurobipy:  26   2.08660850e+10  2.08600311e+10  1.45e-02 4.81e-12  5.11e+01     2s\n",
      "INFO:gurobipy:  27   2.08640214e+10  2.08611244e+10  7.17e-03 3.20e-09  2.45e+01     2s\n",
      "INFO:gurobipy:  28   2.08626849e+10  2.08617705e+10  2.41e-03 2.91e-09  7.72e+00     2s\n",
      "INFO:gurobipy:  29   2.08622352e+10  2.08619064e+10  8.35e-04 2.62e-09  2.78e+00     2s\n",
      "INFO:gurobipy:  30   2.08620892e+10  2.08619858e+10  3.37e-04 2.62e-10  8.74e-01     2s\n",
      "INFO:gurobipy:  31   2.08619889e+10  2.08619886e+10  5.09e-07 3.49e-10  2.37e-03     2s\n",
      "INFO:gurobipy:  32   2.08619887e+10  2.08619887e+10  1.62e-08 1.28e-09  2.37e-06     2s\n",
      "INFO:gurobipy:  33   2.08619887e+10  2.08619887e+10  5.09e-11 6.06e-10  2.37e-09     2s\n",
      "INFO:gurobipy:\n",
      "INFO:gurobipy:Barrier solved model in 33 iterations and 1.88 seconds (0.71 work units)\n",
      "INFO:gurobipy:Optimal objective 2.08619887e+10\n",
      "INFO:gurobipy:\n",
      "INFO:gurobipy:Crossover log...\n",
      "INFO:gurobipy:\n",
      "INFO:gurobipy:   17525 DPushes remaining with DInf 0.0000000e+00                 2s\n",
      "INFO:gurobipy:       0 DPushes remaining with DInf 0.0000000e+00                 2s\n",
      "INFO:gurobipy:Warning: Markowitz tolerance tightened to 0.5\n",
      "INFO:gurobipy:\n",
      "INFO:gurobipy:     372 PPushes remaining with PInf 0.0000000e+00                 2s\n",
      "INFO:gurobipy:       0 PPushes remaining with PInf 0.0000000e+00                 2s\n",
      "INFO:gurobipy:\n",
      "INFO:gurobipy:  Push phase complete: Pinf 0.0000000e+00, Dinf 4.3024313e-09      2s\n",
      "INFO:gurobipy:\n",
      "INFO:gurobipy:\n",
      "INFO:gurobipy:Solved with barrier\n",
      "INFO:gurobipy:Iteration    Objective       Primal Inf.    Dual Inf.      Time\n",
      "INFO:gurobipy:   16078    2.0861989e+10   0.000000e+00   0.000000e+00      2s\n",
      "INFO:gurobipy:\n",
      "INFO:gurobipy:Solved in 16078 iterations and 2.31 seconds (1.33 work units)\n",
      "INFO:gurobipy:Optimal objective  2.086198865e+10\n",
      "INFO:linopy.constants: Optimization successful: \n",
      "Status: ok\n",
      "Termination condition: optimal\n",
      "Solution: 43805 primals, 96366 duals\n",
      "Objective: 2.09e+10\n",
      "Solver model: available\n",
      "Solver message: 2\n",
      "\n",
      "INFO:pypsa.optimization.optimize:The shadow-prices of the constraints Generator-ext-p-lower, Generator-ext-p-upper were not assigned to the network.\n",
      "WARNING:pypsa.consistency:The following buses have carriers which are not defined:\n",
      "Index(['electricity bus'], dtype='object', name='Bus')\n",
      "INFO:linopy.model: Solve problem using Gurobi solver\n",
      "INFO:linopy.model:Solver options:\n",
      " - LogToConsole: 0\n",
      "INFO:linopy.io:Writing objective.\n",
      "Writing constraints.: 100%|\u001b[38;2;128;191;255m██████████\u001b[0m| 6/6 [00:00<00:00, 10.53it/s]\n",
      "Writing continuous variables.: 100%|\u001b[38;2;128;191;255m██████████\u001b[0m| 2/2 [00:00<00:00, 22.90it/s]\n",
      "INFO:linopy.io: Writing time: 0.7s\n"
     ]
    },
    {
     "name": "stdout",
     "output_type": "stream",
     "text": [
      "Set parameter Username\n"
     ]
    },
    {
     "name": "stderr",
     "output_type": "stream",
     "text": [
      "INFO:gurobipy:Set parameter Username\n"
     ]
    },
    {
     "name": "stdout",
     "output_type": "stream",
     "text": [
      "Set parameter LicenseID to value 2659440\n"
     ]
    },
    {
     "name": "stderr",
     "output_type": "stream",
     "text": [
      "INFO:gurobipy:Set parameter LicenseID to value 2659440\n"
     ]
    },
    {
     "name": "stdout",
     "output_type": "stream",
     "text": [
      "Academic license - for non-commercial use only - expires 2026-04-30\n"
     ]
    },
    {
     "name": "stderr",
     "output_type": "stream",
     "text": [
      "INFO:gurobipy:Academic license - for non-commercial use only - expires 2026-04-30\n"
     ]
    },
    {
     "name": "stdout",
     "output_type": "stream",
     "text": [
      "Read LP format model from file /private/var/folders/dk/qccdw4qx5dq5wxkdgsyy_g400000gn/T/linopy-problem-fryu55ez.lp\n"
     ]
    },
    {
     "name": "stderr",
     "output_type": "stream",
     "text": [
      "INFO:gurobipy:Read LP format model from file /private/var/folders/dk/qccdw4qx5dq5wxkdgsyy_g400000gn/T/linopy-problem-fryu55ez.lp\n"
     ]
    },
    {
     "name": "stdout",
     "output_type": "stream",
     "text": [
      "Reading time = 0.23 seconds\n"
     ]
    },
    {
     "name": "stderr",
     "output_type": "stream",
     "text": [
      "INFO:gurobipy:Reading time = 0.23 seconds\n"
     ]
    },
    {
     "name": "stdout",
     "output_type": "stream",
     "text": [
      "obj: 96366 rows, 43805 columns, 179719 nonzeros\n"
     ]
    },
    {
     "name": "stderr",
     "output_type": "stream",
     "text": [
      "INFO:gurobipy:obj: 96366 rows, 43805 columns, 179719 nonzeros\n"
     ]
    },
    {
     "name": "stdout",
     "output_type": "stream",
     "text": [
      "Set parameter LogToConsole to value 0\n"
     ]
    },
    {
     "name": "stderr",
     "output_type": "stream",
     "text": [
      "INFO:gurobipy:Set parameter LogToConsole to value 0\n",
      "INFO:gurobipy:Gurobi Optimizer version 12.0.1 build v12.0.1rc0 (mac64[x86] - Darwin 21.6.0 21G531)\n",
      "INFO:gurobipy:\n",
      "INFO:gurobipy:CPU model: Intel(R) Core(TM) i5-8210Y CPU @ 1.60GHz\n",
      "INFO:gurobipy:Thread count: 2 physical cores, 4 logical processors, using up to 4 threads\n",
      "INFO:gurobipy:\n",
      "INFO:gurobipy:Non-default parameters:\n",
      "INFO:gurobipy:LogToConsole  0\n",
      "INFO:gurobipy:\n",
      "INFO:gurobipy:Optimize a model with 96366 rows, 43805 columns and 179719 nonzeros\n",
      "INFO:gurobipy:Model fingerprint: 0x976462ca\n",
      "INFO:gurobipy:Coefficient statistics:\n",
      "INFO:gurobipy:  Matrix range     [1e-03, 1e+00]\n",
      "INFO:gurobipy:  Objective range  [2e+01, 8e+05]\n",
      "INFO:gurobipy:  Bounds range     [0e+00, 0e+00]\n",
      "INFO:gurobipy:  RHS range        [2e+04, 2e+07]\n",
      "INFO:gurobipy:Presolve removed 48051 rows and 4246 columns\n",
      "INFO:gurobipy:Presolve time: 0.27s\n",
      "INFO:gurobipy:Presolved: 48315 rows, 39559 columns, 127422 nonzeros\n",
      "INFO:gurobipy:\n",
      "INFO:gurobipy:Concurrent LP optimizer: dual simplex and barrier\n",
      "INFO:gurobipy:Showing barrier log only...\n",
      "INFO:gurobipy:\n",
      "INFO:gurobipy:Ordering time: 0.04s\n",
      "INFO:gurobipy:\n",
      "INFO:gurobipy:Barrier statistics:\n",
      "INFO:gurobipy: Dense cols : 5\n",
      "INFO:gurobipy: AA' NZ     : 9.663e+04\n",
      "INFO:gurobipy: Factor NZ  : 4.272e+05 (roughly 40 MB of memory)\n",
      "INFO:gurobipy: Factor Ops : 3.925e+06 (less than 1 second per iteration)\n",
      "INFO:gurobipy: Threads    : 1\n",
      "INFO:gurobipy:\n",
      "INFO:gurobipy:                  Objective                Residual\n",
      "INFO:gurobipy:Iter       Primal          Dual         Primal    Dual     Compl     Time\n",
      "INFO:gurobipy:   0   4.66327840e+12  0.00000000e+00  8.95e+09 0.00e+00  2.95e+09     0s\n",
      "INFO:gurobipy:   1   7.00389567e+12 -7.51134980e+11  1.67e+09 2.91e+02  5.76e+08     1s\n",
      "INFO:gurobipy:   2   4.05391633e+12 -8.60660174e+11  3.00e+07 9.73e-13  4.62e+07     1s\n",
      "INFO:gurobipy:   3   4.41361123e+11 -2.42384483e+11  2.06e+03 2.91e-09  5.92e+06     1s\n",
      "INFO:gurobipy:   4   1.93580996e+11 -1.12734948e+11  7.86e+02 2.91e-09  2.62e+06     1s\n",
      "INFO:gurobipy:   5   8.77059784e+10 -1.47412283e+10  2.91e+02 6.40e-10  8.69e+05     1s\n",
      "INFO:gurobipy:   6   5.66352582e+10  3.48280965e+09  1.57e+02 9.31e-10  4.50e+05     1s\n",
      "INFO:gurobipy:   7   4.97875230e+10  8.25845394e+09  1.31e+02 2.91e-10  3.52e+05     1s\n",
      "INFO:gurobipy:   8   4.55438030e+10  1.12537830e+10  1.13e+02 6.40e-10  2.90e+05     1s\n",
      "INFO:gurobipy:   9   4.09792403e+10  1.33279245e+10  9.13e+01 2.04e-09  2.34e+05     1s\n",
      "INFO:gurobipy:  10   3.01578302e+10  1.69844573e+10  4.09e+01 6.98e-10  1.11e+05     1s\n",
      "INFO:gurobipy:  11   2.60207135e+10  1.90828589e+10  1.86e+01 1.11e-09  5.86e+04     1s\n",
      "INFO:gurobipy:  12   2.40313660e+10  2.07992023e+10  7.40e+00 5.24e-10  2.73e+04     1s\n",
      "INFO:gurobipy:  13   2.32279310e+10  2.15624352e+10  3.74e+00 6.40e-10  1.41e+04     1s\n",
      "INFO:gurobipy:  14   2.29600446e+10  2.18783599e+10  2.60e+00 3.20e-10  9.13e+03     1s\n",
      "INFO:gurobipy:  15   2.27411049e+10  2.19948412e+10  1.69e+00 1.16e-09  6.30e+03     1s\n",
      "INFO:gurobipy:  16   2.25779996e+10  2.22049694e+10  1.04e+00 2.33e-10  3.15e+03     2s\n",
      "INFO:gurobipy:  17   2.24674484e+10  2.22503543e+10  6.19e-01 2.50e-09  1.83e+03     2s\n",
      "INFO:gurobipy:  18   2.24104043e+10  2.22811810e+10  4.07e-01 4.66e-10  1.09e+03     2s\n",
      "INFO:gurobipy:  19   2.23731887e+10  2.22845889e+10  2.70e-01 2.79e-09  7.49e+02     2s\n",
      "INFO:gurobipy:  20   2.23498360e+10  2.22892542e+10  1.87e-01 2.59e-12  5.12e+02     2s\n",
      "INFO:gurobipy:  21   2.23276810e+10  2.22917163e+10  1.09e-01 4.16e-13  3.04e+02     2s\n",
      "INFO:gurobipy:  22   2.23109941e+10  2.22939815e+10  5.17e-02 1.57e-09  1.44e+02     2s\n",
      "INFO:gurobipy:  23   2.23042708e+10  2.22954719e+10  2.83e-02 2.50e-09  7.44e+01     2s\n",
      "INFO:gurobipy:  24   2.22989205e+10  2.22955790e+10  1.04e-02 2.27e-09  2.82e+01     2s\n",
      "INFO:gurobipy:  25   2.22975745e+10  2.22956351e+10  5.90e-03 2.15e-09  1.64e+01     2s\n",
      "INFO:gurobipy:  26   2.22969187e+10  2.22957017e+10  3.77e-03 1.28e-09  1.03e+01     2s\n",
      "INFO:gurobipy:  27   2.22965793e+10  2.22957098e+10  2.67e-03 2.33e-10  7.35e+00     2s\n",
      "INFO:gurobipy:  28   2.22959434e+10  2.22957260e+10  6.46e-04 6.40e-10  1.84e+00     2s\n",
      "INFO:gurobipy:  29   2.22957371e+10  2.22957363e+10  1.30e-06 4.37e-10  6.77e-03     3s\n",
      "INFO:gurobipy:  30   2.22957365e+10  2.22957365e+10  6.44e-07 3.06e-09  6.77e-06     3s\n",
      "INFO:gurobipy:  31   2.22957365e+10  2.22957365e+10  1.64e-08 3.14e-09  6.77e-09     3s\n",
      "INFO:gurobipy:\n",
      "INFO:gurobipy:Barrier solved model in 31 iterations and 2.70 seconds (0.67 work units)\n",
      "INFO:gurobipy:Optimal objective 2.22957365e+10\n",
      "INFO:gurobipy:\n",
      "INFO:gurobipy:Crossover log...\n",
      "INFO:gurobipy:\n",
      "INFO:gurobipy:   17524 DPushes remaining with DInf 0.0000000e+00                 3s\n",
      "INFO:gurobipy:       0 DPushes remaining with DInf 0.0000000e+00                 3s\n",
      "INFO:gurobipy:Warning: Markowitz tolerance tightened to 0.5\n",
      "INFO:gurobipy:\n",
      "INFO:gurobipy:    1663 PPushes remaining with PInf 0.0000000e+00                 3s\n",
      "INFO:gurobipy:       0 PPushes remaining with PInf 0.0000000e+00                 4s\n",
      "INFO:gurobipy:\n",
      "INFO:gurobipy:  Push phase complete: Pinf 0.0000000e+00, Dinf 3.4190286e-09      4s\n",
      "INFO:gurobipy:\n",
      "INFO:gurobipy:\n",
      "INFO:gurobipy:Solved with barrier\n",
      "INFO:gurobipy:Iteration    Objective       Primal Inf.    Dual Inf.      Time\n",
      "INFO:gurobipy:   13476    2.2295736e+10   0.000000e+00   0.000000e+00      4s\n",
      "INFO:gurobipy:\n",
      "INFO:gurobipy:Solved in 13476 iterations and 4.43 seconds (2.43 work units)\n",
      "INFO:gurobipy:Optimal objective  2.229573646e+10\n",
      "INFO:linopy.constants: Optimization successful: \n",
      "Status: ok\n",
      "Termination condition: optimal\n",
      "Solution: 43805 primals, 96366 duals\n",
      "Objective: 2.23e+10\n",
      "Solver model: available\n",
      "Solver message: 2\n",
      "\n",
      "INFO:pypsa.optimization.optimize:The shadow-prices of the constraints Generator-ext-p-lower, Generator-ext-p-upper were not assigned to the network.\n",
      "WARNING:pypsa.consistency:The following buses have carriers which are not defined:\n",
      "Index(['electricity bus'], dtype='object', name='Bus')\n",
      "INFO:linopy.model: Solve problem using Gurobi solver\n",
      "INFO:linopy.model:Solver options:\n",
      " - LogToConsole: 0\n",
      "INFO:linopy.io:Writing objective.\n",
      "Writing constraints.: 100%|\u001b[38;2;128;191;255m██████████\u001b[0m| 6/6 [00:00<00:00, 10.23it/s]\n",
      "Writing continuous variables.: 100%|\u001b[38;2;128;191;255m██████████\u001b[0m| 2/2 [00:00<00:00, 20.13it/s]\n",
      "INFO:linopy.io: Writing time: 0.73s\n"
     ]
    },
    {
     "name": "stdout",
     "output_type": "stream",
     "text": [
      "Set parameter Username\n"
     ]
    },
    {
     "name": "stderr",
     "output_type": "stream",
     "text": [
      "INFO:gurobipy:Set parameter Username\n"
     ]
    },
    {
     "name": "stdout",
     "output_type": "stream",
     "text": [
      "Set parameter LicenseID to value 2659440\n"
     ]
    },
    {
     "name": "stderr",
     "output_type": "stream",
     "text": [
      "INFO:gurobipy:Set parameter LicenseID to value 2659440\n"
     ]
    },
    {
     "name": "stdout",
     "output_type": "stream",
     "text": [
      "Academic license - for non-commercial use only - expires 2026-04-30\n"
     ]
    },
    {
     "name": "stderr",
     "output_type": "stream",
     "text": [
      "INFO:gurobipy:Academic license - for non-commercial use only - expires 2026-04-30\n"
     ]
    },
    {
     "name": "stdout",
     "output_type": "stream",
     "text": [
      "Read LP format model from file /private/var/folders/dk/qccdw4qx5dq5wxkdgsyy_g400000gn/T/linopy-problem-usc5yv3o.lp\n"
     ]
    },
    {
     "name": "stderr",
     "output_type": "stream",
     "text": [
      "INFO:gurobipy:Read LP format model from file /private/var/folders/dk/qccdw4qx5dq5wxkdgsyy_g400000gn/T/linopy-problem-usc5yv3o.lp\n"
     ]
    },
    {
     "name": "stdout",
     "output_type": "stream",
     "text": [
      "Reading time = 0.26 seconds\n"
     ]
    },
    {
     "name": "stderr",
     "output_type": "stream",
     "text": [
      "INFO:gurobipy:Reading time = 0.26 seconds\n"
     ]
    },
    {
     "name": "stdout",
     "output_type": "stream",
     "text": [
      "obj: 96366 rows, 43805 columns, 179719 nonzeros\n"
     ]
    },
    {
     "name": "stderr",
     "output_type": "stream",
     "text": [
      "INFO:gurobipy:obj: 96366 rows, 43805 columns, 179719 nonzeros\n"
     ]
    },
    {
     "name": "stdout",
     "output_type": "stream",
     "text": [
      "Set parameter LogToConsole to value 0\n"
     ]
    },
    {
     "name": "stderr",
     "output_type": "stream",
     "text": [
      "INFO:gurobipy:Set parameter LogToConsole to value 0\n",
      "INFO:gurobipy:Gurobi Optimizer version 12.0.1 build v12.0.1rc0 (mac64[x86] - Darwin 21.6.0 21G531)\n",
      "INFO:gurobipy:\n",
      "INFO:gurobipy:CPU model: Intel(R) Core(TM) i5-8210Y CPU @ 1.60GHz\n",
      "INFO:gurobipy:Thread count: 2 physical cores, 4 logical processors, using up to 4 threads\n",
      "INFO:gurobipy:\n",
      "INFO:gurobipy:Non-default parameters:\n",
      "INFO:gurobipy:LogToConsole  0\n",
      "INFO:gurobipy:\n",
      "INFO:gurobipy:Optimize a model with 96366 rows, 43805 columns and 179719 nonzeros\n",
      "INFO:gurobipy:Model fingerprint: 0x9830f59f\n",
      "INFO:gurobipy:Coefficient statistics:\n",
      "INFO:gurobipy:  Matrix range     [1e-03, 1e+00]\n",
      "INFO:gurobipy:  Objective range  [2e+01, 8e+05]\n",
      "INFO:gurobipy:  Bounds range     [0e+00, 0e+00]\n",
      "INFO:gurobipy:  RHS range        [2e+04, 2e+07]\n",
      "INFO:gurobipy:Presolve removed 48051 rows and 4246 columns\n",
      "INFO:gurobipy:Presolve time: 0.21s\n",
      "INFO:gurobipy:Presolved: 48315 rows, 39559 columns, 127422 nonzeros\n",
      "INFO:gurobipy:\n",
      "INFO:gurobipy:Concurrent LP optimizer: dual simplex and barrier\n",
      "INFO:gurobipy:Showing barrier log only...\n",
      "INFO:gurobipy:\n",
      "INFO:gurobipy:Ordering time: 0.03s\n",
      "INFO:gurobipy:\n",
      "INFO:gurobipy:Barrier statistics:\n",
      "INFO:gurobipy: Dense cols : 5\n",
      "INFO:gurobipy: AA' NZ     : 9.663e+04\n",
      "INFO:gurobipy: Factor NZ  : 4.272e+05 (roughly 40 MB of memory)\n",
      "INFO:gurobipy: Factor Ops : 3.925e+06 (less than 1 second per iteration)\n",
      "INFO:gurobipy: Threads    : 1\n",
      "INFO:gurobipy:\n",
      "INFO:gurobipy:                  Objective                Residual\n",
      "INFO:gurobipy:Iter       Primal          Dual         Primal    Dual     Compl     Time\n",
      "INFO:gurobipy:   0   4.42618393e+12  0.00000000e+00  8.49e+09 0.00e+00  2.80e+09     0s\n",
      "INFO:gurobipy:   1   6.64895497e+12 -7.46981918e+11  1.58e+09 2.92e+02  5.47e+08     1s\n",
      "INFO:gurobipy:   2   3.84811414e+12 -8.55465132e+11  2.65e+07 4.37e-10  4.38e+07     1s\n",
      "INFO:gurobipy:   3   4.33583085e+11 -2.80148206e+11  1.88e+03 7.57e-10  6.17e+06     1s\n",
      "INFO:gurobipy:   4   1.76769692e+11 -1.05138271e+11  6.45e+02 4.55e-13  2.40e+06     1s\n",
      "INFO:gurobipy:   5   9.26764059e+10 -1.90997403e+10  3.32e+05 1.05e-09  9.48e+05     1s\n",
      "INFO:gurobipy:   6   5.99050302e+10  2.95114597e+09  1.54e+02 1.22e-09  4.82e+05     1s\n",
      "INFO:gurobipy:   7   4.79383429e+10  8.23893659e+09  1.10e+02 8.73e-11  3.36e+05     1s\n",
      "INFO:gurobipy:   8   4.55696611e+10  1.08762600e+10  1.01e+02 1.16e-10  2.94e+05     1s\n",
      "INFO:gurobipy:   9   4.18132340e+10  1.24031650e+10  8.46e+01 1.38e-10  2.49e+05     1s\n",
      "INFO:gurobipy:  10   3.46014492e+10  1.60645129e+10  5.39e+01 9.90e-10  1.57e+05     1s\n",
      "INFO:gurobipy:  11   2.84704510e+10  1.87859745e+10  2.57e+01 1.11e-09  8.18e+04     1s\n",
      "INFO:gurobipy:  12   2.55728502e+10  2.13325414e+10  1.08e+01 1.57e-09  3.58e+04     1s\n",
      "INFO:gurobipy:  13   2.42757218e+10  2.26217790e+10  5.07e+00 1.08e-09  1.40e+04     1s\n",
      "INFO:gurobipy:  14   2.38150653e+10  2.28190961e+10  3.07e+00 9.90e-10  8.42e+03     1s\n",
      "INFO:gurobipy:  15   2.35118204e+10  2.29356819e+10  1.79e+00 7.28e-10  4.87e+03     1s\n",
      "INFO:gurobipy:  16   2.33874723e+10  2.30000842e+10  1.27e+00 5.82e-10  3.27e+03     1s\n",
      "INFO:gurobipy:  17   2.32537000e+10  2.30390824e+10  7.38e-01 1.22e-09  1.81e+03     1s\n",
      "INFO:gurobipy:  18   2.31955078e+10  2.30490771e+10  5.16e-01 8.15e-10  1.24e+03     1s\n",
      "INFO:gurobipy:  19   2.31643616e+10  2.30522036e+10  3.95e-01 1.46e-09  9.48e+02     2s\n",
      "INFO:gurobipy:  20   2.31368278e+10  2.30553514e+10  2.88e-01 8.73e-10  6.89e+02     2s\n",
      "INFO:gurobipy:  21   2.31180376e+10  2.30562627e+10  2.17e-01 6.98e-10  5.22e+02     2s\n",
      "INFO:gurobipy:  22   2.31039034e+10  2.30573055e+10  1.67e-01 2.21e-09  3.94e+02     2s\n",
      "INFO:gurobipy:  23   2.30929688e+10  2.30578681e+10  1.33e-01 1.22e-09  2.97e+02     2s\n",
      "INFO:gurobipy:  24   2.30894611e+10  2.30580835e+10  1.21e-01 1.34e-09  2.65e+02     2s\n",
      "INFO:gurobipy:  25   2.30852903e+10  2.30582332e+10  1.04e-01 9.31e-10  2.29e+02     2s\n",
      "INFO:gurobipy:  26   2.30779137e+10  2.30583907e+10  7.41e-02 1.51e-09  1.65e+02     2s\n",
      "INFO:gurobipy:  27   2.30763589e+10  2.30584266e+10  6.78e-02 1.57e-09  1.52e+02     2s\n",
      "INFO:gurobipy:  28   2.30723940e+10  2.30585683e+10  5.30e-02 4.66e-10  1.17e+02     2s\n",
      "INFO:gurobipy:  29   2.30695895e+10  2.30585977e+10  4.33e-02 1.63e-09  9.29e+01     2s\n",
      "INFO:gurobipy:  30   2.30687558e+10  2.30587561e+10  3.97e-02 3.49e-09  8.46e+01     2s\n",
      "INFO:gurobipy:  31   2.30658704e+10  2.30588416e+10  2.80e-02 2.21e-09  5.94e+01     2s\n",
      "INFO:gurobipy:  32   2.30636303e+10  2.30589637e+10  1.94e-02 1.63e-09  3.95e+01     3s\n",
      "INFO:gurobipy:  33   2.30630599e+10  2.30590290e+10  1.72e-02 8.15e-10  3.41e+01     3s\n",
      "INFO:gurobipy:  34   2.30624728e+10  2.30590291e+10  1.46e-02 1.75e-10  2.91e+01     3s\n",
      "INFO:gurobipy:  35   2.30616628e+10  2.30590411e+10  1.11e-02 1.92e-09  2.22e+01     3s\n",
      "INFO:gurobipy:  36   2.30612664e+10  2.30590791e+10  9.31e-03 1.51e-09  1.85e+01     3s\n",
      "INFO:gurobipy:  37   2.30602750e+10  2.30590933e+10  4.97e-03 1.10e-08  9.99e+00     3s\n",
      "INFO:gurobipy:  38   2.30601901e+10  2.30590978e+10  4.60e-03 1.00e-08  9.24e+00     3s\n",
      "INFO:gurobipy:  39   2.30598427e+10  2.30590969e+10  3.10e-03 7.05e-09  6.31e+00     3s\n",
      "INFO:gurobipy:  40   2.30595903e+10  2.30590986e+10  2.07e-03 1.26e-08  4.16e+00     3s\n",
      "INFO:gurobipy:  41   2.30592898e+10  2.30591062e+10  7.56e-04 7.39e-09  1.55e+00     3s\n",
      "INFO:gurobipy:  42   2.30592158e+10  2.30591081e+10  4.43e-04 2.36e-12  9.11e-01     3s\n",
      "INFO:gurobipy:  43   2.30591110e+10  2.30591109e+10  2.48e-07 7.03e-10  3.98e-04     3s\n",
      "INFO:gurobipy:  44   2.30591109e+10  2.30591109e+10  1.87e-06 1.75e-09  1.05e-09     3s\n",
      "INFO:gurobipy:\n",
      "INFO:gurobipy:Barrier solved model in 44 iterations and 3.25 seconds (0.90 work units)\n",
      "INFO:gurobipy:Optimal objective 2.30591109e+10\n",
      "INFO:gurobipy:\n",
      "INFO:gurobipy:Crossover log...\n",
      "INFO:gurobipy:\n",
      "INFO:gurobipy:   17523 DPushes remaining with DInf 0.0000000e+00                 3s\n",
      "INFO:gurobipy:       0 DPushes remaining with DInf 0.0000000e+00                 4s\n",
      "INFO:gurobipy:Warning: Markowitz tolerance tightened to 0.5\n",
      "INFO:gurobipy:\n",
      "INFO:gurobipy:    1961 PPushes remaining with PInf 0.0000000e+00                 4s\n",
      "INFO:gurobipy:       0 PPushes remaining with PInf 0.0000000e+00                 4s\n",
      "INFO:gurobipy:\n",
      "INFO:gurobipy:  Push phase complete: Pinf 0.0000000e+00, Dinf 2.9576230e-09      4s\n",
      "INFO:gurobipy:\n",
      "INFO:gurobipy:\n",
      "INFO:gurobipy:Solved with barrier\n",
      "INFO:gurobipy:Iteration    Objective       Primal Inf.    Dual Inf.      Time\n",
      "INFO:gurobipy:   12807    2.3059111e+10   0.000000e+00   0.000000e+00      4s\n",
      "INFO:gurobipy:\n",
      "INFO:gurobipy:Solved in 12807 iterations and 4.36 seconds (2.46 work units)\n",
      "INFO:gurobipy:Optimal objective  2.305911092e+10\n",
      "INFO:linopy.constants: Optimization successful: \n",
      "Status: ok\n",
      "Termination condition: optimal\n",
      "Solution: 43805 primals, 96366 duals\n",
      "Objective: 2.31e+10\n",
      "Solver model: available\n",
      "Solver message: 2\n",
      "\n",
      "INFO:pypsa.optimization.optimize:The shadow-prices of the constraints Generator-ext-p-lower, Generator-ext-p-upper were not assigned to the network.\n",
      "WARNING:pypsa.consistency:The following buses have carriers which are not defined:\n",
      "Index(['electricity bus'], dtype='object', name='Bus')\n",
      "INFO:linopy.model: Solve problem using Gurobi solver\n",
      "INFO:linopy.model:Solver options:\n",
      " - LogToConsole: 0\n",
      "INFO:linopy.io:Writing objective.\n",
      "Writing constraints.: 100%|\u001b[38;2;128;191;255m██████████\u001b[0m| 6/6 [00:00<00:00,  9.51it/s]\n",
      "Writing continuous variables.: 100%|\u001b[38;2;128;191;255m██████████\u001b[0m| 2/2 [00:00<00:00, 17.03it/s]\n",
      "INFO:linopy.io: Writing time: 0.79s\n"
     ]
    },
    {
     "name": "stdout",
     "output_type": "stream",
     "text": [
      "Set parameter Username\n"
     ]
    },
    {
     "name": "stderr",
     "output_type": "stream",
     "text": [
      "INFO:gurobipy:Set parameter Username\n"
     ]
    },
    {
     "name": "stdout",
     "output_type": "stream",
     "text": [
      "Set parameter LicenseID to value 2659440\n"
     ]
    },
    {
     "name": "stderr",
     "output_type": "stream",
     "text": [
      "INFO:gurobipy:Set parameter LicenseID to value 2659440\n"
     ]
    },
    {
     "name": "stdout",
     "output_type": "stream",
     "text": [
      "Academic license - for non-commercial use only - expires 2026-04-30\n"
     ]
    },
    {
     "name": "stderr",
     "output_type": "stream",
     "text": [
      "INFO:gurobipy:Academic license - for non-commercial use only - expires 2026-04-30\n"
     ]
    },
    {
     "name": "stdout",
     "output_type": "stream",
     "text": [
      "Read LP format model from file /private/var/folders/dk/qccdw4qx5dq5wxkdgsyy_g400000gn/T/linopy-problem-gpxxdzk0.lp\n"
     ]
    },
    {
     "name": "stderr",
     "output_type": "stream",
     "text": [
      "INFO:gurobipy:Read LP format model from file /private/var/folders/dk/qccdw4qx5dq5wxkdgsyy_g400000gn/T/linopy-problem-gpxxdzk0.lp\n"
     ]
    },
    {
     "name": "stdout",
     "output_type": "stream",
     "text": [
      "Reading time = 0.27 seconds\n"
     ]
    },
    {
     "name": "stderr",
     "output_type": "stream",
     "text": [
      "INFO:gurobipy:Reading time = 0.27 seconds\n"
     ]
    },
    {
     "name": "stdout",
     "output_type": "stream",
     "text": [
      "obj: 96366 rows, 43805 columns, 179719 nonzeros\n"
     ]
    },
    {
     "name": "stderr",
     "output_type": "stream",
     "text": [
      "INFO:gurobipy:obj: 96366 rows, 43805 columns, 179719 nonzeros\n"
     ]
    },
    {
     "name": "stdout",
     "output_type": "stream",
     "text": [
      "Set parameter LogToConsole to value 0\n"
     ]
    },
    {
     "name": "stderr",
     "output_type": "stream",
     "text": [
      "INFO:gurobipy:Set parameter LogToConsole to value 0\n",
      "INFO:gurobipy:Gurobi Optimizer version 12.0.1 build v12.0.1rc0 (mac64[x86] - Darwin 21.6.0 21G531)\n",
      "INFO:gurobipy:\n",
      "INFO:gurobipy:CPU model: Intel(R) Core(TM) i5-8210Y CPU @ 1.60GHz\n",
      "INFO:gurobipy:Thread count: 2 physical cores, 4 logical processors, using up to 4 threads\n",
      "INFO:gurobipy:\n",
      "INFO:gurobipy:Non-default parameters:\n",
      "INFO:gurobipy:LogToConsole  0\n",
      "INFO:gurobipy:\n",
      "INFO:gurobipy:Optimize a model with 96366 rows, 43805 columns and 179719 nonzeros\n",
      "INFO:gurobipy:Model fingerprint: 0xc4aa1378\n",
      "INFO:gurobipy:Coefficient statistics:\n",
      "INFO:gurobipy:  Matrix range     [1e-03, 1e+00]\n",
      "INFO:gurobipy:  Objective range  [2e+01, 8e+05]\n",
      "INFO:gurobipy:  Bounds range     [0e+00, 0e+00]\n",
      "INFO:gurobipy:  RHS range        [2e+04, 2e+07]\n",
      "INFO:gurobipy:Presolve removed 48051 rows and 4246 columns\n",
      "INFO:gurobipy:Presolve time: 0.20s\n",
      "INFO:gurobipy:Presolved: 48315 rows, 39559 columns, 127422 nonzeros\n",
      "INFO:gurobipy:\n",
      "INFO:gurobipy:Concurrent LP optimizer: dual simplex and barrier\n",
      "INFO:gurobipy:Showing barrier log only...\n",
      "INFO:gurobipy:\n",
      "INFO:gurobipy:Ordering time: 0.01s\n",
      "INFO:gurobipy:\n",
      "INFO:gurobipy:Barrier statistics:\n",
      "INFO:gurobipy: Dense cols : 5\n",
      "INFO:gurobipy: AA' NZ     : 9.663e+04\n",
      "INFO:gurobipy: Factor NZ  : 4.272e+05 (roughly 40 MB of memory)\n",
      "INFO:gurobipy: Factor Ops : 3.925e+06 (less than 1 second per iteration)\n",
      "INFO:gurobipy: Threads    : 1\n",
      "INFO:gurobipy:\n",
      "INFO:gurobipy:                  Objective                Residual\n",
      "INFO:gurobipy:Iter       Primal          Dual         Primal    Dual     Compl     Time\n",
      "INFO:gurobipy:   0   4.04396705e+12  0.00000000e+00  7.75e+09 0.00e+00  2.56e+09     0s\n",
      "INFO:gurobipy:   1   6.07646877e+12 -7.40258513e+11  1.44e+09 2.92e+02  5.00e+08     0s\n",
      "INFO:gurobipy:   2   3.51531850e+12 -8.44898304e+11  2.07e+07 3.23e-09  4.00e+07     1s\n",
      "INFO:gurobipy:   3   5.27264552e+11 -1.76385105e+11  2.17e+06 4.66e-10  6.05e+06     1s\n",
      "INFO:gurobipy:   4   1.44869845e+11 -7.93526555e+10  5.83e+05 1.02e-09  1.91e+06     1s\n",
      "INFO:gurobipy:   5   8.41706041e+10 -1.38625162e+10  2.81e+05 3.38e-09  8.30e+05     1s\n",
      "INFO:gurobipy:   6   5.68111544e+10  2.38984709e+09  1.63e+05 1.86e-09  4.61e+05     1s\n",
      "INFO:gurobipy:   7   5.39804173e+10  7.68333687e+09  1.51e+05 1.66e-09  3.92e+05     1s\n",
      "INFO:gurobipy:   8   4.30026210e+10  1.34206157e+10  1.02e+05 1.80e-09  2.50e+05     1s\n",
      "INFO:gurobipy:   9   3.06128773e+10  1.79033224e+10  3.35e+04 5.24e-10  1.07e+05     1s\n",
      "INFO:gurobipy:  10   2.75401449e+10  2.07230192e+10  1.55e+04 8.73e-10  5.76e+04     1s\n",
      "INFO:gurobipy:  11   2.62221710e+10  2.23400241e+10  8.46e+03 1.16e-10  3.28e+04     1s\n",
      "INFO:gurobipy:  12   2.55908960e+10  2.30937699e+10  5.10e+03 1.46e-09  2.11e+04     1s\n",
      "INFO:gurobipy:  13   2.52465933e+10  2.34318042e+10  3.29e+03 6.98e-10  1.53e+04     1s\n",
      "INFO:gurobipy:  14   2.50523215e+10  2.36820723e+10  2.29e+03 6.11e-10  1.16e+04     1s\n",
      "INFO:gurobipy:  15   2.48939016e+10  2.39247856e+10  1.51e+03 1.22e-09  8.18e+03     1s\n",
      "INFO:gurobipy:  16   2.47910096e+10  2.42034107e+10  1.01e+03 9.31e-10  4.96e+03     1s\n",
      "INFO:gurobipy:  17   2.46747498e+10  2.43054710e+10  4.85e+02 1.51e-09  3.11e+03     1s\n",
      "INFO:gurobipy:  18   2.46466237e+10  2.43478552e+10  3.68e+02 1.22e-09  2.52e+03     1s\n",
      "INFO:gurobipy:  19   2.46355342e+10  2.44041737e+10  3.23e+02 3.78e-10  1.95e+03     1s\n",
      "INFO:gurobipy:  20   2.46058492e+10  2.44271685e+10  2.02e+02 2.85e-09  1.51e+03     1s\n",
      "INFO:gurobipy:  21   2.45800993e+10  2.44825008e+10  9.96e+01 4.95e-10  8.23e+02     1s\n",
      "INFO:gurobipy:  22   2.45674636e+10  2.45018396e+10  5.28e+01 7.57e-10  5.53e+02     1s\n",
      "INFO:gurobipy:  23   2.45615184e+10  2.45154049e+10  3.07e+01 6.55e-10  3.89e+02     1s\n",
      "INFO:gurobipy:  24   2.45560616e+10  2.45321392e+10  1.14e+01 6.77e-10  2.02e+02     2s\n",
      "INFO:gurobipy:  25   2.45532391e+10  2.45468402e+10  2.86e+00 6.98e-10  5.39e+01     2s\n",
      "INFO:gurobipy:  26   2.45520122e+10  2.45501121e+10  3.15e-01 2.15e-09  1.60e+01     2s\n",
      "INFO:gurobipy:  27   2.45518327e+10  2.45515637e+10  1.31e-02 2.47e-09  2.27e+00     2s\n",
      "INFO:gurobipy:  28   2.45518077e+10  2.45518064e+10  1.75e-04 4.26e-14  1.17e-02     2s\n",
      "INFO:gurobipy:  29   2.45518068e+10  2.45518068e+10  1.80e-06 9.45e-08  3.64e-06     2s\n",
      "INFO:gurobipy:  30   2.45518068e+10  2.45518068e+10  2.67e-06 2.38e-08  8.99e-12     2s\n",
      "INFO:gurobipy:\n",
      "INFO:gurobipy:Barrier solved model in 30 iterations and 1.76 seconds (0.65 work units)\n",
      "INFO:gurobipy:Optimal objective 2.45518068e+10\n",
      "INFO:gurobipy:\n",
      "INFO:gurobipy:Crossover log...\n",
      "INFO:gurobipy:\n",
      "INFO:gurobipy:    8766 DPushes remaining with DInf 0.0000000e+00                 2s\n",
      "INFO:gurobipy:       0 DPushes remaining with DInf 0.0000000e+00                 2s\n",
      "INFO:gurobipy:Warning: Markowitz tolerance tightened to 0.5\n",
      "INFO:gurobipy:\n",
      "INFO:gurobipy:    1849 PPushes remaining with PInf 0.0000000e+00                 2s\n",
      "INFO:gurobipy:       0 PPushes remaining with PInf 0.0000000e+00                 3s\n",
      "INFO:gurobipy:\n",
      "INFO:gurobipy:  Push phase complete: Pinf 0.0000000e+00, Dinf 5.9425393e-08      3s\n",
      "INFO:gurobipy:\n",
      "INFO:gurobipy:\n",
      "INFO:gurobipy:Solved with barrier\n",
      "INFO:gurobipy:Iteration    Objective       Primal Inf.    Dual Inf.      Time\n",
      "INFO:gurobipy:    7448    2.4551807e+10   0.000000e+00   0.000000e+00      3s\n",
      "INFO:gurobipy:\n",
      "INFO:gurobipy:Solved in 7448 iterations and 3.18 seconds (2.17 work units)\n",
      "INFO:gurobipy:Optimal objective  2.455180679e+10\n",
      "INFO:linopy.constants: Optimization successful: \n",
      "Status: ok\n",
      "Termination condition: optimal\n",
      "Solution: 43805 primals, 96366 duals\n",
      "Objective: 2.46e+10\n",
      "Solver model: available\n",
      "Solver message: 2\n",
      "\n",
      "INFO:pypsa.optimization.optimize:The shadow-prices of the constraints Generator-ext-p-lower, Generator-ext-p-upper were not assigned to the network.\n",
      "WARNING:pypsa.consistency:The following buses have carriers which are not defined:\n",
      "Index(['electricity bus'], dtype='object', name='Bus')\n",
      "INFO:linopy.model: Solve problem using Gurobi solver\n",
      "INFO:linopy.model:Solver options:\n",
      " - LogToConsole: 0\n",
      "INFO:linopy.io:Writing objective.\n",
      "Writing constraints.: 100%|\u001b[38;2;128;191;255m██████████\u001b[0m| 6/6 [00:00<00:00, 10.12it/s]\n",
      "Writing continuous variables.: 100%|\u001b[38;2;128;191;255m██████████\u001b[0m| 2/2 [00:00<00:00,  8.33it/s]\n",
      "INFO:linopy.io: Writing time: 0.88s\n"
     ]
    },
    {
     "name": "stdout",
     "output_type": "stream",
     "text": [
      "Set parameter Username\n"
     ]
    },
    {
     "name": "stderr",
     "output_type": "stream",
     "text": [
      "INFO:gurobipy:Set parameter Username\n"
     ]
    },
    {
     "name": "stdout",
     "output_type": "stream",
     "text": [
      "Set parameter LicenseID to value 2659440\n"
     ]
    },
    {
     "name": "stderr",
     "output_type": "stream",
     "text": [
      "INFO:gurobipy:Set parameter LicenseID to value 2659440\n"
     ]
    },
    {
     "name": "stdout",
     "output_type": "stream",
     "text": [
      "Academic license - for non-commercial use only - expires 2026-04-30\n"
     ]
    },
    {
     "name": "stderr",
     "output_type": "stream",
     "text": [
      "INFO:gurobipy:Academic license - for non-commercial use only - expires 2026-04-30\n"
     ]
    },
    {
     "name": "stdout",
     "output_type": "stream",
     "text": [
      "Read LP format model from file /private/var/folders/dk/qccdw4qx5dq5wxkdgsyy_g400000gn/T/linopy-problem-m3v4_gdc.lp\n"
     ]
    },
    {
     "name": "stderr",
     "output_type": "stream",
     "text": [
      "INFO:gurobipy:Read LP format model from file /private/var/folders/dk/qccdw4qx5dq5wxkdgsyy_g400000gn/T/linopy-problem-m3v4_gdc.lp\n"
     ]
    },
    {
     "name": "stdout",
     "output_type": "stream",
     "text": [
      "Reading time = 0.27 seconds\n"
     ]
    },
    {
     "name": "stderr",
     "output_type": "stream",
     "text": [
      "INFO:gurobipy:Reading time = 0.27 seconds\n"
     ]
    },
    {
     "name": "stdout",
     "output_type": "stream",
     "text": [
      "obj: 96366 rows, 43805 columns, 179719 nonzeros\n"
     ]
    },
    {
     "name": "stderr",
     "output_type": "stream",
     "text": [
      "INFO:gurobipy:obj: 96366 rows, 43805 columns, 179719 nonzeros\n"
     ]
    },
    {
     "name": "stdout",
     "output_type": "stream",
     "text": [
      "Set parameter LogToConsole to value 0\n"
     ]
    },
    {
     "name": "stderr",
     "output_type": "stream",
     "text": [
      "INFO:gurobipy:Set parameter LogToConsole to value 0\n",
      "INFO:gurobipy:Gurobi Optimizer version 12.0.1 build v12.0.1rc0 (mac64[x86] - Darwin 21.6.0 21G531)\n",
      "INFO:gurobipy:\n",
      "INFO:gurobipy:CPU model: Intel(R) Core(TM) i5-8210Y CPU @ 1.60GHz\n",
      "INFO:gurobipy:Thread count: 2 physical cores, 4 logical processors, using up to 4 threads\n",
      "INFO:gurobipy:\n",
      "INFO:gurobipy:Non-default parameters:\n",
      "INFO:gurobipy:LogToConsole  0\n",
      "INFO:gurobipy:\n",
      "INFO:gurobipy:Optimize a model with 96366 rows, 43805 columns and 179719 nonzeros\n",
      "INFO:gurobipy:Model fingerprint: 0xbb6bdacf\n",
      "INFO:gurobipy:Coefficient statistics:\n",
      "INFO:gurobipy:  Matrix range     [1e-03, 1e+00]\n",
      "INFO:gurobipy:  Objective range  [2e+01, 8e+05]\n",
      "INFO:gurobipy:  Bounds range     [0e+00, 0e+00]\n",
      "INFO:gurobipy:  RHS range        [2e+04, 5e+06]\n",
      "INFO:gurobipy:Presolve removed 48051 rows and 4246 columns\n",
      "INFO:gurobipy:Presolve time: 0.25s\n",
      "INFO:gurobipy:Presolved: 48315 rows, 39559 columns, 127422 nonzeros\n",
      "INFO:gurobipy:\n",
      "INFO:gurobipy:Concurrent LP optimizer: dual simplex and barrier\n",
      "INFO:gurobipy:Showing barrier log only...\n",
      "INFO:gurobipy:\n",
      "INFO:gurobipy:Ordering time: 0.01s\n",
      "INFO:gurobipy:\n",
      "INFO:gurobipy:Barrier statistics:\n",
      "INFO:gurobipy: Dense cols : 5\n",
      "INFO:gurobipy: AA' NZ     : 9.663e+04\n",
      "INFO:gurobipy: Factor NZ  : 4.272e+05 (roughly 40 MB of memory)\n",
      "INFO:gurobipy: Factor Ops : 3.925e+06 (less than 1 second per iteration)\n",
      "INFO:gurobipy: Threads    : 1\n",
      "INFO:gurobipy:\n",
      "INFO:gurobipy:                  Objective                Residual\n",
      "INFO:gurobipy:Iter       Primal          Dual         Primal    Dual     Compl     Time\n",
      "INFO:gurobipy:   0   2.34751146e+12  0.00000000e+00  4.48e+09 0.00e+00  1.49e+09     0s\n",
      "INFO:gurobipy:   1   3.53185436e+12 -7.07795050e+11  8.18e+08 2.93e+02  2.89e+08     0s\n",
      "INFO:gurobipy:   2   2.26418980e+12 -7.53951781e+11  1.52e+07 2.10e-09  2.77e+07     0s\n",
      "INFO:gurobipy:   3   3.44229330e+11 -1.58292281e+11  1.89e+06 9.31e-10  4.32e+06     1s\n",
      "INFO:gurobipy:   4   2.31438466e+11 -1.08093394e+11  1.20e+06 5.68e-13  2.90e+06     1s\n",
      "INFO:gurobipy:   5   1.36356718e+11 -8.49852789e+10  6.27e+05 1.98e-09  1.88e+06     1s\n",
      "INFO:gurobipy:   6   8.37961282e+10 -3.77310144e+10  3.13e+05 2.91e-10  1.03e+06     1s\n",
      "INFO:gurobipy:   7   6.83814764e+10 -6.52038607e+09  2.36e+05 2.97e-09  6.35e+05     1s\n",
      "INFO:gurobipy:   8   5.76498337e+10  1.90798997e+09  1.78e+05 1.34e-09  4.72e+05     1s\n",
      "INFO:gurobipy:   9   5.45375836e+10  1.05834456e+10  1.57e+05 4.66e-10  3.72e+05     1s\n",
      "INFO:gurobipy:  10   4.31996472e+10  1.61167149e+10  8.69e+04 2.04e-10  2.29e+05     1s\n",
      "INFO:gurobipy:  11   3.72239079e+10  2.04433063e+10  4.30e+04 7.57e-10  1.42e+05     1s\n",
      "INFO:gurobipy:  12   3.50713970e+10  2.46604392e+10  2.77e+04 9.31e-10  8.80e+04     1s\n",
      "INFO:gurobipy:  13   3.37099041e+10  2.69583507e+10  1.86e+04 1.05e-09  5.70e+04     1s\n",
      "INFO:gurobipy:  14   3.29691562e+10  2.75134791e+10  1.35e+04 6.98e-10  4.61e+04     1s\n",
      "INFO:gurobipy:  15   3.25022564e+10  2.80414852e+10  1.03e+04 2.21e-09  3.77e+04     1s\n",
      "INFO:gurobipy:  16   3.20847474e+10  2.89871688e+10  7.50e+03 1.69e-09  2.62e+04     1s\n",
      "INFO:gurobipy:  17   3.17178945e+10  2.94725975e+10  5.32e+03 2.97e-09  1.90e+04     1s\n",
      "INFO:gurobipy:  18   3.14774301e+10  2.96504645e+10  3.90e+03 2.18e-10  1.54e+04     1s\n",
      "INFO:gurobipy:  19   3.13877872e+10  2.97563109e+10  3.42e+03 1.34e-09  1.38e+04     1s\n",
      "INFO:gurobipy:  20   3.12180010e+10  2.99247322e+10  2.40e+03 1.46e-09  1.09e+04     1s\n",
      "INFO:gurobipy:  21   3.11194935e+10  3.00280232e+10  1.85e+03 8.73e-10  9.21e+03     1s\n",
      "INFO:gurobipy:  22   3.10473633e+10  3.00980720e+10  1.45e+03 6.98e-10  8.01e+03     2s\n",
      "INFO:gurobipy:  23   3.09886202e+10  3.01899208e+10  1.14e+03 4.95e-10  6.74e+03     2s\n",
      "INFO:gurobipy:  24   3.09365251e+10  3.02778398e+10  8.73e+02 4.22e-10  5.56e+03     2s\n",
      "INFO:gurobipy:  25   3.09053016e+10  3.03259405e+10  7.06e+02 6.98e-10  4.89e+03     2s\n",
      "INFO:gurobipy:  26   3.08714281e+10  3.04587160e+10  5.47e+02 6.77e-10  3.48e+03     2s\n",
      "INFO:gurobipy:  27   3.08395887e+10  3.05346780e+10  4.02e+02 1.16e-09  2.57e+03     2s\n",
      "INFO:gurobipy:  28   3.08193385e+10  3.05899498e+10  3.07e+02 9.82e-10  1.93e+03     2s\n",
      "INFO:gurobipy:  29   3.07995687e+10  3.06394171e+10  2.24e+02 1.75e-09  1.35e+03     2s\n",
      "INFO:gurobipy:  30   3.07896291e+10  3.06599320e+10  1.85e+02 1.75e-09  1.09e+03     2s\n",
      "INFO:gurobipy:  31   3.07777018e+10  3.06808947e+10  1.37e+02 1.16e-09  8.17e+02     2s\n",
      "INFO:gurobipy:  32   3.07715000e+10  3.06900129e+10  1.13e+02 8.66e-10  6.87e+02     2s\n",
      "INFO:gurobipy:  33   3.07629908e+10  3.07046332e+10  7.99e+01 3.09e-12  4.92e+02     2s\n",
      "INFO:gurobipy:  34   3.07557688e+10  3.07140320e+10  5.25e+01 5.24e-10  3.52e+02     2s\n",
      "INFO:gurobipy:  35   3.07499569e+10  3.07240847e+10  3.08e+01 4.07e-10  2.18e+02     2s\n",
      "INFO:gurobipy:  36   3.07481020e+10  3.07254931e+10  2.41e+01 1.25e-11  1.91e+02     2s\n",
      "INFO:gurobipy:  37   3.07461621e+10  3.07350255e+10  1.72e+01 2.39e-09  9.40e+01     2s\n",
      "INFO:gurobipy:  38   3.07444220e+10  3.07377602e+10  1.12e+01 1.01e-09  5.62e+01     2s\n",
      "INFO:gurobipy:  39   3.07431840e+10  3.07398744e+10  7.01e+00 8.32e-09  2.79e+01     2s\n",
      "INFO:gurobipy:  40   3.07426449e+10  3.07402039e+10  5.16e+00 4.95e-09  2.06e+01     2s\n",
      "INFO:gurobipy:  41   3.07419011e+10  3.07407791e+10  2.68e+00 2.68e-09  9.47e+00     3s\n",
      "INFO:gurobipy:  42   3.07415205e+10  3.07409192e+10  1.37e+00 1.46e-09  5.08e+00     3s\n",
      "INFO:gurobipy:  43   3.07414224e+10  3.07410474e+10  1.05e+00 2.88e-12  3.17e+00     3s\n",
      "INFO:gurobipy:  44   3.07413364e+10  3.07410812e+10  7.73e-01 6.47e-09  2.16e+00     3s\n",
      "INFO:gurobipy:  45   3.07411463e+10  3.07410921e+10  1.57e-01 2.95e-09  4.57e-01     3s\n",
      "INFO:gurobipy:  46   3.07411131e+10  3.07410959e+10  5.26e-02 3.25e-09  1.45e-01     3s\n",
      "INFO:gurobipy:  47   3.07410979e+10  3.07410964e+10  4.00e-03 5.75e-10  1.30e-02     3s\n",
      "INFO:gurobipy:  48   3.07410965e+10  3.07410965e+10  2.66e-05 9.90e-10  1.31e-05     3s\n",
      "INFO:gurobipy:  49   3.07410965e+10  3.07410965e+10  3.03e-08 2.82e-08  1.31e-11     3s\n",
      "INFO:gurobipy:\n",
      "INFO:gurobipy:Barrier solved model in 49 iterations and 2.90 seconds (0.99 work units)\n",
      "INFO:gurobipy:Optimal objective 3.07410965e+10\n",
      "INFO:gurobipy:\n",
      "INFO:gurobipy:Crossover log...\n",
      "INFO:gurobipy:\n",
      "INFO:gurobipy:    8767 DPushes remaining with DInf 0.0000000e+00                 3s\n",
      "INFO:gurobipy:       0 DPushes remaining with DInf 0.0000000e+00                 3s\n",
      "INFO:gurobipy:Warning: Markowitz tolerance tightened to 0.5\n",
      "INFO:gurobipy:\n",
      "INFO:gurobipy:     669 PPushes remaining with PInf 0.0000000e+00                 3s\n",
      "INFO:gurobipy:       0 PPushes remaining with PInf 0.0000000e+00                 3s\n",
      "INFO:gurobipy:\n",
      "INFO:gurobipy:  Push phase complete: Pinf 0.0000000e+00, Dinf 8.9291371e-08      3s\n",
      "INFO:gurobipy:\n",
      "INFO:gurobipy:\n",
      "INFO:gurobipy:Solved with barrier\n",
      "INFO:gurobipy:Extra simplex iterations after uncrush: 1\n",
      "INFO:gurobipy:Iteration    Objective       Primal Inf.    Dual Inf.      Time\n",
      "INFO:gurobipy:    8167    3.0741097e+10   0.000000e+00   0.000000e+00      4s\n",
      "INFO:gurobipy:\n",
      "INFO:gurobipy:Solved in 8167 iterations and 3.68 seconds (1.85 work units)\n",
      "INFO:gurobipy:Optimal objective  3.074109651e+10\n",
      "INFO:linopy.constants: Optimization successful: \n",
      "Status: ok\n",
      "Termination condition: optimal\n",
      "Solution: 43805 primals, 96366 duals\n",
      "Objective: 3.07e+10\n",
      "Solver model: available\n",
      "Solver message: 2\n",
      "\n",
      "INFO:pypsa.optimization.optimize:The shadow-prices of the constraints Generator-ext-p-lower, Generator-ext-p-upper were not assigned to the network.\n",
      "WARNING:pypsa.consistency:The following buses have carriers which are not defined:\n",
      "Index(['electricity bus'], dtype='object', name='Bus')\n",
      "INFO:linopy.model: Solve problem using Gurobi solver\n",
      "INFO:linopy.model:Solver options:\n",
      " - LogToConsole: 0\n",
      "INFO:linopy.io:Writing objective.\n",
      "Writing constraints.: 100%|\u001b[38;2;128;191;255m██████████\u001b[0m| 6/6 [00:00<00:00, 10.85it/s]\n",
      "Writing continuous variables.: 100%|\u001b[38;2;128;191;255m██████████\u001b[0m| 2/2 [00:00<00:00, 16.44it/s]\n",
      "INFO:linopy.io: Writing time: 0.72s\n"
     ]
    },
    {
     "name": "stdout",
     "output_type": "stream",
     "text": [
      "Set parameter Username\n"
     ]
    },
    {
     "name": "stderr",
     "output_type": "stream",
     "text": [
      "INFO:gurobipy:Set parameter Username\n"
     ]
    },
    {
     "name": "stdout",
     "output_type": "stream",
     "text": [
      "Set parameter LicenseID to value 2659440\n"
     ]
    },
    {
     "name": "stderr",
     "output_type": "stream",
     "text": [
      "INFO:gurobipy:Set parameter LicenseID to value 2659440\n"
     ]
    },
    {
     "name": "stdout",
     "output_type": "stream",
     "text": [
      "Academic license - for non-commercial use only - expires 2026-04-30\n"
     ]
    },
    {
     "name": "stderr",
     "output_type": "stream",
     "text": [
      "INFO:gurobipy:Academic license - for non-commercial use only - expires 2026-04-30\n"
     ]
    },
    {
     "name": "stdout",
     "output_type": "stream",
     "text": [
      "Read LP format model from file /private/var/folders/dk/qccdw4qx5dq5wxkdgsyy_g400000gn/T/linopy-problem-v9hlljbt.lp\n"
     ]
    },
    {
     "name": "stderr",
     "output_type": "stream",
     "text": [
      "INFO:gurobipy:Read LP format model from file /private/var/folders/dk/qccdw4qx5dq5wxkdgsyy_g400000gn/T/linopy-problem-v9hlljbt.lp\n"
     ]
    },
    {
     "name": "stdout",
     "output_type": "stream",
     "text": [
      "Reading time = 0.30 seconds\n"
     ]
    },
    {
     "name": "stderr",
     "output_type": "stream",
     "text": [
      "INFO:gurobipy:Reading time = 0.30 seconds\n"
     ]
    },
    {
     "name": "stdout",
     "output_type": "stream",
     "text": [
      "obj: 96366 rows, 43805 columns, 179719 nonzeros\n"
     ]
    },
    {
     "name": "stderr",
     "output_type": "stream",
     "text": [
      "INFO:gurobipy:obj: 96366 rows, 43805 columns, 179719 nonzeros\n"
     ]
    },
    {
     "name": "stdout",
     "output_type": "stream",
     "text": [
      "Set parameter LogToConsole to value 0\n"
     ]
    },
    {
     "name": "stderr",
     "output_type": "stream",
     "text": [
      "INFO:gurobipy:Set parameter LogToConsole to value 0\n",
      "INFO:gurobipy:Gurobi Optimizer version 12.0.1 build v12.0.1rc0 (mac64[x86] - Darwin 21.6.0 21G531)\n",
      "INFO:gurobipy:\n",
      "INFO:gurobipy:CPU model: Intel(R) Core(TM) i5-8210Y CPU @ 1.60GHz\n",
      "INFO:gurobipy:Thread count: 2 physical cores, 4 logical processors, using up to 4 threads\n",
      "INFO:gurobipy:\n",
      "INFO:gurobipy:Non-default parameters:\n",
      "INFO:gurobipy:LogToConsole  0\n",
      "INFO:gurobipy:\n",
      "INFO:gurobipy:Optimize a model with 96366 rows, 43805 columns and 179719 nonzeros\n",
      "INFO:gurobipy:Model fingerprint: 0x527e3787\n",
      "INFO:gurobipy:Coefficient statistics:\n",
      "INFO:gurobipy:  Matrix range     [1e-03, 1e+00]\n",
      "INFO:gurobipy:  Objective range  [2e+01, 8e+05]\n",
      "INFO:gurobipy:  Bounds range     [0e+00, 0e+00]\n",
      "INFO:gurobipy:  RHS range        [2e+04, 1e+06]\n",
      "INFO:gurobipy:Presolve removed 48051 rows and 4246 columns\n",
      "INFO:gurobipy:Presolve time: 0.20s\n",
      "INFO:gurobipy:Presolved: 48315 rows, 39559 columns, 127422 nonzeros\n",
      "INFO:gurobipy:\n",
      "INFO:gurobipy:Concurrent LP optimizer: dual simplex and barrier\n",
      "INFO:gurobipy:Showing barrier log only...\n",
      "INFO:gurobipy:\n",
      "INFO:gurobipy:Ordering time: 0.01s\n",
      "INFO:gurobipy:\n",
      "INFO:gurobipy:Barrier statistics:\n",
      "INFO:gurobipy: Dense cols : 5\n",
      "INFO:gurobipy: AA' NZ     : 9.663e+04\n",
      "INFO:gurobipy: Factor NZ  : 4.272e+05 (roughly 40 MB of memory)\n",
      "INFO:gurobipy: Factor Ops : 3.925e+06 (less than 1 second per iteration)\n",
      "INFO:gurobipy: Threads    : 1\n",
      "INFO:gurobipy:\n",
      "INFO:gurobipy:                  Objective                Residual\n",
      "INFO:gurobipy:Iter       Primal          Dual         Primal    Dual     Compl     Time\n",
      "INFO:gurobipy:   0   1.10087500e+12  0.00000000e+00  2.08e+09 0.00e+00  6.93e+08     0s\n",
      "INFO:gurobipy:   1   1.65855962e+12 -6.61109671e+11  3.61e+08 2.94e+02  1.33e+08     0s\n",
      "INFO:gurobipy:   2   1.02670041e+12 -5.72358855e+11  6.71e+06 3.84e-09  1.43e+07     0s\n",
      "INFO:gurobipy:   3   1.56140535e+11 -5.82591096e+10  6.76e+05 2.15e-09  1.83e+06     0s\n",
      "INFO:gurobipy:   4   1.10943658e+11 -9.49080769e+09  4.49e+05 3.26e-09  1.02e+06     1s\n",
      "INFO:gurobipy:   5   9.37652862e+10 -6.85800241e+09  3.57e+05 2.91e-09  8.55e+05     1s\n",
      "INFO:gurobipy:   6   7.15658386e+10  2.65615881e+09  2.34e+05 1.63e-09  5.85e+05     1s\n",
      "INFO:gurobipy:   7   6.04925984e+10  9.93167683e+09  1.74e+05 2.68e-09  4.29e+05     1s\n",
      "INFO:gurobipy:   8   5.85558161e+10  1.41001581e+10  1.63e+05 2.21e-09  3.77e+05     1s\n",
      "INFO:gurobipy:   9   5.62325037e+10  1.67060050e+10  1.49e+05 7.28e-10  3.35e+05     1s\n",
      "INFO:gurobipy:  10   5.06820585e+10  2.24515412e+10  1.06e+05 6.98e-10  2.39e+05     1s\n",
      "INFO:gurobipy:  11   4.61023701e+10  2.41217399e+10  7.39e+04 2.04e-09  1.86e+05     1s\n",
      "INFO:gurobipy:  12   4.41763455e+10  2.50448087e+10  5.89e+04 2.79e-09  1.62e+05     1s\n",
      "INFO:gurobipy:  13   4.32288332e+10  2.57817834e+10  5.08e+04 1.05e-09  1.48e+05     1s\n",
      "INFO:gurobipy:  14   4.23459465e+10  2.71302680e+10  4.25e+04 2.39e-09  1.29e+05     1s\n",
      "INFO:gurobipy:  15   4.17975771e+10  2.77658928e+10  3.76e+04 1.63e-09  1.19e+05     1s\n",
      "INFO:gurobipy:  16   4.10317716e+10  2.89946868e+10  3.10e+04 1.80e-09  1.02e+05     1s\n",
      "INFO:gurobipy:  17   4.06296973e+10  2.96904990e+10  2.71e+04 1.16e-09  9.25e+04     1s\n",
      "INFO:gurobipy:  18   4.01143950e+10  3.11188006e+10  2.26e+04 2.44e-09  7.61e+04     1s\n",
      "INFO:gurobipy:  19   3.96819911e+10  3.13584841e+10  1.92e+04 4.66e-10  7.04e+04     1s\n",
      "INFO:gurobipy:  20   3.94109473e+10  3.19746671e+10  1.64e+04 1.57e-09  6.29e+04     1s\n",
      "INFO:gurobipy:  21   3.91961637e+10  3.22554381e+10  1.49e+04 2.56e-09  5.87e+04     1s\n",
      "INFO:gurobipy:  22   3.89260677e+10  3.30878285e+10  1.26e+04 9.31e-10  4.94e+04     1s\n",
      "INFO:gurobipy:  23   3.87158536e+10  3.33610544e+10  1.07e+04 7.57e-10  4.53e+04     1s\n",
      "INFO:gurobipy:  24   3.85147712e+10  3.41908702e+10  9.05e+03 4.37e-10  3.65e+04     1s\n",
      "INFO:gurobipy:  25   3.83485899e+10  3.43191164e+10  7.88e+03 1.31e-09  3.41e+04     1s\n",
      "INFO:gurobipy:  26   3.81581443e+10  3.45264428e+10  6.41e+03 1.16e-09  3.07e+04     2s\n",
      "INFO:gurobipy:  27   3.80534377e+10  3.46187294e+10  5.50e+03 1.22e-09  2.90e+04     2s\n",
      "INFO:gurobipy:  28   3.79556285e+10  3.47794865e+10  4.59e+03 1.16e-09  2.68e+04     2s\n",
      "INFO:gurobipy:  29   3.78812860e+10  3.48942814e+10  4.20e+03 4.37e-11  2.52e+04     2s\n",
      "INFO:gurobipy:  30   3.78248741e+10  3.50111970e+10  3.79e+03 3.14e-09  2.38e+04     2s\n",
      "INFO:gurobipy:  31   3.77135734e+10  3.53955912e+10  3.03e+03 6.98e-10  1.96e+04     2s\n",
      "INFO:gurobipy:  32   3.76034476e+10  3.55194273e+10  2.32e+03 7.57e-10  1.76e+04     2s\n",
      "INFO:gurobipy:  33   3.75785036e+10  3.56598853e+10  2.20e+03 3.20e-10  1.62e+04     2s\n",
      "INFO:gurobipy:  34   3.74834760e+10  3.58858733e+10  1.75e+03 7.57e-10  1.35e+04     2s\n",
      "INFO:gurobipy:  35   3.74777552e+10  3.59763005e+10  1.69e+03 5.82e-10  1.27e+04     2s\n",
      "INFO:gurobipy:  36   3.74161446e+10  3.60575613e+10  1.44e+03 4.22e-10  1.15e+04     2s\n",
      "INFO:gurobipy:  37   3.73957436e+10  3.60924722e+10  1.35e+03 9.31e-10  1.10e+04     2s\n",
      "INFO:gurobipy:  38   3.73796173e+10  3.61700364e+10  1.25e+03 5.02e-10  1.02e+04     2s\n",
      "INFO:gurobipy:  39   3.73481504e+10  3.62255702e+10  1.11e+03 6.11e-10  9.47e+03     2s\n",
      "INFO:gurobipy:  40   3.73224026e+10  3.63200567e+10  1.00e+03 6.98e-10  8.46e+03     2s\n",
      "INFO:gurobipy:  41   3.73081927e+10  3.63508227e+10  9.48e+02 1.05e-09  8.08e+03     2s\n",
      "INFO:gurobipy:  42   3.72907920e+10  3.63664040e+10  8.71e+02 7.57e-10  7.80e+03     2s\n",
      "INFO:gurobipy:  43   3.72760282e+10  3.65122197e+10  8.11e+02 9.46e-10  6.45e+03     2s\n",
      "INFO:gurobipy:  44   3.72539208e+10  3.65434293e+10  7.29e+02 6.48e-10  6.00e+03     2s\n",
      "INFO:gurobipy:  45   3.72308649e+10  3.65611578e+10  6.30e+02 7.28e-10  5.65e+03     2s\n",
      "INFO:gurobipy:  46   3.72206448e+10  3.65975910e+10  5.92e+02 6.69e-10  5.26e+03     3s\n",
      "INFO:gurobipy:  47   3.72004679e+10  3.66252391e+10  5.24e+02 7.64e-10  4.85e+03     3s\n",
      "INFO:gurobipy:  48   3.71913668e+10  3.66543102e+10  4.89e+02 1.29e-09  4.53e+03     3s\n",
      "INFO:gurobipy:  49   3.71763506e+10  3.66784670e+10  4.32e+02 1.73e-09  4.20e+03     3s\n",
      "INFO:gurobipy:  50   3.71746940e+10  3.66848866e+10  4.25e+02 1.62e-09  4.13e+03     3s\n",
      "INFO:gurobipy:  51   3.71736075e+10  3.66968152e+10  4.21e+02 1.78e-09  4.02e+03     3s\n",
      "INFO:gurobipy:  52   3.71627900e+10  3.67098823e+10  3.81e+02 1.83e-09  3.82e+03     3s\n",
      "INFO:gurobipy:  53   3.71564177e+10  3.67540028e+10  3.51e+02 3.11e-09  3.40e+03     3s\n",
      "INFO:gurobipy:  54   3.71521514e+10  3.67644663e+10  3.35e+02 3.30e-09  3.27e+03     3s\n",
      "INFO:gurobipy:  55   3.71317392e+10  3.68025651e+10  2.64e+02 4.33e-09  2.78e+03     3s\n",
      "INFO:gurobipy:  56   3.71176250e+10  3.68160396e+10  2.14e+02 4.55e-09  2.54e+03     3s\n",
      "INFO:gurobipy:  57   3.71091059e+10  3.68303094e+10  1.88e+02 4.68e-09  2.35e+03     3s\n",
      "INFO:gurobipy:  58   3.71038683e+10  3.68432860e+10  1.71e+02 4.65e-09  2.20e+03     3s\n",
      "INFO:gurobipy:  59   3.70994828e+10  3.68551596e+10  1.57e+02 4.54e-09  2.06e+03     4s\n",
      "INFO:gurobipy:  60   3.70974392e+10  3.68677687e+10  1.50e+02 4.39e-09  1.94e+03     4s\n",
      "INFO:gurobipy:  61   3.70864455e+10  3.68984990e+10  1.17e+02 3.45e-09  1.59e+03     4s\n",
      "INFO:gurobipy:  62   3.70827829e+10  3.69088889e+10  1.06e+02 2.89e-09  1.47e+03     4s\n",
      "INFO:gurobipy:  63   3.70806223e+10  3.69243495e+10  1.00e+02 2.70e-09  1.32e+03     4s\n",
      "INFO:gurobipy:  64   3.70777446e+10  3.69281708e+10  9.03e+01 2.57e-09  1.26e+03     4s\n",
      "INFO:gurobipy:  65   3.70736638e+10  3.69439373e+10  7.88e+01 1.91e-09  1.09e+03     4s\n",
      "INFO:gurobipy:  66   3.70693364e+10  3.69539781e+10  6.58e+01 1.76e-09  9.73e+02     4s\n",
      "INFO:gurobipy:  67   3.70648792e+10  3.69571662e+10  5.47e+01 1.38e-09  9.08e+02     4s\n",
      "INFO:gurobipy:  68   3.70627567e+10  3.69721357e+10  4.91e+01 5.82e-11  7.64e+02     4s\n",
      "INFO:gurobipy:  69   3.70586365e+10  3.69795659e+10  3.82e+01 7.57e-10  6.67e+02     4s\n",
      "INFO:gurobipy:  70   3.70548711e+10  3.69958097e+10  2.74e+01 2.65e-13  4.98e+02     4s\n",
      "INFO:gurobipy:  71   3.70536575e+10  3.70021009e+10  2.42e+01 5.53e-10  4.35e+02     4s\n",
      "INFO:gurobipy:  72   3.70530355e+10  3.70054727e+10  2.26e+01 2.04e-10  4.01e+02     4s\n",
      "INFO:gurobipy:  73   3.70514059e+10  3.70099202e+10  1.82e+01 5.24e-10  3.50e+02     4s\n",
      "INFO:gurobipy:  74   3.70504657e+10  3.70113555e+10  1.60e+01 6.98e-10  3.30e+02     4s\n",
      "INFO:gurobipy:  75   3.70499750e+10  3.70149020e+10  1.48e+01 1.75e-10  2.96e+02     5s\n",
      "INFO:gurobipy:  76   3.70471229e+10  3.70182010e+10  7.01e+00 2.91e-11  2.44e+02     5s\n",
      "INFO:gurobipy:  77   3.70460372e+10  3.70249389e+10  4.65e+00 2.44e-09  1.78e+02     5s\n",
      "INFO:gurobipy:  78   3.70455081e+10  3.70283279e+10  3.52e+00 1.75e-09  1.45e+02     5s\n",
      "INFO:gurobipy:  79   3.70449739e+10  3.70308905e+10  2.42e+00 2.91e-10  1.19e+02     5s\n",
      "INFO:gurobipy:  80   3.70448874e+10  3.70348131e+10  2.25e+00 1.92e-09  8.49e+01     5s\n",
      "INFO:gurobipy:  81   3.70442477e+10  3.70399182e+10  1.09e+00 1.11e-09  3.65e+01     5s\n",
      "INFO:gurobipy:  82   3.70439689e+10  3.70415816e+10  6.30e-01 9.31e-10  2.01e+01     5s\n",
      "INFO:gurobipy:  83   3.70437104e+10  3.70416291e+10  2.19e-01 1.16e-10  1.75e+01     5s\n",
      "INFO:gurobipy:  84   3.70436888e+10  3.70430930e+10  1.85e-01 6.29e-09  5.02e+00     5s\n",
      "INFO:gurobipy:  85   3.70436252e+10  3.70433859e+10  8.29e-02 7.86e-10  2.02e+00     5s\n",
      "INFO:gurobipy:  86   3.70435826e+10  3.70434241e+10  1.45e-02 3.29e-12  1.34e+00     5s\n",
      "INFO:gurobipy:  87   3.70435765e+10  3.70435600e+10  5.19e-03 3.68e-08  1.39e-01     5s\n",
      "INFO:gurobipy:  88   3.70435708e+10  3.70435621e+10  4.49e-05 3.03e-08  7.33e-02     6s\n",
      "INFO:gurobipy:  89   3.70435705e+10  3.70435702e+10  8.20e-07 1.53e-07  2.35e-03     6s\n",
      "INFO:gurobipy:  90   3.70435704e+10  3.70435704e+10  2.28e-09 1.19e-09  3.52e-06     6s\n",
      "INFO:gurobipy:  91   3.70435704e+10  3.70435704e+10  5.24e-07 2.33e-09  4.59e-12     6s\n",
      "INFO:gurobipy:\n",
      "INFO:gurobipy:Barrier solved model in 91 iterations and 5.66 seconds (1.75 work units)\n",
      "INFO:gurobipy:Optimal objective 3.70435704e+10\n",
      "INFO:gurobipy:\n",
      "INFO:gurobipy:Crossover log...\n",
      "INFO:gurobipy:\n",
      "INFO:gurobipy:    8767 DPushes remaining with DInf 0.0000000e+00                 6s\n",
      "INFO:gurobipy:       0 DPushes remaining with DInf 0.0000000e+00                 6s\n",
      "INFO:gurobipy:Warning: Markowitz tolerance tightened to 0.5\n",
      "INFO:gurobipy:\n",
      "INFO:gurobipy:     170 PPushes remaining with PInf 0.0000000e+00                 6s\n",
      "INFO:gurobipy:       0 PPushes remaining with PInf 0.0000000e+00                 6s\n",
      "INFO:gurobipy:\n",
      "INFO:gurobipy:  Push phase complete: Pinf 0.0000000e+00, Dinf 1.4048736e-08      6s\n",
      "INFO:gurobipy:\n",
      "INFO:gurobipy:\n",
      "INFO:gurobipy:Solved with barrier\n",
      "INFO:gurobipy:Iteration    Objective       Primal Inf.    Dual Inf.      Time\n",
      "INFO:gurobipy:    8452    3.7043570e+10   0.000000e+00   0.000000e+00      6s\n",
      "INFO:gurobipy:\n",
      "INFO:gurobipy:Solved in 8452 iterations and 5.92 seconds (1.85 work units)\n",
      "INFO:gurobipy:Optimal objective  3.704357044e+10\n",
      "INFO:linopy.constants: Optimization successful: \n",
      "Status: ok\n",
      "Termination condition: optimal\n",
      "Solution: 43805 primals, 96366 duals\n",
      "Objective: 3.70e+10\n",
      "Solver model: available\n",
      "Solver message: 2\n",
      "\n",
      "INFO:pypsa.optimization.optimize:The shadow-prices of the constraints Generator-ext-p-lower, Generator-ext-p-upper were not assigned to the network.\n",
      "WARNING:pypsa.consistency:The following buses have carriers which are not defined:\n",
      "Index(['electricity bus'], dtype='object', name='Bus')\n",
      "INFO:linopy.model: Solve problem using Gurobi solver\n",
      "INFO:linopy.model:Solver options:\n",
      " - LogToConsole: 0\n",
      "INFO:linopy.io:Writing objective.\n",
      "Writing constraints.: 100%|\u001b[38;2;128;191;255m██████████\u001b[0m| 6/6 [00:00<00:00, 10.68it/s]\n",
      "Writing continuous variables.: 100%|\u001b[38;2;128;191;255m██████████\u001b[0m| 2/2 [00:00<00:00, 20.41it/s]\n",
      "INFO:linopy.io: Writing time: 0.7s\n"
     ]
    },
    {
     "name": "stdout",
     "output_type": "stream",
     "text": [
      "Set parameter Username\n"
     ]
    },
    {
     "name": "stderr",
     "output_type": "stream",
     "text": [
      "INFO:gurobipy:Set parameter Username\n"
     ]
    },
    {
     "name": "stdout",
     "output_type": "stream",
     "text": [
      "Set parameter LicenseID to value 2659440\n"
     ]
    },
    {
     "name": "stderr",
     "output_type": "stream",
     "text": [
      "INFO:gurobipy:Set parameter LicenseID to value 2659440\n"
     ]
    },
    {
     "name": "stdout",
     "output_type": "stream",
     "text": [
      "Academic license - for non-commercial use only - expires 2026-04-30\n"
     ]
    },
    {
     "name": "stderr",
     "output_type": "stream",
     "text": [
      "INFO:gurobipy:Academic license - for non-commercial use only - expires 2026-04-30\n"
     ]
    },
    {
     "name": "stdout",
     "output_type": "stream",
     "text": [
      "Read LP format model from file /private/var/folders/dk/qccdw4qx5dq5wxkdgsyy_g400000gn/T/linopy-problem-_oehb7gu.lp\n"
     ]
    },
    {
     "name": "stderr",
     "output_type": "stream",
     "text": [
      "INFO:gurobipy:Read LP format model from file /private/var/folders/dk/qccdw4qx5dq5wxkdgsyy_g400000gn/T/linopy-problem-_oehb7gu.lp\n"
     ]
    },
    {
     "name": "stdout",
     "output_type": "stream",
     "text": [
      "Reading time = 0.25 seconds\n"
     ]
    },
    {
     "name": "stderr",
     "output_type": "stream",
     "text": [
      "INFO:gurobipy:Reading time = 0.25 seconds\n"
     ]
    },
    {
     "name": "stdout",
     "output_type": "stream",
     "text": [
      "obj: 96366 rows, 43805 columns, 179719 nonzeros\n"
     ]
    },
    {
     "name": "stderr",
     "output_type": "stream",
     "text": [
      "INFO:gurobipy:obj: 96366 rows, 43805 columns, 179719 nonzeros\n"
     ]
    },
    {
     "name": "stdout",
     "output_type": "stream",
     "text": [
      "Set parameter LogToConsole to value 0\n"
     ]
    },
    {
     "name": "stderr",
     "output_type": "stream",
     "text": [
      "INFO:gurobipy:Set parameter LogToConsole to value 0\n",
      "INFO:gurobipy:Gurobi Optimizer version 12.0.1 build v12.0.1rc0 (mac64[x86] - Darwin 21.6.0 21G531)\n",
      "INFO:gurobipy:\n",
      "INFO:gurobipy:CPU model: Intel(R) Core(TM) i5-8210Y CPU @ 1.60GHz\n",
      "INFO:gurobipy:Thread count: 2 physical cores, 4 logical processors, using up to 4 threads\n",
      "INFO:gurobipy:\n",
      "INFO:gurobipy:Non-default parameters:\n",
      "INFO:gurobipy:LogToConsole  0\n",
      "INFO:gurobipy:\n",
      "INFO:gurobipy:Optimize a model with 96366 rows, 43805 columns and 179719 nonzeros\n",
      "INFO:gurobipy:Model fingerprint: 0xf3ff052c\n",
      "INFO:gurobipy:Coefficient statistics:\n",
      "INFO:gurobipy:  Matrix range     [1e-03, 1e+00]\n",
      "INFO:gurobipy:  Objective range  [2e+01, 8e+05]\n",
      "INFO:gurobipy:  Bounds range     [0e+00, 0e+00]\n",
      "INFO:gurobipy:  RHS range        [2e+04, 5e+04]\n",
      "INFO:gurobipy:Presolve removed 48051 rows and 4246 columns\n",
      "INFO:gurobipy:Presolve time: 0.18s\n",
      "INFO:gurobipy:Presolved: 48315 rows, 39559 columns, 127422 nonzeros\n",
      "INFO:gurobipy:\n",
      "INFO:gurobipy:Concurrent LP optimizer: dual simplex and barrier\n",
      "INFO:gurobipy:Showing barrier log only...\n",
      "INFO:gurobipy:\n",
      "INFO:gurobipy:Ordering time: 0.01s\n",
      "INFO:gurobipy:\n",
      "INFO:gurobipy:Barrier statistics:\n",
      "INFO:gurobipy: Dense cols : 5\n",
      "INFO:gurobipy: AA' NZ     : 9.663e+04\n",
      "INFO:gurobipy: Factor NZ  : 4.272e+05 (roughly 40 MB of memory)\n",
      "INFO:gurobipy: Factor Ops : 3.925e+06 (less than 1 second per iteration)\n",
      "INFO:gurobipy: Threads    : 1\n",
      "INFO:gurobipy:\n",
      "INFO:gurobipy:                  Objective                Residual\n",
      "INFO:gurobipy:Iter       Primal          Dual         Primal    Dual     Compl     Time\n",
      "INFO:gurobipy:   0   2.74745076e+11  0.00000000e+00  4.84e+08 0.00e+00  1.67e+08     0s\n",
      "INFO:gurobipy:   1   4.15974745e+11 -4.90694059e+11  6.32e+07 3.71e+02  3.08e+07     0s\n",
      "INFO:gurobipy:   2   2.52709868e+11 -1.97170180e+11  3.14e+06 2.52e+01  4.77e+06     0s\n",
      "INFO:gurobipy:   3   1.43005696e+11 -2.12728684e+10  1.32e+06 2.28e+00  1.54e+06     0s\n",
      "INFO:gurobipy:   4   1.12218320e+11  1.98039154e+09  9.60e+05 1.13e+00  1.00e+06     0s\n",
      "INFO:gurobipy:   5   1.00443667e+11  2.43128422e+09  8.00e+05 1.12e+00  8.90e+05     1s\n",
      "INFO:gurobipy:   6   9.49723155e+10  4.35995509e+09  7.38e+05 1.04e+00  8.21e+05     1s\n",
      "INFO:gurobipy:   7   8.39550847e+10  7.78956330e+09  6.05e+05 9.20e-01  6.88e+05     1s\n",
      "INFO:gurobipy:   8   8.02310993e+10  8.56194825e+09  5.55e+05 8.97e-01  6.47e+05     1s\n",
      "INFO:gurobipy:   9   7.98345756e+10  9.40445601e+09  5.31e+05 8.74e-01  6.34e+05     1s\n",
      "INFO:gurobipy:  10   7.36808082e+10  1.00476247e+10  4.54e+05 8.52e-01  5.72e+05     1s\n",
      "INFO:gurobipy:  11   7.11608496e+10  1.07120107e+10  4.24e+05 8.34e-01  5.43e+05     1s\n",
      "INFO:gurobipy:  12   6.96752208e+10  1.16224734e+10  4.03e+05 8.10e-01  5.21e+05     1s\n",
      "INFO:gurobipy:  13   6.80845957e+10  1.24753108e+10  3.82e+05 7.88e-01  4.99e+05     1s\n",
      "INFO:gurobipy:  14   6.52336876e+10  1.33551875e+10  3.35e+05 7.66e-01  4.65e+05     1s\n",
      "INFO:gurobipy:  15   6.22823940e+10  1.92453962e+10  2.84e+05 6.24e-01  3.86e+05     1s\n",
      "INFO:gurobipy:  16   6.04232369e+10  1.99410744e+10  2.52e+05 6.20e-01  3.63e+05     1s\n",
      "INFO:gurobipy:  17   5.88692233e+10  2.09306727e+10  2.20e+05 5.68e-01  3.39e+05     1s\n",
      "INFO:gurobipy:  18   5.59280616e+10  2.43233381e+10  1.82e+05 4.87e-01  2.83e+05     1s\n",
      "INFO:gurobipy:  19   5.49841322e+10  2.47581217e+10  1.73e+05 4.77e-01  2.71e+05     1s\n",
      "INFO:gurobipy:  20   5.48039890e+10  2.49847570e+10  1.62e+05 4.72e-01  2.67e+05     1s\n",
      "INFO:gurobipy:  21   5.40340612e+10  2.75497099e+10  1.51e+05 4.10e-01  2.38e+05     1s\n",
      "INFO:gurobipy:  22   5.34580962e+10  2.86206198e+10  1.41e+05 3.85e-01  2.23e+05     1s\n",
      "INFO:gurobipy:  23   5.30688384e+10  2.92848079e+10  1.35e+05 3.69e-01  2.14e+05     1s\n",
      "INFO:gurobipy:  24   5.28796109e+10  2.97179015e+10  1.33e+05 3.59e-01  2.09e+05     1s\n",
      "INFO:gurobipy:  25   5.26522581e+10  3.12190542e+10  1.29e+05 3.25e-01  1.94e+05     1s\n",
      "INFO:gurobipy:  26   5.13973982e+10  3.27331546e+10  1.11e+05 2.91e-01  1.69e+05     2s\n",
      "INFO:gurobipy:  27   5.10609927e+10  3.29701062e+10  1.04e+05 2.87e-01  1.64e+05     2s\n",
      "INFO:gurobipy:  28   5.08404087e+10  3.34088473e+10  1.01e+05 2.77e-01  1.58e+05     2s\n",
      "INFO:gurobipy:  29   5.10106489e+10  3.39035258e+10  9.40e+04 2.66e-01  1.55e+05     2s\n",
      "INFO:gurobipy:  30   4.99060988e+10  3.57893214e+10  7.86e+04 2.20e-01  1.28e+05     2s\n",
      "INFO:gurobipy:  31   4.96142818e+10  3.59729600e+10  7.37e+04 2.16e-01  1.23e+05     2s\n",
      "INFO:gurobipy:  32   4.92438576e+10  3.71553961e+10  6.54e+04 1.87e-01  1.09e+05     2s\n",
      "INFO:gurobipy:  33   4.86823937e+10  3.74085339e+10  6.04e+04 1.80e-01  1.02e+05     2s\n",
      "INFO:gurobipy:  34   4.85642071e+10  3.75553191e+10  5.46e+04 1.77e-01  9.93e+04     2s\n",
      "INFO:gurobipy:  35   4.83723528e+10  3.89986853e+10  5.22e+04 1.34e-01  8.51e+04     2s\n",
      "INFO:gurobipy:  36   4.80931661e+10  3.92447675e+10  4.90e+04 1.28e-01  8.04e+04     2s\n",
      "INFO:gurobipy:  37   4.79070509e+10  4.00651581e+10  4.67e+04 1.06e-01  7.15e+04     2s\n",
      "INFO:gurobipy:  38   4.79250072e+10  4.01542782e+10  4.57e+04 1.04e-01  7.08e+04     2s\n",
      "INFO:gurobipy:  39   4.78235946e+10  4.04034251e+10  4.24e+04 9.81e-02  6.75e+04     2s\n",
      "INFO:gurobipy:  40   4.71993999e+10  4.14363696e+10  3.42e+04 7.33e-02  5.25e+04     2s\n",
      "INFO:gurobipy:  41   4.71351330e+10  4.15498684e+10  3.25e+04 7.10e-02  5.08e+04     2s\n",
      "INFO:gurobipy:  42   4.66805018e+10  4.16460969e+10  2.70e+04 6.87e-02  4.56e+04     2s\n",
      "INFO:gurobipy:  43   4.65838293e+10  4.17634819e+10  2.57e+04 6.63e-02  4.37e+04     2s\n",
      "INFO:gurobipy:  44   4.65169913e+10  4.18862040e+10  2.46e+04 6.33e-02  4.20e+04     2s\n",
      "INFO:gurobipy:  45   4.64398131e+10  4.19994208e+10  2.35e+04 6.05e-02  4.02e+04     2s\n",
      "INFO:gurobipy:  46   4.63950183e+10  4.20445889e+10  2.29e+04 5.95e-02  3.94e+04     2s\n",
      "INFO:gurobipy:  47   4.63731876e+10  4.21182683e+10  2.13e+04 5.78e-02  3.84e+04     3s\n",
      "INFO:gurobipy:  48   4.61564489e+10  4.23541417e+10  1.76e+04 5.16e-02  3.42e+04     3s\n",
      "INFO:gurobipy:  49   4.63148855e+10  4.24317477e+10  1.69e+04 5.01e-02  3.48e+04     3s\n",
      "INFO:gurobipy:  50   4.61605654e+10  4.26593180e+10  1.46e+04 4.45e-02  3.13e+04     3s\n",
      "INFO:gurobipy:  51   4.60494771e+10  4.27600876e+10  1.32e+04 4.23e-02  2.90e+04     3s\n",
      "INFO:gurobipy:  52   4.59448186e+10  4.27680462e+10  1.21e+04 4.16e-02  2.80e+04     3s\n",
      "INFO:gurobipy:  53   4.58711398e+10  4.30315416e+10  1.14e+04 3.62e-02  2.51e+04     3s\n",
      "INFO:gurobipy:  54   4.57898001e+10  4.30949736e+10  1.04e+04 3.50e-02  2.37e+04     3s\n",
      "INFO:gurobipy:  55   4.57096246e+10  4.31539356e+10  9.37e+03 3.38e-02  2.25e+04     3s\n",
      "INFO:gurobipy:  56   4.56759795e+10  4.32195060e+10  8.87e+03 3.27e-02  2.16e+04     3s\n",
      "INFO:gurobipy:  57   4.56065898e+10  4.32842498e+10  7.62e+03 3.13e-02  2.03e+04     3s\n",
      "INFO:gurobipy:  58   4.55837251e+10  4.33526688e+10  7.32e+03 2.99e-02  1.95e+04     3s\n",
      "INFO:gurobipy:  59   4.54533360e+10  4.34037213e+10  5.34e+03 2.91e-02  1.78e+04     3s\n",
      "INFO:gurobipy:  60   4.53847695e+10  4.34560928e+10  4.86e+03 2.71e-02  1.68e+04     3s\n",
      "INFO:gurobipy:  61   4.54392589e+10  4.34816811e+10  4.23e+03 2.65e-02  1.69e+04     3s\n",
      "INFO:gurobipy:  62   4.53551657e+10  4.35681352e+10  3.48e+03 2.44e-02  1.54e+04     3s\n",
      "INFO:gurobipy:  63   4.52673513e+10  4.36627246e+10  3.01e+03 2.24e-02  1.38e+04     3s\n",
      "INFO:gurobipy:  64   4.52001281e+10  4.37456939e+10  2.62e+03 2.02e-02  1.25e+04     3s\n",
      "INFO:gurobipy:  65   4.51750276e+10  4.37609305e+10  2.43e+03 1.99e-02  1.22e+04     3s\n",
      "INFO:gurobipy:  66   4.51298702e+10  4.37965204e+10  2.22e+03 1.91e-02  1.15e+04     3s\n",
      "INFO:gurobipy:  67   4.50877304e+10  4.38576614e+10  1.95e+03 1.80e-02  1.06e+04     3s\n",
      "INFO:gurobipy:  68   4.50531407e+10  4.38835853e+10  1.77e+03 1.74e-02  1.00e+04     3s\n",
      "INFO:gurobipy:  69   4.50417435e+10  4.39293371e+10  1.67e+03 1.67e-02  9.54e+03     3s\n",
      "INFO:gurobipy:  70   4.50507854e+10  4.39665230e+10  1.47e+03 1.60e-02  9.29e+03     4s\n",
      "INFO:gurobipy:  71   4.50128601e+10  4.39891045e+10  1.33e+03 1.55e-02  8.76e+03     4s\n",
      "INFO:gurobipy:  72   4.50014848e+10  4.40349584e+10  1.24e+03 1.47e-02  8.27e+03     4s\n",
      "INFO:gurobipy:  73   4.49964203e+10  4.40519503e+10  1.21e+03 1.44e-02  8.08e+03     4s\n",
      "INFO:gurobipy:  74   4.49950702e+10  4.40601462e+10  1.20e+03 1.42e-02  8.00e+03     4s\n",
      "INFO:gurobipy:  75   4.49952886e+10  4.40710112e+10  1.18e+03 1.38e-02  7.91e+03     4s\n",
      "INFO:gurobipy:  76   4.49886606e+10  4.41072608e+10  1.14e+03 1.30e-02  7.54e+03     4s\n",
      "INFO:gurobipy:  77   4.49673325e+10  4.41627622e+10  1.02e+03 1.18e-02  6.88e+03     4s\n",
      "INFO:gurobipy:  78   4.49155173e+10  4.41637138e+10  8.38e+02 1.17e-02  6.42e+03     4s\n",
      "INFO:gurobipy:  79   4.49012998e+10  4.42361166e+10  7.94e+02 9.91e-03  5.69e+03     4s\n",
      "INFO:gurobipy:  80   4.49216196e+10  4.42831860e+10  7.81e+02 8.96e-03  5.46e+03     4s\n",
      "INFO:gurobipy:  81   4.49006955e+10  4.42878886e+10  7.22e+02 8.84e-03  5.24e+03     4s\n",
      "INFO:gurobipy:  82   4.48911796e+10  4.42984149e+10  6.94e+02 8.54e-03  5.07e+03     4s\n",
      "INFO:gurobipy:  83   4.48711317e+10  4.43101834e+10  6.16e+02 8.29e-03  4.79e+03     4s\n",
      "INFO:gurobipy:  84   4.48688753e+10  4.43335772e+10  5.69e+02 7.79e-03  4.57e+03     4s\n",
      "INFO:gurobipy:  85   4.48331261e+10  4.44073367e+10  4.76e+02 5.59e-03  3.64e+03     4s\n",
      "INFO:gurobipy:  86   4.48185833e+10  4.44181611e+10  4.13e+02 5.40e-03  3.42e+03     4s\n",
      "INFO:gurobipy:  87   4.48052682e+10  4.44322221e+10  3.74e+02 5.13e-03  3.18e+03     4s\n",
      "INFO:gurobipy:  88   4.47987645e+10  4.44585673e+10  3.56e+02 4.65e-03  2.90e+03     4s\n",
      "INFO:gurobipy:  89   4.47902524e+10  4.44704252e+10  3.26e+02 4.27e-03  2.73e+03     4s\n",
      "INFO:gurobipy:  90   4.47879468e+10  4.44771258e+10  2.86e+02 4.16e-03  2.65e+03     4s\n",
      "INFO:gurobipy:  91   4.47736656e+10  4.45449389e+10  2.42e+02 2.66e-03  1.95e+03     4s\n",
      "INFO:gurobipy:  92   4.47702015e+10  4.45524707e+10  2.21e+02 2.54e-03  1.86e+03     4s\n",
      "INFO:gurobipy:  93   4.47648394e+10  4.45670711e+10  2.05e+02 2.24e-03  1.69e+03     5s\n",
      "INFO:gurobipy:  94   4.47639071e+10  4.45696675e+10  2.03e+02 2.18e-03  1.66e+03     5s\n",
      "INFO:gurobipy:  95   4.47441083e+10  4.45963680e+10  1.49e+02 1.72e-03  1.26e+03     5s\n",
      "INFO:gurobipy:  96   4.47433051e+10  4.46022163e+10  1.44e+02 1.63e-03  1.20e+03     5s\n",
      "INFO:gurobipy:  97   4.47416500e+10  4.46048085e+10  1.35e+02 1.59e-03  1.17e+03     5s\n",
      "INFO:gurobipy:  98   4.47338909e+10  4.46084966e+10  9.81e+01 1.52e-03  1.07e+03     5s\n",
      "INFO:gurobipy:  99   4.47306648e+10  4.46279971e+10  7.31e+01 1.22e-03  8.73e+02     5s\n",
      "INFO:gurobipy: 100   4.47169308e+10  4.46327160e+10  4.04e+01 1.11e-03  7.15e+02     5s\n",
      "INFO:gurobipy: 101   4.47109657e+10  4.46496197e+10  2.73e+01 7.64e-04  5.21e+02     5s\n",
      "INFO:gurobipy: 102   4.47086090e+10  4.46617851e+10  2.04e+01 5.74e-04  3.97e+02     5s\n",
      "INFO:gurobipy: 103   4.47076217e+10  4.46666251e+10  1.86e+01 4.91e-04  3.48e+02     5s\n",
      "INFO:gurobipy: 104   4.47042929e+10  4.46702600e+10  1.17e+01 4.38e-04  2.89e+02     5s\n",
      "INFO:gurobipy: 105   4.47027859e+10  4.46703301e+10  9.08e+00 4.20e-04  2.75e+02     5s\n",
      "INFO:gurobipy: 106   4.47015271e+10  4.46803734e+10  6.07e+00 2.62e-04  1.79e+02     5s\n",
      "INFO:gurobipy: 107   4.47006169e+10  4.46829300e+10  4.39e+00 2.21e-04  1.50e+02     5s\n",
      "INFO:gurobipy: 108   4.46996833e+10  4.46832667e+10  3.46e+00 2.16e-04  1.39e+02     6s\n",
      "INFO:gurobipy: 109   4.46997117e+10  4.46903121e+10  3.22e+00 1.11e-04  7.97e+01     6s\n",
      "INFO:gurobipy: 110   4.46975028e+10  4.46947739e+10  1.00e-01 2.66e-05  2.31e+01     6s\n",
      "INFO:gurobipy: 111   4.46971510e+10  4.46970196e+10  3.47e-05 1.27e-09  1.11e+00     6s\n",
      "INFO:gurobipy: 112   4.46971173e+10  4.46971169e+10  4.22e-08 4.66e-10  3.37e-03     6s\n",
      "INFO:gurobipy: 113   4.46971172e+10  4.46971172e+10  5.82e-11 3.32e-09  3.38e-09     6s\n",
      "INFO:gurobipy:\n",
      "INFO:gurobipy:Barrier solved model in 113 iterations and 5.82 seconds (2.18 work units)\n",
      "INFO:gurobipy:Optimal objective 4.46971172e+10\n",
      "INFO:gurobipy:\n",
      "INFO:gurobipy:Crossover log...\n",
      "INFO:gurobipy:\n",
      "INFO:gurobipy:    8767 DPushes remaining with DInf 0.0000000e+00                 6s\n",
      "INFO:gurobipy:       0 DPushes remaining with DInf 0.0000000e+00                 6s\n",
      "INFO:gurobipy:Warning: Markowitz tolerance tightened to 0.25\n",
      "INFO:gurobipy:\n",
      "INFO:gurobipy:       0 PPushes remaining with PInf 0.0000000e+00                 6s\n",
      "INFO:gurobipy:\n",
      "INFO:gurobipy:  Push phase complete: Pinf 0.0000000e+00, Dinf 5.6238871e-09      6s\n",
      "INFO:gurobipy:\n",
      "INFO:gurobipy:\n",
      "INFO:gurobipy:Solved with barrier\n",
      "INFO:gurobipy:Iteration    Objective       Primal Inf.    Dual Inf.      Time\n",
      "INFO:gurobipy:    8770    4.4697117e+10   0.000000e+00   0.000000e+00      6s\n",
      "INFO:gurobipy:\n",
      "INFO:gurobipy:Solved in 8770 iterations and 6.33 seconds (2.23 work units)\n",
      "INFO:gurobipy:Optimal objective  4.469711723e+10\n",
      "INFO:linopy.constants: Optimization successful: \n",
      "Status: ok\n",
      "Termination condition: optimal\n",
      "Solution: 43805 primals, 96366 duals\n",
      "Objective: 4.47e+10\n",
      "Solver model: available\n",
      "Solver message: 2\n",
      "\n",
      "INFO:pypsa.optimization.optimize:The shadow-prices of the constraints Generator-ext-p-lower, Generator-ext-p-upper were not assigned to the network.\n",
      "WARNING:pypsa.consistency:The following buses have carriers which are not defined:\n",
      "Index(['electricity bus'], dtype='object', name='Bus')\n",
      "INFO:linopy.model: Solve problem using Gurobi solver\n",
      "INFO:linopy.model:Solver options:\n",
      " - LogToConsole: 0\n",
      "INFO:linopy.io:Writing objective.\n",
      "Writing constraints.: 100%|\u001b[38;2;128;191;255m██████████\u001b[0m| 6/6 [00:01<00:00,  4.27it/s]\n",
      "Writing continuous variables.: 100%|\u001b[38;2;128;191;255m██████████\u001b[0m| 2/2 [00:00<00:00, 15.20it/s]\n",
      "INFO:linopy.io: Writing time: 1.6s\n"
     ]
    },
    {
     "name": "stdout",
     "output_type": "stream",
     "text": [
      "Set parameter Username\n"
     ]
    },
    {
     "name": "stderr",
     "output_type": "stream",
     "text": [
      "INFO:gurobipy:Set parameter Username\n"
     ]
    },
    {
     "name": "stdout",
     "output_type": "stream",
     "text": [
      "Set parameter LicenseID to value 2659440\n"
     ]
    },
    {
     "name": "stderr",
     "output_type": "stream",
     "text": [
      "INFO:gurobipy:Set parameter LicenseID to value 2659440\n"
     ]
    },
    {
     "name": "stdout",
     "output_type": "stream",
     "text": [
      "Academic license - for non-commercial use only - expires 2026-04-30\n"
     ]
    },
    {
     "name": "stderr",
     "output_type": "stream",
     "text": [
      "INFO:gurobipy:Academic license - for non-commercial use only - expires 2026-04-30\n"
     ]
    },
    {
     "name": "stdout",
     "output_type": "stream",
     "text": [
      "Read LP format model from file /private/var/folders/dk/qccdw4qx5dq5wxkdgsyy_g400000gn/T/linopy-problem-mf3by4gx.lp\n"
     ]
    },
    {
     "name": "stderr",
     "output_type": "stream",
     "text": [
      "INFO:gurobipy:Read LP format model from file /private/var/folders/dk/qccdw4qx5dq5wxkdgsyy_g400000gn/T/linopy-problem-mf3by4gx.lp\n"
     ]
    },
    {
     "name": "stdout",
     "output_type": "stream",
     "text": [
      "Reading time = 0.46 seconds\n"
     ]
    },
    {
     "name": "stderr",
     "output_type": "stream",
     "text": [
      "INFO:gurobipy:Reading time = 0.46 seconds\n"
     ]
    },
    {
     "name": "stdout",
     "output_type": "stream",
     "text": [
      "obj: 96366 rows, 43805 columns, 179719 nonzeros\n"
     ]
    },
    {
     "name": "stderr",
     "output_type": "stream",
     "text": [
      "INFO:gurobipy:obj: 96366 rows, 43805 columns, 179719 nonzeros\n"
     ]
    },
    {
     "name": "stdout",
     "output_type": "stream",
     "text": [
      "Set parameter LogToConsole to value 0\n"
     ]
    },
    {
     "name": "stderr",
     "output_type": "stream",
     "text": [
      "INFO:gurobipy:Set parameter LogToConsole to value 0\n",
      "INFO:gurobipy:Gurobi Optimizer version 12.0.1 build v12.0.1rc0 (mac64[x86] - Darwin 21.6.0 21G531)\n",
      "INFO:gurobipy:\n",
      "INFO:gurobipy:CPU model: Intel(R) Core(TM) i5-8210Y CPU @ 1.60GHz\n",
      "INFO:gurobipy:Thread count: 2 physical cores, 4 logical processors, using up to 4 threads\n",
      "INFO:gurobipy:\n",
      "INFO:gurobipy:Non-default parameters:\n",
      "INFO:gurobipy:LogToConsole  0\n",
      "INFO:gurobipy:\n",
      "INFO:gurobipy:Optimize a model with 96366 rows, 43805 columns and 179719 nonzeros\n",
      "INFO:gurobipy:Model fingerprint: 0x8daf623b\n",
      "INFO:gurobipy:Coefficient statistics:\n",
      "INFO:gurobipy:  Matrix range     [1e-03, 1e+00]\n",
      "INFO:gurobipy:  Objective range  [2e+01, 8e+05]\n",
      "INFO:gurobipy:  Bounds range     [0e+00, 0e+00]\n",
      "INFO:gurobipy:  RHS range        [1e+04, 5e+04]\n",
      "INFO:gurobipy:Presolve removed 48051 rows and 4246 columns\n",
      "INFO:gurobipy:Presolve time: 0.21s\n",
      "INFO:gurobipy:Presolved: 48315 rows, 39559 columns, 127422 nonzeros\n",
      "INFO:gurobipy:\n",
      "INFO:gurobipy:Concurrent LP optimizer: dual simplex and barrier\n",
      "INFO:gurobipy:Showing barrier log only...\n",
      "INFO:gurobipy:\n",
      "INFO:gurobipy:Ordering time: 0.02s\n",
      "INFO:gurobipy:\n",
      "INFO:gurobipy:Barrier statistics:\n",
      "INFO:gurobipy: Dense cols : 5\n",
      "INFO:gurobipy: AA' NZ     : 9.663e+04\n",
      "INFO:gurobipy: Factor NZ  : 4.272e+05 (roughly 40 MB of memory)\n",
      "INFO:gurobipy: Factor Ops : 3.925e+06 (less than 1 second per iteration)\n",
      "INFO:gurobipy: Threads    : 1\n",
      "INFO:gurobipy:\n",
      "INFO:gurobipy:                  Objective                Residual\n",
      "INFO:gurobipy:Iter       Primal          Dual         Primal    Dual     Compl     Time\n",
      "INFO:gurobipy:   0   2.66812778e+11  0.00000000e+00  4.69e+08 0.00e+00  1.62e+08     0s\n",
      "INFO:gurobipy:   1   4.04023134e+11 -4.84718596e+11  6.04e+07 3.74e+02  2.99e+07     0s\n",
      "INFO:gurobipy:   2   2.46319987e+11 -1.89061614e+11  3.20e+06 2.58e+01  4.65e+06     1s\n",
      "INFO:gurobipy:   3   1.42148623e+11 -1.76766111e+10  1.38e+06 2.17e+00  1.50e+06     1s\n",
      "INFO:gurobipy:   4   1.11824260e+11  4.50494714e+09  1.01e+06 1.16e+00  9.86e+05     1s\n",
      "INFO:gurobipy:   5   1.03079723e+11  4.81192895e+09  8.90e+05 1.13e+00  9.01e+05     1s\n",
      "INFO:gurobipy:   6   9.59315574e+10  6.77896720e+09  8.02e+05 1.03e+00  8.16e+05     1s\n",
      "INFO:gurobipy:   7   8.45356742e+10  1.04038180e+10  6.60e+05 8.51e-01  6.77e+05     1s\n",
      "INFO:gurobipy:   8   8.09855709e+10  1.10390985e+10  6.07e+05 8.28e-01  6.38e+05     1s\n",
      "INFO:gurobipy:   9   7.70200137e+10  1.25459436e+10  5.07e+05 7.78e-01  5.85e+05     1s\n",
      "INFO:gurobipy:  10   7.13649082e+10  1.43749547e+10  4.21e+05 6.57e-01  5.16e+05     1s\n",
      "INFO:gurobipy:  11   6.59830499e+10  1.55571481e+10  3.46e+05 6.18e-01  4.56e+05     1s\n",
      "INFO:gurobipy:  12   6.34757897e+10  1.62449608e+10  2.91e+05 5.99e-01  4.25e+05     1s\n",
      "INFO:gurobipy:  13   6.08472568e+10  2.10634105e+10  2.56e+05 4.52e-01  3.60e+05     1s\n",
      "INFO:gurobipy:  14   5.88750093e+10  2.62094667e+10  2.19e+05 3.35e-01  2.99e+05     1s\n",
      "INFO:gurobipy:  15   5.66532913e+10  2.68038832e+10  1.87e+05 3.26e-01  2.73e+05     1s\n",
      "INFO:gurobipy:  16   5.63473005e+10  2.74508057e+10  1.82e+05 3.17e-01  2.65e+05     1s\n",
      "INFO:gurobipy:  17   5.48046260e+10  2.84071447e+10  1.52e+05 3.03e-01  2.41e+05     1s\n",
      "INFO:gurobipy:  18   5.41111335e+10  2.94636439e+10  1.36e+05 2.87e-01  2.25e+05     1s\n",
      "INFO:gurobipy:  19   5.38864512e+10  3.19079148e+10  1.33e+05 2.49e-01  2.03e+05     2s\n",
      "INFO:gurobipy:  20   5.26786451e+10  3.33186264e+10  1.10e+05 2.27e-01  1.79e+05     2s\n",
      "INFO:gurobipy:  21   5.19719460e+10  3.98265607e+10  9.50e+04 1.26e-01  1.18e+05     2s\n",
      "INFO:gurobipy:  22   5.10921355e+10  4.09646950e+10  8.32e+04 1.04e-01  1.00e+05     2s\n",
      "INFO:gurobipy:  23   5.02397708e+10  4.14214762e+10  7.04e+04 9.25e-02  8.72e+04     2s\n",
      "INFO:gurobipy:  24   5.00778361e+10  4.17521754e+10  6.37e+04 8.68e-02  8.22e+04     2s\n",
      "INFO:gurobipy:  25   4.97584750e+10  4.23211720e+10  5.13e+04 7.66e-02  7.28e+04     2s\n",
      "INFO:gurobipy:  26   4.95065250e+10  4.25254249e+10  4.20e+04 7.29e-02  6.72e+04     2s\n",
      "INFO:gurobipy:  27   4.95345889e+10  4.26436707e+10  3.80e+04 7.12e-02  6.58e+04     2s\n",
      "INFO:gurobipy:  28   4.93695532e+10  4.34224367e+10  3.64e+04 5.67e-02  5.77e+04     2s\n",
      "INFO:gurobipy:  29   4.91356195e+10  4.35678173e+10  3.42e+04 5.43e-02  5.43e+04     2s\n",
      "INFO:gurobipy:  30   4.88991866e+10  4.36608252e+10  3.06e+04 5.32e-02  5.10e+04     2s\n",
      "INFO:gurobipy:  31   4.84474272e+10  4.41770570e+10  2.49e+04 4.40e-02  4.18e+04     2s\n",
      "INFO:gurobipy:  32   4.81164566e+10  4.42720420e+10  2.13e+04 4.24e-02  3.75e+04     2s\n",
      "INFO:gurobipy:  33   4.80843238e+10  4.43738515e+10  2.03e+04 4.09e-02  3.61e+04     3s\n",
      "INFO:gurobipy:  34   4.80229025e+10  4.43896371e+10  1.98e+04 4.07e-02  3.54e+04     3s\n",
      "INFO:gurobipy:  35   4.79693926e+10  4.45531330e+10  1.91e+04 3.79e-02  3.35e+04     3s\n",
      "INFO:gurobipy:  36   4.78500768e+10  4.46210484e+10  1.88e+04 3.70e-02  3.19e+04     3s\n",
      "INFO:gurobipy:  37   4.78569972e+10  4.47674442e+10  1.79e+04 3.46e-02  3.04e+04     3s\n",
      "INFO:gurobipy:  38   4.77559332e+10  4.48082779e+10  1.61e+04 3.40e-02  2.88e+04     3s\n",
      "INFO:gurobipy:  39   4.77094621e+10  4.48781717e+10  1.50e+04 3.31e-02  2.77e+04     3s\n",
      "INFO:gurobipy:  40   4.77011554e+10  4.49331077e+10  1.46e+04 3.23e-02  2.70e+04     3s\n",
      "INFO:gurobipy:  41   4.76868821e+10  4.49835381e+10  1.36e+04 3.14e-02  2.62e+04     3s\n",
      "INFO:gurobipy:  42   4.76101852e+10  4.50648745e+10  1.27e+04 2.93e-02  2.47e+04     3s\n",
      "INFO:gurobipy:  43   4.75967825e+10  4.51383665e+10  1.17e+04 2.83e-02  2.37e+04     3s\n",
      "INFO:gurobipy:  44   4.75451831e+10  4.51965736e+10  1.10e+04 2.71e-02  2.27e+04     3s\n",
      "INFO:gurobipy:  45   4.73442186e+10  4.52240969e+10  8.43e+03 2.66e-02  2.02e+04     3s\n",
      "INFO:gurobipy:  46   4.73375380e+10  4.55060707e+10  8.24e+03 2.14e-02  1.77e+04     3s\n",
      "INFO:gurobipy:  47   4.72365892e+10  4.57360712e+10  7.09e+03 1.54e-02  1.46e+04     3s\n",
      "INFO:gurobipy:  48   4.72331003e+10  4.58467840e+10  6.67e+03 1.39e-02  1.35e+04     3s\n",
      "INFO:gurobipy:  49   4.71795919e+10  4.58618008e+10  5.14e+03 1.37e-02  1.25e+04     3s\n",
      "INFO:gurobipy:  50   4.71475118e+10  4.58907856e+10  4.64e+03 1.31e-02  1.19e+04     3s\n",
      "INFO:gurobipy:  51   4.71307778e+10  4.59105485e+10  4.46e+03 1.28e-02  1.15e+04     3s\n",
      "INFO:gurobipy:  52   4.71227385e+10  4.59192506e+10  4.37e+03 1.27e-02  1.13e+04     4s\n",
      "INFO:gurobipy:  53   4.71187678e+10  4.59234675e+10  4.32e+03 1.26e-02  1.13e+04     4s\n",
      "INFO:gurobipy:  54   4.71062105e+10  4.59654390e+10  4.23e+03 1.12e-02  1.08e+04     4s\n",
      "INFO:gurobipy:  55   4.70768396e+10  4.59815872e+10  3.51e+03 1.10e-02  1.01e+04     4s\n",
      "INFO:gurobipy:  56   4.70621734e+10  4.60821385e+10  3.01e+03 9.44e-03  9.06e+03     4s\n",
      "INFO:gurobipy:  57   4.69921568e+10  4.61349064e+10  2.73e+03 8.54e-03  7.95e+03     4s\n",
      "INFO:gurobipy:  58   4.69882745e+10  4.62583495e+10  2.53e+03 6.43e-03  6.81e+03     4s\n",
      "INFO:gurobipy:  59   4.69854435e+10  4.63287320e+10  2.36e+03 5.50e-03  6.14e+03     4s\n",
      "INFO:gurobipy:  60   4.69904109e+10  4.63648864e+10  1.92e+03 5.09e-03  5.77e+03     4s\n",
      "INFO:gurobipy:  61   4.69513204e+10  4.64890596e+10  1.70e+03 3.45e-03  4.34e+03     4s\n",
      "INFO:gurobipy:  62   4.69455966e+10  4.65268733e+10  1.62e+03 3.05e-03  3.95e+03     4s\n",
      "INFO:gurobipy:  63   4.69389736e+10  4.65290548e+10  1.52e+03 3.00e-03  3.85e+03     4s\n",
      "INFO:gurobipy:  64   4.69317163e+10  4.65328257e+10  1.42e+03 2.90e-03  3.73e+03     4s\n",
      "INFO:gurobipy:  65   4.69079913e+10  4.65453397e+10  1.28e+03 2.77e-03  3.39e+03     4s\n",
      "INFO:gurobipy:  66   4.68551627e+10  4.65828963e+10  8.62e+02 2.25e-03  2.51e+03     4s\n",
      "INFO:gurobipy:  67   4.68513322e+10  4.65997541e+10  8.30e+02 1.96e-03  2.33e+03     4s\n",
      "INFO:gurobipy:  68   4.68371347e+10  4.66275781e+10  6.64e+02 1.65e-03  1.93e+03     4s\n",
      "INFO:gurobipy:  69   4.68309867e+10  4.66322932e+10  6.16e+02 1.55e-03  1.83e+03     4s\n",
      "INFO:gurobipy:  70   4.68280352e+10  4.66375177e+10  5.96e+02 1.48e-03  1.76e+03     4s\n",
      "INFO:gurobipy:  71   4.68250344e+10  4.66492111e+10  5.76e+02 1.30e-03  1.63e+03     4s\n",
      "INFO:gurobipy:  72   4.68103566e+10  4.66870063e+10  4.52e+02 8.39e-04  1.15e+03     5s\n",
      "INFO:gurobipy:  73   4.67796958e+10  4.66887465e+10  2.09e+02 7.44e-04  8.20e+02     5s\n",
      "INFO:gurobipy:  74   4.67707259e+10  4.67358468e+10  1.17e+02 1.36e-04  3.23e+02     5s\n",
      "INFO:gurobipy:  75   4.67594543e+10  4.67465550e+10  2.86e+01 4.15e-05  1.16e+02     5s\n",
      "INFO:gurobipy:  76   4.67588613e+10  4.67465734e+10  2.47e+01 3.88e-05  1.10e+02     5s\n",
      "INFO:gurobipy:  77   4.67559427e+10  4.67496650e+10  4.66e+00 2.43e-05  5.42e+01     5s\n",
      "INFO:gurobipy:  78   4.67547834e+10  4.67541916e+10  4.07e-01 1.90e-08  5.09e+00     5s\n",
      "INFO:gurobipy:  79   4.67546869e+10  4.67546845e+10  1.94e-04 5.53e-10  2.02e-02     5s\n",
      "INFO:gurobipy:  80   4.67546860e+10  4.67546860e+10  1.07e-06 2.21e-09  2.04e-08     5s\n",
      "INFO:gurobipy:  81   4.67546860e+10  4.67546860e+10  2.86e-09 5.24e-09  2.04e-14     5s\n",
      "INFO:gurobipy:\n",
      "INFO:gurobipy:Barrier solved model in 81 iterations and 5.18 seconds (1.58 work units)\n",
      "INFO:gurobipy:Optimal objective 4.67546860e+10\n",
      "INFO:gurobipy:\n",
      "INFO:gurobipy:Crossover log...\n",
      "INFO:gurobipy:\n",
      "INFO:gurobipy:   13277 DPushes remaining with DInf 0.0000000e+00                 5s\n",
      "INFO:gurobipy:       0 DPushes remaining with DInf 0.0000000e+00                 5s\n",
      "INFO:gurobipy:\n",
      "INFO:gurobipy:       0 PPushes remaining with PInf 0.0000000e+00                 5s\n",
      "INFO:gurobipy:\n",
      "INFO:gurobipy:  Push phase complete: Pinf 0.0000000e+00, Dinf 1.6936959e-09      5s\n",
      "INFO:gurobipy:\n",
      "INFO:gurobipy:\n",
      "INFO:gurobipy:Solved with barrier\n",
      "INFO:gurobipy:Iteration    Objective       Primal Inf.    Dual Inf.      Time\n",
      "INFO:gurobipy:   13280    4.6754686e+10   0.000000e+00   0.000000e+00      5s\n",
      "INFO:gurobipy:\n",
      "INFO:gurobipy:Solved in 13280 iterations and 5.40 seconds (1.63 work units)\n",
      "INFO:gurobipy:Optimal objective  4.675468599e+10\n",
      "INFO:linopy.constants: Optimization successful: \n",
      "Status: ok\n",
      "Termination condition: optimal\n",
      "Solution: 43805 primals, 96366 duals\n",
      "Objective: 4.68e+10\n",
      "Solver model: available\n",
      "Solver message: 2\n",
      "\n",
      "INFO:pypsa.optimization.optimize:The shadow-prices of the constraints Generator-ext-p-lower, Generator-ext-p-upper were not assigned to the network.\n",
      "WARNING:pypsa.consistency:The following buses have carriers which are not defined:\n",
      "Index(['electricity bus'], dtype='object', name='Bus')\n",
      "INFO:linopy.model: Solve problem using Gurobi solver\n",
      "INFO:linopy.model:Solver options:\n",
      " - LogToConsole: 0\n",
      "INFO:linopy.io:Writing objective.\n",
      "Writing constraints.: 100%|\u001b[38;2;128;191;255m██████████\u001b[0m| 6/6 [00:00<00:00, 11.77it/s]\n",
      "Writing continuous variables.: 100%|\u001b[38;2;128;191;255m██████████\u001b[0m| 2/2 [00:00<00:00, 22.51it/s]\n",
      "INFO:linopy.io: Writing time: 0.64s\n"
     ]
    },
    {
     "name": "stdout",
     "output_type": "stream",
     "text": [
      "Set parameter Username\n"
     ]
    },
    {
     "name": "stderr",
     "output_type": "stream",
     "text": [
      "INFO:gurobipy:Set parameter Username\n"
     ]
    },
    {
     "name": "stdout",
     "output_type": "stream",
     "text": [
      "Set parameter LicenseID to value 2659440\n"
     ]
    },
    {
     "name": "stderr",
     "output_type": "stream",
     "text": [
      "INFO:gurobipy:Set parameter LicenseID to value 2659440\n"
     ]
    },
    {
     "name": "stdout",
     "output_type": "stream",
     "text": [
      "Academic license - for non-commercial use only - expires 2026-04-30\n"
     ]
    },
    {
     "name": "stderr",
     "output_type": "stream",
     "text": [
      "INFO:gurobipy:Academic license - for non-commercial use only - expires 2026-04-30\n"
     ]
    },
    {
     "name": "stdout",
     "output_type": "stream",
     "text": [
      "Read LP format model from file /private/var/folders/dk/qccdw4qx5dq5wxkdgsyy_g400000gn/T/linopy-problem-a8w0h4er.lp\n"
     ]
    },
    {
     "name": "stderr",
     "output_type": "stream",
     "text": [
      "INFO:gurobipy:Read LP format model from file /private/var/folders/dk/qccdw4qx5dq5wxkdgsyy_g400000gn/T/linopy-problem-a8w0h4er.lp\n"
     ]
    },
    {
     "name": "stdout",
     "output_type": "stream",
     "text": [
      "Reading time = 0.23 seconds\n"
     ]
    },
    {
     "name": "stderr",
     "output_type": "stream",
     "text": [
      "INFO:gurobipy:Reading time = 0.23 seconds\n"
     ]
    },
    {
     "name": "stdout",
     "output_type": "stream",
     "text": [
      "obj: 96366 rows, 43805 columns, 179719 nonzeros\n"
     ]
    },
    {
     "name": "stderr",
     "output_type": "stream",
     "text": [
      "INFO:gurobipy:obj: 96366 rows, 43805 columns, 179719 nonzeros\n"
     ]
    },
    {
     "name": "stdout",
     "output_type": "stream",
     "text": [
      "Set parameter LogToConsole to value 0\n"
     ]
    },
    {
     "name": "stderr",
     "output_type": "stream",
     "text": [
      "INFO:gurobipy:Set parameter LogToConsole to value 0\n",
      "INFO:gurobipy:Gurobi Optimizer version 12.0.1 build v12.0.1rc0 (mac64[x86] - Darwin 21.6.0 21G531)\n",
      "INFO:gurobipy:\n",
      "INFO:gurobipy:CPU model: Intel(R) Core(TM) i5-8210Y CPU @ 1.60GHz\n",
      "INFO:gurobipy:Thread count: 2 physical cores, 4 logical processors, using up to 4 threads\n",
      "INFO:gurobipy:\n",
      "INFO:gurobipy:Non-default parameters:\n",
      "INFO:gurobipy:LogToConsole  0\n",
      "INFO:gurobipy:\n",
      "INFO:gurobipy:Optimize a model with 96366 rows, 43805 columns and 179719 nonzeros\n",
      "INFO:gurobipy:Model fingerprint: 0x58507d44\n",
      "INFO:gurobipy:Coefficient statistics:\n",
      "INFO:gurobipy:  Matrix range     [1e-03, 1e+00]\n",
      "INFO:gurobipy:  Objective range  [2e+01, 8e+05]\n",
      "INFO:gurobipy:  Bounds range     [0e+00, 0e+00]\n",
      "INFO:gurobipy:  RHS range        [1e+03, 5e+04]\n",
      "INFO:gurobipy:Presolve removed 48051 rows and 4246 columns\n",
      "INFO:gurobipy:Presolve time: 0.17s\n",
      "INFO:gurobipy:Presolved: 48315 rows, 39559 columns, 127422 nonzeros\n",
      "INFO:gurobipy:\n",
      "INFO:gurobipy:Concurrent LP optimizer: dual simplex and barrier\n",
      "INFO:gurobipy:Showing barrier log only...\n",
      "INFO:gurobipy:\n",
      "INFO:gurobipy:Ordering time: 0.01s\n",
      "INFO:gurobipy:\n",
      "INFO:gurobipy:Barrier statistics:\n",
      "INFO:gurobipy: Dense cols : 5\n",
      "INFO:gurobipy: AA' NZ     : 9.663e+04\n",
      "INFO:gurobipy: Factor NZ  : 4.272e+05 (roughly 40 MB of memory)\n",
      "INFO:gurobipy: Factor Ops : 3.925e+06 (less than 1 second per iteration)\n",
      "INFO:gurobipy: Threads    : 1\n",
      "INFO:gurobipy:\n",
      "INFO:gurobipy:                  Objective                Residual\n",
      "INFO:gurobipy:Iter       Primal          Dual         Primal    Dual     Compl     Time\n",
      "INFO:gurobipy:   0   2.66903750e+11  0.00000000e+00  4.69e+08 0.00e+00  1.62e+08     0s\n",
      "INFO:gurobipy:   1   4.04160433e+11 -4.84684714e+11  6.04e+07 3.74e+02  2.99e+07     0s\n",
      "INFO:gurobipy:   2   2.46499257e+11 -1.89051471e+11  3.24e+06 2.58e+01  4.65e+06     0s\n",
      "INFO:gurobipy:   3   1.42218369e+11 -1.75049110e+10  1.40e+06 2.17e+00  1.50e+06     0s\n",
      "INFO:gurobipy:   4   1.11838965e+11  4.71908905e+09  1.02e+06 1.16e+00  9.86e+05     0s\n",
      "INFO:gurobipy:   5   9.96498093e+10  5.11165642e+09  8.52e+05 1.14e+00  8.68e+05     1s\n",
      "INFO:gurobipy:   6   9.74480086e+10  5.86163200e+09  8.24e+05 1.10e+00  8.40e+05     1s\n",
      "INFO:gurobipy:   7   9.24562637e+10  6.59365316e+09  7.60e+05 1.06e+00  7.87e+05     1s\n",
      "INFO:gurobipy:   8   8.48785786e+10  7.76656839e+09  6.39e+05 1.01e+00  7.04e+05     1s\n",
      "INFO:gurobipy:   9   8.08869052e+10  1.00817074e+10  5.87e+05 9.14e-01  6.46e+05     1s\n",
      "INFO:gurobipy:\n",
      "INFO:gurobipy:Barrier performed 9 iterations in 0.74 seconds (0.29 work units)\n",
      "INFO:gurobipy:Barrier solve interrupted - model solved by another algorithm\n",
      "INFO:gurobipy:\n",
      "INFO:gurobipy:\n",
      "INFO:gurobipy:Solved with dual simplex\n",
      "INFO:gurobipy:Iteration    Objective       Primal Inf.    Dual Inf.      Time\n",
      "INFO:gurobipy:   22414    4.8183252e+10   0.000000e+00   0.000000e+00      1s\n",
      "INFO:gurobipy:\n",
      "INFO:gurobipy:Solved in 22414 iterations and 0.83 seconds (0.46 work units)\n",
      "INFO:gurobipy:Optimal objective  4.818325217e+10\n",
      "INFO:linopy.constants: Optimization successful: \n",
      "Status: ok\n",
      "Termination condition: optimal\n",
      "Solution: 43805 primals, 96366 duals\n",
      "Objective: 4.82e+10\n",
      "Solver model: available\n",
      "Solver message: 2\n",
      "\n",
      "INFO:pypsa.optimization.optimize:The shadow-prices of the constraints Generator-ext-p-lower, Generator-ext-p-upper were not assigned to the network.\n",
      "WARNING:pypsa.consistency:The following buses have carriers which are not defined:\n",
      "Index(['electricity bus'], dtype='object', name='Bus')\n",
      "INFO:linopy.model: Solve problem using Gurobi solver\n",
      "INFO:linopy.model:Solver options:\n",
      " - LogToConsole: 0\n",
      "INFO:linopy.io:Writing objective.\n",
      "Writing constraints.: 100%|\u001b[38;2;128;191;255m██████████\u001b[0m| 6/6 [00:00<00:00, 11.78it/s]\n",
      "Writing continuous variables.: 100%|\u001b[38;2;128;191;255m██████████\u001b[0m| 2/2 [00:00<00:00, 22.05it/s]\n",
      "INFO:linopy.io: Writing time: 0.64s\n"
     ]
    },
    {
     "name": "stdout",
     "output_type": "stream",
     "text": [
      "Set parameter Username\n"
     ]
    },
    {
     "name": "stderr",
     "output_type": "stream",
     "text": [
      "INFO:gurobipy:Set parameter Username\n"
     ]
    },
    {
     "name": "stdout",
     "output_type": "stream",
     "text": [
      "Set parameter LicenseID to value 2659440\n"
     ]
    },
    {
     "name": "stderr",
     "output_type": "stream",
     "text": [
      "INFO:gurobipy:Set parameter LicenseID to value 2659440\n"
     ]
    },
    {
     "name": "stdout",
     "output_type": "stream",
     "text": [
      "Academic license - for non-commercial use only - expires 2026-04-30\n"
     ]
    },
    {
     "name": "stderr",
     "output_type": "stream",
     "text": [
      "INFO:gurobipy:Academic license - for non-commercial use only - expires 2026-04-30\n"
     ]
    },
    {
     "name": "stdout",
     "output_type": "stream",
     "text": [
      "Read LP format model from file /private/var/folders/dk/qccdw4qx5dq5wxkdgsyy_g400000gn/T/linopy-problem-03_2ce1e.lp\n"
     ]
    },
    {
     "name": "stderr",
     "output_type": "stream",
     "text": [
      "INFO:gurobipy:Read LP format model from file /private/var/folders/dk/qccdw4qx5dq5wxkdgsyy_g400000gn/T/linopy-problem-03_2ce1e.lp\n"
     ]
    },
    {
     "name": "stdout",
     "output_type": "stream",
     "text": [
      "Reading time = 0.23 seconds\n"
     ]
    },
    {
     "name": "stderr",
     "output_type": "stream",
     "text": [
      "INFO:gurobipy:Reading time = 0.23 seconds\n"
     ]
    },
    {
     "name": "stdout",
     "output_type": "stream",
     "text": [
      "obj: 96366 rows, 43805 columns, 179719 nonzeros\n"
     ]
    },
    {
     "name": "stderr",
     "output_type": "stream",
     "text": [
      "INFO:gurobipy:obj: 96366 rows, 43805 columns, 179719 nonzeros\n"
     ]
    },
    {
     "name": "stdout",
     "output_type": "stream",
     "text": [
      "Set parameter LogToConsole to value 0\n"
     ]
    },
    {
     "name": "stderr",
     "output_type": "stream",
     "text": [
      "INFO:gurobipy:Set parameter LogToConsole to value 0\n",
      "INFO:gurobipy:Gurobi Optimizer version 12.0.1 build v12.0.1rc0 (mac64[x86] - Darwin 21.6.0 21G531)\n",
      "INFO:gurobipy:\n",
      "INFO:gurobipy:CPU model: Intel(R) Core(TM) i5-8210Y CPU @ 1.60GHz\n",
      "INFO:gurobipy:Thread count: 2 physical cores, 4 logical processors, using up to 4 threads\n",
      "INFO:gurobipy:\n",
      "INFO:gurobipy:Non-default parameters:\n",
      "INFO:gurobipy:LogToConsole  0\n",
      "INFO:gurobipy:\n",
      "INFO:gurobipy:Optimize a model with 96366 rows, 43805 columns and 179719 nonzeros\n",
      "INFO:gurobipy:Model fingerprint: 0x7dfd9346\n",
      "INFO:gurobipy:Coefficient statistics:\n",
      "INFO:gurobipy:  Matrix range     [1e-03, 1e+00]\n",
      "INFO:gurobipy:  Objective range  [2e+01, 8e+05]\n",
      "INFO:gurobipy:  Bounds range     [0e+00, 0e+00]\n",
      "INFO:gurobipy:  RHS range        [1e+02, 5e+04]\n",
      "INFO:gurobipy:Presolve removed 48051 rows and 4246 columns\n",
      "INFO:gurobipy:Presolve time: 0.16s\n",
      "INFO:gurobipy:Presolved: 48315 rows, 39559 columns, 127422 nonzeros\n",
      "INFO:gurobipy:\n",
      "INFO:gurobipy:Concurrent LP optimizer: dual simplex and barrier\n",
      "INFO:gurobipy:Showing barrier log only...\n",
      "INFO:gurobipy:\n",
      "INFO:gurobipy:Ordering time: 0.01s\n",
      "INFO:gurobipy:\n",
      "INFO:gurobipy:Barrier statistics:\n",
      "INFO:gurobipy: Dense cols : 5\n",
      "INFO:gurobipy: AA' NZ     : 9.663e+04\n",
      "INFO:gurobipy: Factor NZ  : 4.272e+05 (roughly 40 MB of memory)\n",
      "INFO:gurobipy: Factor Ops : 3.925e+06 (less than 1 second per iteration)\n",
      "INFO:gurobipy: Threads    : 1\n",
      "INFO:gurobipy:\n",
      "INFO:gurobipy:                  Objective                Residual\n",
      "INFO:gurobipy:Iter       Primal          Dual         Primal    Dual     Compl     Time\n",
      "INFO:gurobipy:   0   2.66912845e+11  0.00000000e+00  4.69e+08 0.00e+00  1.62e+08     0s\n",
      "INFO:gurobipy:   1   4.04174160e+11 -4.84681322e+11  6.04e+07 3.74e+02  2.99e+07     0s\n",
      "INFO:gurobipy:   2   2.46517222e+11 -1.89050439e+11  3.24e+06 2.58e+01  4.65e+06     0s\n",
      "INFO:gurobipy:   3   1.42226326e+11 -1.74877031e+10  1.40e+06 2.17e+00  1.50e+06     0s\n",
      "INFO:gurobipy:\n",
      "INFO:gurobipy:Barrier performed 3 iterations in 0.47 seconds (0.17 work units)\n",
      "INFO:gurobipy:Barrier solve interrupted - model solved by another algorithm\n",
      "INFO:gurobipy:\n",
      "INFO:gurobipy:\n",
      "INFO:gurobipy:Solved with dual simplex\n",
      "INFO:gurobipy:Iteration    Objective       Primal Inf.    Dual Inf.      Time\n",
      "INFO:gurobipy:   22042    4.8722629e+10   0.000000e+00   0.000000e+00      1s\n",
      "INFO:gurobipy:\n",
      "INFO:gurobipy:Solved in 22042 iterations and 0.61 seconds (0.20 work units)\n",
      "INFO:gurobipy:Optimal objective  4.872262888e+10\n",
      "INFO:linopy.constants: Optimization successful: \n",
      "Status: ok\n",
      "Termination condition: optimal\n",
      "Solution: 43805 primals, 96366 duals\n",
      "Objective: 4.87e+10\n",
      "Solver model: available\n",
      "Solver message: 2\n",
      "\n",
      "INFO:pypsa.optimization.optimize:The shadow-prices of the constraints Generator-ext-p-lower, Generator-ext-p-upper were not assigned to the network.\n",
      "WARNING:pypsa.consistency:The following buses have carriers which are not defined:\n",
      "Index(['electricity bus'], dtype='object', name='Bus')\n",
      "INFO:linopy.model: Solve problem using Gurobi solver\n",
      "INFO:linopy.model:Solver options:\n",
      " - LogToConsole: 0\n",
      "INFO:linopy.io:Writing objective.\n",
      "Writing constraints.: 100%|\u001b[38;2;128;191;255m██████████\u001b[0m| 6/6 [00:00<00:00, 11.22it/s]\n",
      "Writing continuous variables.: 100%|\u001b[38;2;128;191;255m██████████\u001b[0m| 2/2 [00:00<00:00, 16.48it/s]\n",
      "INFO:linopy.io: Writing time: 0.7s\n"
     ]
    },
    {
     "name": "stdout",
     "output_type": "stream",
     "text": [
      "Set parameter Username\n"
     ]
    },
    {
     "name": "stderr",
     "output_type": "stream",
     "text": [
      "INFO:gurobipy:Set parameter Username\n"
     ]
    },
    {
     "name": "stdout",
     "output_type": "stream",
     "text": [
      "Set parameter LicenseID to value 2659440\n"
     ]
    },
    {
     "name": "stderr",
     "output_type": "stream",
     "text": [
      "INFO:gurobipy:Set parameter LicenseID to value 2659440\n"
     ]
    },
    {
     "name": "stdout",
     "output_type": "stream",
     "text": [
      "Academic license - for non-commercial use only - expires 2026-04-30\n"
     ]
    },
    {
     "name": "stderr",
     "output_type": "stream",
     "text": [
      "INFO:gurobipy:Academic license - for non-commercial use only - expires 2026-04-30\n"
     ]
    },
    {
     "name": "stdout",
     "output_type": "stream",
     "text": [
      "Read LP format model from file /private/var/folders/dk/qccdw4qx5dq5wxkdgsyy_g400000gn/T/linopy-problem-rrnu9p22.lp\n"
     ]
    },
    {
     "name": "stderr",
     "output_type": "stream",
     "text": [
      "INFO:gurobipy:Read LP format model from file /private/var/folders/dk/qccdw4qx5dq5wxkdgsyy_g400000gn/T/linopy-problem-rrnu9p22.lp\n"
     ]
    },
    {
     "name": "stdout",
     "output_type": "stream",
     "text": [
      "Reading time = 0.24 seconds\n"
     ]
    },
    {
     "name": "stderr",
     "output_type": "stream",
     "text": [
      "INFO:gurobipy:Reading time = 0.24 seconds\n"
     ]
    },
    {
     "name": "stdout",
     "output_type": "stream",
     "text": [
      "obj: 96366 rows, 43805 columns, 179719 nonzeros\n"
     ]
    },
    {
     "name": "stderr",
     "output_type": "stream",
     "text": [
      "INFO:gurobipy:obj: 96366 rows, 43805 columns, 179719 nonzeros\n"
     ]
    },
    {
     "name": "stdout",
     "output_type": "stream",
     "text": [
      "Set parameter LogToConsole to value 0\n"
     ]
    },
    {
     "name": "stderr",
     "output_type": "stream",
     "text": [
      "INFO:gurobipy:Set parameter LogToConsole to value 0\n",
      "INFO:gurobipy:Gurobi Optimizer version 12.0.1 build v12.0.1rc0 (mac64[x86] - Darwin 21.6.0 21G531)\n",
      "INFO:gurobipy:\n",
      "INFO:gurobipy:CPU model: Intel(R) Core(TM) i5-8210Y CPU @ 1.60GHz\n",
      "INFO:gurobipy:Thread count: 2 physical cores, 4 logical processors, using up to 4 threads\n",
      "INFO:gurobipy:\n",
      "INFO:gurobipy:Non-default parameters:\n",
      "INFO:gurobipy:LogToConsole  0\n",
      "INFO:gurobipy:\n",
      "INFO:gurobipy:Optimize a model with 96366 rows, 43805 columns and 179719 nonzeros\n",
      "INFO:gurobipy:Model fingerprint: 0xd32cf857\n",
      "INFO:gurobipy:Coefficient statistics:\n",
      "INFO:gurobipy:  Matrix range     [1e-03, 1e+00]\n",
      "INFO:gurobipy:  Objective range  [2e+01, 8e+05]\n",
      "INFO:gurobipy:  Bounds range     [0e+00, 0e+00]\n",
      "INFO:gurobipy:  RHS range        [2e+04, 5e+04]\n",
      "INFO:gurobipy:Presolve removed 56812 rows and 13007 columns\n",
      "INFO:gurobipy:Presolve time: 0.11s\n",
      "INFO:gurobipy:Presolved: 39554 rows, 30798 columns, 92382 nonzeros\n",
      "INFO:gurobipy:\n",
      "INFO:gurobipy:Concurrent LP optimizer: dual simplex and barrier\n",
      "INFO:gurobipy:Showing barrier log only...\n",
      "INFO:gurobipy:\n",
      "INFO:gurobipy:Ordering time: 0.01s\n",
      "INFO:gurobipy:\n",
      "INFO:gurobipy:Barrier statistics:\n",
      "INFO:gurobipy: Dense cols : 4\n",
      "INFO:gurobipy: AA' NZ     : 6.159e+04\n",
      "INFO:gurobipy: Factor NZ  : 2.514e+05 (roughly 30 MB of memory)\n",
      "INFO:gurobipy: Factor Ops : 1.686e+06 (less than 1 second per iteration)\n",
      "INFO:gurobipy: Threads    : 1\n",
      "INFO:gurobipy:\n",
      "INFO:gurobipy:                  Objective                Residual\n",
      "INFO:gurobipy:Iter       Primal          Dual         Primal    Dual     Compl     Time\n",
      "INFO:gurobipy:   0   2.41733596e+11  0.00000000e+00  2.98e+05 0.00e+00  1.82e+08     0s\n",
      "INFO:gurobipy:   1   4.17311301e+11 -5.10488480e+11  3.94e+04 4.75e+02  3.64e+07     0s\n",
      "INFO:gurobipy:   2   2.63648075e+11 -1.56001542e+11  5.82e-11 1.36e+01  4.88e+06     0s\n",
      "INFO:gurobipy:   3   1.48175776e+11 -1.49147079e+10  7.71e-10 7.54e-01  1.80e+06     0s\n",
      "INFO:gurobipy:   4   1.04013200e+11  9.62141153e+09  3.03e-09 4.95e-10  1.03e+06     0s\n",
      "INFO:gurobipy:   5   1.02090725e+11  1.60711143e+10  2.30e-07 8.14e-02  9.39e+05     0s\n",
      "INFO:gurobipy:\n",
      "INFO:gurobipy:Barrier performed 5 iterations in 0.33 seconds (0.15 work units)\n",
      "INFO:gurobipy:Barrier solve interrupted - model solved by another algorithm\n",
      "INFO:gurobipy:\n",
      "INFO:gurobipy:\n",
      "INFO:gurobipy:Solved with dual simplex\n",
      "INFO:gurobipy:Iteration    Objective       Primal Inf.    Dual Inf.      Time\n",
      "INFO:gurobipy:   22035    4.8930819e+10   0.000000e+00   0.000000e+00      0s\n",
      "INFO:gurobipy:\n",
      "INFO:gurobipy:Solved in 22035 iterations and 0.40 seconds (0.17 work units)\n",
      "INFO:gurobipy:Optimal objective  4.893081938e+10\n",
      "INFO:linopy.constants: Optimization successful: \n",
      "Status: ok\n",
      "Termination condition: optimal\n",
      "Solution: 43805 primals, 96366 duals\n",
      "Objective: 4.89e+10\n",
      "Solver model: available\n",
      "Solver message: 2\n",
      "\n",
      "INFO:pypsa.optimization.optimize:The shadow-prices of the constraints Generator-ext-p-lower, Generator-ext-p-upper were not assigned to the network.\n"
     ]
    },
    {
     "name": "stdout",
     "output_type": "stream",
     "text": [
      "[{'CO2_Limit': 170000000.0, 'Capacity_MW': Generator\n",
      "onshorewind     49966.804979\n",
      "offshorewind        0.000000\n",
      "solar               0.000000\n",
      "CCGT            49928.659751\n",
      "nuclear             0.000000\n",
      "Name: p_nom_opt, dtype: float64, 'CO2_Price': -0.0, 'System_capex': component  carrier    \n",
      "Generator  gas            4242.131505\n",
      "           onshorewind    6182.830781\n",
      "dtype: float64, 'System_opex': component  carrier\n",
      "Generator  gas        10347.969413\n",
      "Name: generators, dtype: float64, 'System_cost': component  carrier    \n",
      "Generator  gas            0.01459\n",
      "           onshorewind        NaN\n",
      "dtype: float64}, {'CO2_Limit': 140000000.0, 'Capacity_MW': Generator\n",
      "onshorewind     49966.804979\n",
      "offshorewind        0.000000\n",
      "solar               0.000000\n",
      "CCGT            49928.659751\n",
      "nuclear             0.000000\n",
      "Name: p_nom_opt, dtype: float64, 'CO2_Price': -0.0, 'System_capex': component  carrier    \n",
      "Generator  gas            4242.131505\n",
      "           onshorewind    6182.830781\n",
      "dtype: float64, 'System_opex': component  carrier\n",
      "Generator  gas        10347.969413\n",
      "Name: generators, dtype: float64, 'System_cost': component  carrier    \n",
      "Generator  gas            0.01459\n",
      "           onshorewind        NaN\n",
      "dtype: float64}, {'CO2_Limit': 70000000.0, 'Capacity_MW': Generator\n",
      "onshorewind     49966.804979\n",
      "offshorewind        0.000000\n",
      "solar               0.000000\n",
      "CCGT            49928.659751\n",
      "nuclear             0.000000\n",
      "Name: p_nom_opt, dtype: float64, 'CO2_Price': -0.0, 'System_capex': component  carrier    \n",
      "Generator  gas            4242.131505\n",
      "           onshorewind    6182.830781\n",
      "dtype: float64, 'System_opex': component  carrier\n",
      "Generator  gas        10347.969413\n",
      "Name: generators, dtype: float64, 'System_cost': component  carrier    \n",
      "Generator  gas            0.01459\n",
      "           onshorewind        NaN\n",
      "dtype: float64}, {'CO2_Limit': 35000000.0, 'Capacity_MW': Generator\n",
      "onshorewind     49966.804979\n",
      "offshorewind        0.000000\n",
      "solar               0.000000\n",
      "CCGT            49928.659751\n",
      "nuclear             0.000000\n",
      "Name: p_nom_opt, dtype: float64, 'CO2_Price': -0.0, 'System_capex': component  carrier    \n",
      "Generator  gas            4242.131505\n",
      "           onshorewind    6182.830781\n",
      "dtype: float64, 'System_opex': component  carrier\n",
      "Generator  gas        10347.969413\n",
      "Name: generators, dtype: float64, 'System_cost': component  carrier    \n",
      "Generator  gas            0.01459\n",
      "           onshorewind        NaN\n",
      "dtype: float64}, {'CO2_Limit': 30000000.0, 'Capacity_MW': Generator\n",
      "onshorewind     55002.487562\n",
      "offshorewind        0.000000\n",
      "solar           14861.698049\n",
      "CCGT            49676.875622\n",
      "nuclear             0.000000\n",
      "Name: p_nom_opt, dtype: float64, 'CO2_Price': 39.25909131943672, 'System_capex': component  carrier    \n",
      "Generator  gas            4220.738954\n",
      "           onshorewind    6805.939929\n",
      "           solar           824.908581\n",
      "dtype: float64, 'System_opex': component  carrier\n",
      "Generator  gas        9010.401189\n",
      "Name: generators, dtype: float64, 'System_cost': component  carrier    \n",
      "Generator  gas            0.013231\n",
      "           onshorewind         NaN\n",
      "           solar               NaN\n",
      "dtype: float64}, {'CO2_Limit': 20000000.0, 'Capacity_MW': Generator\n",
      "onshorewind     77842.290824\n",
      "offshorewind        0.000000\n",
      "solar           45634.654087\n",
      "CCGT            48534.885459\n",
      "nuclear             0.000000\n",
      "Name: p_nom_opt, dtype: float64, 'CO2_Price': 324.84440330663637, 'System_capex': component  carrier    \n",
      "Generator  gas            4123.711065\n",
      "           onshorewind    9632.108996\n",
      "           solar          2532.982277\n",
      "dtype: float64, 'System_opex': component  carrier\n",
      "Generator  gas        6006.934126\n",
      "Name: generators, dtype: float64, 'System_cost': component  carrier    \n",
      "Generator  gas            0.010131\n",
      "           onshorewind         NaN\n",
      "           solar               NaN\n",
      "dtype: float64}, {'CO2_Limit': 18000000.0, 'Capacity_MW': Generator\n",
      "onshorewind     87398.433716\n",
      "offshorewind        0.000000\n",
      "solar           49637.828225\n",
      "CCGT            48057.078314\n",
      "nuclear             0.000000\n",
      "Name: p_nom_opt, dtype: float64, 'CO2_Price': 446.71276337662704, 'System_capex': component  carrier    \n",
      "Generator  gas             4083.114727\n",
      "           onshorewind    10814.574324\n",
      "           solar           2755.181159\n",
      "dtype: float64, 'System_opex': component  carrier\n",
      "Generator  gas        5406.240713\n",
      "Name: generators, dtype: float64, 'System_cost': component  carrier    \n",
      "Generator  gas            0.009489\n",
      "           onshorewind         NaN\n",
      "           solar               NaN\n",
      "dtype: float64}, {'CO2_Limit': 15000000.0, 'Capacity_MW': Generator\n",
      "onshorewind     84492.710826\n",
      "offshorewind        0.000000\n",
      "solar           47737.664431\n",
      "CCGT            44844.525024\n",
      "nuclear          3357.839434\n",
      "Name: p_nom_opt, dtype: float64, 'CO2_Price': 515.8033188864067, 'System_capex': component  carrier    \n",
      "Generator  gas             3810.163809\n",
      "           nuclear         2794.344082\n",
      "           onshorewind    10455.023759\n",
      "           solar           2649.711285\n",
      "dtype: float64, 'System_opex': component  carrier\n",
      "Generator  gas        4505.200594\n",
      "           nuclear     337.363261\n",
      "Name: generators, dtype: float64, 'System_cost': component  carrier    \n",
      "Generator  gas            0.008315\n",
      "           nuclear        0.003132\n",
      "           onshorewind         NaN\n",
      "           solar               NaN\n",
      "dtype: float64}, {'CO2_Limit': 5000000.0, 'Capacity_MW': Generator\n",
      "onshorewind     57185.598059\n",
      "offshorewind        0.000000\n",
      "solar           29487.387439\n",
      "CCGT            30474.721939\n",
      "nuclear         19092.998158\n",
      "Name: p_nom_opt, dtype: float64, 'CO2_Price': 872.836752890018, 'System_capex': component  carrier    \n",
      "Generator  gas             2589.249915\n",
      "           nuclear        15888.909360\n",
      "           onshorewind     7076.075327\n",
      "           solar           1636.717343\n",
      "dtype: float64, 'System_opex': component  carrier\n",
      "Generator  gas        1501.733531\n",
      "           nuclear    2048.411037\n",
      "Name: generators, dtype: float64, 'System_cost': component  carrier    \n",
      "Generator  gas            0.004091\n",
      "           nuclear        0.017937\n",
      "           onshorewind         NaN\n",
      "           solar               NaN\n",
      "dtype: float64}, {'CO2_Limit': 1000000.0, 'Capacity_MW': Generator\n",
      "onshorewind     47035.679721\n",
      "offshorewind        0.000000\n",
      "solar           18129.914388\n",
      "CCGT            19648.072501\n",
      "nuclear         30427.143513\n",
      "Name: p_nom_opt, dtype: float64, 'CO2_Price': 3471.1839242460073, 'System_capex': component  carrier    \n",
      "Generator  gas             1669.376021\n",
      "           nuclear        25321.016708\n",
      "           onshorewind     5820.136959\n",
      "           solar           1006.313135\n",
      "dtype: float64, 'System_opex': component  carrier\n",
      "Generator  gas         300.346706\n",
      "           nuclear    2926.380912\n",
      "Name: generators, dtype: float64, 'System_cost': component  carrier    \n",
      "Generator  gas            0.001970\n",
      "           nuclear        0.028247\n",
      "           onshorewind         NaN\n",
      "           solar               NaN\n",
      "dtype: float64}, {'CO2_Limit': 50000.0, 'Capacity_MW': Generator\n",
      "onshorewind     17432.397855\n",
      "offshorewind        0.000000\n",
      "solar            3794.726981\n",
      "CCGT             6792.854561\n",
      "nuclear         44762.525546\n",
      "Name: p_nom_opt, dtype: float64, 'CO2_Price': 33053.04293484822, 'System_capex': component  carrier    \n",
      "Generator  gas              577.147123\n",
      "           nuclear        37250.708623\n",
      "           onshorewind     2157.063396\n",
      "           solar            210.628882\n",
      "dtype: float64, 'System_opex': component  carrier\n",
      "Generator  gas          15.017335\n",
      "           nuclear    4486.551871\n",
      "Name: generators, dtype: float64, 'System_cost': component  carrier    \n",
      "Generator  gas            0.000592\n",
      "           nuclear        0.041737\n",
      "           onshorewind         NaN\n",
      "           solar               NaN\n",
      "dtype: float64}, {'CO2_Limit': 10000.0, 'Capacity_MW': Generator\n",
      "onshorewind     15364.835075\n",
      "offshorewind        0.000000\n",
      "solar               0.000000\n",
      "CCGT             3723.725261\n",
      "nuclear         47935.032985\n",
      "Name: p_nom_opt, dtype: float64, 'CO2_Price': 109860.38210232097, 'System_capex': component  carrier    \n",
      "Generator  gas              316.382060\n",
      "           nuclear        39890.822173\n",
      "           onshorewind     1901.225729\n",
      "dtype: float64, 'System_opex': component  carrier\n",
      "Generator  gas           3.003467\n",
      "           nuclear    4643.252565\n",
      "Name: generators, dtype: float64, 'System_cost': component  carrier    \n",
      "Generator  gas            0.000319\n",
      "           nuclear        0.044534\n",
      "           onshorewind         NaN\n",
      "dtype: float64}, {'CO2_Limit': 1000.0, 'Capacity_MW': Generator\n",
      "onshorewind      2343.369220\n",
      "offshorewind        0.000000\n",
      "solar               0.000000\n",
      "CCGT             1124.071691\n",
      "nuclear         51185.759848\n",
      "Name: p_nom_opt, dtype: float64, 'CO2_Price': 287472.5028415546, 'System_capex': component  carrier    \n",
      "Generator  gas               95.505466\n",
      "           nuclear        42596.028765\n",
      "           onshorewind      289.965615\n",
      "dtype: float64, 'System_opex': component  carrier\n",
      "Generator  gas           0.300347\n",
      "           nuclear    5201.451977\n",
      "Name: generators, dtype: float64, 'System_cost': component  carrier    \n",
      "Generator  gas            0.000096\n",
      "           nuclear        0.047797\n",
      "           onshorewind         NaN\n",
      "dtype: float64}, {'CO2_Limit': 100.0, 'Capacity_MW': Generator\n",
      "onshorewind         0.00000\n",
      "offshorewind        0.00000\n",
      "solar               0.00000\n",
      "CCGT              278.64735\n",
      "nuclear         52148.35265\n",
      "Name: p_nom_opt, dtype: float64, 'CO2_Price': 1850266.417988548, 'System_capex': component  carrier\n",
      "Generator  gas           23.674954\n",
      "           nuclear    43397.084191\n",
      "dtype: float64, 'System_opex': component  carrier\n",
      "Generator  gas           0.030035\n",
      "           nuclear    5301.839700\n",
      "Name: generators, dtype: float64, 'System_cost': component  carrier\n",
      "Generator  gas        0.000024\n",
      "           nuclear    0.048699\n",
      "dtype: float64}, {'CO2_Limit': 0, 'Capacity_MW': Generator\n",
      "onshorewind         0.0\n",
      "offshorewind        0.0\n",
      "solar               0.0\n",
      "CCGT                0.0\n",
      "nuclear         52427.0\n",
      "Name: p_nom_opt, dtype: float64, 'CO2_Price': 4121561.6079979585, 'System_capex': component  carrier\n",
      "Generator  nuclear    43628.970375\n",
      "dtype: float64, 'System_opex': component  carrier\n",
      "Generator  nuclear    5301.849005\n",
      "Name: generators, dtype: float64, 'System_cost': component  carrier\n",
      "Generator  nuclear    0.048931\n",
      "dtype: float64}]\n"
     ]
    }
   ],
   "source": [
    "# Define the CO2 constraint values for sensitivity analysis\n",
    "co2_limits = [170e6, 140e6, 70e6, 35e6, 30e6, 20e6, 18e6, 15e6, 5e6, 1e6, 0.5e5, 1e4, 1e3, 1e2, 0]  # in tons of CO2\n",
    "\n",
    "results = []\n",
    "\n",
    "# Loop through each CO2 limit\n",
    "for co2_limit in co2_limits:\n",
    "    # Add or update the CO2 constraint in the network\n",
    "    \n",
    "    # Solve the network\n",
    "    network = model(co2_limit) \n",
    "\n",
    "    capex = network.statistics.capex().div(1e6)  # million €/y\n",
    "    opex = network.statistics.opex().div(1e6) # million €/y\n",
    "    tsc = capex + opex\n",
    "    tsc = tsc.div(1e6)  # million €/y  \n",
    "    co2_price = -network.global_constraints.mu['co2_limit']\n",
    "\n",
    "    # Extract the optimized generator capacities\n",
    "    results.append({\n",
    "        \"CO2_Limit\": co2_limit,\n",
    "        \"Capacity_MW\": network.generators.p_nom_opt,\n",
    "        \"CO2_Price\": co2_price,\n",
    "        \"System_capex\": capex,  # million €/y\n",
    "        \"System_opex\": opex,  # million €/y\n",
    "        \"System_cost\": tsc,  # million €/y\n",
    "    })\n",
    "\n",
    "# Save the results to a CSV file for further analysis\n",
    "# results.to_csv(\"sensitivity_analysis_results.csv\", index=False)\n",
    "\n",
    "# Display the results\n",
    "print(results)"
   ]
  },
  {
   "cell_type": "code",
   "execution_count": 31,
   "metadata": {},
   "outputs": [],
   "source": [
    "total_capacity = [entry[\"Capacity_MW\"].sum() for entry in results]\n",
    "\n",
    "solar = [entry[\"Capacity_MW\"][\"solar\"] / total for entry, total in zip(results, total_capacity)]\n",
    "onshorewind = [entry[\"Capacity_MW\"][\"onshorewind\"] / total for entry, total in zip(results, total_capacity)]\n",
    "ccgt = [entry[\"Capacity_MW\"][\"CCGT\"] / total for entry, total in zip(results, total_capacity)]\n",
    "offshorewind = [entry[\"Capacity_MW\"][\"offshorewind\"] / total for entry, total in zip(results, total_capacity)]\n",
    "nuclear = [entry[\"Capacity_MW\"][\"nuclear\"] / total for entry, total in zip(results, total_capacity)]"
   ]
  },
  {
   "cell_type": "code",
   "execution_count": 32,
   "metadata": {},
   "outputs": [
    {
     "data": {
      "image/png": "[encoded data removed]",
      "text/plain": [
       "<Figure size 1000x600 with 1 Axes>"
      ]
     },
     "metadata": {},
     "output_type": "display_data"
    }
   ],
   "source": [
    "\n",
    "\n",
    "# Plot: Generation mix as a function of CO₂ constraint\n",
    "plt.figure(figsize=(10, 6))\n",
    "plt.stackplot(co2_limits, solar, onshorewind, ccgt, offshorewind, nuclear,\n",
    "              labels=['Solar', 'Onshore wind', 'CCGT', 'Offshore wind', 'Nuclear'],\n",
    "              colors=['gold', 'skyblue', 'lightcoral', 'lightgreen', 'lightgrey'],\n",
    "              alpha=0.9)\n",
    "\n",
    "plt.xlabel('CO₂ Constraint (tCO₂/year)')\n",
    "plt.ylabel('Generation Share (%)')\n",
    "plt.title('Generation Mix Sensitivity to CO₂ Constraint')\n",
    "plt.xlim(0,50e6)\n",
    "plt.ylim(0,1)\n",
    "plt.legend(loc='upper left')\n",
    "plt.grid(True)\n",
    "plt.gca().invert_xaxis()  # So tighter constraint appears on the right\n",
    "plt.tight_layout()\n"
   ]
  },
  {
   "cell_type": "code",
   "execution_count": 33,
   "metadata": {},
   "outputs": [
    {
     "name": "stdout",
     "output_type": "stream",
     "text": [
      "component  carrier\n",
      "Generator  gas        10347.969413\n",
      "Name: generators, dtype: float64\n",
      "component  carrier\n",
      "Generator  gas        10347.969413\n",
      "Name: generators, dtype: float64\n",
      "component  carrier\n",
      "Generator  gas        10347.969413\n",
      "Name: generators, dtype: float64\n",
      "component  carrier\n",
      "Generator  gas        10347.969413\n",
      "Name: generators, dtype: float64\n",
      "component  carrier\n",
      "Generator  gas        9010.401189\n",
      "Name: generators, dtype: float64\n",
      "component  carrier\n",
      "Generator  gas        6006.934126\n",
      "Name: generators, dtype: float64\n",
      "component  carrier\n",
      "Generator  gas        5406.240713\n",
      "Name: generators, dtype: float64\n",
      "component  carrier\n",
      "Generator  gas        4505.200594\n",
      "           nuclear     337.363261\n",
      "Name: generators, dtype: float64\n",
      "component  carrier\n",
      "Generator  gas        1501.733531\n",
      "           nuclear    2048.411037\n",
      "Name: generators, dtype: float64\n",
      "component  carrier\n",
      "Generator  gas         300.346706\n",
      "           nuclear    2926.380912\n",
      "Name: generators, dtype: float64\n",
      "component  carrier\n",
      "Generator  gas          15.017335\n",
      "           nuclear    4486.551871\n",
      "Name: generators, dtype: float64\n",
      "component  carrier\n",
      "Generator  gas           3.003467\n",
      "           nuclear    4643.252565\n",
      "Name: generators, dtype: float64\n",
      "component  carrier\n",
      "Generator  gas           0.300347\n",
      "           nuclear    5201.451977\n",
      "Name: generators, dtype: float64\n",
      "component  carrier\n",
      "Generator  gas           0.030035\n",
      "           nuclear    5301.839700\n",
      "Name: generators, dtype: float64\n",
      "component  carrier\n",
      "Generator  nuclear    5301.849005\n",
      "Name: generators, dtype: float64\n"
     ]
    }
   ],
   "source": [
    "for result in results:\n",
    "    print(result[\"System_opex\"])"
   ]
  },
  {
   "cell_type": "code",
   "execution_count": 34,
   "metadata": {},
   "outputs": [
    {
     "data": {
      "image/png": "[encoded data removed]",
      "text/plain": [
       "<Figure size 400x400 with 1 Axes>"
      ]
     },
     "metadata": {},
     "output_type": "display_data"
    }
   ],
   "source": [
    "system_costs = {}\n",
    "for result in results:\n",
    "    # Making sure that there is no NaN values, although in some scenarios some tecs dont have opex or capex values\n",
    "    capex = result[\"System_capex\"].droplevel(0).reindex(result[\"System_capex\"].index.levels[1], fill_value=0)\n",
    "    opex = result[\"System_opex\"].droplevel(0).reindex(result[\"System_capex\"].index.levels[1], fill_value=0)\n",
    "    \n",
    "    # Add the costs to the dictionary\n",
    "    system_costs[result[\"CO2_Limit\"]] = capex + opex\n",
    "\n",
    "labels = ['solar', 'onshorewind', 'gas', 'offshorewind', 'nuclear']  # Asegúrate de usar los nombres exactos\n",
    "colors = ['gold', 'skyblue', 'lightcoral', 'lightgreen', 'lightgrey']\n",
    "\n",
    "df = pd.DataFrame(system_costs).T \n",
    "\n",
    "df = df[labels]\n",
    "df.plot.area(\n",
    "    stacked=True,\n",
    "    linewidth=0,\n",
    "    color=colors,\n",
    "    figsize=(4, 4),\n",
    "    xlim = (0,50e6),\n",
    "    xlabel=r\"CO$_2$ emissions [t/a]\",\n",
    "    ylabel=\"System cost [m€/a]\",\n",
    "    #ylim=(0, 4),\n",
    ")\n",
    "from matplotlib.patches import Patch\n",
    "legend_patches = [Patch(color=color, label=label) for color, label in zip(colors, labels)]\n",
    "plt.legend(handles=legend_patches, frameon=False, loc=(1.05, 0))\n",
    "plt.gca().invert_xaxis()"
   ]
  },
  {
   "cell_type": "code",
   "execution_count": 35,
   "metadata": {},
   "outputs": [
    {
     "data": {
      "image/png": "[encoded data removed]",
      "text/plain": [
       "<Figure size 1000x600 with 1 Axes>"
      ]
     },
     "metadata": {},
     "output_type": "display_data"
    }
   ],
   "source": [
    "import pandas as pd\n",
    "import matplotlib.pyplot as plt\n",
    "\n",
    "# Asegurarse que los datos están correctamente poblados en df\n",
    "# Asumiendo que 'df' ya está creado y contiene las columnas correctas con datos de costos del sistema\n",
    "\n",
    "labels = ['solar', 'onshorewind', 'gas', 'offshorewind', 'nuclear']\n",
    "colors = ['gold', 'skyblue', 'lightcoral', 'lightgreen', 'lightgrey']\n",
    "\n",
    "# Graficar el área\n",
    "ax = df.plot.area(stacked=True, linewidth=0, figsize=(10, 6), xlim=(0, 50e6),\n",
    "                  xlabel=r\"CO$_2$ emissions [Mt/a]\", ylabel=\"System cost [bn€/a]\")\n",
    "\n",
    "# Invertir el eje x\n",
    "plt.gca().invert_xaxis()\n",
    "\n",
    "# Crear una leyenda personalizada con los colores correspondientes\n",
    "from matplotlib.patches import Patch\n",
    "legend_patches = [Patch(color=color, label=label) for color, label in zip(colors, labels)]\n",
    "plt.legend(handles=legend_patches, frameon=False, loc=(1.05, 0))\n",
    "\n",
    "plt.show()\n"
   ]
  },
  {
   "cell_type": "code",
   "execution_count": 36,
   "metadata": {},
   "outputs": [
    {
     "data": {
      "image/png": "[encoded data removed]",
      "text/plain": [
       "<Figure size 1000x600 with 1 Axes>"
      ]
     },
     "metadata": {},
     "output_type": "display_data"
    }
   ],
   "source": [
    "import pandas as pd\n",
    "import matplotlib.pyplot as plt\n",
    "from matplotlib.patches import Patch\n",
    "\n",
    "# Ensure the DataFrame columns are in the same order as the labels\n",
    "labels = ['solar', 'onshorewind', 'gas', 'offshorewind', 'nuclear']\n",
    "colors = ['gold', 'skyblue', 'lightcoral', 'lightgreen', 'lightgrey']\n",
    "df = df[labels]  # Reorder columns to match labels/colors\n",
    "\n",
    "# Plot with custom colors\n",
    "ax = df.plot.area(stacked=True, color=colors, linewidth=0, figsize=(10, 6),\n",
    "                  xlim=(0, 50e6), xlabel=r\"CO$_2$ emissions [Mt/a]\", ylabel=\"System cost [bn€/a]\")\n",
    "\n",
    "# Invert the x-axis\n",
    "plt.gca().invert_xaxis()\n",
    "\n",
    "# Custom legend\n",
    "legend_patches = [Patch(color=color, label=label) for color, label in zip(colors, labels)]\n",
    "plt.legend(handles=legend_patches, frameon=False, loc=(1.05, 0))\n",
    "\n",
    "plt.tight_layout()\n",
    "plt.show()\n"
   ]
  }
 ],
 "metadata": {
  "kernelspec": {
   "display_name": "mi_entorno",
   "language": "python",
   "name": "python3"
  },
  "language_info": {
   "codemirror_mode": {
    "name": "ipython",
    "version": 3
   },
   "file_extension": ".py",
   "mimetype": "text/x-python",
   "name": "python",
   "nbconvert_exporter": "python",
   "pygments_lexer": "ipython3",
   "version": "3.11.11"
  }
 },
 "nbformat": 4,
 "nbformat_minor": 2
}
