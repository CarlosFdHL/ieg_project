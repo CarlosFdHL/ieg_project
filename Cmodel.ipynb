{
 "cells": [
  {
   "cell_type": "code",
   "execution_count": 157,
   "metadata": {},
   "outputs": [],
   "source": [
    "import pandas as pd\n",
    "import pypsa\n",
    "import matplotlib.pyplot as plt\n",
    "import numpy as np\n",
    "import pandas as pd\n",
    "import os \n",
    "import xarray as xr\n",
    "\n",
    "plt.rcParams['font.family'] = 'serif'"
   ]
  },
  {
   "cell_type": "code",
   "execution_count": 158,
   "metadata": {},
   "outputs": [
    {
     "data": {
      "text/plain": [
       "DatetimeIndex(['2015-01-01 00:00:00', '2015-01-01 01:00:00',\n",
       "               '2015-01-01 02:00:00', '2015-01-01 03:00:00',\n",
       "               '2015-01-01 04:00:00', '2015-01-01 05:00:00',\n",
       "               '2015-01-01 06:00:00', '2015-01-01 07:00:00',\n",
       "               '2015-01-01 08:00:00', '2015-01-01 09:00:00',\n",
       "               ...\n",
       "               '2015-12-31 14:00:00', '2015-12-31 15:00:00',\n",
       "               '2015-12-31 16:00:00', '2015-12-31 17:00:00',\n",
       "               '2015-12-31 18:00:00', '2015-12-31 19:00:00',\n",
       "               '2015-12-31 20:00:00', '2015-12-31 21:00:00',\n",
       "               '2015-12-31 22:00:00', '2015-12-31 23:00:00'],\n",
       "              dtype='datetime64[ns]', name='snapshot', length=8760, freq=None)"
      ]
     },
     "execution_count": 158,
     "metadata": {},
     "output_type": "execute_result"
    }
   ],
   "source": [
    "network = pypsa.Network()\n",
    "hours_in_2015 = pd.date_range('2015-01-01 00:00Z',\n",
    "                              '2015-12-31 23:00Z',\n",
    "                              freq='h')\n",
    "\n",
    "network.set_snapshots(hours_in_2015.values)\n",
    "\n",
    "network.add(\"Bus\",\n",
    "            \"electricity bus\")\n",
    "\n",
    "network.snapshots"
   ]
  },
  {
   "cell_type": "code",
   "execution_count": 159,
   "metadata": {},
   "outputs": [
    {
     "name": "stdout",
     "output_type": "stream",
     "text": [
      "utc_time\n",
      "2015-01-01 00:00:00+00:00    29059.0\n",
      "2015-01-01 01:00:00+00:00    28663.0\n",
      "2015-01-01 02:00:00+00:00    26626.0\n",
      "2015-01-01 03:00:00+00:00    24778.0\n",
      "2015-01-01 04:00:00+00:00    23212.0\n",
      "Name: GBR, dtype: float64\n"
     ]
    }
   ],
   "source": [
    "# load electricity demand data\n",
    "df_elec = pd.read_csv('data/electricity_demand.csv', sep=';', index_col=0) # in MWh\n",
    "df_elec.index = pd.to_datetime(df_elec.index) #change index to datatime\n",
    "country='GBR'\n",
    "print(df_elec[country].head())"
   ]
  },
  {
   "cell_type": "code",
   "execution_count": 160,
   "metadata": {},
   "outputs": [
    {
     "data": {
      "text/plain": [
       "Index(['load'], dtype='object')"
      ]
     },
     "execution_count": 160,
     "metadata": {},
     "output_type": "execute_result"
    }
   ],
   "source": [
    "# add load to the bus\n",
    "network.add(\"Load\",\n",
    "            \"load\",\n",
    "            bus=\"electricity bus\",\n",
    "            p_set=df_elec[country].values)"
   ]
  },
  {
   "cell_type": "code",
   "execution_count": 161,
   "metadata": {},
   "outputs": [
    {
     "data": {
      "text/html": [
       "<div>\n",
       "<style scoped>\n",
       "    .dataframe tbody tr th:only-of-type {\n",
       "        vertical-align: middle;\n",
       "    }\n",
       "\n",
       "    .dataframe tbody tr th {\n",
       "        vertical-align: top;\n",
       "    }\n",
       "\n",
       "    .dataframe thead th {\n",
       "        text-align: right;\n",
       "    }\n",
       "</style>\n",
       "<table border=\"1\" class=\"dataframe\">\n",
       "  <thead>\n",
       "    <tr style=\"text-align: right;\">\n",
       "      <th>Load</th>\n",
       "      <th>load</th>\n",
       "    </tr>\n",
       "    <tr>\n",
       "      <th>snapshot</th>\n",
       "      <th></th>\n",
       "    </tr>\n",
       "  </thead>\n",
       "  <tbody>\n",
       "    <tr>\n",
       "      <th>2015-01-01 00:00:00</th>\n",
       "      <td>29059.0</td>\n",
       "    </tr>\n",
       "    <tr>\n",
       "      <th>2015-01-01 01:00:00</th>\n",
       "      <td>28663.0</td>\n",
       "    </tr>\n",
       "    <tr>\n",
       "      <th>2015-01-01 02:00:00</th>\n",
       "      <td>26626.0</td>\n",
       "    </tr>\n",
       "    <tr>\n",
       "      <th>2015-01-01 03:00:00</th>\n",
       "      <td>24778.0</td>\n",
       "    </tr>\n",
       "    <tr>\n",
       "      <th>2015-01-01 04:00:00</th>\n",
       "      <td>23212.0</td>\n",
       "    </tr>\n",
       "    <tr>\n",
       "      <th>...</th>\n",
       "      <td>...</td>\n",
       "    </tr>\n",
       "    <tr>\n",
       "      <th>2015-12-31 19:00:00</th>\n",
       "      <td>35944.0</td>\n",
       "    </tr>\n",
       "    <tr>\n",
       "      <th>2015-12-31 20:00:00</th>\n",
       "      <td>33128.0</td>\n",
       "    </tr>\n",
       "    <tr>\n",
       "      <th>2015-12-31 21:00:00</th>\n",
       "      <td>30488.0</td>\n",
       "    </tr>\n",
       "    <tr>\n",
       "      <th>2015-12-31 22:00:00</th>\n",
       "      <td>28773.0</td>\n",
       "    </tr>\n",
       "    <tr>\n",
       "      <th>2015-12-31 23:00:00</th>\n",
       "      <td>37700.0</td>\n",
       "    </tr>\n",
       "  </tbody>\n",
       "</table>\n",
       "<p>8760 rows × 1 columns</p>\n",
       "</div>"
      ],
      "text/plain": [
       "Load                    load\n",
       "snapshot                    \n",
       "2015-01-01 00:00:00  29059.0\n",
       "2015-01-01 01:00:00  28663.0\n",
       "2015-01-01 02:00:00  26626.0\n",
       "2015-01-01 03:00:00  24778.0\n",
       "2015-01-01 04:00:00  23212.0\n",
       "...                      ...\n",
       "2015-12-31 19:00:00  35944.0\n",
       "2015-12-31 20:00:00  33128.0\n",
       "2015-12-31 21:00:00  30488.0\n",
       "2015-12-31 22:00:00  28773.0\n",
       "2015-12-31 23:00:00  37700.0\n",
       "\n",
       "[8760 rows x 1 columns]"
      ]
     },
     "execution_count": 161,
     "metadata": {},
     "output_type": "execute_result"
    }
   ],
   "source": [
    "network.loads_t.p_set"
   ]
  },
  {
   "cell_type": "code",
   "execution_count": 162,
   "metadata": {},
   "outputs": [],
   "source": [
    "def annuity(n,r):\n",
    "    \"\"\" Calculate the annuity factor for an asset with lifetime n years and\n",
    "    discount rate  r \"\"\"\n",
    "\n",
    "    if r > 0:\n",
    "        return r/(1. - 1./(1.+r)**n)\n",
    "    else:\n",
    "        return 1/n"
   ]
  },
  {
   "cell_type": "code",
   "execution_count": 163,
   "metadata": {},
   "outputs": [
    {
     "data": {
      "text/plain": [
       "Index(['nuclear'], dtype='object')"
      ]
     },
     "execution_count": 163,
     "metadata": {},
     "output_type": "execute_result"
    }
   ],
   "source": [
    "# CAPEX values for different technologies (in €/MW)\n",
    "offshoreWind_capex = 2.8e6\n",
    "onshoreWind_capex = 1.4e6\n",
    "solar_capex = 628e3\n",
    "ccgt_capex = 1.04e6\n",
    "nuclear_capex = 11.08e6\n",
    "\n",
    "# add the different carriers, only gas emits CO2\n",
    "network.add(\"Carrier\", \"gas\", co2_emissions=0.2019) # in t_CO2/MWh_th\n",
    "network.add(\"Carrier\", \"onshorewind\")\n",
    "network.add(\"Carrier\", \"solar\")\n",
    "network.add(\"Carrier\", \"offshorewind\")\n",
    "network.add(\"Carrier\", \"nuclear\")\n",
    "\n",
    "# add onshore wind generator\n",
    "df_onshorewind = pd.read_csv('data/onshore_wind_1979-2017.csv', sep=';', index_col=0)\n",
    "df_onshorewind.index = pd.to_datetime(df_onshorewind.index)\n",
    "CF_windOnshore = df_onshorewind[country][[hour.strftime(\"%Y-%m-%dT%H:%M:%SZ\") for hour in network.snapshots]]\n",
    "capital_cost_onshorewind = annuity(25,0.07)*onshoreWind_capex * (1+0.03) # in €/MW !!!!!!!!!!!!!!!!!!!!!!!!!!!!!!!!!!!!!!!!!!!!!!!!!!!!!!!!!!!!!!!!!!!!\n",
    "network.add(\"Generator\",\n",
    "            \"onshorewind\",\n",
    "            bus=\"electricity bus\",\n",
    "            p_nom_extendable=True,\n",
    "            carrier=\"onshorewind\",\n",
    "            #p_nom_max=1000, # maximum capacity can be limited due to environmental constraints\n",
    "            capital_cost = capital_cost_onshorewind,\n",
    "            marginal_cost = 0,\n",
    "            p_max_pu = CF_windOnshore.values)\n",
    "\n",
    "# add offshore wind generator\n",
    "df_offshore = pd.read_csv('data/offshore_wind_1979-2017.csv', sep=';', index_col=0)\n",
    "df_offshore.index = pd.to_datetime(df_offshore.index)\n",
    "CF_windOffshore = df_offshore[country][[hour.strftime(\"%Y-%m-%dT%H:%M:%SZ\") for hour in network.snapshots]]\n",
    "capital_cost_offshore = annuity(25,0.07)*offshoreWind_capex *(1+0.03) # in €/MW !!!!!!!!!!!!!!!!!!!!!!!!!!!!!!!!!!!!!!!!!!!!!!!!!!!!!!!!!!!!!!!!!!!!\n",
    "network.add(\"Generator\",\n",
    "            \"offshorewind\",\n",
    "            bus=\"electricity bus\",\n",
    "            p_nom_extendable=True,\n",
    "            carrier=\"offshorewind\",\n",
    "            #p_nom_max=1000, # maximum capacity can be limited due to environmental constraints\n",
    "            capital_cost = capital_cost_offshore,\n",
    "            marginal_cost = 0,\n",
    "            p_max_pu = CF_windOffshore.values)\n",
    "\n",
    "# add solar PV generator\n",
    "df_solar = pd.read_csv('data/pv_optimal.csv', sep=';', index_col=0)\n",
    "df_solar.index = pd.to_datetime(df_solar.index)\n",
    "CF_solar = df_solar[country][[hour.strftime(\"%Y-%m-%dT%H:%M:%SZ\") for hour in network.snapshots]]\n",
    "capital_cost_solar = annuity(25,0.07)*solar_capex*(1+0.03) # in €/MW\n",
    "network.add(\"Generator\",\n",
    "            \"solar\",\n",
    "            bus=\"electricity bus\",\n",
    "            p_nom_extendable=True,\n",
    "            carrier=\"solar\",\n",
    "            #p_nom_max=1000, # maximum capacity can be limited due to environmental constraints\n",
    "            capital_cost = capital_cost_solar,\n",
    "            marginal_cost = 0,\n",
    "            p_max_pu = CF_solar.values)\n",
    "\n",
    "# add CCGT (Combine Cycle Gas Turbine) generator\n",
    "capital_cost_CCGT = annuity(30,0.07)*(ccgt_capex + 14.32 * 1000) # in €/MW\n",
    "fuel_cost = 30.32 # in €/MWh_th\n",
    "efficiency = 0.5 # MWh_elec/MWh_th\n",
    "marginal_cost_CCGT = fuel_cost/efficiency # in €/MWh_el\n",
    "network.add(\"Generator\",\n",
    "            \"CCGT\",\n",
    "            bus=\"electricity bus\",\n",
    "            p_nom_extendable=True,\n",
    "            carrier=\"gas\",\n",
    "            #p_nom_max=1000,\n",
    "            capital_cost = capital_cost_CCGT,\n",
    "            marginal_cost = marginal_cost_CCGT)\n",
    "\n",
    "# add nuclear generator\n",
    "capital_cost_nuclear = annuity(40,0.07)*(nuclear_capex + 14.45 * 1000) # in €/MW\n",
    "fuel_cost = 6.2 # in €/MWh_th\n",
    "efficiency = 0.33 # MWh_elec/MWh_th\n",
    "marginal_cost_nuclear = fuel_cost/efficiency # in €/MWh_el\n",
    "network.add(\"Generator\",\n",
    "            \"nuclear\",\n",
    "            bus=\"electricity bus\",\n",
    "            p_nom_extendable=True,\n",
    "            carrier=\"nuclear\",\n",
    "            #p_nom_max=1000,\n",
    "            capital_cost = capital_cost_nuclear,\n",
    "            marginal_cost = marginal_cost_nuclear)"
   ]
  },
  {
   "cell_type": "code",
   "execution_count": 164,
   "metadata": {},
   "outputs": [
    {
     "data": {
      "text/html": [
       "<div>\n",
       "<style scoped>\n",
       "    .dataframe tbody tr th:only-of-type {\n",
       "        vertical-align: middle;\n",
       "    }\n",
       "\n",
       "    .dataframe tbody tr th {\n",
       "        vertical-align: top;\n",
       "    }\n",
       "\n",
       "    .dataframe thead th {\n",
       "        text-align: right;\n",
       "    }\n",
       "</style>\n",
       "<table border=\"1\" class=\"dataframe\">\n",
       "  <thead>\n",
       "    <tr style=\"text-align: right;\">\n",
       "      <th>Generator</th>\n",
       "      <th>offshorewind</th>\n",
       "      <th>onshorewind</th>\n",
       "      <th>solar</th>\n",
       "    </tr>\n",
       "    <tr>\n",
       "      <th>snapshot</th>\n",
       "      <th></th>\n",
       "      <th></th>\n",
       "      <th></th>\n",
       "    </tr>\n",
       "  </thead>\n",
       "  <tbody>\n",
       "    <tr>\n",
       "      <th>2015-01-01 00:00:00</th>\n",
       "      <td>0.601</td>\n",
       "      <td>0.606</td>\n",
       "      <td>0.0</td>\n",
       "    </tr>\n",
       "    <tr>\n",
       "      <th>2015-01-01 01:00:00</th>\n",
       "      <td>0.569</td>\n",
       "      <td>0.610</td>\n",
       "      <td>0.0</td>\n",
       "    </tr>\n",
       "    <tr>\n",
       "      <th>2015-01-01 02:00:00</th>\n",
       "      <td>0.538</td>\n",
       "      <td>0.592</td>\n",
       "      <td>0.0</td>\n",
       "    </tr>\n",
       "    <tr>\n",
       "      <th>2015-01-01 03:00:00</th>\n",
       "      <td>0.539</td>\n",
       "      <td>0.570</td>\n",
       "      <td>0.0</td>\n",
       "    </tr>\n",
       "    <tr>\n",
       "      <th>2015-01-01 04:00:00</th>\n",
       "      <td>0.561</td>\n",
       "      <td>0.552</td>\n",
       "      <td>0.0</td>\n",
       "    </tr>\n",
       "    <tr>\n",
       "      <th>...</th>\n",
       "      <td>...</td>\n",
       "      <td>...</td>\n",
       "      <td>...</td>\n",
       "    </tr>\n",
       "    <tr>\n",
       "      <th>2015-12-31 19:00:00</th>\n",
       "      <td>0.735</td>\n",
       "      <td>0.508</td>\n",
       "      <td>0.0</td>\n",
       "    </tr>\n",
       "    <tr>\n",
       "      <th>2015-12-31 20:00:00</th>\n",
       "      <td>0.666</td>\n",
       "      <td>0.426</td>\n",
       "      <td>0.0</td>\n",
       "    </tr>\n",
       "    <tr>\n",
       "      <th>2015-12-31 21:00:00</th>\n",
       "      <td>0.554</td>\n",
       "      <td>0.336</td>\n",
       "      <td>0.0</td>\n",
       "    </tr>\n",
       "    <tr>\n",
       "      <th>2015-12-31 22:00:00</th>\n",
       "      <td>0.462</td>\n",
       "      <td>0.282</td>\n",
       "      <td>0.0</td>\n",
       "    </tr>\n",
       "    <tr>\n",
       "      <th>2015-12-31 23:00:00</th>\n",
       "      <td>0.400</td>\n",
       "      <td>0.256</td>\n",
       "      <td>0.0</td>\n",
       "    </tr>\n",
       "  </tbody>\n",
       "</table>\n",
       "<p>8760 rows × 3 columns</p>\n",
       "</div>"
      ],
      "text/plain": [
       "Generator            offshorewind  onshorewind  solar\n",
       "snapshot                                             \n",
       "2015-01-01 00:00:00         0.601        0.606    0.0\n",
       "2015-01-01 01:00:00         0.569        0.610    0.0\n",
       "2015-01-01 02:00:00         0.538        0.592    0.0\n",
       "2015-01-01 03:00:00         0.539        0.570    0.0\n",
       "2015-01-01 04:00:00         0.561        0.552    0.0\n",
       "...                           ...          ...    ...\n",
       "2015-12-31 19:00:00         0.735        0.508    0.0\n",
       "2015-12-31 20:00:00         0.666        0.426    0.0\n",
       "2015-12-31 21:00:00         0.554        0.336    0.0\n",
       "2015-12-31 22:00:00         0.462        0.282    0.0\n",
       "2015-12-31 23:00:00         0.400        0.256    0.0\n",
       "\n",
       "[8760 rows x 3 columns]"
      ]
     },
     "execution_count": 164,
     "metadata": {},
     "output_type": "execute_result"
    }
   ],
   "source": [
    "network.generators_t.p_max_pu"
   ]
  },
  {
   "cell_type": "code",
   "execution_count": 165,
   "metadata": {},
   "outputs": [
    {
     "name": "stderr",
     "output_type": "stream",
     "text": [
      "WARNING:pypsa.consistency:The following buses have carriers which are not defined:\n",
      "Index(['electricity bus'], dtype='object', name='Bus')\n",
      "INFO:linopy.model: Solve problem using Gurobi solver\n",
      "INFO:linopy.model:Solver options:\n",
      " - Outputflag: 0\n",
      "INFO:linopy.io:Writing objective.\n",
      "Writing constraints.: 100%|\u001b[38;2;128;191;255m██████████\u001b[0m| 5/5 [00:00<00:00, 12.92it/s]\n",
      "Writing continuous variables.: 100%|\u001b[38;2;128;191;255m██████████\u001b[0m| 2/2 [00:00<00:00, 28.17it/s]\n",
      "INFO:linopy.io: Writing time: 0.49s\n"
     ]
    },
    {
     "name": "stdout",
     "output_type": "stream",
     "text": [
      "Set parameter Username\n"
     ]
    },
    {
     "name": "stderr",
     "output_type": "stream",
     "text": [
      "INFO:gurobipy:Set parameter Username\n"
     ]
    },
    {
     "name": "stdout",
     "output_type": "stream",
     "text": [
      "Set parameter LicenseID to value 2626576\n"
     ]
    },
    {
     "name": "stderr",
     "output_type": "stream",
     "text": [
      "INFO:gurobipy:Set parameter LicenseID to value 2626576\n"
     ]
    },
    {
     "name": "stdout",
     "output_type": "stream",
     "text": [
      "Academic license - for non-commercial use only - expires 2026-02-22\n"
     ]
    },
    {
     "name": "stderr",
     "output_type": "stream",
     "text": [
      "INFO:gurobipy:Academic license - for non-commercial use only - expires 2026-02-22\n"
     ]
    },
    {
     "name": "stdout",
     "output_type": "stream",
     "text": [
      "Read LP format model from file C:\\Users\\Dmora\\AppData\\Local\\Temp\\linopy-problem-nuqktxwn.lp\n"
     ]
    },
    {
     "name": "stderr",
     "output_type": "stream",
     "text": [
      "INFO:gurobipy:Read LP format model from file C:\\Users\\Dmora\\AppData\\Local\\Temp\\linopy-problem-nuqktxwn.lp\n"
     ]
    },
    {
     "name": "stdout",
     "output_type": "stream",
     "text": [
      "Reading time = 0.13 seconds\n"
     ]
    },
    {
     "name": "stderr",
     "output_type": "stream",
     "text": [
      "INFO:gurobipy:Reading time = 0.13 seconds\n"
     ]
    },
    {
     "name": "stdout",
     "output_type": "stream",
     "text": [
      "obj: 96365 rows, 43805 columns, 170959 nonzeros\n"
     ]
    },
    {
     "name": "stderr",
     "output_type": "stream",
     "text": [
      "INFO:gurobipy:obj: 96365 rows, 43805 columns, 170959 nonzeros\n",
      "INFO:linopy.constants: Optimization successful: \n",
      "Status: ok\n",
      "Termination condition: optimal\n",
      "Solution: 43805 primals, 96365 duals\n",
      "Objective: 2.08e+10\n",
      "Solver model: available\n",
      "Solver message: 2\n",
      "\n",
      "INFO:pypsa.optimization.optimize:The shadow-prices of the constraints Generator-ext-p-lower, Generator-ext-p-upper were not assigned to the network.\n"
     ]
    },
    {
     "data": {
      "text/plain": [
       "('ok', 'optimal')"
      ]
     },
     "execution_count": 165,
     "metadata": {},
     "output_type": "execute_result"
    }
   ],
   "source": [
    "network.optimize(solver_name='gurobi', Outputflag = 0)"
   ]
  },
  {
   "cell_type": "code",
   "execution_count": 166,
   "metadata": {},
   "outputs": [
    {
     "name": "stdout",
     "output_type": "stream",
     "text": [
      "20772.93169833319\n"
     ]
    }
   ],
   "source": [
    "print(network.objective/1000000) #in 10^6 €"
   ]
  },
  {
   "cell_type": "code",
   "execution_count": 167,
   "metadata": {},
   "outputs": [
    {
     "name": "stdout",
     "output_type": "stream",
     "text": [
      "Load\n",
      "load    73.611927\n",
      "dtype: float64\n"
     ]
    }
   ],
   "source": [
    "print(network.objective/network.loads_t.p.sum()) # EUR/MWh"
   ]
  },
  {
   "cell_type": "code",
   "execution_count": 168,
   "metadata": {},
   "outputs": [
    {
     "data": {
      "text/plain": [
       "Generator\n",
       "onshorewind     49966.804979\n",
       "offshorewind        0.000000\n",
       "solar               0.000000\n",
       "CCGT            49928.659751\n",
       "nuclear             0.000000\n",
       "Name: p_nom_opt, dtype: float64"
      ]
     },
     "execution_count": 168,
     "metadata": {},
     "output_type": "execute_result"
    }
   ],
   "source": [
    "network.generators.p_nom_opt # in MW"
   ]
  },
  {
   "cell_type": "markdown",
   "metadata": {},
   "source": [
    "<h2>Plot a week in winter</h2>"
   ]
  },
  {
   "cell_type": "code",
   "execution_count": 169,
   "metadata": {},
   "outputs": [
    {
     "name": "stderr",
     "output_type": "stream",
     "text": [
      "C:\\Users\\Dmora\\AppData\\Local\\Temp\\ipykernel_54504\\3807979031.py:3: FutureWarning: 'H' is deprecated and will be removed in a future version, please use 'h' instead.\n",
      "  hours = pd.date_range(start=\"2015-01-01\", periods=num_hours_week, freq='H')\n"
     ]
    }
   ],
   "source": [
    "num_hours_week = 7 * 24\n",
    "\n",
    "hours = pd.date_range(start=\"2015-01-01\", periods=num_hours_week, freq='H')\n",
    "demand = network.loads_t.p['load'][hours].values\n",
    "onshore_wind = network.generators_t.p['onshorewind'][hours].values\n",
    "solar = network.generators_t.p['solar'][hours].values    \n",
    "gas_ccgt = network.generators_t.p['CCGT'][hours].values\n",
    "offshore_wind = network.generators_t.p['offshorewind'][hours].values\n",
    "nuclear = network.generators_t.p['nuclear'][hours].values"
   ]
  },
  {
   "cell_type": "markdown",
   "metadata": {},
   "source": [
    "<h2>Plot a week in summer</h2>"
   ]
  },
  {
   "cell_type": "code",
   "execution_count": 170,
   "metadata": {},
   "outputs": [
    {
     "name": "stderr",
     "output_type": "stream",
     "text": [
      "C:\\Users\\Dmora\\AppData\\Local\\Temp\\ipykernel_54504\\1647320593.py:3: FutureWarning: 'H' is deprecated and will be removed in a future version, please use 'h' instead.\n",
      "  hours = pd.date_range(start=\"2015-01-06\", periods=num_hours_week, freq='H')\n"
     ]
    },
    {
     "data": {
      "text/plain": [
       "<Figure size 640x480 with 0 Axes>"
      ]
     },
     "metadata": {},
     "output_type": "display_data"
    }
   ],
   "source": [
    "num_hours_week = 7 * 24\n",
    "\n",
    "hours = pd.date_range(start=\"2015-01-06\", periods=num_hours_week, freq='H')\n",
    "demand = network.loads_t.p['load'][hours].values\n",
    "onshore_wind = network.generators_t.p['onshorewind'][hours].values\n",
    "solar = network.generators_t.p['solar'][hours].values    \n",
    "gas_ccgt = network.generators_t.p['CCGT'][hours].values\n",
    "offshore_wind = network.generators_t.p['offshorewind'][hours].values\n",
    "nuclear = network.generators_t.p['nuclear'][hours].values\n",
    "\n",
    "plt.tight_layout()\n"
   ]
  },
  {
   "cell_type": "code",
   "execution_count": null,
   "metadata": {},
   "outputs": [],
   "source": []
  },
  {
   "cell_type": "code",
   "execution_count": 171,
   "metadata": {},
   "outputs": [],
   "source": [
    "# Capacity factor calculation\n",
    "capacity_factors = {\n",
    "    \"onshore wind\": network.generators_t.p['onshorewind'] / network.generators.p_nom_opt['onshorewind'],\n",
    "    \"gas (CCGT)\": network.generators_t.p['CCGT'] / network.generators.p_nom_opt['CCGT']\n",
    "}\n",
    "\n",
    "# Sorting data for duration curve plot\n",
    "duration_curves = {\n",
    "    tech: np.sort(data)[::-1]\n",
    "    for tech, data in capacity_factors.items()\n",
    "}\n"
   ]
  },
  {
   "attachments": {
    "image.png": {
     "image/png": "[encoded data removed]"
    }
   },
   "cell_type": "markdown",
   "metadata": {},
   "source": [
    "![image.png](attachment:image.png)"
   ]
  },
  {
   "cell_type": "code",
   "execution_count": null,
   "metadata": {},
   "outputs": [
    {
     "ename": "ValueError",
     "evalue": "Grouper and axis must be same length",
     "output_type": "error",
     "traceback": [
      "\u001b[1;31m---------------------------------------------------------------------------\u001b[0m",
      "\u001b[1;31mValueError\u001b[0m                                Traceback (most recent call last)",
      "Cell \u001b[1;32mIn[185], line 15\u001b[0m\n\u001b[0;32m     12\u001b[0m mask\u001b[38;5;241m=\u001b[39m (cf_gbr\u001b[38;5;241m.\u001b[39mindex\u001b[38;5;241m.\u001b[39myear \u001b[38;5;241m>\u001b[39m\u001b[38;5;241m=\u001b[39m start_year) \u001b[38;5;241m&\u001b[39m (cf_gbr\u001b[38;5;241m.\u001b[39mindex\u001b[38;5;241m.\u001b[39myear \u001b[38;5;241m<\u001b[39m\u001b[38;5;241m=\u001b[39m end_year)\n\u001b[0;32m     13\u001b[0m cf_range\u001b[38;5;241m=\u001b[39m cf_gbr[mask]\n\u001b[1;32m---> 15\u001b[0m offshore_mean_per_year \u001b[38;5;241m=\u001b[39m cf_range\u001b[38;5;241m.\u001b[39mgroupby(cf_gbr\u001b[38;5;241m.\u001b[39mindex\u001b[38;5;241m.\u001b[39myear)\u001b[38;5;241m.\u001b[39mmean()\n\u001b[0;32m     16\u001b[0m offshore_var_per_year  \u001b[38;5;241m=\u001b[39m cf_range\u001b[38;5;241m.\u001b[39mgroupby(cf_gbr\u001b[38;5;241m.\u001b[39mindex\u001b[38;5;241m.\u001b[39myear)\u001b[38;5;241m.\u001b[39mvar()\n\u001b[0;32m     18\u001b[0m \u001b[38;5;28mprint\u001b[39m(\u001b[38;5;124m\"\u001b[39m\u001b[38;5;124mAnual mean CF offshore wind:\u001b[39m\u001b[38;5;124m\"\u001b[39m)\n",
      "File \u001b[1;32mc:\\Users\\Dmora\\anaconda3\\envs\\py311\\Lib\\site-packages\\pandas\\core\\series.py:2247\u001b[0m, in \u001b[0;36mSeries.groupby\u001b[1;34m(self, by, axis, level, as_index, sort, group_keys, observed, dropna)\u001b[0m\n\u001b[0;32m   2244\u001b[0m     \u001b[38;5;28;01mraise\u001b[39;00m \u001b[38;5;167;01mTypeError\u001b[39;00m(\u001b[38;5;124m\"\u001b[39m\u001b[38;5;124mas_index=False only valid with DataFrame\u001b[39m\u001b[38;5;124m\"\u001b[39m)\n\u001b[0;32m   2245\u001b[0m axis \u001b[38;5;241m=\u001b[39m \u001b[38;5;28mself\u001b[39m\u001b[38;5;241m.\u001b[39m_get_axis_number(axis)\n\u001b[1;32m-> 2247\u001b[0m \u001b[38;5;28;01mreturn\u001b[39;00m SeriesGroupBy(\n\u001b[0;32m   2248\u001b[0m     obj\u001b[38;5;241m=\u001b[39m\u001b[38;5;28mself\u001b[39m,\n\u001b[0;32m   2249\u001b[0m     keys\u001b[38;5;241m=\u001b[39mby,\n\u001b[0;32m   2250\u001b[0m     axis\u001b[38;5;241m=\u001b[39maxis,\n\u001b[0;32m   2251\u001b[0m     level\u001b[38;5;241m=\u001b[39mlevel,\n\u001b[0;32m   2252\u001b[0m     as_index\u001b[38;5;241m=\u001b[39mas_index,\n\u001b[0;32m   2253\u001b[0m     sort\u001b[38;5;241m=\u001b[39msort,\n\u001b[0;32m   2254\u001b[0m     group_keys\u001b[38;5;241m=\u001b[39mgroup_keys,\n\u001b[0;32m   2255\u001b[0m     observed\u001b[38;5;241m=\u001b[39mobserved,\n\u001b[0;32m   2256\u001b[0m     dropna\u001b[38;5;241m=\u001b[39mdropna,\n\u001b[0;32m   2257\u001b[0m )\n",
      "File \u001b[1;32mc:\\Users\\Dmora\\anaconda3\\envs\\py311\\Lib\\site-packages\\pandas\\core\\groupby\\groupby.py:1329\u001b[0m, in \u001b[0;36mGroupBy.__init__\u001b[1;34m(self, obj, keys, axis, level, grouper, exclusions, selection, as_index, sort, group_keys, observed, dropna)\u001b[0m\n\u001b[0;32m   1326\u001b[0m \u001b[38;5;28mself\u001b[39m\u001b[38;5;241m.\u001b[39mdropna \u001b[38;5;241m=\u001b[39m dropna\n\u001b[0;32m   1328\u001b[0m \u001b[38;5;28;01mif\u001b[39;00m grouper \u001b[38;5;129;01mis\u001b[39;00m \u001b[38;5;28;01mNone\u001b[39;00m:\n\u001b[1;32m-> 1329\u001b[0m     grouper, exclusions, obj \u001b[38;5;241m=\u001b[39m get_grouper(\n\u001b[0;32m   1330\u001b[0m         obj,\n\u001b[0;32m   1331\u001b[0m         keys,\n\u001b[0;32m   1332\u001b[0m         axis\u001b[38;5;241m=\u001b[39maxis,\n\u001b[0;32m   1333\u001b[0m         level\u001b[38;5;241m=\u001b[39mlevel,\n\u001b[0;32m   1334\u001b[0m         sort\u001b[38;5;241m=\u001b[39msort,\n\u001b[0;32m   1335\u001b[0m         observed\u001b[38;5;241m=\u001b[39m\u001b[38;5;28;01mFalse\u001b[39;00m \u001b[38;5;28;01mif\u001b[39;00m observed \u001b[38;5;129;01mis\u001b[39;00m lib\u001b[38;5;241m.\u001b[39mno_default \u001b[38;5;28;01melse\u001b[39;00m observed,\n\u001b[0;32m   1336\u001b[0m         dropna\u001b[38;5;241m=\u001b[39m\u001b[38;5;28mself\u001b[39m\u001b[38;5;241m.\u001b[39mdropna,\n\u001b[0;32m   1337\u001b[0m     )\n\u001b[0;32m   1339\u001b[0m \u001b[38;5;28;01mif\u001b[39;00m observed \u001b[38;5;129;01mis\u001b[39;00m lib\u001b[38;5;241m.\u001b[39mno_default:\n\u001b[0;32m   1340\u001b[0m     \u001b[38;5;28;01mif\u001b[39;00m \u001b[38;5;28many\u001b[39m(ping\u001b[38;5;241m.\u001b[39m_passed_categorical \u001b[38;5;28;01mfor\u001b[39;00m ping \u001b[38;5;129;01min\u001b[39;00m grouper\u001b[38;5;241m.\u001b[39mgroupings):\n",
      "File \u001b[1;32mc:\\Users\\Dmora\\anaconda3\\envs\\py311\\Lib\\site-packages\\pandas\\core\\groupby\\grouper.py:1054\u001b[0m, in \u001b[0;36mget_grouper\u001b[1;34m(obj, key, axis, level, sort, observed, validate, dropna)\u001b[0m\n\u001b[0;32m   1049\u001b[0m         in_axis \u001b[38;5;241m=\u001b[39m \u001b[38;5;28;01mFalse\u001b[39;00m\n\u001b[0;32m   1051\u001b[0m     \u001b[38;5;66;03m# create the Grouping\u001b[39;00m\n\u001b[0;32m   1052\u001b[0m     \u001b[38;5;66;03m# allow us to passing the actual Grouping as the gpr\u001b[39;00m\n\u001b[0;32m   1053\u001b[0m     ping \u001b[38;5;241m=\u001b[39m (\n\u001b[1;32m-> 1054\u001b[0m         Grouping(\n\u001b[0;32m   1055\u001b[0m             group_axis,\n\u001b[0;32m   1056\u001b[0m             gpr,\n\u001b[0;32m   1057\u001b[0m             obj\u001b[38;5;241m=\u001b[39mobj,\n\u001b[0;32m   1058\u001b[0m             level\u001b[38;5;241m=\u001b[39mlevel,\n\u001b[0;32m   1059\u001b[0m             sort\u001b[38;5;241m=\u001b[39msort,\n\u001b[0;32m   1060\u001b[0m             observed\u001b[38;5;241m=\u001b[39mobserved,\n\u001b[0;32m   1061\u001b[0m             in_axis\u001b[38;5;241m=\u001b[39min_axis,\n\u001b[0;32m   1062\u001b[0m             dropna\u001b[38;5;241m=\u001b[39mdropna,\n\u001b[0;32m   1063\u001b[0m         )\n\u001b[0;32m   1064\u001b[0m         \u001b[38;5;28;01mif\u001b[39;00m \u001b[38;5;129;01mnot\u001b[39;00m \u001b[38;5;28misinstance\u001b[39m(gpr, Grouping)\n\u001b[0;32m   1065\u001b[0m         \u001b[38;5;28;01melse\u001b[39;00m gpr\n\u001b[0;32m   1066\u001b[0m     )\n\u001b[0;32m   1068\u001b[0m     groupings\u001b[38;5;241m.\u001b[39mappend(ping)\n\u001b[0;32m   1070\u001b[0m \u001b[38;5;28;01mif\u001b[39;00m \u001b[38;5;28mlen\u001b[39m(groupings) \u001b[38;5;241m==\u001b[39m \u001b[38;5;241m0\u001b[39m \u001b[38;5;129;01mand\u001b[39;00m \u001b[38;5;28mlen\u001b[39m(obj):\n",
      "File \u001b[1;32mc:\\Users\\Dmora\\anaconda3\\envs\\py311\\Lib\\site-packages\\pandas\\core\\groupby\\grouper.py:541\u001b[0m, in \u001b[0;36mGrouping.__init__\u001b[1;34m(self, index, grouper, obj, level, sort, observed, in_axis, dropna, uniques)\u001b[0m\n\u001b[0;32m    539\u001b[0m \u001b[38;5;28mself\u001b[39m\u001b[38;5;241m.\u001b[39mlevel \u001b[38;5;241m=\u001b[39m level\n\u001b[0;32m    540\u001b[0m \u001b[38;5;28mself\u001b[39m\u001b[38;5;241m.\u001b[39m_orig_grouper \u001b[38;5;241m=\u001b[39m grouper\n\u001b[1;32m--> 541\u001b[0m grouping_vector \u001b[38;5;241m=\u001b[39m _convert_grouper(index, grouper)\n\u001b[0;32m    542\u001b[0m \u001b[38;5;28mself\u001b[39m\u001b[38;5;241m.\u001b[39m_all_grouper \u001b[38;5;241m=\u001b[39m \u001b[38;5;28;01mNone\u001b[39;00m\n\u001b[0;32m    543\u001b[0m \u001b[38;5;28mself\u001b[39m\u001b[38;5;241m.\u001b[39m_orig_cats \u001b[38;5;241m=\u001b[39m \u001b[38;5;28;01mNone\u001b[39;00m\n",
      "File \u001b[1;32mc:\\Users\\Dmora\\anaconda3\\envs\\py311\\Lib\\site-packages\\pandas\\core\\groupby\\grouper.py:1096\u001b[0m, in \u001b[0;36m_convert_grouper\u001b[1;34m(axis, grouper)\u001b[0m\n\u001b[0;32m   1094\u001b[0m \u001b[38;5;28;01melif\u001b[39;00m \u001b[38;5;28misinstance\u001b[39m(grouper, (\u001b[38;5;28mlist\u001b[39m, \u001b[38;5;28mtuple\u001b[39m, Index, Categorical, np\u001b[38;5;241m.\u001b[39mndarray)):\n\u001b[0;32m   1095\u001b[0m     \u001b[38;5;28;01mif\u001b[39;00m \u001b[38;5;28mlen\u001b[39m(grouper) \u001b[38;5;241m!=\u001b[39m \u001b[38;5;28mlen\u001b[39m(axis):\n\u001b[1;32m-> 1096\u001b[0m         \u001b[38;5;28;01mraise\u001b[39;00m \u001b[38;5;167;01mValueError\u001b[39;00m(\u001b[38;5;124m\"\u001b[39m\u001b[38;5;124mGrouper and axis must be same length\u001b[39m\u001b[38;5;124m\"\u001b[39m)\n\u001b[0;32m   1098\u001b[0m     \u001b[38;5;28;01mif\u001b[39;00m \u001b[38;5;28misinstance\u001b[39m(grouper, (\u001b[38;5;28mlist\u001b[39m, \u001b[38;5;28mtuple\u001b[39m)):\n\u001b[0;32m   1099\u001b[0m         grouper \u001b[38;5;241m=\u001b[39m com\u001b[38;5;241m.\u001b[39masarray_tuplesafe(grouper)\n",
      "\u001b[1;31mValueError\u001b[0m: Grouper and axis must be same length"
     ]
    }
   ],
   "source": [
    "\n",
    "# Task C: Interannual Variability\n",
    "\n",
    "# Specify your desired range here:\n",
    "start_year = 1990\n",
    "end_year   = 2000\n",
    "\n",
    "\n",
    "# OFFSHORE WIND\n",
    "cf_gbr = df_offshore['GBR']\n",
    "offshore_mean_per_year = cf_gbr.groupby(cf_gbr.index.year).mean()\n",
    "offshore_var_per_year  = cf_gbr.groupby(cf_gbr.index.year).var()\n",
    "\n",
    "print(\"Anual mean CF offshore wind:\")\n",
    "print(offshore_mean_per_year)\n",
    "print(\"\\nVariance  CF offshore wind:\")\n",
    "print(offshore_var_per_year)\n",
    "\n",
    "# 3B. Estadísticas AGREGADAS (toda la serie)\n",
    "print(\"\\nMEAN:\", cf_gbr.mean())\n",
    "print(\"Variance :\", cf_gbr.var())\n",
    "\n",
    "# Plot 1: Annual mean capacity factor\n",
    "plt.figure()\n",
    "offshore_mean_per_year.plot(marker='o')\n",
    "plt.xlabel('Year')\n",
    "plt.ylabel('Mean Capacity Factor')\n",
    "plt.title('Annual Mean Capacity Factor of Offshore Wind (1979–2017)')\n",
    "plt.grid(True)\n",
    "plt.tight_layout()\n",
    "\n",
    "# Plot 2: Annual variance of capacity factor\n",
    "plt.figure()\n",
    "offshore_var_per_year.plot(marker='o', color='tab:orange')\n",
    "plt.xlabel('Year')\n",
    "plt.ylabel('Variance of Capacity Factor')\n",
    "plt.title('Annual Variance of Offshore Wind Capacity Factor (1979–2017)')\n",
    "plt.grid(True)\n",
    "plt.tight_layout()\n"
   ]
  }
 ],
 "metadata": {
  "kernelspec": {
   "display_name": "py311",
   "language": "python",
   "name": "python3"
  },
  "language_info": {
   "codemirror_mode": {
    "name": "ipython",
    "version": 3
   },
   "file_extension": ".py",
   "mimetype": "text/x-python",
   "name": "python",
   "nbconvert_exporter": "python",
   "pygments_lexer": "ipython3",
   "version": "3.11.11"
  }
 },
 "nbformat": 4,
 "nbformat_minor": 2
}
