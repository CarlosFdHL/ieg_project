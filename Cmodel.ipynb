{
 "cells": [
  {
   "cell_type": "code",
   "execution_count": 1,
   "metadata": {},
   "outputs": [],
   "source": [
    "import pandas as pd\n",
    "import pypsa\n",
    "import matplotlib.pyplot as plt\n",
    "import numpy as np\n",
    "import pandas as pd\n",
    "import os \n",
    "import xarray as xr\n",
    "\n",
    "plt.rcParams['font.family'] = 'serif'"
   ]
  },
  {
   "cell_type": "code",
   "execution_count": 2,
   "metadata": {},
   "outputs": [
    {
     "data": {
      "text/plain": [
       "DatetimeIndex(['1986-01-01 00:00:00', '1986-01-01 01:00:00',\n",
       "               '1986-01-01 02:00:00', '1986-01-01 03:00:00',\n",
       "               '1986-01-01 04:00:00', '1986-01-01 05:00:00',\n",
       "               '1986-01-01 06:00:00', '1986-01-01 07:00:00',\n",
       "               '1986-01-01 08:00:00', '1986-01-01 09:00:00',\n",
       "               ...\n",
       "               '1986-12-31 14:00:00', '1986-12-31 15:00:00',\n",
       "               '1986-12-31 16:00:00', '1986-12-31 17:00:00',\n",
       "               '1986-12-31 18:00:00', '1986-12-31 19:00:00',\n",
       "               '1986-12-31 20:00:00', '1986-12-31 21:00:00',\n",
       "               '1986-12-31 22:00:00', '1986-12-31 23:00:00'],\n",
       "              dtype='datetime64[ns]', name='snapshot', length=8760, freq=None)"
      ]
     },
     "execution_count": 2,
     "metadata": {},
     "output_type": "execute_result"
    }
   ],
   "source": [
    "network = pypsa.Network()\n",
    "hours_in_2015 = pd.date_range('1986-01-01 00:00Z',\n",
    "                              '1986-12-31 23:00Z',\n",
    "                              freq='h')\n",
    "\n",
    "network.set_snapshots(hours_in_2015.values)\n",
    "\n",
    "network.add(\"Bus\",\n",
    "            \"electricity bus\")\n",
    "\n",
    "network.snapshots"
   ]
  },
  {
   "cell_type": "code",
   "execution_count": 3,
   "metadata": {},
   "outputs": [
    {
     "name": "stdout",
     "output_type": "stream",
     "text": [
      "utc_time\n",
      "2015-01-01 00:00:00+00:00    29059.0\n",
      "2015-01-01 01:00:00+00:00    28663.0\n",
      "2015-01-01 02:00:00+00:00    26626.0\n",
      "2015-01-01 03:00:00+00:00    24778.0\n",
      "2015-01-01 04:00:00+00:00    23212.0\n",
      "Name: GBR, dtype: float64\n"
     ]
    }
   ],
   "source": [
    "# load electricity demand data\n",
    "df_elec = pd.read_csv('data/electricity_demand.csv', sep=';', index_col=0) # in MWh\n",
    "df_elec.index = pd.to_datetime(df_elec.index) #change index to datatime\n",
    "country='GBR'\n",
    "print(df_elec[country].head())"
   ]
  },
  {
   "cell_type": "code",
   "execution_count": 4,
   "metadata": {},
   "outputs": [
    {
     "data": {
      "text/plain": [
       "Index(['load'], dtype='object')"
      ]
     },
     "execution_count": 4,
     "metadata": {},
     "output_type": "execute_result"
    }
   ],
   "source": [
    "# add load to the bus\n",
    "network.add(\"Load\",\n",
    "            \"load\",\n",
    "            bus=\"electricity bus\",\n",
    "            p_set=df_elec[country].values)"
   ]
  },
  {
   "cell_type": "code",
   "execution_count": 5,
   "metadata": {},
   "outputs": [
    {
     "data": {
      "text/html": [
       "<div>\n",
       "<style scoped>\n",
       "    .dataframe tbody tr th:only-of-type {\n",
       "        vertical-align: middle;\n",
       "    }\n",
       "\n",
       "    .dataframe tbody tr th {\n",
       "        vertical-align: top;\n",
       "    }\n",
       "\n",
       "    .dataframe thead th {\n",
       "        text-align: right;\n",
       "    }\n",
       "</style>\n",
       "<table border=\"1\" class=\"dataframe\">\n",
       "  <thead>\n",
       "    <tr style=\"text-align: right;\">\n",
       "      <th>Load</th>\n",
       "      <th>load</th>\n",
       "    </tr>\n",
       "    <tr>\n",
       "      <th>snapshot</th>\n",
       "      <th></th>\n",
       "    </tr>\n",
       "  </thead>\n",
       "  <tbody>\n",
       "    <tr>\n",
       "      <th>1986-01-01 00:00:00</th>\n",
       "      <td>29059.0</td>\n",
       "    </tr>\n",
       "    <tr>\n",
       "      <th>1986-01-01 01:00:00</th>\n",
       "      <td>28663.0</td>\n",
       "    </tr>\n",
       "    <tr>\n",
       "      <th>1986-01-01 02:00:00</th>\n",
       "      <td>26626.0</td>\n",
       "    </tr>\n",
       "    <tr>\n",
       "      <th>1986-01-01 03:00:00</th>\n",
       "      <td>24778.0</td>\n",
       "    </tr>\n",
       "    <tr>\n",
       "      <th>1986-01-01 04:00:00</th>\n",
       "      <td>23212.0</td>\n",
       "    </tr>\n",
       "    <tr>\n",
       "      <th>...</th>\n",
       "      <td>...</td>\n",
       "    </tr>\n",
       "    <tr>\n",
       "      <th>1986-12-31 19:00:00</th>\n",
       "      <td>35944.0</td>\n",
       "    </tr>\n",
       "    <tr>\n",
       "      <th>1986-12-31 20:00:00</th>\n",
       "      <td>33128.0</td>\n",
       "    </tr>\n",
       "    <tr>\n",
       "      <th>1986-12-31 21:00:00</th>\n",
       "      <td>30488.0</td>\n",
       "    </tr>\n",
       "    <tr>\n",
       "      <th>1986-12-31 22:00:00</th>\n",
       "      <td>28773.0</td>\n",
       "    </tr>\n",
       "    <tr>\n",
       "      <th>1986-12-31 23:00:00</th>\n",
       "      <td>37700.0</td>\n",
       "    </tr>\n",
       "  </tbody>\n",
       "</table>\n",
       "<p>8760 rows × 1 columns</p>\n",
       "</div>"
      ],
      "text/plain": [
       "Load                    load\n",
       "snapshot                    \n",
       "1986-01-01 00:00:00  29059.0\n",
       "1986-01-01 01:00:00  28663.0\n",
       "1986-01-01 02:00:00  26626.0\n",
       "1986-01-01 03:00:00  24778.0\n",
       "1986-01-01 04:00:00  23212.0\n",
       "...                      ...\n",
       "1986-12-31 19:00:00  35944.0\n",
       "1986-12-31 20:00:00  33128.0\n",
       "1986-12-31 21:00:00  30488.0\n",
       "1986-12-31 22:00:00  28773.0\n",
       "1986-12-31 23:00:00  37700.0\n",
       "\n",
       "[8760 rows x 1 columns]"
      ]
     },
     "execution_count": 5,
     "metadata": {},
     "output_type": "execute_result"
    }
   ],
   "source": [
    "network.loads_t.p_set"
   ]
  },
  {
   "cell_type": "code",
   "execution_count": 6,
   "metadata": {},
   "outputs": [],
   "source": [
    "def annuity(n,r):\n",
    "    \"\"\" Calculate the annuity factor for an asset with lifetime n years and\n",
    "    discount rate  r \"\"\"\n",
    "\n",
    "    if r > 0:\n",
    "        return r/(1. - 1./(1.+r)**n)\n",
    "    else:\n",
    "        return 1/n"
   ]
  },
  {
   "cell_type": "code",
   "execution_count": 7,
   "metadata": {},
   "outputs": [
    {
     "data": {
      "text/plain": [
       "Index(['nuclear'], dtype='object')"
      ]
     },
     "execution_count": 7,
     "metadata": {},
     "output_type": "execute_result"
    }
   ],
   "source": [
    "# CAPEX values for different technologies (in €/MW)\n",
    "offshoreWind_capex = 2.8e6\n",
    "onshoreWind_capex = 1.4e6\n",
    "solar_capex = 628e3\n",
    "ccgt_capex = 1.04e6\n",
    "nuclear_capex = 11.08e6\n",
    "\n",
    "# add the different carriers, only gas emits CO2\n",
    "network.add(\"Carrier\", \"gas\", co2_emissions=0.2019) # in t_CO2/MWh_th\n",
    "network.add(\"Carrier\", \"onshorewind\")\n",
    "network.add(\"Carrier\", \"solar\")\n",
    "network.add(\"Carrier\", \"offshorewind\")\n",
    "network.add(\"Carrier\", \"nuclear\")\n",
    "\n",
    "# add onshore wind generator\n",
    "df_onshorewind = pd.read_csv('data/onshore_wind_1979-2017.csv', sep=';', index_col=0)\n",
    "df_onshorewind.index = pd.to_datetime(df_onshorewind.index)\n",
    "CF_windOnshore = df_onshorewind[country][[hour.strftime(\"%Y-%m-%dT%H:%M:%SZ\") for hour in network.snapshots]]\n",
    "capital_cost_onshorewind = annuity(25,0.07)*onshoreWind_capex * (1+0.03) # in €/MW !!!!!!!!!!!!!!!!!!!!!!!!!!!!!!!!!!!!!!!!!!!!!!!!!!!!!!!!!!!!!!!!!!!!\n",
    "network.add(\"Generator\",\n",
    "            \"onshorewind\",\n",
    "            bus=\"electricity bus\",\n",
    "            p_nom_extendable=True,\n",
    "            carrier=\"onshorewind\",\n",
    "            #p_nom_max=1000, # maximum capacity can be limited due to environmental constraints\n",
    "            capital_cost = capital_cost_onshorewind,\n",
    "            marginal_cost = 0,\n",
    "            p_max_pu = CF_windOnshore.values)\n",
    "\n",
    "# add offshore wind generator\n",
    "df_offshore = pd.read_csv('data/offshore_wind_1979-2017.csv', sep=';', index_col=0)\n",
    "df_offshore.index = pd.to_datetime(df_offshore.index)\n",
    "CF_windOffshore = df_offshore[country][[hour.strftime(\"%Y-%m-%dT%H:%M:%SZ\") for hour in network.snapshots]]\n",
    "capital_cost_offshore = annuity(25,0.07)*offshoreWind_capex *(1+0.03) # in €/MW !!!!!!!!!!!!!!!!!!!!!!!!!!!!!!!!!!!!!!!!!!!!!!!!!!!!!!!!!!!!!!!!!!!!\n",
    "network.add(\"Generator\",\n",
    "            \"offshorewind\",\n",
    "            bus=\"electricity bus\",\n",
    "            p_nom_extendable=True,\n",
    "            carrier=\"offshorewind\",\n",
    "            #p_nom_max=1000, # maximum capacity can be limited due to environmental constraints\n",
    "            capital_cost = capital_cost_offshore,\n",
    "            marginal_cost = 0,\n",
    "            p_max_pu = CF_windOffshore.values)\n",
    "\n",
    "# add solar PV generator\n",
    "df_solar = pd.read_csv('data/pv_optimal.csv', sep=';', index_col=0)\n",
    "df_solar.index = pd.to_datetime(df_solar.index)\n",
    "CF_solar = df_solar[country][[hour.strftime(\"%Y-%m-%dT%H:%M:%SZ\") for hour in network.snapshots]]\n",
    "capital_cost_solar = annuity(25,0.07)*solar_capex*(1+0.03) # in €/MW\n",
    "network.add(\"Generator\",\n",
    "            \"solar\",\n",
    "            bus=\"electricity bus\",\n",
    "            p_nom_extendable=True,\n",
    "            carrier=\"solar\",\n",
    "            #p_nom_max=1000, # maximum capacity can be limited due to environmental constraints\n",
    "            capital_cost = capital_cost_solar,\n",
    "            marginal_cost = 0,\n",
    "            p_max_pu = CF_solar.values)\n",
    "\n",
    "# add CCGT (Combine Cycle Gas Turbine) generator\n",
    "capital_cost_CCGT = annuity(30,0.07)*(ccgt_capex + 14.32 * 1000) # in €/MW\n",
    "fuel_cost = 30.32 # in €/MWh_th\n",
    "efficiency = 0.5 # MWh_elec/MWh_th\n",
    "marginal_cost_CCGT = fuel_cost/efficiency # in €/MWh_el\n",
    "network.add(\"Generator\",\n",
    "            \"CCGT\",\n",
    "            bus=\"electricity bus\",\n",
    "            p_nom_extendable=True,\n",
    "            carrier=\"gas\",\n",
    "            #p_nom_max=1000,\n",
    "            capital_cost = capital_cost_CCGT,\n",
    "            marginal_cost = marginal_cost_CCGT)\n",
    "\n",
    "# add nuclear generator\n",
    "capital_cost_nuclear = annuity(40,0.07)*(nuclear_capex + 14.45 * 1000) # in €/MW\n",
    "fuel_cost = 6.2 # in €/MWh_th\n",
    "efficiency = 0.33 # MWh_elec/MWh_th\n",
    "marginal_cost_nuclear = fuel_cost/efficiency # in €/MWh_el\n",
    "network.add(\"Generator\",\n",
    "            \"nuclear\",\n",
    "            bus=\"electricity bus\",\n",
    "            p_nom_extendable=True,\n",
    "            carrier=\"nuclear\",\n",
    "            #p_nom_max=1000,\n",
    "            capital_cost = capital_cost_nuclear,\n",
    "            marginal_cost = marginal_cost_nuclear)"
   ]
  },
  {
   "cell_type": "code",
   "execution_count": 8,
   "metadata": {},
   "outputs": [
    {
     "data": {
      "text/html": [
       "<div>\n",
       "<style scoped>\n",
       "    .dataframe tbody tr th:only-of-type {\n",
       "        vertical-align: middle;\n",
       "    }\n",
       "\n",
       "    .dataframe tbody tr th {\n",
       "        vertical-align: top;\n",
       "    }\n",
       "\n",
       "    .dataframe thead th {\n",
       "        text-align: right;\n",
       "    }\n",
       "</style>\n",
       "<table border=\"1\" class=\"dataframe\">\n",
       "  <thead>\n",
       "    <tr style=\"text-align: right;\">\n",
       "      <th>Generator</th>\n",
       "      <th>offshorewind</th>\n",
       "      <th>onshorewind</th>\n",
       "      <th>solar</th>\n",
       "    </tr>\n",
       "    <tr>\n",
       "      <th>snapshot</th>\n",
       "      <th></th>\n",
       "      <th></th>\n",
       "      <th></th>\n",
       "    </tr>\n",
       "  </thead>\n",
       "  <tbody>\n",
       "    <tr>\n",
       "      <th>1986-01-01 00:00:00</th>\n",
       "      <td>0.676</td>\n",
       "      <td>0.220</td>\n",
       "      <td>0.0</td>\n",
       "    </tr>\n",
       "    <tr>\n",
       "      <th>1986-01-01 01:00:00</th>\n",
       "      <td>0.650</td>\n",
       "      <td>0.228</td>\n",
       "      <td>0.0</td>\n",
       "    </tr>\n",
       "    <tr>\n",
       "      <th>1986-01-01 02:00:00</th>\n",
       "      <td>0.604</td>\n",
       "      <td>0.233</td>\n",
       "      <td>0.0</td>\n",
       "    </tr>\n",
       "    <tr>\n",
       "      <th>1986-01-01 03:00:00</th>\n",
       "      <td>0.506</td>\n",
       "      <td>0.222</td>\n",
       "      <td>0.0</td>\n",
       "    </tr>\n",
       "    <tr>\n",
       "      <th>1986-01-01 04:00:00</th>\n",
       "      <td>0.416</td>\n",
       "      <td>0.210</td>\n",
       "      <td>0.0</td>\n",
       "    </tr>\n",
       "    <tr>\n",
       "      <th>...</th>\n",
       "      <td>...</td>\n",
       "      <td>...</td>\n",
       "      <td>...</td>\n",
       "    </tr>\n",
       "    <tr>\n",
       "      <th>1986-12-31 19:00:00</th>\n",
       "      <td>0.225</td>\n",
       "      <td>0.106</td>\n",
       "      <td>0.0</td>\n",
       "    </tr>\n",
       "    <tr>\n",
       "      <th>1986-12-31 20:00:00</th>\n",
       "      <td>0.187</td>\n",
       "      <td>0.110</td>\n",
       "      <td>0.0</td>\n",
       "    </tr>\n",
       "    <tr>\n",
       "      <th>1986-12-31 21:00:00</th>\n",
       "      <td>0.144</td>\n",
       "      <td>0.132</td>\n",
       "      <td>0.0</td>\n",
       "    </tr>\n",
       "    <tr>\n",
       "      <th>1986-12-31 22:00:00</th>\n",
       "      <td>0.121</td>\n",
       "      <td>0.164</td>\n",
       "      <td>0.0</td>\n",
       "    </tr>\n",
       "    <tr>\n",
       "      <th>1986-12-31 23:00:00</th>\n",
       "      <td>0.125</td>\n",
       "      <td>0.192</td>\n",
       "      <td>0.0</td>\n",
       "    </tr>\n",
       "  </tbody>\n",
       "</table>\n",
       "<p>8760 rows × 3 columns</p>\n",
       "</div>"
      ],
      "text/plain": [
       "Generator            offshorewind  onshorewind  solar\n",
       "snapshot                                             \n",
       "1986-01-01 00:00:00         0.676        0.220    0.0\n",
       "1986-01-01 01:00:00         0.650        0.228    0.0\n",
       "1986-01-01 02:00:00         0.604        0.233    0.0\n",
       "1986-01-01 03:00:00         0.506        0.222    0.0\n",
       "1986-01-01 04:00:00         0.416        0.210    0.0\n",
       "...                           ...          ...    ...\n",
       "1986-12-31 19:00:00         0.225        0.106    0.0\n",
       "1986-12-31 20:00:00         0.187        0.110    0.0\n",
       "1986-12-31 21:00:00         0.144        0.132    0.0\n",
       "1986-12-31 22:00:00         0.121        0.164    0.0\n",
       "1986-12-31 23:00:00         0.125        0.192    0.0\n",
       "\n",
       "[8760 rows x 3 columns]"
      ]
     },
     "execution_count": 8,
     "metadata": {},
     "output_type": "execute_result"
    }
   ],
   "source": [
    "network.generators_t.p_max_pu"
   ]
  },
  {
   "cell_type": "code",
   "execution_count": 9,
   "metadata": {},
   "outputs": [
    {
     "name": "stderr",
     "output_type": "stream",
     "text": [
      "WARNING:pypsa.consistency:The following buses have carriers which are not defined:\n",
      "Index(['electricity bus'], dtype='object', name='Bus')\n"
     ]
    },
    {
     "name": "stderr",
     "output_type": "stream",
     "text": [
      "INFO:linopy.model: Solve problem using Gurobi solver\n",
      "INFO:linopy.model:Solver options:\n",
      " - Outputflag: 0\n",
      "INFO:linopy.io:Writing objective.\n",
      "Writing constraints.: 100%|\u001b[38;2;128;191;255m██████████\u001b[0m| 5/5 [00:00<00:00, 10.63it/s]\n",
      "Writing continuous variables.: 100%|\u001b[38;2;128;191;255m██████████\u001b[0m| 2/2 [00:00<00:00, 24.23it/s]\n",
      "INFO:linopy.io: Writing time: 0.6s\n"
     ]
    },
    {
     "name": "stdout",
     "output_type": "stream",
     "text": [
      "Set parameter Username\n"
     ]
    },
    {
     "name": "stderr",
     "output_type": "stream",
     "text": [
      "INFO:gurobipy:Set parameter Username\n"
     ]
    },
    {
     "name": "stdout",
     "output_type": "stream",
     "text": [
      "Set parameter LicenseID to value 2626576\n"
     ]
    },
    {
     "name": "stderr",
     "output_type": "stream",
     "text": [
      "INFO:gurobipy:Set parameter LicenseID to value 2626576\n"
     ]
    },
    {
     "name": "stdout",
     "output_type": "stream",
     "text": [
      "Academic license - for non-commercial use only - expires 2026-02-22\n"
     ]
    },
    {
     "name": "stderr",
     "output_type": "stream",
     "text": [
      "INFO:gurobipy:Academic license - for non-commercial use only - expires 2026-02-22\n"
     ]
    },
    {
     "name": "stdout",
     "output_type": "stream",
     "text": [
      "Read LP format model from file C:\\Users\\Dmora\\AppData\\Local\\Temp\\linopy-problem-_6rpncsg.lp\n"
     ]
    },
    {
     "name": "stderr",
     "output_type": "stream",
     "text": [
      "INFO:gurobipy:Read LP format model from file C:\\Users\\Dmora\\AppData\\Local\\Temp\\linopy-problem-_6rpncsg.lp\n"
     ]
    },
    {
     "name": "stdout",
     "output_type": "stream",
     "text": [
      "Reading time = 0.17 seconds\n"
     ]
    },
    {
     "name": "stderr",
     "output_type": "stream",
     "text": [
      "INFO:gurobipy:Reading time = 0.17 seconds\n"
     ]
    },
    {
     "name": "stdout",
     "output_type": "stream",
     "text": [
      "obj: 96365 rows, 43805 columns, 170954 nonzeros\n"
     ]
    },
    {
     "name": "stderr",
     "output_type": "stream",
     "text": [
      "INFO:gurobipy:obj: 96365 rows, 43805 columns, 170954 nonzeros\n",
      "INFO:linopy.constants: Optimization successful: \n",
      "Status: ok\n",
      "Termination condition: optimal\n",
      "Solution: 43805 primals, 96365 duals\n",
      "Objective: 1.94e+10\n",
      "Solver model: available\n",
      "Solver message: 2\n",
      "\n",
      "INFO:pypsa.optimization.optimize:The shadow-prices of the constraints Generator-ext-p-lower, Generator-ext-p-upper were not assigned to the network.\n"
     ]
    },
    {
     "data": {
      "text/plain": [
       "('ok', 'optimal')"
      ]
     },
     "execution_count": 9,
     "metadata": {},
     "output_type": "execute_result"
    }
   ],
   "source": [
    "network.optimize(solver_name='gurobi', Outputflag = 0)"
   ]
  },
  {
   "cell_type": "code",
   "execution_count": 10,
   "metadata": {},
   "outputs": [
    {
     "name": "stdout",
     "output_type": "stream",
     "text": [
      "19409.954693329193\n"
     ]
    }
   ],
   "source": [
    "print(network.objective/1000000) #in 10^6 €"
   ]
  },
  {
   "cell_type": "code",
   "execution_count": 11,
   "metadata": {},
   "outputs": [
    {
     "name": "stdout",
     "output_type": "stream",
     "text": [
      "Load\n",
      "load    68.782018\n",
      "dtype: float64\n"
     ]
    }
   ],
   "source": [
    "print(network.objective/network.loads_t.p.sum()) # EUR/MWh"
   ]
  },
  {
   "cell_type": "code",
   "execution_count": 12,
   "metadata": {},
   "outputs": [
    {
     "data": {
      "text/plain": [
       "Generator\n",
       "onshorewind     58270.983213\n",
       "offshorewind        0.000000\n",
       "solar               0.000000\n",
       "CCGT            46777.366906\n",
       "nuclear             0.000000\n",
       "Name: p_nom_opt, dtype: float64"
      ]
     },
     "execution_count": 12,
     "metadata": {},
     "output_type": "execute_result"
    }
   ],
   "source": [
    "network.generators.p_nom_opt # in MW"
   ]
  },
  {
   "cell_type": "markdown",
   "metadata": {},
   "source": [
    "<h2>Plot a week in winter</h2>"
   ]
  },
  {
   "cell_type": "code",
   "execution_count": 13,
   "metadata": {},
   "outputs": [
    {
     "name": "stderr",
     "output_type": "stream",
     "text": [
      "C:\\Users\\Dmora\\AppData\\Local\\Temp\\ipykernel_30280\\3807979031.py:3: FutureWarning: 'H' is deprecated and will be removed in a future version, please use 'h' instead.\n",
      "  hours = pd.date_range(start=\"2015-01-01\", periods=num_hours_week, freq='H')\n"
     ]
    },
    {
     "ename": "KeyError",
     "evalue": "\"None of [DatetimeIndex(['2015-01-01 00:00:00', '2015-01-01 01:00:00',\\n               '2015-01-01 02:00:00', '2015-01-01 03:00:00',\\n               '2015-01-01 04:00:00', '2015-01-01 05:00:00',\\n               '2015-01-01 06:00:00', '2015-01-01 07:00:00',\\n               '2015-01-01 08:00:00', '2015-01-01 09:00:00',\\n               ...\\n               '2015-01-07 14:00:00', '2015-01-07 15:00:00',\\n               '2015-01-07 16:00:00', '2015-01-07 17:00:00',\\n               '2015-01-07 18:00:00', '2015-01-07 19:00:00',\\n               '2015-01-07 20:00:00', '2015-01-07 21:00:00',\\n               '2015-01-07 22:00:00', '2015-01-07 23:00:00'],\\n              dtype='datetime64[ns]', length=168, freq='h')] are in the [index]\"",
     "output_type": "error",
     "traceback": [
      "\u001b[1;31m---------------------------------------------------------------------------\u001b[0m",
      "\u001b[1;31mKeyError\u001b[0m                                  Traceback (most recent call last)",
      "Cell \u001b[1;32mIn[13], line 4\u001b[0m\n\u001b[0;32m      1\u001b[0m num_hours_week \u001b[38;5;241m=\u001b[39m \u001b[38;5;241m7\u001b[39m \u001b[38;5;241m*\u001b[39m \u001b[38;5;241m24\u001b[39m\n\u001b[0;32m      3\u001b[0m hours \u001b[38;5;241m=\u001b[39m pd\u001b[38;5;241m.\u001b[39mdate_range(start\u001b[38;5;241m=\u001b[39m\u001b[38;5;124m\"\u001b[39m\u001b[38;5;124m2015-01-01\u001b[39m\u001b[38;5;124m\"\u001b[39m, periods\u001b[38;5;241m=\u001b[39mnum_hours_week, freq\u001b[38;5;241m=\u001b[39m\u001b[38;5;124m'\u001b[39m\u001b[38;5;124mH\u001b[39m\u001b[38;5;124m'\u001b[39m)\n\u001b[1;32m----> 4\u001b[0m demand \u001b[38;5;241m=\u001b[39m network\u001b[38;5;241m.\u001b[39mloads_t\u001b[38;5;241m.\u001b[39mp[\u001b[38;5;124m'\u001b[39m\u001b[38;5;124mload\u001b[39m\u001b[38;5;124m'\u001b[39m][hours]\u001b[38;5;241m.\u001b[39mvalues\n\u001b[0;32m      5\u001b[0m onshore_wind \u001b[38;5;241m=\u001b[39m network\u001b[38;5;241m.\u001b[39mgenerators_t\u001b[38;5;241m.\u001b[39mp[\u001b[38;5;124m'\u001b[39m\u001b[38;5;124monshorewind\u001b[39m\u001b[38;5;124m'\u001b[39m][hours]\u001b[38;5;241m.\u001b[39mvalues\n\u001b[0;32m      6\u001b[0m solar \u001b[38;5;241m=\u001b[39m network\u001b[38;5;241m.\u001b[39mgenerators_t\u001b[38;5;241m.\u001b[39mp[\u001b[38;5;124m'\u001b[39m\u001b[38;5;124msolar\u001b[39m\u001b[38;5;124m'\u001b[39m][hours]\u001b[38;5;241m.\u001b[39mvalues    \n",
      "File \u001b[1;32mc:\\Users\\Dmora\\anaconda3\\envs\\py311\\Lib\\site-packages\\pandas\\core\\series.py:1153\u001b[0m, in \u001b[0;36mSeries.__getitem__\u001b[1;34m(self, key)\u001b[0m\n\u001b[0;32m   1150\u001b[0m     key \u001b[38;5;241m=\u001b[39m np\u001b[38;5;241m.\u001b[39masarray(key, dtype\u001b[38;5;241m=\u001b[39m\u001b[38;5;28mbool\u001b[39m)\n\u001b[0;32m   1151\u001b[0m     \u001b[38;5;28;01mreturn\u001b[39;00m \u001b[38;5;28mself\u001b[39m\u001b[38;5;241m.\u001b[39m_get_rows_with_mask(key)\n\u001b[1;32m-> 1153\u001b[0m \u001b[38;5;28;01mreturn\u001b[39;00m \u001b[38;5;28mself\u001b[39m\u001b[38;5;241m.\u001b[39m_get_with(key)\n",
      "File \u001b[1;32mc:\\Users\\Dmora\\anaconda3\\envs\\py311\\Lib\\site-packages\\pandas\\core\\series.py:1194\u001b[0m, in \u001b[0;36mSeries._get_with\u001b[1;34m(self, key)\u001b[0m\n\u001b[0;32m   1191\u001b[0m         \u001b[38;5;28;01mreturn\u001b[39;00m \u001b[38;5;28mself\u001b[39m\u001b[38;5;241m.\u001b[39miloc[key]\n\u001b[0;32m   1193\u001b[0m \u001b[38;5;66;03m# handle the dup indexing case GH#4246\u001b[39;00m\n\u001b[1;32m-> 1194\u001b[0m \u001b[38;5;28;01mreturn\u001b[39;00m \u001b[38;5;28mself\u001b[39m\u001b[38;5;241m.\u001b[39mloc[key]\n",
      "File \u001b[1;32mc:\\Users\\Dmora\\anaconda3\\envs\\py311\\Lib\\site-packages\\pandas\\core\\indexing.py:1191\u001b[0m, in \u001b[0;36m_LocationIndexer.__getitem__\u001b[1;34m(self, key)\u001b[0m\n\u001b[0;32m   1189\u001b[0m maybe_callable \u001b[38;5;241m=\u001b[39m com\u001b[38;5;241m.\u001b[39mapply_if_callable(key, \u001b[38;5;28mself\u001b[39m\u001b[38;5;241m.\u001b[39mobj)\n\u001b[0;32m   1190\u001b[0m maybe_callable \u001b[38;5;241m=\u001b[39m \u001b[38;5;28mself\u001b[39m\u001b[38;5;241m.\u001b[39m_check_deprecated_callable_usage(key, maybe_callable)\n\u001b[1;32m-> 1191\u001b[0m \u001b[38;5;28;01mreturn\u001b[39;00m \u001b[38;5;28mself\u001b[39m\u001b[38;5;241m.\u001b[39m_getitem_axis(maybe_callable, axis\u001b[38;5;241m=\u001b[39maxis)\n",
      "File \u001b[1;32mc:\\Users\\Dmora\\anaconda3\\envs\\py311\\Lib\\site-packages\\pandas\\core\\indexing.py:1420\u001b[0m, in \u001b[0;36m_LocIndexer._getitem_axis\u001b[1;34m(self, key, axis)\u001b[0m\n\u001b[0;32m   1417\u001b[0m     \u001b[38;5;28;01mif\u001b[39;00m \u001b[38;5;28mhasattr\u001b[39m(key, \u001b[38;5;124m\"\u001b[39m\u001b[38;5;124mndim\u001b[39m\u001b[38;5;124m\"\u001b[39m) \u001b[38;5;129;01mand\u001b[39;00m key\u001b[38;5;241m.\u001b[39mndim \u001b[38;5;241m>\u001b[39m \u001b[38;5;241m1\u001b[39m:\n\u001b[0;32m   1418\u001b[0m         \u001b[38;5;28;01mraise\u001b[39;00m \u001b[38;5;167;01mValueError\u001b[39;00m(\u001b[38;5;124m\"\u001b[39m\u001b[38;5;124mCannot index with multidimensional key\u001b[39m\u001b[38;5;124m\"\u001b[39m)\n\u001b[1;32m-> 1420\u001b[0m     \u001b[38;5;28;01mreturn\u001b[39;00m \u001b[38;5;28mself\u001b[39m\u001b[38;5;241m.\u001b[39m_getitem_iterable(key, axis\u001b[38;5;241m=\u001b[39maxis)\n\u001b[0;32m   1422\u001b[0m \u001b[38;5;66;03m# nested tuple slicing\u001b[39;00m\n\u001b[0;32m   1423\u001b[0m \u001b[38;5;28;01mif\u001b[39;00m is_nested_tuple(key, labels):\n",
      "File \u001b[1;32mc:\\Users\\Dmora\\anaconda3\\envs\\py311\\Lib\\site-packages\\pandas\\core\\indexing.py:1360\u001b[0m, in \u001b[0;36m_LocIndexer._getitem_iterable\u001b[1;34m(self, key, axis)\u001b[0m\n\u001b[0;32m   1357\u001b[0m \u001b[38;5;28mself\u001b[39m\u001b[38;5;241m.\u001b[39m_validate_key(key, axis)\n\u001b[0;32m   1359\u001b[0m \u001b[38;5;66;03m# A collection of keys\u001b[39;00m\n\u001b[1;32m-> 1360\u001b[0m keyarr, indexer \u001b[38;5;241m=\u001b[39m \u001b[38;5;28mself\u001b[39m\u001b[38;5;241m.\u001b[39m_get_listlike_indexer(key, axis)\n\u001b[0;32m   1361\u001b[0m \u001b[38;5;28;01mreturn\u001b[39;00m \u001b[38;5;28mself\u001b[39m\u001b[38;5;241m.\u001b[39mobj\u001b[38;5;241m.\u001b[39m_reindex_with_indexers(\n\u001b[0;32m   1362\u001b[0m     {axis: [keyarr, indexer]}, copy\u001b[38;5;241m=\u001b[39m\u001b[38;5;28;01mTrue\u001b[39;00m, allow_dups\u001b[38;5;241m=\u001b[39m\u001b[38;5;28;01mTrue\u001b[39;00m\n\u001b[0;32m   1363\u001b[0m )\n",
      "File \u001b[1;32mc:\\Users\\Dmora\\anaconda3\\envs\\py311\\Lib\\site-packages\\pandas\\core\\indexing.py:1558\u001b[0m, in \u001b[0;36m_LocIndexer._get_listlike_indexer\u001b[1;34m(self, key, axis)\u001b[0m\n\u001b[0;32m   1555\u001b[0m ax \u001b[38;5;241m=\u001b[39m \u001b[38;5;28mself\u001b[39m\u001b[38;5;241m.\u001b[39mobj\u001b[38;5;241m.\u001b[39m_get_axis(axis)\n\u001b[0;32m   1556\u001b[0m axis_name \u001b[38;5;241m=\u001b[39m \u001b[38;5;28mself\u001b[39m\u001b[38;5;241m.\u001b[39mobj\u001b[38;5;241m.\u001b[39m_get_axis_name(axis)\n\u001b[1;32m-> 1558\u001b[0m keyarr, indexer \u001b[38;5;241m=\u001b[39m ax\u001b[38;5;241m.\u001b[39m_get_indexer_strict(key, axis_name)\n\u001b[0;32m   1560\u001b[0m \u001b[38;5;28;01mreturn\u001b[39;00m keyarr, indexer\n",
      "File \u001b[1;32mc:\\Users\\Dmora\\anaconda3\\envs\\py311\\Lib\\site-packages\\pandas\\core\\indexes\\base.py:6200\u001b[0m, in \u001b[0;36mIndex._get_indexer_strict\u001b[1;34m(self, key, axis_name)\u001b[0m\n\u001b[0;32m   6197\u001b[0m \u001b[38;5;28;01melse\u001b[39;00m:\n\u001b[0;32m   6198\u001b[0m     keyarr, indexer, new_indexer \u001b[38;5;241m=\u001b[39m \u001b[38;5;28mself\u001b[39m\u001b[38;5;241m.\u001b[39m_reindex_non_unique(keyarr)\n\u001b[1;32m-> 6200\u001b[0m \u001b[38;5;28mself\u001b[39m\u001b[38;5;241m.\u001b[39m_raise_if_missing(keyarr, indexer, axis_name)\n\u001b[0;32m   6202\u001b[0m keyarr \u001b[38;5;241m=\u001b[39m \u001b[38;5;28mself\u001b[39m\u001b[38;5;241m.\u001b[39mtake(indexer)\n\u001b[0;32m   6203\u001b[0m \u001b[38;5;28;01mif\u001b[39;00m \u001b[38;5;28misinstance\u001b[39m(key, Index):\n\u001b[0;32m   6204\u001b[0m     \u001b[38;5;66;03m# GH 42790 - Preserve name from an Index\u001b[39;00m\n",
      "File \u001b[1;32mc:\\Users\\Dmora\\anaconda3\\envs\\py311\\Lib\\site-packages\\pandas\\core\\indexes\\base.py:6249\u001b[0m, in \u001b[0;36mIndex._raise_if_missing\u001b[1;34m(self, key, indexer, axis_name)\u001b[0m\n\u001b[0;32m   6247\u001b[0m \u001b[38;5;28;01mif\u001b[39;00m nmissing:\n\u001b[0;32m   6248\u001b[0m     \u001b[38;5;28;01mif\u001b[39;00m nmissing \u001b[38;5;241m==\u001b[39m \u001b[38;5;28mlen\u001b[39m(indexer):\n\u001b[1;32m-> 6249\u001b[0m         \u001b[38;5;28;01mraise\u001b[39;00m \u001b[38;5;167;01mKeyError\u001b[39;00m(\u001b[38;5;124mf\u001b[39m\u001b[38;5;124m\"\u001b[39m\u001b[38;5;124mNone of [\u001b[39m\u001b[38;5;132;01m{\u001b[39;00mkey\u001b[38;5;132;01m}\u001b[39;00m\u001b[38;5;124m] are in the [\u001b[39m\u001b[38;5;132;01m{\u001b[39;00maxis_name\u001b[38;5;132;01m}\u001b[39;00m\u001b[38;5;124m]\u001b[39m\u001b[38;5;124m\"\u001b[39m)\n\u001b[0;32m   6251\u001b[0m     not_found \u001b[38;5;241m=\u001b[39m \u001b[38;5;28mlist\u001b[39m(ensure_index(key)[missing_mask\u001b[38;5;241m.\u001b[39mnonzero()[\u001b[38;5;241m0\u001b[39m]]\u001b[38;5;241m.\u001b[39munique())\n\u001b[0;32m   6252\u001b[0m     \u001b[38;5;28;01mraise\u001b[39;00m \u001b[38;5;167;01mKeyError\u001b[39;00m(\u001b[38;5;124mf\u001b[39m\u001b[38;5;124m\"\u001b[39m\u001b[38;5;132;01m{\u001b[39;00mnot_found\u001b[38;5;132;01m}\u001b[39;00m\u001b[38;5;124m not in index\u001b[39m\u001b[38;5;124m\"\u001b[39m)\n",
      "\u001b[1;31mKeyError\u001b[0m: \"None of [DatetimeIndex(['2015-01-01 00:00:00', '2015-01-01 01:00:00',\\n               '2015-01-01 02:00:00', '2015-01-01 03:00:00',\\n               '2015-01-01 04:00:00', '2015-01-01 05:00:00',\\n               '2015-01-01 06:00:00', '2015-01-01 07:00:00',\\n               '2015-01-01 08:00:00', '2015-01-01 09:00:00',\\n               ...\\n               '2015-01-07 14:00:00', '2015-01-07 15:00:00',\\n               '2015-01-07 16:00:00', '2015-01-07 17:00:00',\\n               '2015-01-07 18:00:00', '2015-01-07 19:00:00',\\n               '2015-01-07 20:00:00', '2015-01-07 21:00:00',\\n               '2015-01-07 22:00:00', '2015-01-07 23:00:00'],\\n              dtype='datetime64[ns]', length=168, freq='h')] are in the [index]\""
     ]
    }
   ],
   "source": [
    "num_hours_week = 7 * 24\n",
    "\n",
    "hours = pd.date_range(start=\"2015-01-01\", periods=num_hours_week, freq='H')\n",
    "demand = network.loads_t.p['load'][hours].values\n",
    "onshore_wind = network.generators_t.p['onshorewind'][hours].values\n",
    "solar = network.generators_t.p['solar'][hours].values    \n",
    "gas_ccgt = network.generators_t.p['CCGT'][hours].values\n",
    "offshore_wind = network.generators_t.p['offshorewind'][hours].values\n",
    "nuclear = network.generators_t.p['nuclear'][hours].values"
   ]
  },
  {
   "cell_type": "markdown",
   "metadata": {},
   "source": [
    "<h2>Plot a week in summer</h2>"
   ]
  },
  {
   "cell_type": "code",
   "execution_count": null,
   "metadata": {},
   "outputs": [
    {
     "name": "stderr",
     "output_type": "stream",
     "text": [
      "C:\\Users\\Dmora\\AppData\\Local\\Temp\\ipykernel_37120\\1647320593.py:3: FutureWarning: 'H' is deprecated and will be removed in a future version, please use 'h' instead.\n",
      "  hours = pd.date_range(start=\"2015-01-06\", periods=num_hours_week, freq='H')\n"
     ]
    },
    {
     "data": {
      "text/plain": [
       "<Figure size 640x480 with 0 Axes>"
      ]
     },
     "metadata": {},
     "output_type": "display_data"
    }
   ],
   "source": [
    "num_hours_week = 7 * 24\n",
    "\n",
    "hours = pd.date_range(start=\"2015-01-06\", periods=num_hours_week, freq='H')\n",
    "demand = network.loads_t.p['load'][hours].values\n",
    "onshore_wind = network.generators_t.p['onshorewind'][hours].values\n",
    "solar = network.generators_t.p['solar'][hours].values    \n",
    "gas_ccgt = network.generators_t.p['CCGT'][hours].values\n",
    "offshore_wind = network.generators_t.p['offshorewind'][hours].values\n",
    "nuclear = network.generators_t.p['nuclear'][hours].values\n",
    "\n",
    "plt.tight_layout()\n"
   ]
  },
  {
   "cell_type": "code",
   "execution_count": null,
   "metadata": {},
   "outputs": [],
   "source": [
    "# Capacity factor calculation\n",
    "capacity_factors = {\n",
    "    \"onshore wind\": network.generators_t.p['onshorewind'] / network.generators.p_nom_opt['onshorewind'],\n",
    "    \"gas (CCGT)\": network.generators_t.p['CCGT'] / network.generators.p_nom_opt['CCGT']\n",
    "}\n",
    "\n",
    "# Sorting data for duration curve plot\n",
    "duration_curves = {\n",
    "    tech: np.sort(data)[::-1]\n",
    "    for tech, data in capacity_factors.items()\n",
    "}\n"
   ]
  },
  {
   "attachments": {
    "image.png": {
     "image/png": "[encoded data removed]"
    }
   },
   "cell_type": "markdown",
   "metadata": {},
   "source": [
    "![image.png](attachment:image.png)"
   ]
  },
  {
   "cell_type": "code",
   "execution_count": null,
   "metadata": {},
   "outputs": [],
   "source": [
    "\n",
    "# Task C: Interannual Variability\n",
    "\n",
    "# Specify your desired range here:\n",
    "start_year = 1990\n",
    "end_year   = 2000"
   ]
  },
  {
   "cell_type": "markdown",
   "metadata": {},
   "source": [
    "OFFSHORE WIND"
   ]
  },
  {
   "cell_type": "code",
   "execution_count": null,
   "metadata": {},
   "outputs": [
    {
     "name": "stdout",
     "output_type": "stream",
     "text": [
      "Anual mean CF offshore wind:\n",
      "utc_time\n",
      "1979    0.320562\n",
      "1980    0.333804\n",
      "1981    0.325409\n",
      "1982    0.309920\n",
      "1983    0.333409\n",
      "1984    0.300310\n",
      "1985    0.312496\n",
      "1986    0.365245\n",
      "1987    0.278254\n",
      "1988    0.325970\n",
      "1989    0.308940\n",
      "1990    0.357797\n",
      "1991    0.297314\n",
      "1992    0.327631\n",
      "1993    0.314448\n",
      "1994    0.346555\n",
      "1995    0.335684\n",
      "1996    0.317016\n",
      "1997    0.292860\n",
      "1998    0.353631\n",
      "1999    0.336123\n",
      "2000    0.331579\n",
      "2001    0.304962\n",
      "2002    0.314559\n",
      "2003    0.290028\n",
      "2004    0.309378\n",
      "2005    0.316821\n",
      "2006    0.314946\n",
      "2007    0.321662\n",
      "2008    0.341969\n",
      "2009    0.306705\n",
      "2010    0.265152\n",
      "2011    0.325566\n",
      "2012    0.312689\n",
      "2013    0.327076\n",
      "2014    0.324300\n",
      "2015    0.348040\n",
      "2016    0.302074\n",
      "2017    0.320508\n",
      "Name: GBR, dtype: float64\n",
      "\n",
      "Variance  CF offshore wind:\n",
      "utc_time\n",
      "1979    0.053821\n",
      "1980    0.055279\n",
      "1981    0.054074\n",
      "1982    0.058160\n",
      "1983    0.059216\n",
      "1984    0.055726\n",
      "1985    0.050406\n",
      "1986    0.064403\n",
      "1987    0.048384\n",
      "1988    0.054917\n",
      "1989    0.054288\n",
      "1990    0.066577\n",
      "1991    0.057881\n",
      "1992    0.056399\n",
      "1993    0.053690\n",
      "1994    0.057923\n",
      "1995    0.056109\n",
      "1996    0.059481\n",
      "1997    0.054996\n",
      "1998    0.050986\n",
      "1999    0.059561\n",
      "2000    0.060678\n",
      "2001    0.050267\n",
      "2002    0.058589\n",
      "2003    0.051918\n",
      "2004    0.058870\n",
      "2005    0.053533\n",
      "2006    0.057681\n",
      "2007    0.056634\n",
      "2008    0.057336\n",
      "2009    0.052983\n",
      "2010    0.040403\n",
      "2011    0.053502\n",
      "2012    0.050799\n",
      "2013    0.052612\n",
      "2014    0.057207\n",
      "2015    0.056191\n",
      "2016    0.049370\n",
      "2017    0.048415\n",
      "Name: GBR, dtype: float64\n",
      "\n",
      "MEAN: 0.319779524979525\n",
      "Variance : 0.05552364449841349\n"
     ]
    }
   ],
   "source": [
    "# OFFSHORE WIND\n",
    "cf_gbr_offshore = df_offshore['GBR']\n",
    "offshore_mean_per_year = cf_gbr_offshore.groupby(cf_gbr_offshore.index.year).mean()\n",
    "offshore_var_per_year  = cf_gbr_offshore.groupby(cf_gbr_offshore.index.year).var()\n",
    "\n",
    "print(\"Anual mean CF offshore wind:\")\n",
    "print(offshore_mean_per_year)\n",
    "print(\"\\nVariance  CF offshore wind:\")\n",
    "print(offshore_var_per_year)\n",
    "\n",
    "# 3B. Estadísticas AGREGADAS (toda la serie)\n",
    "print(\"\\nMEAN:\", cf_gbr_offshore.mean())\n",
    "print(\"Variance :\", cf_gbr_offshore.var())\n",
    "\n"
   ]
  },
  {
   "cell_type": "markdown",
   "metadata": {},
   "source": [
    "ONSHORE WIND"
   ]
  },
  {
   "cell_type": "code",
   "execution_count": null,
   "metadata": {},
   "outputs": [
    {
     "name": "stdout",
     "output_type": "stream",
     "text": [
      "Anual mean CF offshore wind:\n",
      "utc_time\n",
      "1979    0.259211\n",
      "1980    0.253569\n",
      "1981    0.258010\n",
      "1982    0.266804\n",
      "1983    0.275307\n",
      "1984    0.238623\n",
      "1985    0.243203\n",
      "1986    0.300916\n",
      "1987    0.223875\n",
      "1988    0.260104\n",
      "1989    0.265159\n",
      "1990    0.299537\n",
      "1991    0.248612\n",
      "1992    0.275501\n",
      "1993    0.257040\n",
      "1994    0.291154\n",
      "1995    0.263951\n",
      "1996    0.254466\n",
      "1997    0.239656\n",
      "1998    0.281574\n",
      "1999    0.269403\n",
      "2000    0.257941\n",
      "2001    0.233926\n",
      "2002    0.248683\n",
      "2003    0.235863\n",
      "2004    0.253490\n",
      "2005    0.264248\n",
      "2006    0.250491\n",
      "2007    0.256048\n",
      "2008    0.271013\n",
      "2009    0.255358\n",
      "2010    0.208214\n",
      "2011    0.239176\n",
      "2012    0.221516\n",
      "2013    0.242206\n",
      "2014    0.234291\n",
      "2015    0.260073\n",
      "2016    0.216776\n",
      "2017    0.236269\n",
      "Name: GBR, dtype: float64\n",
      "\n",
      "Variance  CF offshore wind:\n",
      "utc_time\n",
      "1979    0.031804\n",
      "1980    0.030822\n",
      "1981    0.031606\n",
      "1982    0.035601\n",
      "1983    0.040384\n",
      "1984    0.033607\n",
      "1985    0.027529\n",
      "1986    0.037483\n",
      "1987    0.028205\n",
      "1988    0.032199\n",
      "1989    0.034660\n",
      "1990    0.043262\n",
      "1991    0.035608\n",
      "1992    0.033265\n",
      "1993    0.033646\n",
      "1994    0.037396\n",
      "1995    0.033694\n",
      "1996    0.032092\n",
      "1997    0.034776\n",
      "1998    0.031423\n",
      "1999    0.035337\n",
      "2000    0.036423\n",
      "2001    0.027143\n",
      "2002    0.032245\n",
      "2003    0.029872\n",
      "2004    0.032244\n",
      "2005    0.032488\n",
      "2006    0.034513\n",
      "2007    0.032130\n",
      "2008    0.036146\n",
      "2009    0.032131\n",
      "2010    0.024436\n",
      "2011    0.031884\n",
      "2012    0.028152\n",
      "2013    0.031181\n",
      "2014    0.033726\n",
      "2015    0.036943\n",
      "2016    0.026627\n",
      "2017    0.024419\n",
      "Name: GBR, dtype: float64\n",
      "\n",
      "MEAN: 0.2541321282321282\n",
      "Variance : 0.033161703934736324\n"
     ]
    }
   ],
   "source": [
    "# ONSHORE WIND\n",
    "cf_gbr_onshore = df_onshorewind['GBR']\n",
    "onshore_mean_per_year = cf_gbr_onshore.groupby(cf_gbr_onshore.index.year).mean()\n",
    "onshore_var_per_year  = cf_gbr_onshore.groupby(cf_gbr_onshore.index.year).var()\n",
    "\n",
    "print(\"Anual mean CF offshore wind:\")\n",
    "print(onshore_mean_per_year)\n",
    "print(\"\\nVariance  CF offshore wind:\")\n",
    "print(onshore_var_per_year)\n",
    "\n",
    "# 3B. Estadísticas AGREGADAS (toda la serie)\n",
    "print(\"\\nMEAN:\", cf_gbr_onshore.mean())\n",
    "print(\"Variance :\", cf_gbr_onshore.var())\n"
   ]
  },
  {
   "cell_type": "markdown",
   "metadata": {},
   "source": [
    "SOLAR"
   ]
  },
  {
   "cell_type": "code",
   "execution_count": null,
   "metadata": {},
   "outputs": [
    {
     "name": "stdout",
     "output_type": "stream",
     "text": [
      "Anual mean CF offshore wind:\n",
      "utc_time\n",
      "1979    0.096742\n",
      "1980    0.093438\n",
      "1981    0.089539\n",
      "1982    0.099221\n",
      "1983    0.094562\n",
      "1984    0.100168\n",
      "1985    0.091786\n",
      "1986    0.096407\n",
      "1987    0.095259\n",
      "1988    0.094442\n",
      "1989    0.101088\n",
      "1990    0.098726\n",
      "1991    0.095888\n",
      "1992    0.092553\n",
      "1993    0.093449\n",
      "1994    0.097741\n",
      "1995    0.104702\n",
      "1996    0.095724\n",
      "1997    0.099179\n",
      "1998    0.088410\n",
      "1999    0.094513\n",
      "2000    0.093948\n",
      "2001    0.096748\n",
      "2002    0.093274\n",
      "2003    0.106920\n",
      "2004    0.091252\n",
      "2005    0.091649\n",
      "2006    0.096232\n",
      "2007    0.095611\n",
      "2008    0.096168\n",
      "2009    0.096442\n",
      "2010    0.102863\n",
      "2011    0.102009\n",
      "2012    0.101688\n",
      "2013    0.103833\n",
      "2014    0.104051\n",
      "2015    0.103243\n",
      "2016    0.103388\n",
      "2017    0.097760\n",
      "Name: GBR, dtype: float64\n",
      "\n",
      "Variance  CF offshore wind:\n",
      "utc_time\n",
      "1979    0.022349\n",
      "1980    0.022164\n",
      "1981    0.020190\n",
      "1982    0.024376\n",
      "1983    0.022560\n",
      "1984    0.024860\n",
      "1985    0.020948\n",
      "1986    0.023058\n",
      "1987    0.022168\n",
      "1988    0.021769\n",
      "1989    0.024930\n",
      "1990    0.024818\n",
      "1991    0.022536\n",
      "1992    0.021174\n",
      "1993    0.021205\n",
      "1994    0.023557\n",
      "1995    0.027072\n",
      "1996    0.022573\n",
      "1997    0.025097\n",
      "1998    0.019468\n",
      "1999    0.021380\n",
      "2000    0.022350\n",
      "2001    0.022520\n",
      "2002    0.022151\n",
      "2003    0.027901\n",
      "2004    0.020980\n",
      "2005    0.020699\n",
      "2006    0.023680\n",
      "2007    0.023157\n",
      "2008    0.023120\n",
      "2009    0.022915\n",
      "2010    0.024696\n",
      "2011    0.025040\n",
      "2012    0.024417\n",
      "2013    0.025426\n",
      "2014    0.025140\n",
      "2015    0.025642\n",
      "2016    0.024820\n",
      "2017    0.022864\n",
      "Name: GBR, dtype: float64\n",
      "\n",
      "MEAN: 0.0971945828945829\n",
      "Variance : 0.023241740257666288\n"
     ]
    }
   ],
   "source": [
    "# SOLAR\n",
    "cf_gbr_solar = df_solar['GBR']\n",
    "solar_mean_per_year = cf_gbr_solar.groupby(cf_gbr_solar.index.year).mean()\n",
    "solar_var_per_year  = cf_gbr_solar.groupby(cf_gbr_solar.index.year).var()\n",
    "\n",
    "print(\"Anual mean CF offshore wind:\")\n",
    "print(solar_mean_per_year)\n",
    "print(\"\\nVariance  CF offshore wind:\")\n",
    "print(solar_var_per_year)\n",
    "\n",
    "# 3B. Estadísticas AGREGADAS (toda la serie)\n",
    "print(\"\\nMEAN:\", cf_gbr_solar.mean())\n",
    "print(\"Variance :\", cf_gbr_solar.var())\n",
    "\n"
   ]
  },
  {
   "cell_type": "markdown",
   "metadata": {},
   "source": [
    "COMPARING "
   ]
  },
  {
   "cell_type": "code",
   "execution_count": null,
   "metadata": {},
   "outputs": [
    {
     "data": {
      "image/png": "[encoded data removed]",
      "text/plain": [
       "<Figure size 640x480 with 1 Axes>"
      ]
     },
     "metadata": {},
     "output_type": "display_data"
    }
   ],
   "source": [
    "# Plot series on the same figure\n",
    "plt.figure()\n",
    "offshore_mean_per_year.plot(marker='o', label='Offshore Wind')\n",
    "onshore_mean_per_year.plot(marker='p', label='Onshore Wind')\n",
    "solar_mean_per_year.plot(marker='s', label='Solar PV')\n",
    "plt.xlabel('Year')\n",
    "plt.ylabel('Mean Capacity Factor')\n",
    "plt.legend()\n",
    "plt.grid(True)\n",
    "plt.tight_layout()\n",
    "plt.show()"
   ]
  },
  {
   "cell_type": "code",
   "execution_count": null,
   "metadata": {},
   "outputs": [
    {
     "data": {
      "image/png": "[encoded data removed]",
      "text/plain": [
       "<Figure size 640x480 with 1 Axes>"
      ]
     },
     "metadata": {},
     "output_type": "display_data"
    }
   ],
   "source": [
    "# Plot series on the same figure\n",
    "plt.figure()\n",
    "offshore_var_per_year.plot(marker='o', label='Offshore Wind')\n",
    "onshore_var_per_year.plot(marker='p', label='Onshore Wind')\n",
    "solar_var_per_year.plot(marker='s', label='Solar PV')\n",
    "plt.xlabel('Year')\n",
    "plt.ylabel('Variance of Capacity Factor')\n",
    "plt.legend()\n",
    "plt.grid(True)\n",
    "plt.tight_layout()\n",
    "plt.show()\n"
   ]
  }
 ],
 "metadata": {
  "kernelspec": {
   "display_name": "py311",
   "language": "python",
   "name": "python3"
  },
  "language_info": {
   "codemirror_mode": {
    "name": "ipython",
    "version": 3
   },
   "file_extension": ".py",
   "mimetype": "text/x-python",
   "name": "python",
   "nbconvert_exporter": "python",
   "pygments_lexer": "ipython3",
   "version": "3.11.11"
  }
 },
 "nbformat": 4,
 "nbformat_minor": 2
}
