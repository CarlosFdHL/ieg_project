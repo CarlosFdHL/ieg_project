{
 "cells": [
  {
   "cell_type": "code",
   "execution_count": 2,
   "metadata": {},
   "outputs": [],
   "source": [
    "import pandas as pd\n",
    "import pypsa\n",
    "import matplotlib.pyplot as plt\n",
    "import numpy as np\n",
    "import pandas as pd\n",
    "\n",
    "plt.rcParams['font.family'] = 'serif'"
   ]
  },
  {
   "cell_type": "code",
   "execution_count": 3,
   "metadata": {},
   "outputs": [],
   "source": [
    "def annuity(n,r):\n",
    "    \"\"\" Calculate the annuity factor for an asset with lifetime n years and\n",
    "    discount rate  r \"\"\"\n",
    "\n",
    "    if r > 0:\n",
    "        return r/(1. - 1./(1.+r)**n)\n",
    "    else:\n",
    "        return 1/n"
   ]
  },
  {
   "cell_type": "code",
   "execution_count": 4,
   "metadata": {},
   "outputs": [],
   "source": [
    "# load electricity demand data\n",
    "df_elec = pd.read_csv('data/electricity_demand.csv', sep=';', index_col=0) # in MWh\n",
    "df_elec.index = pd.to_datetime(df_elec.index) #change index to datatime\n",
    "country='GBR'\n",
    "\n",
    "def model(co2_constraint):\n",
    "    network = pypsa.Network()\n",
    "    hours_in_2015 = pd.date_range('2015-01-01 00:00Z',\n",
    "                                '2015-12-31 23:00Z',\n",
    "                                freq='h')\n",
    "\n",
    "    network.set_snapshots(hours_in_2015.values)\n",
    "\n",
    "    network.add(\"Bus\",\n",
    "                \"electricity bus\")\n",
    "    # add load to the bus\n",
    "    network.add(\"Load\",\n",
    "                \"load\",\n",
    "                bus=\"electricity bus\",\n",
    "                p_set=df_elec[country].values)\n",
    "    # CAPEX values for different technologies (in €/MW)\n",
    "    offshoreWind_capex = 2.8e6\n",
    "    onshoreWind_capex = 1.4e6\n",
    "    solar_capex = 628e3\n",
    "    ccgt_capex = 1.04e6\n",
    "    nuclear_capex = 11.08e6\n",
    "\n",
    "    # add the different carriers, only gas emits CO2\n",
    "    network.add(\"Carrier\", \"gas\", co2_emissions=0.2019) # in t_CO2/MWh_th\n",
    "    network.add(\"Carrier\", \"onshorewind\")\n",
    "    network.add(\"Carrier\", \"solar\")\n",
    "\n",
    "    # add onshore wind generator\n",
    "    df_onshorewind = pd.read_csv('data/onshore_wind_1979-2017.csv', sep=';', index_col=0)\n",
    "    df_onshorewind.index = pd.to_datetime(df_onshorewind.index)\n",
    "    CF_windOnshore = df_onshorewind[country][[hour.strftime(\"%Y-%m-%dT%H:%M:%SZ\") for hour in network.snapshots]]\n",
    "    capital_cost_onshorewind = annuity(25,0.07)*onshoreWind_capex #*(1+0.033) # in €/MW !!!!!!!!!!!!!!!!!!!!!!!!!!!!!!!!!!!!!!!!!!!!!!!!!!!!!!!!!!!!!!!!!!!!\n",
    "    network.add(\"Generator\",\n",
    "                \"onshorewind\",\n",
    "                bus=\"electricity bus\",\n",
    "                p_nom_extendable=True,\n",
    "                carrier=\"onshorewind\",\n",
    "                #p_nom_max=1000, # maximum capacity can be limited due to environmental constraints\n",
    "                capital_cost = capital_cost_onshorewind,\n",
    "                marginal_cost = 0,\n",
    "                p_max_pu = CF_windOnshore.values)\n",
    "\n",
    "    # add offshore wind generator\n",
    "    df_offshore = pd.read_csv('data/offshore_wind_1979-2017.csv', sep=';', index_col=0)\n",
    "    df_offshore.index = pd.to_datetime(df_offshore.index)\n",
    "    CF_windOffshore = df_offshore[country][[hour.strftime(\"%Y-%m-%dT%H:%M:%SZ\") for hour in network.snapshots]]\n",
    "    capital_cost_offshore = annuity(25,0.07)*offshoreWind_capex #*(1+0.033) # in €/MW !!!!!!!!!!!!!!!!!!!!!!!!!!!!!!!!!!!!!!!!!!!!!!!!!!!!!!!!!!!!!!!!!!!!\n",
    "    network.add(\"Generator\",\n",
    "                \"offshorewind\",\n",
    "                bus=\"electricity bus\",\n",
    "                p_nom_extendable=True,\n",
    "                carrier=\"offshorewind\",\n",
    "                #p_nom_max=1000, # maximum capacity can be limited due to environmental constraints\n",
    "                capital_cost = capital_cost_offshore,\n",
    "                marginal_cost = 0,\n",
    "                p_max_pu = CF_windOffshore.values)\n",
    "\n",
    "    # add solar PV generator\n",
    "    df_solar = pd.read_csv('data/pv_optimal.csv', sep=';', index_col=0)\n",
    "    df_solar.index = pd.to_datetime(df_solar.index)\n",
    "    CF_solar = df_solar[country][[hour.strftime(\"%Y-%m-%dT%H:%M:%SZ\") for hour in network.snapshots]]\n",
    "    capital_cost_solar = annuity(25,0.07)*solar_capex*(1+0.03) # in €/MW\n",
    "    network.add(\"Generator\",\n",
    "                \"solar\",\n",
    "                bus=\"electricity bus\",\n",
    "                p_nom_extendable=True,\n",
    "                carrier=\"solar\",\n",
    "                #p_nom_max=1000, # maximum capacity can be limited due to environmental constraints\n",
    "                capital_cost = capital_cost_solar,\n",
    "                marginal_cost = 0,\n",
    "                p_max_pu = CF_solar.values)\n",
    "\n",
    "    # add CCGT (Combine Cycle Gas Turbine) generator\n",
    "    capital_cost_CCGT = annuity(30,0.07)*ccgt_capex#*(1+0.033) # in €/MW\n",
    "    fuel_cost = 30.32 # in €/MWh_th\n",
    "    efficiency = 0.5 # MWh_elec/MWh_th\n",
    "    marginal_cost_CCGT = fuel_cost/efficiency # in €/MWh_el\n",
    "    network.add(\"Generator\",\n",
    "                \"CCGT\",\n",
    "                bus=\"electricity bus\",\n",
    "                p_nom_extendable=True,\n",
    "                carrier=\"gas\",\n",
    "                #p_nom_max=1000,\n",
    "                capital_cost = capital_cost_CCGT,\n",
    "                marginal_cost = marginal_cost_CCGT)\n",
    "\n",
    "    # add nuclear generator\n",
    "    capital_cost_nuclear = annuity(40,0.07)*nuclear_capex#*(1+0.033) # in €/MW\n",
    "    fuel_cost = 6.2 # in €/MWh_th\n",
    "    efficiency = 0.33 # MWh_elec/MWh_th\n",
    "    marginal_cost_nuclear = fuel_cost/efficiency # in €/MWh_el\n",
    "    network.add(\"Generator\",\n",
    "                \"nuclear\",\n",
    "                bus=\"electricity bus\",\n",
    "                p_nom_extendable=True,\n",
    "                carrier=\"nuclear\",\n",
    "                #p_nom_max=1000,\n",
    "                capital_cost = capital_cost_nuclear,\n",
    "                marginal_cost = marginal_cost_nuclear)\n",
    "    #Create a new carrier\n",
    "    network.add(\"Carrier\",\n",
    "                \"H2\")\n",
    "\n",
    "    #Create a new bus\n",
    "    network.add(\"Bus\",\n",
    "                \"H2\",\n",
    "                carrier = \"H2\")\n",
    "\n",
    "    #Connect the store to the bus\n",
    "    network.add(\"Store\",\n",
    "          \"H2 Tank\",\n",
    "          bus = \"H2\",\n",
    "          e_nom_extendable = True,\n",
    "          e_cyclic = True,\n",
    "          capital_cost = annuity(25, 0.07)*57000*(1+0.011))\n",
    "\n",
    "        #Add the link \"H2 Electrolysis\" that transport energy from the electricity bus (bus0) to the H2 bus (bus1)\n",
    "        #with 80% efficiency\n",
    "    network.add(\"Link\",\n",
    "          \"H2 Electrolysis\",\n",
    "          bus0 = \"electricity bus\",\n",
    "          bus1 = \"H2\",\n",
    "          p_nom_extendable = True,\n",
    "          efficiency = 0.8,\n",
    "          capital_cost = annuity(25, 0.07)*600000*(1+0.05))\n",
    "\n",
    "        #Add the link \"H2 Fuel Cell\" that transports energy from the H2 bus (bus0) to the electricity bus (bus1)\n",
    "        #with 58% efficiency\n",
    "    network.add(\"Link\",\n",
    "          \"H2 Fuel Cell\",\n",
    "          bus0 = \"H2\",\n",
    "          bus1 = \"electricity bus\",\n",
    "          p_nom_extendable = True,\n",
    "          efficiency = 0.58,\n",
    "          capital_cost = annuity(10, 0.07)*1300000*(1+0.05))\n",
    "    \n",
    "    # CO2 Constraint\n",
    "    network.add(\"GlobalConstraint\",\n",
    "            \"co2_limit\",\n",
    "            type=\"primary_energy\",\n",
    "            carrier_attribute=\"co2_emissions\",\n",
    "            sense=\"<=\",\n",
    "            constant=co2_constraint)\n",
    "    network.optimize(solver_name='gurobi', solver_options={\"LogToConsole\": 0})\n",
    "\n",
    "    return network\n",
    "\n"
   ]
  },
  {
   "cell_type": "code",
   "execution_count": 5,
   "metadata": {},
   "outputs": [
    {
     "name": "stderr",
     "output_type": "stream",
     "text": [
      "WARNING:pypsa.consistency:The following buses have carriers which are not defined:\n",
      "Index(['electricity bus'], dtype='object', name='Bus')\n",
      "WARNING:pypsa.consistency:The following links have carriers which are not defined:\n",
      "Index(['H2 Electrolysis'], dtype='object', name='Link')\n",
      "WARNING:pypsa.consistency:The following generators have carriers which are not defined:\n",
      "Index(['offshorewind', 'nuclear'], dtype='object', name='Generator')\n",
      "INFO:linopy.model: Solve problem using Gurobi solver\n",
      "INFO:linopy.model:Solver options:\n",
      " - LogToConsole: 0\n",
      "INFO:linopy.io:Writing objective.\n",
      "Writing constraints.: 100%|\u001b[38;2;128;191;255m██████████\u001b[0m| 15/15 [00:00<00:00, 22.88it/s]\n",
      "Writing continuous variables.: 100%|\u001b[38;2;128;191;255m██████████\u001b[0m| 7/7 [00:00<00:00, 59.47it/s]\n",
      "INFO:linopy.io: Writing time: 0.8s\n"
     ]
    },
    {
     "name": "stdout",
     "output_type": "stream",
     "text": [
      "Set parameter Username\n"
     ]
    },
    {
     "name": "stderr",
     "output_type": "stream",
     "text": [
      "INFO:gurobipy:Set parameter Username\n"
     ]
    },
    {
     "name": "stdout",
     "output_type": "stream",
     "text": [
      "Set parameter LicenseID to value 2587918\n"
     ]
    },
    {
     "name": "stderr",
     "output_type": "stream",
     "text": [
      "INFO:gurobipy:Set parameter LicenseID to value 2587918\n"
     ]
    },
    {
     "name": "stdout",
     "output_type": "stream",
     "text": [
      "Academic license - for non-commercial use only - expires 2025-11-20\n"
     ]
    },
    {
     "name": "stderr",
     "output_type": "stream",
     "text": [
      "INFO:gurobipy:Academic license - for non-commercial use only - expires 2025-11-20\n"
     ]
    },
    {
     "name": "stdout",
     "output_type": "stream",
     "text": [
      "Read LP format model from file C:\\Users\\carlo\\AppData\\Local\\Temp\\linopy-problem-_msdtu4j.lp\n"
     ]
    },
    {
     "name": "stderr",
     "output_type": "stream",
     "text": [
      "INFO:gurobipy:Read LP format model from file C:\\Users\\carlo\\AppData\\Local\\Temp\\linopy-problem-_msdtu4j.lp\n"
     ]
    },
    {
     "name": "stdout",
     "output_type": "stream",
     "text": [
      "Reading time = 0.21 seconds\n"
     ]
    },
    {
     "name": "stderr",
     "output_type": "stream",
     "text": [
      "INFO:gurobipy:Reading time = 0.21 seconds\n"
     ]
    },
    {
     "name": "stdout",
     "output_type": "stream",
     "text": [
      "obj: 166449 rows, 78848 columns, 328642 nonzeros\n"
     ]
    },
    {
     "name": "stderr",
     "output_type": "stream",
     "text": [
      "INFO:gurobipy:obj: 166449 rows, 78848 columns, 328642 nonzeros\n",
      "INFO:linopy.constants: Optimization successful: \n",
      "Status: ok\n",
      "Termination condition: optimal\n",
      "Solution: 78848 primals, 166449 duals\n",
      "Objective: 3.65e+10\n",
      "Solver model: available\n",
      "Solver message: 2\n",
      "\n",
      "INFO:pypsa.optimization.optimize:The shadow-prices of the constraints Generator-ext-p-lower, Generator-ext-p-upper, Link-ext-p-lower, Link-ext-p-upper, Store-ext-e-lower, Store-ext-e-upper, Store-energy_balance were not assigned to the network.\n"
     ]
    }
   ],
   "source": [
    "co2_limit=1000000 #tonCO2\n",
    "network = model(co2_limit)\n"
   ]
  },
  {
   "cell_type": "code",
   "execution_count": 6,
   "metadata": {},
   "outputs": [
    {
     "name": "stdout",
     "output_type": "stream",
     "text": [
      "36545.73331986464\n"
     ]
    }
   ],
   "source": [
    "print(network.objective/1000000) #in 10^6 €"
   ]
  },
  {
   "cell_type": "code",
   "execution_count": 7,
   "metadata": {},
   "outputs": [
    {
     "name": "stdout",
     "output_type": "stream",
     "text": [
      "Load\n",
      "load    129.505161\n",
      "dtype: float64\n"
     ]
    }
   ],
   "source": [
    "print(network.objective/network.loads_t.p.sum()) # EUR/MWh"
   ]
  },
  {
   "cell_type": "code",
   "execution_count": 8,
   "metadata": {},
   "outputs": [
    {
     "data": {
      "text/plain": [
       "Generator\n",
       "onshorewind     51011.102108\n",
       "offshorewind        0.000000\n",
       "solar           23597.657443\n",
       "CCGT            19048.051185\n",
       "nuclear         27676.544814\n",
       "Name: p_nom_opt, dtype: float64"
      ]
     },
     "execution_count": 8,
     "metadata": {},
     "output_type": "execute_result"
    }
   ],
   "source": [
    "network.generators.p_nom_opt # in MW"
   ]
  },
  {
   "cell_type": "code",
   "execution_count": 9,
   "metadata": {},
   "outputs": [
    {
     "name": "stderr",
     "output_type": "stream",
     "text": [
      "C:\\Users\\carlo\\AppData\\Local\\Temp\\ipykernel_33576\\1530119954.py:1: FutureWarning: 'H' is deprecated and will be removed in a future version, please use 'h' instead.\n",
      "  hours = pd.date_range(start=\"2015-01-01\", periods=96, freq='H')\n"
     ]
    },
    {
     "data": {
      "image/png": "[encoded data removed]",
      "text/plain": [
       "<Figure size 1000x600 with 1 Axes>"
      ]
     },
     "metadata": {},
     "output_type": "display_data"
    }
   ],
   "source": [
    "hours = pd.date_range(start=\"2015-01-01\", periods=96, freq='H')\n",
    "demand = network.loads_t.p['load'][0:96].values\n",
    "onshore_wind = network.generators_t.p['onshorewind'][0:96].values\n",
    "solar = network.generators_t.p['solar'][0:96].values    \n",
    "gas_ccgt = network.generators_t.p['CCGT'][0:96].values\n",
    "offshore_wind = network.generators_t.p['offshorewind'][0:96].values\n",
    "nuclear = network.generators_t.p['nuclear'][0:96].values\n",
    "\n",
    "plt.figure(figsize=(10, 6))\n",
    "plt.plot(demand, color='black', label='demand')\n",
    "plt.plot(onshore_wind, color='blue', label='onshore wind')\n",
    "plt.plot(solar, color='orange', label='solar')\n",
    "plt.plot(gas_ccgt, color='red', label='gas (CCGT)')\n",
    "plt.plot(offshore_wind, color='green', label='offshore wind')\n",
    "plt.plot(nuclear, color='brown', label='nuclear')\n",
    "plt.legend(fancybox=True, shadow=True, loc='best')\n",
    "plt.xlabel('Time (hours)')\n",
    "plt.ylabel('Power (MW)')\n",
    "#plt.title('Energy Production and Demand')\n",
    "# plt.xticks(rotation=45)\n",
    "plt.grid(True)\n",
    "\n",
    "# Improve x-axis ticks\n",
    "# plt.gca().xaxis.set_major_locator(plt.MultipleLocator(12))\n",
    "# plt.gca().xaxis.set_minor_locator(plt.MultipleLocator(3))\n",
    "# plt.gca().xaxis.set_major_formatter(plt.matplotlib.dates.DateFormatter('%Y-%m-%d %H:%M'))\n",
    "\n",
    "plt.tight_layout()\n"
   ]
  },
  {
   "cell_type": "code",
   "execution_count": 10,
   "metadata": {},
   "outputs": [
    {
     "data": {
      "text/plain": [
       "Text(0.5, 1.07, 'Electricity mix')"
      ]
     },
     "execution_count": 10,
     "metadata": {},
     "output_type": "execute_result"
    },
    {
     "data": {
      "image/png": "[encoded data removed]",
      "text/plain": [
       "<Figure size 640x480 with 1 Axes>"
      ]
     },
     "metadata": {},
     "output_type": "display_data"
    }
   ],
   "source": [
    "labels = ['onshore wind',\n",
    "          'gas (CCGT)', \n",
    "          'solar',\n",
    "          'offshore wind',\n",
    "          'nuclear']\n",
    "sizes = [network.generators_t.p['onshorewind'].sum(),\n",
    "         network.generators_t.p['CCGT'].sum(),\n",
    "         network.generators_t.p['solar'].sum(),\n",
    "         network.generators_t.p['offshorewind'].sum(),\n",
    "         network.generators_t.p['nuclear'].sum()\n",
    "]\n",
    "\n",
    "colors=['blue', 'orange', 'brown', 'green', 'red']\n",
    "\n",
    "plt.pie(sizes,\n",
    "        colors=colors,\n",
    "        labels=labels,\n",
    "        wedgeprops={'linewidth':0})\n",
    "plt.axis('equal')\n",
    "\n",
    "plt.title('Electricity mix', y=1.07)"
   ]
  },
  {
   "cell_type": "code",
   "execution_count": 11,
   "metadata": {},
   "outputs": [
    {
     "data": {
      "image/png": "[encoded data removed]",
      "text/plain": [
       "<Figure size 700x400 with 1 Axes>"
      ]
     },
     "metadata": {},
     "output_type": "display_data"
    }
   ],
   "source": [
    "# Capacity factor calculation\n",
    "capacity_factors = {\n",
    "    \"onshore wind\": network.generators_t.p['onshorewind'] / network.generators.p_nom_opt['onshorewind'],\n",
    "    \"gas (CCGT)\": network.generators_t.p['CCGT'] / network.generators.p_nom_opt['CCGT'],\n",
    "    \"solar\": network.generators_t.p['solar'] / network.generators.p_nom_opt['solar'],\n",
    "    \"offshore wind\": network.generators_t.p['offshorewind'] / network.generators.p_nom_opt['offshorewind'],\n",
    "    \"nuclear\": network.generators_t.p['nuclear'] / network.generators.p_nom_opt['nuclear']\n",
    "}\n",
    "\n",
    "# Sorting data for duration curve plot\n",
    "duration_curves = {\n",
    "    tech: np.sort(data)[::-1]\n",
    "    for tech, data in capacity_factors.items()\n",
    "}\n",
    "\n",
    "# Plotting the duration curves\n",
    "plt.figure(figsize=(7, 4))\n",
    "for tech, data in duration_curves.items():\n",
    "    plt.plot(data, label=tech)\n",
    "\n",
    "plt.title('Duration Curves for Energy Technologies')\n",
    "plt.xlabel('Hours')\n",
    "plt.ylabel('Capacity Factor')\n",
    "plt.legend()\n",
    "plt.grid(True)\n",
    "plt.tight_layout()\n",
    "plt.show()\n"
   ]
  },
  {
   "cell_type": "code",
   "execution_count": 12,
   "metadata": {},
   "outputs": [
    {
     "name": "stderr",
     "output_type": "stream",
     "text": [
      "WARNING:pypsa.consistency:The following buses have carriers which are not defined:\n",
      "Index(['electricity bus'], dtype='object', name='Bus')\n",
      "WARNING:pypsa.consistency:The following links have carriers which are not defined:\n",
      "Index(['H2 Electrolysis'], dtype='object', name='Link')\n",
      "WARNING:pypsa.consistency:The following generators have carriers which are not defined:\n",
      "Index(['offshorewind', 'nuclear'], dtype='object', name='Generator')\n",
      "INFO:linopy.model: Solve problem using Gurobi solver\n",
      "INFO:linopy.model:Solver options:\n",
      " - LogToConsole: 0\n",
      "INFO:linopy.io:Writing objective.\n",
      "Writing constraints.: 100%|\u001b[38;2;128;191;255m██████████\u001b[0m| 15/15 [00:00<00:00, 24.53it/s]\n",
      "Writing continuous variables.: 100%|\u001b[38;2;128;191;255m██████████\u001b[0m| 7/7 [00:00<00:00, 64.18it/s]\n",
      "INFO:linopy.io: Writing time: 0.74s\n"
     ]
    },
    {
     "name": "stdout",
     "output_type": "stream",
     "text": [
      "Set parameter Username\n"
     ]
    },
    {
     "name": "stderr",
     "output_type": "stream",
     "text": [
      "INFO:gurobipy:Set parameter Username\n"
     ]
    },
    {
     "name": "stdout",
     "output_type": "stream",
     "text": [
      "Set parameter LicenseID to value 2587918\n"
     ]
    },
    {
     "name": "stderr",
     "output_type": "stream",
     "text": [
      "INFO:gurobipy:Set parameter LicenseID to value 2587918\n"
     ]
    },
    {
     "name": "stdout",
     "output_type": "stream",
     "text": [
      "Academic license - for non-commercial use only - expires 2025-11-20\n"
     ]
    },
    {
     "name": "stderr",
     "output_type": "stream",
     "text": [
      "INFO:gurobipy:Academic license - for non-commercial use only - expires 2025-11-20\n"
     ]
    },
    {
     "name": "stdout",
     "output_type": "stream",
     "text": [
      "Read LP format model from file C:\\Users\\carlo\\AppData\\Local\\Temp\\linopy-problem-ajbe_uo3.lp\n"
     ]
    },
    {
     "name": "stderr",
     "output_type": "stream",
     "text": [
      "INFO:gurobipy:Read LP format model from file C:\\Users\\carlo\\AppData\\Local\\Temp\\linopy-problem-ajbe_uo3.lp\n"
     ]
    },
    {
     "name": "stdout",
     "output_type": "stream",
     "text": [
      "Reading time = 0.20 seconds\n"
     ]
    },
    {
     "name": "stderr",
     "output_type": "stream",
     "text": [
      "INFO:gurobipy:Reading time = 0.20 seconds\n"
     ]
    },
    {
     "name": "stdout",
     "output_type": "stream",
     "text": [
      "obj: 166449 rows, 78848 columns, 328642 nonzeros\n"
     ]
    },
    {
     "name": "stderr",
     "output_type": "stream",
     "text": [
      "INFO:gurobipy:obj: 166449 rows, 78848 columns, 328642 nonzeros\n",
      "INFO:linopy.constants: Optimization successful: \n",
      "Status: ok\n",
      "Termination condition: optimal\n",
      "Solution: 78848 primals, 166449 duals\n",
      "Objective: 2.05e+10\n",
      "Solver model: available\n",
      "Solver message: 2\n",
      "\n",
      "INFO:pypsa.optimization.optimize:The shadow-prices of the constraints Generator-ext-p-lower, Generator-ext-p-upper, Link-ext-p-lower, Link-ext-p-upper, Store-ext-e-lower, Store-ext-e-upper, Store-energy_balance were not assigned to the network.\n",
      "WARNING:pypsa.consistency:The following buses have carriers which are not defined:\n",
      "Index(['electricity bus'], dtype='object', name='Bus')\n",
      "WARNING:pypsa.consistency:The following links have carriers which are not defined:\n",
      "Index(['H2 Electrolysis'], dtype='object', name='Link')\n",
      "WARNING:pypsa.consistency:The following generators have carriers which are not defined:\n",
      "Index(['offshorewind', 'nuclear'], dtype='object', name='Generator')\n",
      "INFO:linopy.model: Solve problem using Gurobi solver\n",
      "INFO:linopy.model:Solver options:\n",
      " - LogToConsole: 0\n",
      "INFO:linopy.io:Writing objective.\n",
      "Writing constraints.: 100%|\u001b[38;2;128;191;255m██████████\u001b[0m| 15/15 [00:00<00:00, 24.93it/s]\n",
      "Writing continuous variables.: 100%|\u001b[38;2;128;191;255m██████████\u001b[0m| 7/7 [00:00<00:00, 62.82it/s]\n",
      "INFO:linopy.io: Writing time: 0.74s\n"
     ]
    },
    {
     "name": "stdout",
     "output_type": "stream",
     "text": [
      "Set parameter Username\n"
     ]
    },
    {
     "name": "stderr",
     "output_type": "stream",
     "text": [
      "INFO:gurobipy:Set parameter Username\n"
     ]
    },
    {
     "name": "stdout",
     "output_type": "stream",
     "text": [
      "Set parameter LicenseID to value 2587918\n"
     ]
    },
    {
     "name": "stderr",
     "output_type": "stream",
     "text": [
      "INFO:gurobipy:Set parameter LicenseID to value 2587918\n"
     ]
    },
    {
     "name": "stdout",
     "output_type": "stream",
     "text": [
      "Academic license - for non-commercial use only - expires 2025-11-20\n"
     ]
    },
    {
     "name": "stderr",
     "output_type": "stream",
     "text": [
      "INFO:gurobipy:Academic license - for non-commercial use only - expires 2025-11-20\n"
     ]
    },
    {
     "name": "stdout",
     "output_type": "stream",
     "text": [
      "Read LP format model from file C:\\Users\\carlo\\AppData\\Local\\Temp\\linopy-problem-651vcdzs.lp\n"
     ]
    },
    {
     "name": "stderr",
     "output_type": "stream",
     "text": [
      "INFO:gurobipy:Read LP format model from file C:\\Users\\carlo\\AppData\\Local\\Temp\\linopy-problem-651vcdzs.lp\n"
     ]
    },
    {
     "name": "stdout",
     "output_type": "stream",
     "text": [
      "Reading time = 0.20 seconds\n"
     ]
    },
    {
     "name": "stderr",
     "output_type": "stream",
     "text": [
      "INFO:gurobipy:Reading time = 0.20 seconds\n"
     ]
    },
    {
     "name": "stdout",
     "output_type": "stream",
     "text": [
      "obj: 166449 rows, 78848 columns, 328642 nonzeros\n"
     ]
    },
    {
     "name": "stderr",
     "output_type": "stream",
     "text": [
      "INFO:gurobipy:obj: 166449 rows, 78848 columns, 328642 nonzeros\n",
      "INFO:linopy.constants: Optimization successful: \n",
      "Status: ok\n",
      "Termination condition: optimal\n",
      "Solution: 78848 primals, 166449 duals\n",
      "Objective: 2.05e+10\n",
      "Solver model: available\n",
      "Solver message: 2\n",
      "\n",
      "INFO:pypsa.optimization.optimize:The shadow-prices of the constraints Generator-ext-p-lower, Generator-ext-p-upper, Link-ext-p-lower, Link-ext-p-upper, Store-ext-e-lower, Store-ext-e-upper, Store-energy_balance were not assigned to the network.\n",
      "WARNING:pypsa.consistency:The following buses have carriers which are not defined:\n",
      "Index(['electricity bus'], dtype='object', name='Bus')\n",
      "WARNING:pypsa.consistency:The following links have carriers which are not defined:\n",
      "Index(['H2 Electrolysis'], dtype='object', name='Link')\n",
      "WARNING:pypsa.consistency:The following generators have carriers which are not defined:\n",
      "Index(['offshorewind', 'nuclear'], dtype='object', name='Generator')\n",
      "INFO:linopy.model: Solve problem using Gurobi solver\n",
      "INFO:linopy.model:Solver options:\n",
      " - LogToConsole: 0\n",
      "INFO:linopy.io:Writing objective.\n",
      "Writing constraints.: 100%|\u001b[38;2;128;191;255m██████████\u001b[0m| 15/15 [00:00<00:00, 24.45it/s]\n",
      "Writing continuous variables.: 100%|\u001b[38;2;128;191;255m██████████\u001b[0m| 7/7 [00:00<00:00, 66.76it/s]\n",
      "INFO:linopy.io: Writing time: 0.75s\n"
     ]
    },
    {
     "name": "stdout",
     "output_type": "stream",
     "text": [
      "Set parameter Username\n"
     ]
    },
    {
     "name": "stderr",
     "output_type": "stream",
     "text": [
      "INFO:gurobipy:Set parameter Username\n"
     ]
    },
    {
     "name": "stdout",
     "output_type": "stream",
     "text": [
      "Set parameter LicenseID to value 2587918\n"
     ]
    },
    {
     "name": "stderr",
     "output_type": "stream",
     "text": [
      "INFO:gurobipy:Set parameter LicenseID to value 2587918\n"
     ]
    },
    {
     "name": "stdout",
     "output_type": "stream",
     "text": [
      "Academic license - for non-commercial use only - expires 2025-11-20\n"
     ]
    },
    {
     "name": "stderr",
     "output_type": "stream",
     "text": [
      "INFO:gurobipy:Academic license - for non-commercial use only - expires 2025-11-20\n"
     ]
    },
    {
     "name": "stdout",
     "output_type": "stream",
     "text": [
      "Read LP format model from file C:\\Users\\carlo\\AppData\\Local\\Temp\\linopy-problem-v3rlq00x.lp\n"
     ]
    },
    {
     "name": "stderr",
     "output_type": "stream",
     "text": [
      "INFO:gurobipy:Read LP format model from file C:\\Users\\carlo\\AppData\\Local\\Temp\\linopy-problem-v3rlq00x.lp\n"
     ]
    },
    {
     "name": "stdout",
     "output_type": "stream",
     "text": [
      "Reading time = 0.19 seconds\n"
     ]
    },
    {
     "name": "stderr",
     "output_type": "stream",
     "text": [
      "INFO:gurobipy:Reading time = 0.19 seconds\n"
     ]
    },
    {
     "name": "stdout",
     "output_type": "stream",
     "text": [
      "obj: 166449 rows, 78848 columns, 328642 nonzeros\n"
     ]
    },
    {
     "name": "stderr",
     "output_type": "stream",
     "text": [
      "INFO:gurobipy:obj: 166449 rows, 78848 columns, 328642 nonzeros\n",
      "INFO:linopy.constants: Optimization successful: \n",
      "Status: ok\n",
      "Termination condition: optimal\n",
      "Solution: 78848 primals, 166449 duals\n",
      "Objective: 2.05e+10\n",
      "Solver model: available\n",
      "Solver message: 2\n",
      "\n",
      "INFO:pypsa.optimization.optimize:The shadow-prices of the constraints Generator-ext-p-lower, Generator-ext-p-upper, Link-ext-p-lower, Link-ext-p-upper, Store-ext-e-lower, Store-ext-e-upper, Store-energy_balance were not assigned to the network.\n",
      "WARNING:pypsa.consistency:The following buses have carriers which are not defined:\n",
      "Index(['electricity bus'], dtype='object', name='Bus')\n",
      "WARNING:pypsa.consistency:The following links have carriers which are not defined:\n",
      "Index(['H2 Electrolysis'], dtype='object', name='Link')\n",
      "WARNING:pypsa.consistency:The following generators have carriers which are not defined:\n",
      "Index(['offshorewind', 'nuclear'], dtype='object', name='Generator')\n",
      "INFO:linopy.model: Solve problem using Gurobi solver\n",
      "INFO:linopy.model:Solver options:\n",
      " - LogToConsole: 0\n",
      "INFO:linopy.io:Writing objective.\n",
      "Writing constraints.: 100%|\u001b[38;2;128;191;255m██████████\u001b[0m| 15/15 [00:00<00:00, 25.11it/s]\n",
      "Writing continuous variables.: 100%|\u001b[38;2;128;191;255m██████████\u001b[0m| 7/7 [00:00<00:00, 63.91it/s]\n",
      "INFO:linopy.io: Writing time: 0.73s\n"
     ]
    },
    {
     "name": "stdout",
     "output_type": "stream",
     "text": [
      "Set parameter Username\n"
     ]
    },
    {
     "name": "stderr",
     "output_type": "stream",
     "text": [
      "INFO:gurobipy:Set parameter Username\n"
     ]
    },
    {
     "name": "stdout",
     "output_type": "stream",
     "text": [
      "Set parameter LicenseID to value 2587918\n"
     ]
    },
    {
     "name": "stderr",
     "output_type": "stream",
     "text": [
      "INFO:gurobipy:Set parameter LicenseID to value 2587918\n"
     ]
    },
    {
     "name": "stdout",
     "output_type": "stream",
     "text": [
      "Academic license - for non-commercial use only - expires 2025-11-20\n"
     ]
    },
    {
     "name": "stderr",
     "output_type": "stream",
     "text": [
      "INFO:gurobipy:Academic license - for non-commercial use only - expires 2025-11-20\n"
     ]
    },
    {
     "name": "stdout",
     "output_type": "stream",
     "text": [
      "Read LP format model from file C:\\Users\\carlo\\AppData\\Local\\Temp\\linopy-problem-1wxrmykm.lp\n"
     ]
    },
    {
     "name": "stderr",
     "output_type": "stream",
     "text": [
      "INFO:gurobipy:Read LP format model from file C:\\Users\\carlo\\AppData\\Local\\Temp\\linopy-problem-1wxrmykm.lp\n"
     ]
    },
    {
     "name": "stdout",
     "output_type": "stream",
     "text": [
      "Reading time = 0.20 seconds\n"
     ]
    },
    {
     "name": "stderr",
     "output_type": "stream",
     "text": [
      "INFO:gurobipy:Reading time = 0.20 seconds\n"
     ]
    },
    {
     "name": "stdout",
     "output_type": "stream",
     "text": [
      "obj: 166449 rows, 78848 columns, 328642 nonzeros\n"
     ]
    },
    {
     "name": "stderr",
     "output_type": "stream",
     "text": [
      "INFO:gurobipy:obj: 166449 rows, 78848 columns, 328642 nonzeros\n",
      "INFO:linopy.constants: Optimization successful: \n",
      "Status: ok\n",
      "Termination condition: optimal\n",
      "Solution: 78848 primals, 166449 duals\n",
      "Objective: 2.05e+10\n",
      "Solver model: available\n",
      "Solver message: 2\n",
      "\n",
      "INFO:pypsa.optimization.optimize:The shadow-prices of the constraints Generator-ext-p-lower, Generator-ext-p-upper, Link-ext-p-lower, Link-ext-p-upper, Store-ext-e-lower, Store-ext-e-upper, Store-energy_balance were not assigned to the network.\n",
      "WARNING:pypsa.consistency:The following buses have carriers which are not defined:\n",
      "Index(['electricity bus'], dtype='object', name='Bus')\n",
      "WARNING:pypsa.consistency:The following links have carriers which are not defined:\n",
      "Index(['H2 Electrolysis'], dtype='object', name='Link')\n",
      "WARNING:pypsa.consistency:The following generators have carriers which are not defined:\n",
      "Index(['offshorewind', 'nuclear'], dtype='object', name='Generator')\n",
      "INFO:linopy.model: Solve problem using Gurobi solver\n",
      "INFO:linopy.model:Solver options:\n",
      " - LogToConsole: 0\n",
      "INFO:linopy.io:Writing objective.\n",
      "Writing constraints.: 100%|\u001b[38;2;128;191;255m██████████\u001b[0m| 15/15 [00:00<00:00, 23.47it/s]\n",
      "Writing continuous variables.: 100%|\u001b[38;2;128;191;255m██████████\u001b[0m| 7/7 [00:00<00:00, 59.06it/s]\n",
      "INFO:linopy.io: Writing time: 0.78s\n"
     ]
    },
    {
     "name": "stdout",
     "output_type": "stream",
     "text": [
      "Set parameter Username\n"
     ]
    },
    {
     "name": "stderr",
     "output_type": "stream",
     "text": [
      "INFO:gurobipy:Set parameter Username\n"
     ]
    },
    {
     "name": "stdout",
     "output_type": "stream",
     "text": [
      "Set parameter LicenseID to value 2587918\n"
     ]
    },
    {
     "name": "stderr",
     "output_type": "stream",
     "text": [
      "INFO:gurobipy:Set parameter LicenseID to value 2587918\n"
     ]
    },
    {
     "name": "stdout",
     "output_type": "stream",
     "text": [
      "Academic license - for non-commercial use only - expires 2025-11-20\n"
     ]
    },
    {
     "name": "stderr",
     "output_type": "stream",
     "text": [
      "INFO:gurobipy:Academic license - for non-commercial use only - expires 2025-11-20\n"
     ]
    },
    {
     "name": "stdout",
     "output_type": "stream",
     "text": [
      "Read LP format model from file C:\\Users\\carlo\\AppData\\Local\\Temp\\linopy-problem-p0ongc_c.lp\n"
     ]
    },
    {
     "name": "stderr",
     "output_type": "stream",
     "text": [
      "INFO:gurobipy:Read LP format model from file C:\\Users\\carlo\\AppData\\Local\\Temp\\linopy-problem-p0ongc_c.lp\n"
     ]
    },
    {
     "name": "stdout",
     "output_type": "stream",
     "text": [
      "Reading time = 0.19 seconds\n"
     ]
    },
    {
     "name": "stderr",
     "output_type": "stream",
     "text": [
      "INFO:gurobipy:Reading time = 0.19 seconds\n"
     ]
    },
    {
     "name": "stdout",
     "output_type": "stream",
     "text": [
      "obj: 166449 rows, 78848 columns, 328642 nonzeros\n"
     ]
    },
    {
     "name": "stderr",
     "output_type": "stream",
     "text": [
      "INFO:gurobipy:obj: 166449 rows, 78848 columns, 328642 nonzeros\n",
      "INFO:linopy.constants: Optimization successful: \n",
      "Status: ok\n",
      "Termination condition: optimal\n",
      "Solution: 78848 primals, 166449 duals\n",
      "Objective: 2.42e+10\n",
      "Solver model: available\n",
      "Solver message: 2\n",
      "\n",
      "INFO:pypsa.optimization.optimize:The shadow-prices of the constraints Generator-ext-p-lower, Generator-ext-p-upper, Link-ext-p-lower, Link-ext-p-upper, Store-ext-e-lower, Store-ext-e-upper, Store-energy_balance were not assigned to the network.\n",
      "WARNING:pypsa.consistency:The following buses have carriers which are not defined:\n",
      "Index(['electricity bus'], dtype='object', name='Bus')\n",
      "WARNING:pypsa.consistency:The following links have carriers which are not defined:\n",
      "Index(['H2 Electrolysis'], dtype='object', name='Link')\n",
      "WARNING:pypsa.consistency:The following generators have carriers which are not defined:\n",
      "Index(['offshorewind', 'nuclear'], dtype='object', name='Generator')\n",
      "INFO:linopy.model: Solve problem using Gurobi solver\n",
      "INFO:linopy.model:Solver options:\n",
      " - LogToConsole: 0\n",
      "INFO:linopy.io:Writing objective.\n",
      "Writing constraints.: 100%|\u001b[38;2;128;191;255m██████████\u001b[0m| 15/15 [00:00<00:00, 25.54it/s]\n",
      "Writing continuous variables.: 100%|\u001b[38;2;128;191;255m██████████\u001b[0m| 7/7 [00:00<00:00, 64.73it/s]\n",
      "INFO:linopy.io: Writing time: 0.72s\n"
     ]
    },
    {
     "name": "stdout",
     "output_type": "stream",
     "text": [
      "Set parameter Username\n"
     ]
    },
    {
     "name": "stderr",
     "output_type": "stream",
     "text": [
      "INFO:gurobipy:Set parameter Username\n"
     ]
    },
    {
     "name": "stdout",
     "output_type": "stream",
     "text": [
      "Set parameter LicenseID to value 2587918\n"
     ]
    },
    {
     "name": "stderr",
     "output_type": "stream",
     "text": [
      "INFO:gurobipy:Set parameter LicenseID to value 2587918\n"
     ]
    },
    {
     "name": "stdout",
     "output_type": "stream",
     "text": [
      "Academic license - for non-commercial use only - expires 2025-11-20\n"
     ]
    },
    {
     "name": "stderr",
     "output_type": "stream",
     "text": [
      "INFO:gurobipy:Academic license - for non-commercial use only - expires 2025-11-20\n"
     ]
    },
    {
     "name": "stdout",
     "output_type": "stream",
     "text": [
      "Read LP format model from file C:\\Users\\carlo\\AppData\\Local\\Temp\\linopy-problem-ytxl4v1_.lp\n"
     ]
    },
    {
     "name": "stderr",
     "output_type": "stream",
     "text": [
      "INFO:gurobipy:Read LP format model from file C:\\Users\\carlo\\AppData\\Local\\Temp\\linopy-problem-ytxl4v1_.lp\n"
     ]
    },
    {
     "name": "stdout",
     "output_type": "stream",
     "text": [
      "Reading time = 0.19 seconds\n"
     ]
    },
    {
     "name": "stderr",
     "output_type": "stream",
     "text": [
      "INFO:gurobipy:Reading time = 0.19 seconds\n"
     ]
    },
    {
     "name": "stdout",
     "output_type": "stream",
     "text": [
      "obj: 166449 rows, 78848 columns, 328642 nonzeros\n"
     ]
    },
    {
     "name": "stderr",
     "output_type": "stream",
     "text": [
      "INFO:gurobipy:obj: 166449 rows, 78848 columns, 328642 nonzeros\n",
      "INFO:linopy.constants: Optimization successful: \n",
      "Status: ok\n",
      "Termination condition: optimal\n",
      "Solution: 78848 primals, 166449 duals\n",
      "Objective: 3.05e+10\n",
      "Solver model: available\n",
      "Solver message: 2\n",
      "\n",
      "INFO:pypsa.optimization.optimize:The shadow-prices of the constraints Generator-ext-p-lower, Generator-ext-p-upper, Link-ext-p-lower, Link-ext-p-upper, Store-ext-e-lower, Store-ext-e-upper, Store-energy_balance were not assigned to the network.\n",
      "WARNING:pypsa.consistency:The following buses have carriers which are not defined:\n",
      "Index(['electricity bus'], dtype='object', name='Bus')\n",
      "WARNING:pypsa.consistency:The following links have carriers which are not defined:\n",
      "Index(['H2 Electrolysis'], dtype='object', name='Link')\n",
      "WARNING:pypsa.consistency:The following generators have carriers which are not defined:\n",
      "Index(['offshorewind', 'nuclear'], dtype='object', name='Generator')\n",
      "INFO:linopy.model: Solve problem using Gurobi solver\n",
      "INFO:linopy.model:Solver options:\n",
      " - LogToConsole: 0\n",
      "INFO:linopy.io:Writing objective.\n",
      "Writing constraints.: 100%|\u001b[38;2;128;191;255m██████████\u001b[0m| 15/15 [00:00<00:00, 24.48it/s]\n",
      "Writing continuous variables.: 100%|\u001b[38;2;128;191;255m██████████\u001b[0m| 7/7 [00:00<00:00, 64.85it/s]\n",
      "INFO:linopy.io: Writing time: 0.75s\n"
     ]
    },
    {
     "name": "stdout",
     "output_type": "stream",
     "text": [
      "Set parameter Username\n"
     ]
    },
    {
     "name": "stderr",
     "output_type": "stream",
     "text": [
      "INFO:gurobipy:Set parameter Username\n"
     ]
    },
    {
     "name": "stdout",
     "output_type": "stream",
     "text": [
      "Set parameter LicenseID to value 2587918\n"
     ]
    },
    {
     "name": "stderr",
     "output_type": "stream",
     "text": [
      "INFO:gurobipy:Set parameter LicenseID to value 2587918\n"
     ]
    },
    {
     "name": "stdout",
     "output_type": "stream",
     "text": [
      "Academic license - for non-commercial use only - expires 2025-11-20\n"
     ]
    },
    {
     "name": "stderr",
     "output_type": "stream",
     "text": [
      "INFO:gurobipy:Academic license - for non-commercial use only - expires 2025-11-20\n"
     ]
    },
    {
     "name": "stdout",
     "output_type": "stream",
     "text": [
      "Read LP format model from file C:\\Users\\carlo\\AppData\\Local\\Temp\\linopy-problem-0tyfxi24.lp\n"
     ]
    },
    {
     "name": "stderr",
     "output_type": "stream",
     "text": [
      "INFO:gurobipy:Read LP format model from file C:\\Users\\carlo\\AppData\\Local\\Temp\\linopy-problem-0tyfxi24.lp\n"
     ]
    },
    {
     "name": "stdout",
     "output_type": "stream",
     "text": [
      "Reading time = 0.20 seconds\n"
     ]
    },
    {
     "name": "stderr",
     "output_type": "stream",
     "text": [
      "INFO:gurobipy:Reading time = 0.20 seconds\n"
     ]
    },
    {
     "name": "stdout",
     "output_type": "stream",
     "text": [
      "obj: 166449 rows, 78848 columns, 328642 nonzeros\n"
     ]
    },
    {
     "name": "stderr",
     "output_type": "stream",
     "text": [
      "INFO:gurobipy:obj: 166449 rows, 78848 columns, 328642 nonzeros\n",
      "INFO:linopy.constants: Optimization successful: \n",
      "Status: ok\n",
      "Termination condition: optimal\n",
      "Solution: 78848 primals, 166449 duals\n",
      "Objective: 3.65e+10\n",
      "Solver model: available\n",
      "Solver message: 2\n",
      "\n",
      "INFO:pypsa.optimization.optimize:The shadow-prices of the constraints Generator-ext-p-lower, Generator-ext-p-upper, Link-ext-p-lower, Link-ext-p-upper, Store-ext-e-lower, Store-ext-e-upper, Store-energy_balance were not assigned to the network.\n",
      "WARNING:pypsa.consistency:The following buses have carriers which are not defined:\n",
      "Index(['electricity bus'], dtype='object', name='Bus')\n",
      "WARNING:pypsa.consistency:The following links have carriers which are not defined:\n",
      "Index(['H2 Electrolysis'], dtype='object', name='Link')\n",
      "WARNING:pypsa.consistency:The following generators have carriers which are not defined:\n",
      "Index(['offshorewind', 'nuclear'], dtype='object', name='Generator')\n",
      "INFO:linopy.model: Solve problem using Gurobi solver\n",
      "INFO:linopy.model:Solver options:\n",
      " - LogToConsole: 0\n",
      "INFO:linopy.io:Writing objective.\n",
      "Writing constraints.: 100%|\u001b[38;2;128;191;255m██████████\u001b[0m| 15/15 [00:00<00:00, 24.38it/s]\n",
      "Writing continuous variables.: 100%|\u001b[38;2;128;191;255m██████████\u001b[0m| 7/7 [00:00<00:00, 58.14it/s]\n",
      "INFO:linopy.io: Writing time: 0.76s\n"
     ]
    },
    {
     "name": "stdout",
     "output_type": "stream",
     "text": [
      "Set parameter Username\n"
     ]
    },
    {
     "name": "stderr",
     "output_type": "stream",
     "text": [
      "INFO:gurobipy:Set parameter Username\n"
     ]
    },
    {
     "name": "stdout",
     "output_type": "stream",
     "text": [
      "Set parameter LicenseID to value 2587918\n"
     ]
    },
    {
     "name": "stderr",
     "output_type": "stream",
     "text": [
      "INFO:gurobipy:Set parameter LicenseID to value 2587918\n"
     ]
    },
    {
     "name": "stdout",
     "output_type": "stream",
     "text": [
      "Academic license - for non-commercial use only - expires 2025-11-20\n"
     ]
    },
    {
     "name": "stderr",
     "output_type": "stream",
     "text": [
      "INFO:gurobipy:Academic license - for non-commercial use only - expires 2025-11-20\n"
     ]
    },
    {
     "name": "stdout",
     "output_type": "stream",
     "text": [
      "Read LP format model from file C:\\Users\\carlo\\AppData\\Local\\Temp\\linopy-problem-wqi8kmsu.lp\n"
     ]
    },
    {
     "name": "stderr",
     "output_type": "stream",
     "text": [
      "INFO:gurobipy:Read LP format model from file C:\\Users\\carlo\\AppData\\Local\\Temp\\linopy-problem-wqi8kmsu.lp\n"
     ]
    },
    {
     "name": "stdout",
     "output_type": "stream",
     "text": [
      "Reading time = 0.19 seconds\n"
     ]
    },
    {
     "name": "stderr",
     "output_type": "stream",
     "text": [
      "INFO:gurobipy:Reading time = 0.19 seconds\n"
     ]
    },
    {
     "name": "stdout",
     "output_type": "stream",
     "text": [
      "obj: 166449 rows, 78848 columns, 328642 nonzeros\n"
     ]
    },
    {
     "name": "stderr",
     "output_type": "stream",
     "text": [
      "INFO:gurobipy:obj: 166449 rows, 78848 columns, 328642 nonzeros\n",
      "INFO:linopy.constants: Optimization successful: \n",
      "Status: ok\n",
      "Termination condition: optimal\n",
      "Solution: 78848 primals, 166449 duals\n",
      "Objective: 4.38e+10\n",
      "Solver model: available\n",
      "Solver message: 2\n",
      "\n",
      "INFO:pypsa.optimization.optimize:The shadow-prices of the constraints Generator-ext-p-lower, Generator-ext-p-upper, Link-ext-p-lower, Link-ext-p-upper, Store-ext-e-lower, Store-ext-e-upper, Store-energy_balance were not assigned to the network.\n",
      "WARNING:pypsa.consistency:The following buses have carriers which are not defined:\n",
      "Index(['electricity bus'], dtype='object', name='Bus')\n",
      "WARNING:pypsa.consistency:The following links have carriers which are not defined:\n",
      "Index(['H2 Electrolysis'], dtype='object', name='Link')\n",
      "WARNING:pypsa.consistency:The following generators have carriers which are not defined:\n",
      "Index(['offshorewind', 'nuclear'], dtype='object', name='Generator')\n",
      "INFO:linopy.model: Solve problem using Gurobi solver\n",
      "INFO:linopy.model:Solver options:\n",
      " - LogToConsole: 0\n",
      "INFO:linopy.io:Writing objective.\n",
      "Writing constraints.: 100%|\u001b[38;2;128;191;255m██████████\u001b[0m| 15/15 [00:00<00:00, 24.05it/s]\n",
      "Writing continuous variables.: 100%|\u001b[38;2;128;191;255m██████████\u001b[0m| 7/7 [00:00<00:00, 67.43it/s]\n",
      "INFO:linopy.io: Writing time: 0.76s\n"
     ]
    },
    {
     "name": "stdout",
     "output_type": "stream",
     "text": [
      "Set parameter Username\n"
     ]
    },
    {
     "name": "stderr",
     "output_type": "stream",
     "text": [
      "INFO:gurobipy:Set parameter Username\n"
     ]
    },
    {
     "name": "stdout",
     "output_type": "stream",
     "text": [
      "Set parameter LicenseID to value 2587918\n"
     ]
    },
    {
     "name": "stderr",
     "output_type": "stream",
     "text": [
      "INFO:gurobipy:Set parameter LicenseID to value 2587918\n"
     ]
    },
    {
     "name": "stdout",
     "output_type": "stream",
     "text": [
      "Academic license - for non-commercial use only - expires 2025-11-20\n"
     ]
    },
    {
     "name": "stderr",
     "output_type": "stream",
     "text": [
      "INFO:gurobipy:Academic license - for non-commercial use only - expires 2025-11-20\n"
     ]
    },
    {
     "name": "stdout",
     "output_type": "stream",
     "text": [
      "Read LP format model from file C:\\Users\\carlo\\AppData\\Local\\Temp\\linopy-problem-2fl2o600.lp\n"
     ]
    },
    {
     "name": "stderr",
     "output_type": "stream",
     "text": [
      "INFO:gurobipy:Read LP format model from file C:\\Users\\carlo\\AppData\\Local\\Temp\\linopy-problem-2fl2o600.lp\n"
     ]
    },
    {
     "name": "stdout",
     "output_type": "stream",
     "text": [
      "Reading time = 0.19 seconds\n"
     ]
    },
    {
     "name": "stderr",
     "output_type": "stream",
     "text": [
      "INFO:gurobipy:Reading time = 0.19 seconds\n"
     ]
    },
    {
     "name": "stdout",
     "output_type": "stream",
     "text": [
      "obj: 166449 rows, 78848 columns, 328642 nonzeros\n"
     ]
    },
    {
     "name": "stderr",
     "output_type": "stream",
     "text": [
      "INFO:gurobipy:obj: 166449 rows, 78848 columns, 328642 nonzeros\n",
      "INFO:linopy.constants: Optimization successful: \n",
      "Status: ok\n",
      "Termination condition: optimal\n",
      "Solution: 78848 primals, 166449 duals\n",
      "Objective: 4.53e+10\n",
      "Solver model: available\n",
      "Solver message: 2\n",
      "\n",
      "INFO:pypsa.optimization.optimize:The shadow-prices of the constraints Generator-ext-p-lower, Generator-ext-p-upper, Link-ext-p-lower, Link-ext-p-upper, Store-ext-e-lower, Store-ext-e-upper, Store-energy_balance were not assigned to the network.\n",
      "WARNING:pypsa.consistency:The following buses have carriers which are not defined:\n",
      "Index(['electricity bus'], dtype='object', name='Bus')\n",
      "WARNING:pypsa.consistency:The following links have carriers which are not defined:\n",
      "Index(['H2 Electrolysis'], dtype='object', name='Link')\n",
      "WARNING:pypsa.consistency:The following generators have carriers which are not defined:\n",
      "Index(['offshorewind', 'nuclear'], dtype='object', name='Generator')\n",
      "INFO:linopy.model: Solve problem using Gurobi solver\n",
      "INFO:linopy.model:Solver options:\n",
      " - LogToConsole: 0\n",
      "INFO:linopy.io:Writing objective.\n",
      "Writing constraints.: 100%|\u001b[38;2;128;191;255m██████████\u001b[0m| 15/15 [00:00<00:00, 23.62it/s]\n",
      "Writing continuous variables.: 100%|\u001b[38;2;128;191;255m██████████\u001b[0m| 7/7 [00:00<00:00, 66.19it/s]\n",
      "INFO:linopy.io: Writing time: 0.78s\n"
     ]
    },
    {
     "name": "stdout",
     "output_type": "stream",
     "text": [
      "Set parameter Username\n"
     ]
    },
    {
     "name": "stderr",
     "output_type": "stream",
     "text": [
      "INFO:gurobipy:Set parameter Username\n"
     ]
    },
    {
     "name": "stdout",
     "output_type": "stream",
     "text": [
      "Set parameter LicenseID to value 2587918\n"
     ]
    },
    {
     "name": "stderr",
     "output_type": "stream",
     "text": [
      "INFO:gurobipy:Set parameter LicenseID to value 2587918\n"
     ]
    },
    {
     "name": "stdout",
     "output_type": "stream",
     "text": [
      "Academic license - for non-commercial use only - expires 2025-11-20\n"
     ]
    },
    {
     "name": "stderr",
     "output_type": "stream",
     "text": [
      "INFO:gurobipy:Academic license - for non-commercial use only - expires 2025-11-20\n"
     ]
    },
    {
     "name": "stdout",
     "output_type": "stream",
     "text": [
      "Read LP format model from file C:\\Users\\carlo\\AppData\\Local\\Temp\\linopy-problem-n6mhp4bc.lp\n"
     ]
    },
    {
     "name": "stderr",
     "output_type": "stream",
     "text": [
      "INFO:gurobipy:Read LP format model from file C:\\Users\\carlo\\AppData\\Local\\Temp\\linopy-problem-n6mhp4bc.lp\n"
     ]
    },
    {
     "name": "stdout",
     "output_type": "stream",
     "text": [
      "Reading time = 0.21 seconds\n"
     ]
    },
    {
     "name": "stderr",
     "output_type": "stream",
     "text": [
      "INFO:gurobipy:Reading time = 0.21 seconds\n"
     ]
    },
    {
     "name": "stdout",
     "output_type": "stream",
     "text": [
      "obj: 166449 rows, 78848 columns, 328642 nonzeros\n"
     ]
    },
    {
     "name": "stderr",
     "output_type": "stream",
     "text": [
      "INFO:gurobipy:obj: 166449 rows, 78848 columns, 328642 nonzeros\n",
      "INFO:linopy.constants: Optimization successful: \n",
      "Status: ok\n",
      "Termination condition: optimal\n",
      "Solution: 78848 primals, 166449 duals\n",
      "Objective: 4.60e+10\n",
      "Solver model: available\n",
      "Solver message: 2\n",
      "\n",
      "INFO:pypsa.optimization.optimize:The shadow-prices of the constraints Generator-ext-p-lower, Generator-ext-p-upper, Link-ext-p-lower, Link-ext-p-upper, Store-ext-e-lower, Store-ext-e-upper, Store-energy_balance were not assigned to the network.\n",
      "WARNING:pypsa.consistency:The following buses have carriers which are not defined:\n",
      "Index(['electricity bus'], dtype='object', name='Bus')\n",
      "WARNING:pypsa.consistency:The following links have carriers which are not defined:\n",
      "Index(['H2 Electrolysis'], dtype='object', name='Link')\n",
      "WARNING:pypsa.consistency:The following generators have carriers which are not defined:\n",
      "Index(['offshorewind', 'nuclear'], dtype='object', name='Generator')\n",
      "INFO:linopy.model: Solve problem using Gurobi solver\n",
      "INFO:linopy.model:Solver options:\n",
      " - LogToConsole: 0\n",
      "INFO:linopy.io:Writing objective.\n",
      "Writing constraints.: 100%|\u001b[38;2;128;191;255m██████████\u001b[0m| 15/15 [00:00<00:00, 22.92it/s]\n",
      "Writing continuous variables.: 100%|\u001b[38;2;128;191;255m██████████\u001b[0m| 7/7 [00:00<00:00, 57.95it/s]\n",
      "INFO:linopy.io: Writing time: 0.8s\n"
     ]
    },
    {
     "name": "stdout",
     "output_type": "stream",
     "text": [
      "Set parameter Username\n"
     ]
    },
    {
     "name": "stderr",
     "output_type": "stream",
     "text": [
      "INFO:gurobipy:Set parameter Username\n"
     ]
    },
    {
     "name": "stdout",
     "output_type": "stream",
     "text": [
      "Set parameter LicenseID to value 2587918\n"
     ]
    },
    {
     "name": "stderr",
     "output_type": "stream",
     "text": [
      "INFO:gurobipy:Set parameter LicenseID to value 2587918\n"
     ]
    },
    {
     "name": "stdout",
     "output_type": "stream",
     "text": [
      "Academic license - for non-commercial use only - expires 2025-11-20\n"
     ]
    },
    {
     "name": "stderr",
     "output_type": "stream",
     "text": [
      "INFO:gurobipy:Academic license - for non-commercial use only - expires 2025-11-20\n"
     ]
    },
    {
     "name": "stdout",
     "output_type": "stream",
     "text": [
      "Read LP format model from file C:\\Users\\carlo\\AppData\\Local\\Temp\\linopy-problem-gs2ac6n4.lp\n"
     ]
    },
    {
     "name": "stderr",
     "output_type": "stream",
     "text": [
      "INFO:gurobipy:Read LP format model from file C:\\Users\\carlo\\AppData\\Local\\Temp\\linopy-problem-gs2ac6n4.lp\n"
     ]
    },
    {
     "name": "stdout",
     "output_type": "stream",
     "text": [
      "Reading time = 0.21 seconds\n"
     ]
    },
    {
     "name": "stderr",
     "output_type": "stream",
     "text": [
      "INFO:gurobipy:Reading time = 0.21 seconds\n"
     ]
    },
    {
     "name": "stdout",
     "output_type": "stream",
     "text": [
      "obj: 166449 rows, 78848 columns, 328642 nonzeros\n"
     ]
    },
    {
     "name": "stderr",
     "output_type": "stream",
     "text": [
      "INFO:gurobipy:obj: 166449 rows, 78848 columns, 328642 nonzeros\n",
      "INFO:linopy.constants: Optimization successful: \n",
      "Status: ok\n",
      "Termination condition: optimal\n",
      "Solution: 78848 primals, 166449 duals\n",
      "Objective: 4.62e+10\n",
      "Solver model: available\n",
      "Solver message: 2\n",
      "\n",
      "INFO:pypsa.optimization.optimize:The shadow-prices of the constraints Generator-ext-p-lower, Generator-ext-p-upper, Link-ext-p-lower, Link-ext-p-upper, Store-ext-e-lower, Store-ext-e-upper, Store-energy_balance were not assigned to the network.\n",
      "WARNING:pypsa.consistency:The following buses have carriers which are not defined:\n",
      "Index(['electricity bus'], dtype='object', name='Bus')\n",
      "WARNING:pypsa.consistency:The following links have carriers which are not defined:\n",
      "Index(['H2 Electrolysis'], dtype='object', name='Link')\n",
      "WARNING:pypsa.consistency:The following generators have carriers which are not defined:\n",
      "Index(['offshorewind', 'nuclear'], dtype='object', name='Generator')\n",
      "INFO:linopy.model: Solve problem using Gurobi solver\n",
      "INFO:linopy.model:Solver options:\n",
      " - LogToConsole: 0\n",
      "INFO:linopy.io:Writing objective.\n",
      "Writing constraints.: 100%|\u001b[38;2;128;191;255m██████████\u001b[0m| 15/15 [00:00<00:00, 23.74it/s]\n",
      "Writing continuous variables.: 100%|\u001b[38;2;128;191;255m██████████\u001b[0m| 7/7 [00:00<00:00, 57.59it/s]\n",
      "INFO:linopy.io: Writing time: 0.79s\n"
     ]
    },
    {
     "name": "stdout",
     "output_type": "stream",
     "text": [
      "Set parameter Username\n"
     ]
    },
    {
     "name": "stderr",
     "output_type": "stream",
     "text": [
      "INFO:gurobipy:Set parameter Username\n"
     ]
    },
    {
     "name": "stdout",
     "output_type": "stream",
     "text": [
      "Set parameter LicenseID to value 2587918\n"
     ]
    },
    {
     "name": "stderr",
     "output_type": "stream",
     "text": [
      "INFO:gurobipy:Set parameter LicenseID to value 2587918\n"
     ]
    },
    {
     "name": "stdout",
     "output_type": "stream",
     "text": [
      "Academic license - for non-commercial use only - expires 2025-11-20\n"
     ]
    },
    {
     "name": "stderr",
     "output_type": "stream",
     "text": [
      "INFO:gurobipy:Academic license - for non-commercial use only - expires 2025-11-20\n"
     ]
    },
    {
     "name": "stdout",
     "output_type": "stream",
     "text": [
      "Read LP format model from file C:\\Users\\carlo\\AppData\\Local\\Temp\\linopy-problem-51rahhvs.lp\n"
     ]
    },
    {
     "name": "stderr",
     "output_type": "stream",
     "text": [
      "INFO:gurobipy:Read LP format model from file C:\\Users\\carlo\\AppData\\Local\\Temp\\linopy-problem-51rahhvs.lp\n"
     ]
    },
    {
     "name": "stdout",
     "output_type": "stream",
     "text": [
      "Reading time = 0.20 seconds\n"
     ]
    },
    {
     "name": "stderr",
     "output_type": "stream",
     "text": [
      "INFO:gurobipy:Reading time = 0.20 seconds\n"
     ]
    },
    {
     "name": "stdout",
     "output_type": "stream",
     "text": [
      "obj: 166449 rows, 78848 columns, 328642 nonzeros\n"
     ]
    },
    {
     "name": "stderr",
     "output_type": "stream",
     "text": [
      "INFO:gurobipy:obj: 166449 rows, 78848 columns, 328642 nonzeros\n",
      "INFO:linopy.constants: Optimization successful: \n",
      "Status: ok\n",
      "Termination condition: optimal\n",
      "Solution: 78848 primals, 166449 duals\n",
      "Objective: 4.62e+10\n",
      "Solver model: available\n",
      "Solver message: 2\n",
      "\n",
      "INFO:pypsa.optimization.optimize:The shadow-prices of the constraints Generator-ext-p-lower, Generator-ext-p-upper, Link-ext-p-lower, Link-ext-p-upper, Store-ext-e-lower, Store-ext-e-upper, Store-energy_balance were not assigned to the network.\n"
     ]
    },
    {
     "name": "stdout",
     "output_type": "stream",
     "text": [
      "[{'CO2_Limit': 170000000.0, 'Capacity_MW': Generator\n",
      "onshorewind     52036.876356\n",
      "offshorewind        0.000000\n",
      "solar               0.000000\n",
      "CCGT            49825.156182\n",
      "nuclear             0.000000\n",
      "Name: p_nom_opt, dtype: float64}, {'CO2_Limit': 140000000.0, 'Capacity_MW': Generator\n",
      "onshorewind     52036.876356\n",
      "offshorewind        0.000000\n",
      "solar               0.000000\n",
      "CCGT            49825.156182\n",
      "nuclear             0.000000\n",
      "Name: p_nom_opt, dtype: float64}, {'CO2_Limit': 70000000.0, 'Capacity_MW': Generator\n",
      "onshorewind     52036.876356\n",
      "offshorewind        0.000000\n",
      "solar               0.000000\n",
      "CCGT            49825.156182\n",
      "nuclear             0.000000\n",
      "Name: p_nom_opt, dtype: float64}, {'CO2_Limit': 35000000.0, 'Capacity_MW': Generator\n",
      "onshorewind     52036.876356\n",
      "offshorewind        0.000000\n",
      "solar               0.000000\n",
      "CCGT            49825.156182\n",
      "nuclear             0.000000\n",
      "Name: p_nom_opt, dtype: float64}, {'CO2_Limit': 15000000.0, 'Capacity_MW': Generator\n",
      "onshorewind     88796.334012\n",
      "offshorewind        0.000000\n",
      "solar           47746.042399\n",
      "CCGT            45220.449593\n",
      "nuclear          2766.733707\n",
      "Name: p_nom_opt, dtype: float64}, {'CO2_Limit': 5000000.0, 'Capacity_MW': Generator\n",
      "onshorewind     59596.302003\n",
      "offshorewind        0.000000\n",
      "solar           29299.526654\n",
      "CCGT            30630.253761\n",
      "nuclear         18816.931139\n",
      "Name: p_nom_opt, dtype: float64}, {'CO2_Limit': 1000000.0, 'Capacity_MW': Generator\n",
      "onshorewind     51011.102108\n",
      "offshorewind        0.000000\n",
      "solar           23597.657443\n",
      "CCGT            19048.051185\n",
      "nuclear         27676.544814\n",
      "Name: p_nom_opt, dtype: float64}, {'CO2_Limit': 50000.0, 'Capacity_MW': Generator\n",
      "onshorewind     20773.875210\n",
      "offshorewind        0.000000\n",
      "solar           20699.603674\n",
      "CCGT             6400.617997\n",
      "nuclear         38646.972110\n",
      "Name: p_nom_opt, dtype: float64}, {'CO2_Limit': 10000.0, 'Capacity_MW': Generator\n",
      "onshorewind     13777.502438\n",
      "offshorewind        0.000000\n",
      "solar           14350.542574\n",
      "CCGT             3643.882556\n",
      "nuclear         42044.155287\n",
      "Name: p_nom_opt, dtype: float64}, {'CO2_Limit': 1000.0, 'Capacity_MW': Generator\n",
      "onshorewind      2343.369220\n",
      "offshorewind        0.000000\n",
      "solar           13943.827349\n",
      "CCGT             1124.071691\n",
      "nuclear         43273.400181\n",
      "Name: p_nom_opt, dtype: float64}, {'CO2_Limit': 100.0, 'Capacity_MW': Generator\n",
      "onshorewind         0.000000\n",
      "offshorewind        0.000000\n",
      "solar           13852.703255\n",
      "CCGT              278.647350\n",
      "nuclear         43494.274166\n",
      "Name: p_nom_opt, dtype: float64}, {'CO2_Limit': 0, 'Capacity_MW': Generator\n",
      "onshorewind         0.000000\n",
      "offshorewind        0.000000\n",
      "solar           13770.814819\n",
      "CCGT                0.000000\n",
      "nuclear         43517.776147\n",
      "Name: p_nom_opt, dtype: float64}]\n"
     ]
    }
   ],
   "source": [
    "# Define the CO2 constraint values for sensitivity analysis\n",
    "co2_limits = [170e6, 140e6, 70e6, 35e6, 15e6, 5e6, 1e6, 0.5e5, 1e4, 1e3, 1e2, 0]  # in tons of CO2\n",
    "\n",
    "results = []\n",
    "\n",
    "# Loop through each CO2 limit\n",
    "for co2_limit in co2_limits:\n",
    "    # Add or update the CO2 constraint in the network\n",
    "    \n",
    "    # Solve the network\n",
    "    network = model(co2_limit)    \n",
    "    # Extract the optimized generator capacities\n",
    "    results.append({\n",
    "        \"CO2_Limit\": co2_limit,\n",
    "        \"Capacity_MW\": network.generators.p_nom_opt\n",
    "    })\n",
    "\n",
    "# Save the results to a CSV file for further analysis\n",
    "# results.to_csv(\"sensitivity_analysis_results.csv\", index=False)\n",
    "\n",
    "# Display the results\n",
    "print(results)"
   ]
  },
  {
   "cell_type": "code",
   "execution_count": 13,
   "metadata": {},
   "outputs": [],
   "source": [
    "total_capacity = [entry[\"Capacity_MW\"].sum() for entry in results]\n",
    "\n",
    "solar = [entry[\"Capacity_MW\"][\"solar\"] / total for entry, total in zip(results, total_capacity)]\n",
    "onshorewind = [entry[\"Capacity_MW\"][\"onshorewind\"] / total for entry, total in zip(results, total_capacity)]\n",
    "ccgt = [entry[\"Capacity_MW\"][\"CCGT\"] / total for entry, total in zip(results, total_capacity)]\n",
    "offshorewind = [entry[\"Capacity_MW\"][\"offshorewind\"] / total for entry, total in zip(results, total_capacity)]\n",
    "nuclear = [entry[\"Capacity_MW\"][\"nuclear\"] / total for entry, total in zip(results, total_capacity)]"
   ]
  },
  {
   "cell_type": "code",
   "execution_count": 14,
   "metadata": {},
   "outputs": [
    {
     "data": {
      "image/png": "[encoded data removed]",
      "text/plain": [
       "<Figure size 1000x600 with 1 Axes>"
      ]
     },
     "metadata": {},
     "output_type": "display_data"
    }
   ],
   "source": [
    "\n",
    "\n",
    "# Plot: Generation mix as a function of CO₂ constraint\n",
    "plt.figure(figsize=(10, 6))\n",
    "plt.stackplot(co2_limits, solar, onshorewind, ccgt, offshorewind, nuclear,\n",
    "              labels=['Solar', 'Onshore wind', 'CCGT', 'Offshore wind', 'Nuclear'],\n",
    "              colors=['gold', 'skyblue', 'lightcoral', 'lightgreen', 'lightgrey'],\n",
    "              alpha=0.9)\n",
    "\n",
    "plt.xlabel('CO₂ Constraint (tCO₂/year)')\n",
    "plt.ylabel('Generation Share (%)')\n",
    "plt.title('Generation Mix Sensitivity to CO₂ Constraint')\n",
    "plt.xlim(0,50e6)\n",
    "plt.legend(loc='upper right')\n",
    "plt.grid(True)\n",
    "plt.gca().invert_xaxis()  # So tighter constraint appears on the right\n",
    "plt.tight_layout()\n"
   ]
  }
 ],
 "metadata": {
  "kernelspec": {
   "display_name": "py311",
   "language": "python",
   "name": "python3"
  },
  "language_info": {
   "codemirror_mode": {
    "name": "ipython",
    "version": 3
   },
   "file_extension": ".py",
   "mimetype": "text/x-python",
   "name": "python",
   "nbconvert_exporter": "python",
   "pygments_lexer": "ipython3",
   "version": "3.11.10"
  }
 },
 "nbformat": 4,
 "nbformat_minor": 2
}
