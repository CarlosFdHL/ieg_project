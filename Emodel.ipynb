{
 "cells": [
  {
   "cell_type": "code",
   "execution_count": 63,
   "metadata": {},
   "outputs": [],
   "source": [
    "import pandas as pd\n",
    "import pypsa\n",
    "import matplotlib.pyplot as plt\n",
    "import numpy as np\n",
    "\n",
    "plt.rcParams['font.family'] = 'serif'"
   ]
  },
  {
   "cell_type": "code",
   "execution_count": 64,
   "metadata": {},
   "outputs": [],
   "source": [
    "# Load demand and capacity factor data\n",
    "df_elec = pd.read_csv('data/electricity_demand.csv', sep=';', index_col=0)\n",
    "df_elec.index = pd.to_datetime(df_elec.index)\n",
    "country = 'GBR'"
   ]
  },
  {
   "cell_type": "code",
   "execution_count": 65,
   "metadata": {},
   "outputs": [],
   "source": [
    "def annuity(n, r):\n",
    "    return r / (1 - 1 / (1 + r)**n) if r > 0 else 1 / n"
   ]
  },
  {
   "cell_type": "code",
   "execution_count": 66,
   "metadata": {},
   "outputs": [],
   "source": [
    "def build_network_with_co2_limit(co2_limit_tonnes):\n",
    "    network = pypsa.Network()\n",
    "    network.set_snapshots(pd.date_range('2015-01-01 00:00', '2015-12-31 23:00', freq='h'))\n",
    "\n",
    "    network.add(\"Bus\", \"electricity bus\", carrier=\"electricity\")\n",
    "    network.add(\"Load\", \"load\", bus=\"electricity bus\", p_set=df_elec[country].values)\n",
    "\n",
    "    # Technology and cost assumptions\n",
    "    techs = {\n",
    "        \"onshorewind\": {\"capex\": 1.4e6, \"lifetime\": 25, \"carrier\": \"onshorewind\"},\n",
    "        \"offshorewind\": {\"capex\": 2.8e6, \"lifetime\": 25, \"carrier\": \"offshorewind\"},\n",
    "        \"solar\": {\"capex\": 628e3, \"lifetime\": 25, \"carrier\": \"solar\"},\n",
    "        \"nuclear\": {\"capex\": 11.08e6, \"fuel_cost\": 6.2, \"eff\": 0.33, \"lifetime\": 40, \"carrier\": \"nuclear\"},\n",
    "        \"CCGT\": {\"capex\": 1.04e6, \"fuel_cost\": 30.32, \"eff\": 0.5, \"lifetime\": 30, \"carrier\": \"gas\"}\n",
    "    }\n",
    "\n",
    "    # Add carriers\n",
    "    network.add(\"Carrier\", \"gas\", co2_emissions=0.2019)  # in tCO₂/MWh_th\n",
    "    for tech in [\"onshorewind\", \"offshorewind\", \"solar\", \"nuclear\"]:\n",
    "        network.add(\"Carrier\", tech)\n",
    "\n",
    "    # Capacity factors\n",
    "    df_cf = {\n",
    "        \"onshorewind\": pd.read_csv('data/onshore_wind_1979-2017.csv', sep=';', index_col=0),\n",
    "        \"offshorewind\": pd.read_csv('data/offshore_wind_1979-2017.csv', sep=';', index_col=0),\n",
    "        \"solar\": pd.read_csv('data/pv_optimal.csv', sep=';', index_col=0)\n",
    "    }\n",
    "    for key in df_cf:\n",
    "        df_cf[key].index = pd.to_datetime(df_cf[key].index)\n",
    "\n",
    "    for tech, params in techs.items():\n",
    "        if tech in [\"onshorewind\", \"offshorewind\", \"solar\"]:\n",
    "            cf = df_cf[tech][country][[snap.strftime(\"%Y-%m-%dT%H:%M:%SZ\") for snap in network.snapshots]].values\n",
    "            cap_cost = annuity(params[\"lifetime\"], 0.07) * params[\"capex\"] * 1.03\n",
    "            network.add(\"Generator\",\n",
    "                        tech,\n",
    "                        bus=\"electricity bus\",\n",
    "                        p_nom_extendable=True,\n",
    "                        carrier=params[\"carrier\"],\n",
    "                        capital_cost=cap_cost,\n",
    "                        marginal_cost=0,\n",
    "                        p_max_pu=cf)\n",
    "        else:\n",
    "            fuel_cost = params[\"fuel_cost\"]\n",
    "            eff = params[\"eff\"]\n",
    "            cap_cost = annuity(params[\"lifetime\"], 0.07) * (params[\"capex\"] + 14.32 * 1000)\n",
    "            marginal_cost = fuel_cost / eff\n",
    "            network.add(\"Generator\",\n",
    "                        tech,\n",
    "                        bus=\"electricity bus\",\n",
    "                        p_nom_extendable=True,\n",
    "                        carrier=params[\"carrier\"],\n",
    "                        capital_cost=cap_cost,\n",
    "                        marginal_cost=marginal_cost)\n",
    "\n",
    "    # Add CO₂ constraint\n",
    "    network.add(\"GlobalConstraint\",\n",
    "                \"co2_limit\",\n",
    "                type=\"primary_energy\",\n",
    "                carrier_attribute=\"co2_emissions\",\n",
    "                sense=\"<=\",\n",
    "                constant=co2_limit_tonnes)\n",
    "\n",
    "        # Solve\n",
    "    network.optimize(solver_name='gurobi', solver_options={\"LogToConsole\": 0})\n",
    "\n",
    "    return network\n"
   ]
  },
  {
   "cell_type": "code",
   "execution_count": 67,
   "metadata": {},
   "outputs": [
    {
     "name": "stderr",
     "output_type": "stream",
     "text": [
      "WARNING:pypsa.consistency:The following buses have carriers which are not defined:\n",
      "Index(['electricity bus'], dtype='object', name='Bus')\n",
      "INFO:linopy.model: Solve problem using Gurobi solver\n",
      "INFO:linopy.model:Solver options:\n",
      " - LogToConsole: 0\n",
      "INFO:linopy.io:Writing objective.\n",
      "Writing constraints.: 100%|\u001b[38;2;128;191;255m██████████\u001b[0m| 6/6 [00:00<00:00,  8.72it/s]\n",
      "Writing continuous variables.: 100%|\u001b[38;2;128;191;255m██████████\u001b[0m| 2/2 [00:00<00:00, 25.39it/s]\n",
      "INFO:linopy.io: Writing time: 0.81s\n"
     ]
    },
    {
     "name": "stdout",
     "output_type": "stream",
     "text": [
      "Set parameter Username\n"
     ]
    },
    {
     "name": "stderr",
     "output_type": "stream",
     "text": [
      "INFO:gurobipy:Set parameter Username\n"
     ]
    },
    {
     "name": "stdout",
     "output_type": "stream",
     "text": [
      "Set parameter LicenseID to value 2659440\n"
     ]
    },
    {
     "name": "stderr",
     "output_type": "stream",
     "text": [
      "INFO:gurobipy:Set parameter LicenseID to value 2659440\n"
     ]
    },
    {
     "name": "stdout",
     "output_type": "stream",
     "text": [
      "Academic license - for non-commercial use only - expires 2026-04-30\n"
     ]
    },
    {
     "name": "stderr",
     "output_type": "stream",
     "text": [
      "INFO:gurobipy:Academic license - for non-commercial use only - expires 2026-04-30\n"
     ]
    },
    {
     "name": "stdout",
     "output_type": "stream",
     "text": [
      "Read LP format model from file /private/var/folders/dk/qccdw4qx5dq5wxkdgsyy_g400000gn/T/linopy-problem-6urfiwct.lp\n"
     ]
    },
    {
     "name": "stderr",
     "output_type": "stream",
     "text": [
      "INFO:gurobipy:Read LP format model from file /private/var/folders/dk/qccdw4qx5dq5wxkdgsyy_g400000gn/T/linopy-problem-6urfiwct.lp\n"
     ]
    },
    {
     "name": "stdout",
     "output_type": "stream",
     "text": [
      "Reading time = 0.21 seconds\n"
     ]
    },
    {
     "name": "stderr",
     "output_type": "stream",
     "text": [
      "INFO:gurobipy:Reading time = 0.21 seconds\n"
     ]
    },
    {
     "name": "stdout",
     "output_type": "stream",
     "text": [
      "obj: 96366 rows, 43805 columns, 179719 nonzeros\n"
     ]
    },
    {
     "name": "stderr",
     "output_type": "stream",
     "text": [
      "INFO:gurobipy:obj: 96366 rows, 43805 columns, 179719 nonzeros\n"
     ]
    },
    {
     "name": "stdout",
     "output_type": "stream",
     "text": [
      "Set parameter LogToConsole to value 0\n"
     ]
    },
    {
     "name": "stderr",
     "output_type": "stream",
     "text": [
      "INFO:gurobipy:Set parameter LogToConsole to value 0\n",
      "INFO:gurobipy:Gurobi Optimizer version 12.0.1 build v12.0.1rc0 (mac64[x86] - Darwin 21.6.0 21G531)\n",
      "INFO:gurobipy:\n",
      "INFO:gurobipy:CPU model: Intel(R) Core(TM) i5-8210Y CPU @ 1.60GHz\n",
      "INFO:gurobipy:Thread count: 2 physical cores, 4 logical processors, using up to 4 threads\n",
      "INFO:gurobipy:\n",
      "INFO:gurobipy:Non-default parameters:\n",
      "INFO:gurobipy:LogToConsole  0\n",
      "INFO:gurobipy:\n",
      "INFO:gurobipy:Optimize a model with 96366 rows, 43805 columns and 179719 nonzeros\n",
      "INFO:gurobipy:Model fingerprint: 0x3a169e2d\n",
      "INFO:gurobipy:Coefficient statistics:\n",
      "INFO:gurobipy:  Matrix range     [1e-03, 1e+00]\n",
      "INFO:gurobipy:  Objective range  [2e+01, 8e+05]\n",
      "INFO:gurobipy:  Bounds range     [0e+00, 0e+00]\n",
      "INFO:gurobipy:  RHS range        [2e+04, 3e+07]\n",
      "INFO:gurobipy:Presolve removed 48051 rows and 4246 columns\n",
      "INFO:gurobipy:Presolve time: 0.28s\n",
      "INFO:gurobipy:Presolved: 48315 rows, 39559 columns, 127422 nonzeros\n",
      "INFO:gurobipy:\n",
      "INFO:gurobipy:Concurrent LP optimizer: dual simplex and barrier\n",
      "INFO:gurobipy:Showing barrier log only...\n",
      "INFO:gurobipy:\n",
      "INFO:gurobipy:Ordering time: 0.03s\n",
      "INFO:gurobipy:\n",
      "INFO:gurobipy:Barrier statistics:\n",
      "INFO:gurobipy: Dense cols : 5\n",
      "INFO:gurobipy: AA' NZ     : 9.663e+04\n",
      "INFO:gurobipy: Factor NZ  : 4.272e+05 (roughly 40 MB of memory)\n",
      "INFO:gurobipy: Factor Ops : 3.925e+06 (less than 1 second per iteration)\n",
      "INFO:gurobipy: Threads    : 1\n",
      "INFO:gurobipy:\n",
      "INFO:gurobipy:                  Objective                Residual\n",
      "INFO:gurobipy:Iter       Primal          Dual         Primal    Dual     Compl     Time\n",
      "INFO:gurobipy:   0   5.69962534e+12  0.00000000e+00  1.09e+10 0.00e+00  3.59e+09     1s\n",
      "INFO:gurobipy:   1   8.55354016e+12 -7.69258104e+11  2.06e+09 2.90e+02  7.02e+08     1s\n",
      "INFO:gurobipy:   2   4.94694745e+12 -8.73247775e+11  4.43e+07 3.73e-09  5.62e+07     1s\n",
      "INFO:gurobipy:   3   5.13995996e+11 -2.41380122e+11  2.95e+03 9.09e-13  6.59e+06     1s\n",
      "INFO:gurobipy:   4   2.42164547e+11 -1.76582584e+11  1.27e+03 1.51e-09  3.61e+06     1s\n",
      "INFO:gurobipy:   5   9.91117272e+10 -6.35812657e+10  4.14e+02 8.15e-10  1.38e+06     1s\n",
      "INFO:gurobipy:   6   5.70555959e+10 -5.11985888e+09  1.84e+02 8.44e-10  5.27e+05     1s\n",
      "INFO:gurobipy:   7   4.91684569e+10  6.72621615e+09  1.50e+02 2.50e-09  3.60e+05     1s\n",
      "INFO:gurobipy:   8   4.38855040e+10  1.24489496e+10  1.23e+02 7.86e-10  2.66e+05     1s\n",
      "INFO:gurobipy:   9   3.15933129e+10  1.55428342e+10  5.99e+01 2.91e-10  1.36e+05     1s\n",
      "INFO:gurobipy:  10   2.71488165e+10  1.75691719e+10  3.47e+01 8.73e-10  8.11e+04     1s\n",
      "INFO:gurobipy:  11   2.39390722e+10  1.88448305e+10  1.45e+01 1.92e-09  4.31e+04     1s\n",
      "INFO:gurobipy:  12   2.24348144e+10  1.99755331e+10  6.86e+00 1.75e-10  2.08e+04     1s\n",
      "INFO:gurobipy:  13   2.18000037e+10  2.03647390e+10  3.98e+00 2.15e-09  1.21e+04     1s\n",
      "INFO:gurobipy:  14   2.14968593e+10  2.04656179e+10  2.65e+00 1.75e-10  8.71e+03     1s\n",
      "INFO:gurobipy:  15   2.13389028e+10  2.05426696e+10  1.97e+00 7.28e-11  6.72e+03     1s\n",
      "INFO:gurobipy:  16   2.11642250e+10  2.06758273e+10  1.22e+00 1.40e-09  4.12e+03     2s\n",
      "INFO:gurobipy:  17   2.10517757e+10  2.07389205e+10  7.54e-01 2.91e-10  2.64e+03     2s\n",
      "INFO:gurobipy:  18   2.10103973e+10  2.07685373e+10  5.91e-01 5.42e-12  2.04e+03     2s\n",
      "INFO:gurobipy:  19   2.09610567e+10  2.07844427e+10  3.90e-01 9.31e-10  1.49e+03     2s\n",
      "INFO:gurobipy:  20   2.09309328e+10  2.08163390e+10  2.68e-01 1.34e-09  9.68e+02     2s\n",
      "INFO:gurobipy:  21   2.09111606e+10  2.08293529e+10  1.89e-01 2.33e-10  6.91e+02     2s\n",
      "INFO:gurobipy:  22   2.08953176e+10  2.08420204e+10  1.27e-01 3.84e-09  4.50e+02     2s\n",
      "INFO:gurobipy:  23   2.08830392e+10  2.08495423e+10  7.80e-02 6.98e-10  2.83e+02     2s\n",
      "INFO:gurobipy:  24   2.08768096e+10  2.08533112e+10  5.44e-02 6.40e-10  1.98e+02     2s\n",
      "INFO:gurobipy:  25   2.08708094e+10  2.08564698e+10  3.19e-02 1.57e-09  1.21e+02     2s\n",
      "INFO:gurobipy:  26   2.08661272e+10  2.08600255e+10  1.47e-02 1.51e-09  5.15e+01     2s\n",
      "INFO:gurobipy:  27   2.08638167e+10  2.08611930e+10  6.46e-03 9.90e-10  2.22e+01     2s\n",
      "INFO:gurobipy:  28   2.08627115e+10  2.08617425e+10  2.52e-03 6.69e-10  8.18e+00     2s\n",
      "INFO:gurobipy:  29   2.08621091e+10  2.08619850e+10  4.03e-04 1.28e-09  1.05e+00     2s\n",
      "INFO:gurobipy:  30   2.08619893e+10  2.08619885e+10  1.64e-06 1.51e-09  6.71e-03     2s\n",
      "INFO:gurobipy:  31   2.08619887e+10  2.08619887e+10  4.82e-08 1.30e-09  6.71e-06     2s\n",
      "INFO:gurobipy:  32   2.08619887e+10  2.08619887e+10  2.57e-09 5.82e-10  6.71e-09     3s\n",
      "INFO:gurobipy:\n",
      "INFO:gurobipy:Barrier solved model in 32 iterations and 2.52 seconds (0.69 work units)\n",
      "INFO:gurobipy:Optimal objective 2.08619887e+10\n",
      "INFO:gurobipy:\n",
      "INFO:gurobipy:Crossover log...\n",
      "INFO:gurobipy:\n",
      "INFO:gurobipy:   17525 DPushes remaining with DInf 0.0000000e+00                 3s\n",
      "INFO:gurobipy:       0 DPushes remaining with DInf 0.0000000e+00                 3s\n",
      "INFO:gurobipy:Warning: Markowitz tolerance tightened to 0.5\n",
      "INFO:gurobipy:\n",
      "INFO:gurobipy:     372 PPushes remaining with PInf 0.0000000e+00                 3s\n",
      "INFO:gurobipy:       0 PPushes remaining with PInf 0.0000000e+00                 3s\n",
      "INFO:gurobipy:\n",
      "INFO:gurobipy:  Push phase complete: Pinf 0.0000000e+00, Dinf 4.3024313e-09      3s\n",
      "INFO:gurobipy:\n",
      "INFO:gurobipy:\n",
      "INFO:gurobipy:Solved with barrier\n",
      "INFO:gurobipy:Iteration    Objective       Primal Inf.    Dual Inf.      Time\n",
      "INFO:gurobipy:   16078    2.0861989e+10   0.000000e+00   0.000000e+00      3s\n",
      "INFO:gurobipy:\n",
      "INFO:gurobipy:Solved in 16078 iterations and 3.15 seconds (1.31 work units)\n",
      "INFO:gurobipy:Optimal objective  2.086198865e+10\n",
      "INFO:linopy.constants: Optimization successful: \n",
      "Status: ok\n",
      "Termination condition: optimal\n",
      "Solution: 43805 primals, 96366 duals\n",
      "Objective: 2.09e+10\n",
      "Solver model: available\n",
      "Solver message: 2\n",
      "\n",
      "INFO:pypsa.optimization.optimize:The shadow-prices of the constraints Generator-ext-p-lower, Generator-ext-p-upper were not assigned to the network.\n"
     ]
    }
   ],
   "source": [
    "# RUN MODEL FOR SPECIFIC CO₂ TARGET\n",
    "co2_target = 30e6  # 30 MtCO₂/year\n",
    "network_E = build_network_with_co2_limit(co2_target)"
   ]
  },
  {
   "cell_type": "code",
   "execution_count": 68,
   "metadata": {},
   "outputs": [
    {
     "name": "stdout",
     "output_type": "stream",
     "text": [
      "Model-derived CO₂ price to reach 3e+07 tCO₂/year limit: 39.26 €/tCO₂\n"
     ]
    }
   ],
   "source": [
    "# Extract and Print CO₂ Price\n",
    "co2_price = -network_E.global_constraints.mu['co2_limit']  # €/tCO₂\n",
    "print(f\"Model-derived CO₂ price to reach {co2_target:.0e} tCO₂/year limit: {co2_price:.2f} €/tCO₂\")"
   ]
  },
  {
   "cell_type": "code",
   "execution_count": 69,
   "metadata": {},
   "outputs": [
    {
     "name": "stdout",
     "output_type": "stream",
     "text": [
      "UK ETS 2025 market range: 47–58 €/tCO₂\n",
      "→ The required CO₂ price is below the current market range. Market-based CO₂ pricing could already incentivize this decarbonization level.\n"
     ]
    }
   ],
   "source": [
    "# Compare with UK ETS as of 2025\n",
    "uk_ets_price_range = (47, 58)  # €/tCO₂ (approx from £40–£50/tCO₂)\n",
    "print(f\"UK ETS 2025 market range: {uk_ets_price_range[0]}–{uk_ets_price_range[1]} €/tCO₂\")\n",
    "if co2_price < uk_ets_price_range[0]:\n",
    "    print(\"→ The required CO₂ price is below the current market range. Market-based CO₂ pricing could already incentivize this decarbonization level.\")\n",
    "elif co2_price > uk_ets_price_range[1]:\n",
    "    print(\"→ The required CO₂ price is above the UK ETS range. Stronger CO₂ policy or complementary measures may be needed.\")\n",
    "else:\n",
    "    print(\"→ The required CO₂ price is within the UK ETS range. The market is aligned with this target.\")"
   ]
  },
  {
   "cell_type": "code",
   "execution_count": 70,
   "metadata": {},
   "outputs": [
    {
     "name": "stderr",
     "output_type": "stream",
     "text": [
      "/var/folders/dk/qccdw4qx5dq5wxkdgsyy_g400000gn/T/ipykernel_58952/1646346164.py:2: FutureWarning: 'H' is deprecated and will be removed in a future version, please use 'h' instead.\n",
      "  sample_hours = pd.date_range(\"2015-01-01\", periods=168, freq='H')  # one week\n"
     ]
    },
    {
     "data": {
      "image/png": "[encoded data removed]",
      "text/plain": [
       "<Figure size 1000x600 with 1 Axes>"
      ]
     },
     "metadata": {},
     "output_type": "display_data"
    }
   ],
   "source": [
    "# Visualize hourly dispatch for a sample week\n",
    "sample_hours = pd.date_range(\"2015-01-01\", periods=168, freq='H')  # one week\n",
    "plt.figure(figsize=(10, 6))\n",
    "for tech in [\"onshorewind\", \"solar\", \"offshorewind\", \"nuclear\", \"CCGT\"]:\n",
    "    plt.plot(network_E.generators_t.p[tech][sample_hours], label=tech)\n",
    "plt.plot(network_E.loads_t.p['load'][sample_hours], label='demand', color='black')\n",
    "plt.legend()\n",
    "plt.xlabel(\"Time\")\n",
    "plt.ylabel(\"Power (MW)\")\n",
    "plt.title(\"Dispatch During One Week (CO₂ target scenario)\")\n",
    "plt.grid(True)\n",
    "plt.tight_layout()\n",
    "plt.show()"
   ]
  },
  {
   "cell_type": "code",
   "execution_count": 71,
   "metadata": {},
   "outputs": [
    {
     "name": "stderr",
     "output_type": "stream",
     "text": [
      "WARNING:pypsa.consistency:The following buses have carriers which are not defined:\n",
      "Index(['electricity bus'], dtype='object', name='Bus')\n",
      "INFO:linopy.model: Solve problem using Gurobi solver\n",
      "INFO:linopy.model:Solver options:\n",
      " - LogToConsole: 0\n",
      "INFO:linopy.io:Writing objective.\n",
      "Writing constraints.: 100%|\u001b[38;2;128;191;255m██████████\u001b[0m| 6/6 [00:00<00:00, 10.59it/s]\n",
      "Writing continuous variables.: 100%|\u001b[38;2;128;191;255m██████████\u001b[0m| 2/2 [00:00<00:00, 22.95it/s]\n",
      "INFO:linopy.io: Writing time: 0.71s\n"
     ]
    },
    {
     "name": "stdout",
     "output_type": "stream",
     "text": [
      "Set parameter Username\n"
     ]
    },
    {
     "name": "stderr",
     "output_type": "stream",
     "text": [
      "INFO:gurobipy:Set parameter Username\n"
     ]
    },
    {
     "name": "stdout",
     "output_type": "stream",
     "text": [
      "Set parameter LicenseID to value 2659440\n"
     ]
    },
    {
     "name": "stderr",
     "output_type": "stream",
     "text": [
      "INFO:gurobipy:Set parameter LicenseID to value 2659440\n"
     ]
    },
    {
     "name": "stdout",
     "output_type": "stream",
     "text": [
      "Academic license - for non-commercial use only - expires 2026-04-30\n"
     ]
    },
    {
     "name": "stderr",
     "output_type": "stream",
     "text": [
      "INFO:gurobipy:Academic license - for non-commercial use only - expires 2026-04-30\n"
     ]
    },
    {
     "name": "stdout",
     "output_type": "stream",
     "text": [
      "Read LP format model from file /private/var/folders/dk/qccdw4qx5dq5wxkdgsyy_g400000gn/T/linopy-problem-rege6xbr.lp\n"
     ]
    },
    {
     "name": "stderr",
     "output_type": "stream",
     "text": [
      "INFO:gurobipy:Read LP format model from file /private/var/folders/dk/qccdw4qx5dq5wxkdgsyy_g400000gn/T/linopy-problem-rege6xbr.lp\n"
     ]
    },
    {
     "name": "stdout",
     "output_type": "stream",
     "text": [
      "Reading time = 0.22 seconds\n"
     ]
    },
    {
     "name": "stderr",
     "output_type": "stream",
     "text": [
      "INFO:gurobipy:Reading time = 0.22 seconds\n"
     ]
    },
    {
     "name": "stdout",
     "output_type": "stream",
     "text": [
      "obj: 96366 rows, 43805 columns, 179719 nonzeros\n"
     ]
    },
    {
     "name": "stderr",
     "output_type": "stream",
     "text": [
      "INFO:gurobipy:obj: 96366 rows, 43805 columns, 179719 nonzeros\n"
     ]
    },
    {
     "name": "stdout",
     "output_type": "stream",
     "text": [
      "Set parameter LogToConsole to value 0\n"
     ]
    },
    {
     "name": "stderr",
     "output_type": "stream",
     "text": [
      "INFO:gurobipy:Set parameter LogToConsole to value 0\n",
      "INFO:gurobipy:Gurobi Optimizer version 12.0.1 build v12.0.1rc0 (mac64[x86] - Darwin 21.6.0 21G531)\n",
      "INFO:gurobipy:\n",
      "INFO:gurobipy:CPU model: Intel(R) Core(TM) i5-8210Y CPU @ 1.60GHz\n",
      "INFO:gurobipy:Thread count: 2 physical cores, 4 logical processors, using up to 4 threads\n",
      "INFO:gurobipy:\n",
      "INFO:gurobipy:Non-default parameters:\n",
      "INFO:gurobipy:LogToConsole  0\n",
      "INFO:gurobipy:\n",
      "INFO:gurobipy:Optimize a model with 96366 rows, 43805 columns and 179719 nonzeros\n",
      "INFO:gurobipy:Model fingerprint: 0x09c5a950\n",
      "INFO:gurobipy:Coefficient statistics:\n",
      "INFO:gurobipy:  Matrix range     [1e-03, 1e+00]\n",
      "INFO:gurobipy:  Objective range  [2e+01, 8e+05]\n",
      "INFO:gurobipy:  Bounds range     [0e+00, 0e+00]\n",
      "INFO:gurobipy:  RHS range        [2e+04, 6e+07]\n",
      "INFO:gurobipy:Presolve removed 48052 rows and 4246 columns\n",
      "INFO:gurobipy:Presolve time: 0.21s\n",
      "INFO:gurobipy:Presolved: 48314 rows, 39559 columns, 118662 nonzeros\n",
      "INFO:gurobipy:\n",
      "INFO:gurobipy:Concurrent LP optimizer: dual simplex and barrier\n",
      "INFO:gurobipy:Showing barrier log only...\n",
      "INFO:gurobipy:\n",
      "INFO:gurobipy:Ordering time: 0.02s\n",
      "INFO:gurobipy:\n",
      "INFO:gurobipy:Barrier statistics:\n",
      "INFO:gurobipy: Dense cols : 5\n",
      "INFO:gurobipy: AA' NZ     : 7.911e+04\n",
      "INFO:gurobipy: Factor NZ  : 3.788e+05 (roughly 40 MB of memory)\n",
      "INFO:gurobipy: Factor Ops : 3.119e+06 (less than 1 second per iteration)\n",
      "INFO:gurobipy: Threads    : 1\n",
      "INFO:gurobipy:\n",
      "INFO:gurobipy:                  Objective                Residual\n",
      "INFO:gurobipy:Iter       Primal          Dual         Primal    Dual     Compl     Time\n",
      "INFO:gurobipy:   0   2.47622565e+11  0.00000000e+00  3.20e+05 0.00e+00  1.51e+08     0s\n",
      "INFO:gurobipy:   1   3.71884185e+11 -5.26637717e+11  5.11e+04 4.18e+02  3.10e+07     0s\n",
      "INFO:gurobipy:   2   2.43213094e+11 -2.24509606e+11  8.73e-11 3.73e-09  3.94e+06     0s\n",
      "INFO:gurobipy:   3   1.16529334e+11 -2.34765820e+10  8.73e-11 3.09e-09  1.18e+06     1s\n",
      "INFO:gurobipy:   4   5.48634148e+10  5.19814924e+09  1.75e-10 3.14e-09  4.19e+05     1s\n",
      "INFO:gurobipy:   5   4.61789319e+10  1.03214133e+10  4.51e-10 3.61e-09  3.02e+05     1s\n",
      "INFO:gurobipy:   6   3.95834799e+10  1.38959384e+10  4.80e-10 1.28e-09  2.16e+05     1s\n",
      "INFO:gurobipy:   7   3.29417841e+10  1.58136146e+10  3.20e-10 1.16e-10  1.44e+05     1s\n",
      "INFO:gurobipy:   8   2.77759915e+10  1.72013677e+10  1.89e-10 4.66e-10  8.91e+04     1s\n",
      "INFO:gurobipy:   9   2.52292488e+10  1.81773824e+10  1.16e-10 2.44e-09  5.94e+04     1s\n",
      "INFO:gurobipy:  10   2.37748060e+10  1.88327262e+10  5.82e-11 7.28e-12  4.16e+04     1s\n",
      "INFO:gurobipy:  11   2.36772276e+10  1.91763234e+10  5.82e-11 1.75e-10  3.79e+04     1s\n",
      "INFO:gurobipy:  12   2.23909252e+10  1.97272149e+10  2.91e-11 2.91e-10  2.24e+04     1s\n",
      "INFO:gurobipy:  13   2.20003364e+10  1.98994993e+10  6.55e-10 7.86e-10  1.77e+04     1s\n",
      "INFO:gurobipy:  14   2.18518133e+10  2.02602194e+10  5.68e-10 2.91e-09  1.34e+04     1s\n",
      "INFO:gurobipy:  15   2.15729514e+10  2.04175874e+10  4.07e-10 6.98e-10  9.74e+03     1s\n",
      "INFO:gurobipy:  16   2.14046552e+10  2.05133652e+10  3.20e-10 2.04e-10  7.51e+03     1s\n",
      "INFO:gurobipy:  17   2.13313508e+10  2.05366924e+10  2.91e-10 9.90e-10  6.70e+03     1s\n",
      "INFO:gurobipy:  18   2.12204235e+10  2.06029272e+10  2.33e-10 6.98e-10  5.20e+03     1s\n",
      "INFO:gurobipy:  19   2.11737028e+10  2.06213067e+10  2.18e-10 1.19e-09  4.66e+03     1s\n",
      "INFO:gurobipy:  20   2.11333703e+10  2.06445133e+10  1.89e-10 7.57e-10  4.12e+03     1s\n",
      "INFO:gurobipy:  21   2.11222798e+10  2.06535470e+10  1.89e-10 5.82e-10  3.95e+03     1s\n",
      "INFO:gurobipy:  22   2.10612764e+10  2.06661343e+10  1.60e-10 3.49e-10  3.33e+03     1s\n",
      "INFO:gurobipy:  23   2.09914074e+10  2.06779742e+10  1.16e-10 2.74e-09  2.64e+03     2s\n",
      "INFO:gurobipy:  24   2.09664094e+10  2.06864482e+10  1.16e-10 2.15e-09  2.36e+03     2s\n",
      "INFO:gurobipy:  25   2.09280820e+10  2.07050220e+10  8.73e-11 7.57e-10  1.88e+03     2s\n",
      "INFO:gurobipy:  26   2.09065755e+10  2.07151238e+10  1.02e-10 5.82e-11  1.61e+03     2s\n",
      "INFO:gurobipy:  27   2.08936600e+10  2.07192187e+10  7.28e-11 6.98e-10  1.47e+03     2s\n",
      "INFO:gurobipy:  28   2.08835246e+10  2.07279915e+10  7.28e-11 6.69e-10  1.31e+03     2s\n",
      "INFO:gurobipy:  29   2.08577100e+10  2.07401662e+10  5.82e-11 1.46e-11  9.91e+02     2s\n",
      "INFO:gurobipy:  30   2.08463260e+10  2.07421187e+10  7.28e-11 7.86e-10  8.78e+02     2s\n",
      "INFO:gurobipy:  31   2.08348904e+10  2.07469270e+10  5.82e-11 6.11e-10  7.41e+02     2s\n",
      "INFO:gurobipy:  32   2.08254520e+10  2.07498001e+10  5.82e-11 7.57e-10  6.38e+02     2s\n",
      "INFO:gurobipy:  33   2.08168285e+10  2.07537277e+10  2.91e-11 5.82e-10  5.32e+02     2s\n",
      "INFO:gurobipy:  34   2.08139339e+10  2.07592064e+10  5.82e-11 1.80e-09  4.61e+02     2s\n",
      "INFO:gurobipy:\n",
      "INFO:gurobipy:Barrier performed 34 iterations in 2.13 seconds (0.88 work units)\n",
      "INFO:gurobipy:Barrier solve interrupted - model solved by another algorithm\n",
      "INFO:gurobipy:\n",
      "INFO:gurobipy:\n",
      "INFO:gurobipy:Solved with dual simplex\n",
      "INFO:gurobipy:Iteration    Objective       Primal Inf.    Dual Inf.      Time\n",
      "INFO:gurobipy:   32281    2.0772932e+10   0.000000e+00   0.000000e+00      2s\n",
      "INFO:gurobipy:\n",
      "INFO:gurobipy:Solved in 32281 iterations and 2.21 seconds (1.19 work units)\n",
      "INFO:gurobipy:Optimal objective  2.077293170e+10\n",
      "INFO:linopy.constants: Optimization successful: \n",
      "Status: ok\n",
      "Termination condition: optimal\n",
      "Solution: 43805 primals, 96366 duals\n",
      "Objective: 2.08e+10\n",
      "Solver model: available\n",
      "Solver message: 2\n",
      "\n",
      "INFO:pypsa.optimization.optimize:The shadow-prices of the constraints Generator-ext-p-lower, Generator-ext-p-upper were not assigned to the network.\n",
      "WARNING:pypsa.consistency:The following buses have carriers which are not defined:\n",
      "Index(['electricity bus'], dtype='object', name='Bus')\n",
      "INFO:linopy.model: Solve problem using Gurobi solver\n",
      "INFO:linopy.model:Solver options:\n",
      " - LogToConsole: 0\n",
      "INFO:linopy.io:Writing objective.\n",
      "Writing constraints.: 100%|\u001b[38;2;128;191;255m██████████\u001b[0m| 6/6 [00:00<00:00, 11.23it/s]\n",
      "Writing continuous variables.: 100%|\u001b[38;2;128;191;255m██████████\u001b[0m| 2/2 [00:00<00:00, 20.43it/s]\n",
      "INFO:linopy.io: Writing time: 0.68s\n"
     ]
    },
    {
     "name": "stdout",
     "output_type": "stream",
     "text": [
      "Set parameter Username\n"
     ]
    },
    {
     "name": "stderr",
     "output_type": "stream",
     "text": [
      "INFO:gurobipy:Set parameter Username\n"
     ]
    },
    {
     "name": "stdout",
     "output_type": "stream",
     "text": [
      "Set parameter LicenseID to value 2659440\n"
     ]
    },
    {
     "name": "stderr",
     "output_type": "stream",
     "text": [
      "INFO:gurobipy:Set parameter LicenseID to value 2659440\n"
     ]
    },
    {
     "name": "stdout",
     "output_type": "stream",
     "text": [
      "Academic license - for non-commercial use only - expires 2026-04-30\n"
     ]
    },
    {
     "name": "stderr",
     "output_type": "stream",
     "text": [
      "INFO:gurobipy:Academic license - for non-commercial use only - expires 2026-04-30\n"
     ]
    },
    {
     "name": "stdout",
     "output_type": "stream",
     "text": [
      "Read LP format model from file /private/var/folders/dk/qccdw4qx5dq5wxkdgsyy_g400000gn/T/linopy-problem-4365wj2t.lp\n"
     ]
    },
    {
     "name": "stderr",
     "output_type": "stream",
     "text": [
      "INFO:gurobipy:Read LP format model from file /private/var/folders/dk/qccdw4qx5dq5wxkdgsyy_g400000gn/T/linopy-problem-4365wj2t.lp\n"
     ]
    },
    {
     "name": "stdout",
     "output_type": "stream",
     "text": [
      "Reading time = 0.27 seconds\n"
     ]
    },
    {
     "name": "stderr",
     "output_type": "stream",
     "text": [
      "INFO:gurobipy:Reading time = 0.27 seconds\n"
     ]
    },
    {
     "name": "stdout",
     "output_type": "stream",
     "text": [
      "obj: 96366 rows, 43805 columns, 179719 nonzeros\n"
     ]
    },
    {
     "name": "stderr",
     "output_type": "stream",
     "text": [
      "INFO:gurobipy:obj: 96366 rows, 43805 columns, 179719 nonzeros\n"
     ]
    },
    {
     "name": "stdout",
     "output_type": "stream",
     "text": [
      "Set parameter LogToConsole to value 0\n"
     ]
    },
    {
     "name": "stderr",
     "output_type": "stream",
     "text": [
      "INFO:gurobipy:Set parameter LogToConsole to value 0\n",
      "INFO:gurobipy:Gurobi Optimizer version 12.0.1 build v12.0.1rc0 (mac64[x86] - Darwin 21.6.0 21G531)\n",
      "INFO:gurobipy:\n",
      "INFO:gurobipy:CPU model: Intel(R) Core(TM) i5-8210Y CPU @ 1.60GHz\n",
      "INFO:gurobipy:Thread count: 2 physical cores, 4 logical processors, using up to 4 threads\n",
      "INFO:gurobipy:\n",
      "INFO:gurobipy:Non-default parameters:\n",
      "INFO:gurobipy:LogToConsole  0\n",
      "INFO:gurobipy:\n",
      "INFO:gurobipy:Optimize a model with 96366 rows, 43805 columns and 179719 nonzeros\n",
      "INFO:gurobipy:Model fingerprint: 0x56abbf8a\n",
      "INFO:gurobipy:Coefficient statistics:\n",
      "INFO:gurobipy:  Matrix range     [1e-03, 1e+00]\n",
      "INFO:gurobipy:  Objective range  [2e+01, 8e+05]\n",
      "INFO:gurobipy:  Bounds range     [0e+00, 0e+00]\n",
      "INFO:gurobipy:  RHS range        [2e+04, 4e+07]\n",
      "INFO:gurobipy:Presolve removed 48051 rows and 4246 columns\n",
      "INFO:gurobipy:Presolve time: 0.29s\n",
      "INFO:gurobipy:Presolved: 48315 rows, 39559 columns, 127422 nonzeros\n",
      "INFO:gurobipy:\n",
      "INFO:gurobipy:Concurrent LP optimizer: dual simplex and barrier\n",
      "INFO:gurobipy:Showing barrier log only...\n",
      "INFO:gurobipy:\n",
      "INFO:gurobipy:Ordering time: 0.02s\n",
      "INFO:gurobipy:\n",
      "INFO:gurobipy:Barrier statistics:\n",
      "INFO:gurobipy: Dense cols : 5\n",
      "INFO:gurobipy: AA' NZ     : 9.663e+04\n",
      "INFO:gurobipy: Factor NZ  : 4.272e+05 (roughly 40 MB of memory)\n",
      "INFO:gurobipy: Factor Ops : 3.925e+06 (less than 1 second per iteration)\n",
      "INFO:gurobipy: Threads    : 1\n",
      "INFO:gurobipy:\n",
      "INFO:gurobipy:                  Objective                Residual\n",
      "INFO:gurobipy:Iter       Primal          Dual         Primal    Dual     Compl     Time\n",
      "INFO:gurobipy:   0   6.96369359e+12  0.00000000e+00  1.34e+10 0.00e+00  4.36e+09     1s\n",
      "INFO:gurobipy:   1   1.04390606e+13 -7.91266309e+11  2.52e+09 2.88e+02  8.54e+08     1s\n",
      "INFO:gurobipy:   2   6.02352565e+12 -8.73790159e+11  6.20e+07 2.88e-09  6.83e+07     1s\n",
      "INFO:gurobipy:   3   6.77544891e+11 -7.51197189e+11  4.65e+03 1.16e-09  1.25e+07     1s\n",
      "INFO:gurobipy:   4   3.65894147e+11 -3.65091732e+11  2.31e+03 2.56e-09  6.29e+06     1s\n",
      "INFO:gurobipy:   5   2.59741746e+11 -3.32743940e+11  1.58e+03 1.75e-09  5.08e+06     1s\n",
      "INFO:gurobipy:   6   1.12321497e+11 -9.32871093e+10  5.50e+02 3.49e-09  1.75e+06     1s\n",
      "INFO:gurobipy:   7   5.86874247e+10 -1.74485866e+10  2.08e+02 2.91e-10  6.45e+05     1s\n",
      "INFO:gurobipy:   8   5.65394134e+10 -1.18013062e+10  1.97e+02 3.49e-10  5.79e+05     1s\n",
      "INFO:gurobipy:   9   4.90191792e+10 -1.44266612e+09  1.57e+02 4.95e-10  4.27e+05     1s\n",
      "INFO:gurobipy:  10   4.48444755e+10  4.38085430e+09  1.36e+02 1.16e-09  3.43e+05     1s\n",
      "INFO:gurobipy:  11   4.27007141e+10  8.83803696e+09  1.25e+02 7.57e-10  2.87e+05     1s\n",
      "INFO:gurobipy:  12   3.26851174e+10  1.25954128e+10  6.32e+01 8.00e-11  1.70e+05     1s\n",
      "INFO:gurobipy:  13   2.93556615e+10  1.57072232e+10  4.65e+01 1.98e-09  1.15e+05     1s\n",
      "INFO:gurobipy:  14   2.49699368e+10  1.77408398e+10  2.24e+01 6.40e-10  6.11e+04     1s\n",
      "INFO:gurobipy:  15   2.31466930e+10  1.88054695e+10  1.20e+01 1.75e-10  3.67e+04     1s\n",
      "INFO:gurobipy:  16   2.20748173e+10  1.99807629e+10  6.22e+00 1.14e-09  1.77e+04     1s\n",
      "INFO:gurobipy:  17   2.14929666e+10  2.03861530e+10  3.31e+00 8.22e-10  9.35e+03     1s\n",
      "INFO:gurobipy:  18   2.12799951e+10  2.05833550e+10  2.30e+00 1.40e-09  5.89e+03     2s\n",
      "INFO:gurobipy:  19   2.11926793e+10  2.06201045e+10  1.89e+00 1.86e-09  4.84e+03     2s\n",
      "INFO:gurobipy:  20   2.10651220e+10  2.06944233e+10  1.30e+00 1.14e-09  3.13e+03     2s\n",
      "INFO:gurobipy:  21   2.09554594e+10  2.07116593e+10  8.05e-01 3.35e-10  2.06e+03     2s\n",
      "INFO:gurobipy:  22   2.09114978e+10  2.07262924e+10  6.07e-01 6.11e-10  1.57e+03     2s\n",
      "INFO:gurobipy:  23   2.08704398e+10  2.07453673e+10  4.33e-01 1.40e-09  1.06e+03     2s\n",
      "INFO:gurobipy:  24   2.08337578e+10  2.07565084e+10  2.69e-01 1.92e-09  6.53e+02     2s\n",
      "INFO:gurobipy:  25   2.08280750e+10  2.07613979e+10  2.44e-01 1.86e-09  5.64e+02     2s\n",
      "INFO:gurobipy:  26   2.08091072e+10  2.07642766e+10  1.58e-01 2.91e-10  3.79e+02     2s\n",
      "INFO:gurobipy:  27   2.08003573e+10  2.07667242e+10  1.19e-01 6.98e-10  2.84e+02     2s\n",
      "INFO:gurobipy:  28   2.07941460e+10  2.07686148e+10  9.30e-02 2.15e-09  2.16e+02     2s\n",
      "INFO:gurobipy:  29   2.07885171e+10  2.07707304e+10  6.83e-02 5.24e-10  1.50e+02     2s\n",
      "INFO:gurobipy:  30   2.07871543e+10  2.07709981e+10  6.23e-02 1.02e-09  1.37e+02     2s\n",
      "INFO:gurobipy:  31   2.07818126e+10  2.07713840e+10  3.96e-02 2.74e-09  8.82e+01     2s\n",
      "INFO:gurobipy:  32   2.07811405e+10  2.07718132e+10  3.65e-02 5.24e-10  7.89e+01     2s\n",
      "INFO:gurobipy:  33   2.07784936e+10  2.07721566e+10  2.45e-02 1.75e-10  5.36e+01     2s\n",
      "INFO:gurobipy:  34   2.07768756e+10  2.07723756e+10  1.75e-02 1.16e-10  3.80e+01     2s\n",
      "INFO:gurobipy:  35   2.07756441e+10  2.07728329e+10  1.19e-02 3.26e-09  2.38e+01     2s\n",
      "INFO:gurobipy:\n",
      "INFO:gurobipy:Barrier performed 35 iterations in 2.40 seconds (0.76 work units)\n",
      "INFO:gurobipy:Barrier solve interrupted - model solved by another algorithm\n",
      "INFO:gurobipy:\n",
      "INFO:gurobipy:\n",
      "INFO:gurobipy:Solved with dual simplex\n",
      "INFO:gurobipy:Iteration    Objective       Primal Inf.    Dual Inf.      Time\n",
      "INFO:gurobipy:   31814    2.0772932e+10   0.000000e+00   0.000000e+00      3s\n",
      "INFO:gurobipy:\n",
      "INFO:gurobipy:Solved in 31814 iterations and 2.50 seconds (1.26 work units)\n",
      "INFO:gurobipy:Optimal objective  2.077293170e+10\n",
      "INFO:linopy.constants: Optimization successful: \n",
      "Status: ok\n",
      "Termination condition: optimal\n",
      "Solution: 43805 primals, 96366 duals\n",
      "Objective: 2.08e+10\n",
      "Solver model: available\n",
      "Solver message: 2\n",
      "\n",
      "INFO:pypsa.optimization.optimize:The shadow-prices of the constraints Generator-ext-p-lower, Generator-ext-p-upper were not assigned to the network.\n",
      "WARNING:pypsa.consistency:The following buses have carriers which are not defined:\n",
      "Index(['electricity bus'], dtype='object', name='Bus')\n",
      "INFO:linopy.model: Solve problem using Gurobi solver\n",
      "INFO:linopy.model:Solver options:\n",
      " - LogToConsole: 0\n",
      "INFO:linopy.io:Writing objective.\n",
      "Writing constraints.: 100%|\u001b[38;2;128;191;255m██████████\u001b[0m| 6/6 [00:00<00:00, 10.35it/s]\n",
      "Writing continuous variables.: 100%|\u001b[38;2;128;191;255m██████████\u001b[0m| 2/2 [00:00<00:00, 20.51it/s]\n",
      "INFO:linopy.io: Writing time: 0.73s\n"
     ]
    },
    {
     "name": "stdout",
     "output_type": "stream",
     "text": [
      "Set parameter Username\n"
     ]
    },
    {
     "name": "stderr",
     "output_type": "stream",
     "text": [
      "INFO:gurobipy:Set parameter Username\n"
     ]
    },
    {
     "name": "stdout",
     "output_type": "stream",
     "text": [
      "Set parameter LicenseID to value 2659440\n"
     ]
    },
    {
     "name": "stderr",
     "output_type": "stream",
     "text": [
      "INFO:gurobipy:Set parameter LicenseID to value 2659440\n"
     ]
    },
    {
     "name": "stdout",
     "output_type": "stream",
     "text": [
      "Academic license - for non-commercial use only - expires 2026-04-30\n"
     ]
    },
    {
     "name": "stderr",
     "output_type": "stream",
     "text": [
      "INFO:gurobipy:Academic license - for non-commercial use only - expires 2026-04-30\n"
     ]
    },
    {
     "name": "stdout",
     "output_type": "stream",
     "text": [
      "Read LP format model from file /private/var/folders/dk/qccdw4qx5dq5wxkdgsyy_g400000gn/T/linopy-problem-xy62z3n_.lp\n"
     ]
    },
    {
     "name": "stderr",
     "output_type": "stream",
     "text": [
      "INFO:gurobipy:Read LP format model from file /private/var/folders/dk/qccdw4qx5dq5wxkdgsyy_g400000gn/T/linopy-problem-xy62z3n_.lp\n"
     ]
    },
    {
     "name": "stdout",
     "output_type": "stream",
     "text": [
      "Reading time = 0.30 seconds\n"
     ]
    },
    {
     "name": "stderr",
     "output_type": "stream",
     "text": [
      "INFO:gurobipy:Reading time = 0.30 seconds\n"
     ]
    },
    {
     "name": "stdout",
     "output_type": "stream",
     "text": [
      "obj: 96366 rows, 43805 columns, 179719 nonzeros\n"
     ]
    },
    {
     "name": "stderr",
     "output_type": "stream",
     "text": [
      "INFO:gurobipy:obj: 96366 rows, 43805 columns, 179719 nonzeros\n"
     ]
    },
    {
     "name": "stdout",
     "output_type": "stream",
     "text": [
      "Set parameter LogToConsole to value 0\n"
     ]
    },
    {
     "name": "stderr",
     "output_type": "stream",
     "text": [
      "INFO:gurobipy:Set parameter LogToConsole to value 0\n",
      "INFO:gurobipy:Gurobi Optimizer version 12.0.1 build v12.0.1rc0 (mac64[x86] - Darwin 21.6.0 21G531)\n",
      "INFO:gurobipy:\n",
      "INFO:gurobipy:CPU model: Intel(R) Core(TM) i5-8210Y CPU @ 1.60GHz\n",
      "INFO:gurobipy:Thread count: 2 physical cores, 4 logical processors, using up to 4 threads\n",
      "INFO:gurobipy:\n",
      "INFO:gurobipy:Non-default parameters:\n",
      "INFO:gurobipy:LogToConsole  0\n",
      "INFO:gurobipy:\n",
      "INFO:gurobipy:Optimize a model with 96366 rows, 43805 columns and 179719 nonzeros\n",
      "INFO:gurobipy:Model fingerprint: 0x3a169e2d\n",
      "INFO:gurobipy:Coefficient statistics:\n",
      "INFO:gurobipy:  Matrix range     [1e-03, 1e+00]\n",
      "INFO:gurobipy:  Objective range  [2e+01, 8e+05]\n",
      "INFO:gurobipy:  Bounds range     [0e+00, 0e+00]\n",
      "INFO:gurobipy:  RHS range        [2e+04, 3e+07]\n",
      "INFO:gurobipy:Presolve removed 48051 rows and 4246 columns\n",
      "INFO:gurobipy:Presolve time: 0.25s\n",
      "INFO:gurobipy:Presolved: 48315 rows, 39559 columns, 127422 nonzeros\n",
      "INFO:gurobipy:\n",
      "INFO:gurobipy:Concurrent LP optimizer: dual simplex and barrier\n",
      "INFO:gurobipy:Showing barrier log only...\n",
      "INFO:gurobipy:\n",
      "INFO:gurobipy:Ordering time: 0.01s\n",
      "INFO:gurobipy:\n",
      "INFO:gurobipy:Barrier statistics:\n",
      "INFO:gurobipy: Dense cols : 5\n",
      "INFO:gurobipy: AA' NZ     : 9.663e+04\n",
      "INFO:gurobipy: Factor NZ  : 4.272e+05 (roughly 40 MB of memory)\n",
      "INFO:gurobipy: Factor Ops : 3.925e+06 (less than 1 second per iteration)\n",
      "INFO:gurobipy: Threads    : 1\n",
      "INFO:gurobipy:\n",
      "INFO:gurobipy:                  Objective                Residual\n",
      "INFO:gurobipy:Iter       Primal          Dual         Primal    Dual     Compl     Time\n",
      "INFO:gurobipy:   0   5.69962534e+12  0.00000000e+00  1.09e+10 0.00e+00  3.59e+09     0s\n",
      "INFO:gurobipy:   1   8.55354016e+12 -7.69258104e+11  2.06e+09 2.90e+02  7.02e+08     1s\n",
      "INFO:gurobipy:   2   4.94694745e+12 -8.73247775e+11  4.43e+07 3.73e-09  5.62e+07     1s\n",
      "INFO:gurobipy:   3   5.13995996e+11 -2.41380122e+11  2.95e+03 9.09e-13  6.59e+06     1s\n",
      "INFO:gurobipy:   4   2.42164547e+11 -1.76582584e+11  1.27e+03 1.51e-09  3.61e+06     1s\n",
      "INFO:gurobipy:   5   9.91117272e+10 -6.35812657e+10  4.14e+02 8.15e-10  1.38e+06     1s\n",
      "INFO:gurobipy:   6   5.70555959e+10 -5.11985888e+09  1.84e+02 8.44e-10  5.27e+05     1s\n",
      "INFO:gurobipy:   7   4.91684569e+10  6.72621615e+09  1.50e+02 2.50e-09  3.60e+05     1s\n",
      "INFO:gurobipy:   8   4.38855040e+10  1.24489496e+10  1.23e+02 7.86e-10  2.66e+05     1s\n",
      "INFO:gurobipy:   9   3.15933129e+10  1.55428342e+10  5.99e+01 2.91e-10  1.36e+05     1s\n",
      "INFO:gurobipy:  10   2.71488165e+10  1.75691719e+10  3.47e+01 8.73e-10  8.11e+04     1s\n",
      "INFO:gurobipy:  11   2.39390722e+10  1.88448305e+10  1.45e+01 1.92e-09  4.31e+04     1s\n",
      "INFO:gurobipy:  12   2.24348144e+10  1.99755331e+10  6.86e+00 1.75e-10  2.08e+04     1s\n",
      "INFO:gurobipy:  13   2.18000037e+10  2.03647390e+10  3.98e+00 2.15e-09  1.21e+04     1s\n",
      "INFO:gurobipy:  14   2.14968593e+10  2.04656179e+10  2.65e+00 1.75e-10  8.71e+03     1s\n",
      "INFO:gurobipy:  15   2.13389028e+10  2.05426696e+10  1.97e+00 7.28e-11  6.72e+03     1s\n",
      "INFO:gurobipy:  16   2.11642250e+10  2.06758273e+10  1.22e+00 1.40e-09  4.12e+03     1s\n",
      "INFO:gurobipy:  17   2.10517757e+10  2.07389205e+10  7.54e-01 2.91e-10  2.64e+03     1s\n",
      "INFO:gurobipy:  18   2.10103973e+10  2.07685373e+10  5.91e-01 5.42e-12  2.04e+03     1s\n",
      "INFO:gurobipy:  19   2.09610567e+10  2.07844427e+10  3.90e-01 9.31e-10  1.49e+03     1s\n",
      "INFO:gurobipy:  20   2.09309328e+10  2.08163390e+10  2.68e-01 1.34e-09  9.68e+02     2s\n",
      "INFO:gurobipy:  21   2.09111606e+10  2.08293529e+10  1.89e-01 2.33e-10  6.91e+02     2s\n",
      "INFO:gurobipy:  22   2.08953176e+10  2.08420204e+10  1.27e-01 3.84e-09  4.50e+02     2s\n",
      "INFO:gurobipy:  23   2.08830392e+10  2.08495423e+10  7.80e-02 6.98e-10  2.83e+02     2s\n",
      "INFO:gurobipy:  24   2.08768096e+10  2.08533112e+10  5.44e-02 6.40e-10  1.98e+02     2s\n",
      "INFO:gurobipy:  25   2.08708094e+10  2.08564698e+10  3.19e-02 1.57e-09  1.21e+02     2s\n",
      "INFO:gurobipy:  26   2.08661272e+10  2.08600255e+10  1.47e-02 1.51e-09  5.15e+01     2s\n",
      "INFO:gurobipy:  27   2.08638167e+10  2.08611930e+10  6.46e-03 9.90e-10  2.22e+01     2s\n",
      "INFO:gurobipy:  28   2.08627115e+10  2.08617425e+10  2.52e-03 6.69e-10  8.18e+00     2s\n",
      "INFO:gurobipy:  29   2.08621091e+10  2.08619850e+10  4.03e-04 1.28e-09  1.05e+00     2s\n",
      "INFO:gurobipy:  30   2.08619893e+10  2.08619885e+10  1.64e-06 1.51e-09  6.71e-03     2s\n",
      "INFO:gurobipy:  31   2.08619887e+10  2.08619887e+10  4.82e-08 1.30e-09  6.71e-06     2s\n",
      "INFO:gurobipy:  32   2.08619887e+10  2.08619887e+10  2.57e-09 5.82e-10  6.71e-09     2s\n",
      "INFO:gurobipy:\n",
      "INFO:gurobipy:Barrier solved model in 32 iterations and 2.09 seconds (0.69 work units)\n",
      "INFO:gurobipy:Optimal objective 2.08619887e+10\n",
      "INFO:gurobipy:\n",
      "INFO:gurobipy:Crossover log...\n",
      "INFO:gurobipy:\n",
      "INFO:gurobipy:   17525 DPushes remaining with DInf 0.0000000e+00                 2s\n",
      "INFO:gurobipy:       0 DPushes remaining with DInf 0.0000000e+00                 2s\n",
      "INFO:gurobipy:Warning: Markowitz tolerance tightened to 0.5\n",
      "INFO:gurobipy:\n",
      "INFO:gurobipy:     372 PPushes remaining with PInf 0.0000000e+00                 2s\n",
      "INFO:gurobipy:       0 PPushes remaining with PInf 0.0000000e+00                 3s\n",
      "INFO:gurobipy:\n",
      "INFO:gurobipy:  Push phase complete: Pinf 0.0000000e+00, Dinf 4.3024313e-09      3s\n",
      "INFO:gurobipy:\n",
      "INFO:gurobipy:\n",
      "INFO:gurobipy:Solved with barrier\n",
      "INFO:gurobipy:Iteration    Objective       Primal Inf.    Dual Inf.      Time\n",
      "INFO:gurobipy:   16078    2.0861989e+10   0.000000e+00   0.000000e+00      3s\n",
      "INFO:gurobipy:\n",
      "INFO:gurobipy:Solved in 16078 iterations and 2.75 seconds (1.31 work units)\n",
      "INFO:gurobipy:Optimal objective  2.086198865e+10\n",
      "INFO:linopy.constants: Optimization successful: \n",
      "Status: ok\n",
      "Termination condition: optimal\n",
      "Solution: 43805 primals, 96366 duals\n",
      "Objective: 2.09e+10\n",
      "Solver model: available\n",
      "Solver message: 2\n",
      "\n",
      "INFO:pypsa.optimization.optimize:The shadow-prices of the constraints Generator-ext-p-lower, Generator-ext-p-upper were not assigned to the network.\n",
      "WARNING:pypsa.consistency:The following buses have carriers which are not defined:\n",
      "Index(['electricity bus'], dtype='object', name='Bus')\n",
      "INFO:linopy.model: Solve problem using Gurobi solver\n",
      "INFO:linopy.model:Solver options:\n",
      " - LogToConsole: 0\n",
      "INFO:linopy.io:Writing objective.\n",
      "Writing constraints.: 100%|\u001b[38;2;128;191;255m██████████\u001b[0m| 6/6 [00:00<00:00, 10.62it/s]\n",
      "Writing continuous variables.: 100%|\u001b[38;2;128;191;255m██████████\u001b[0m| 2/2 [00:00<00:00, 20.40it/s]\n",
      "INFO:linopy.io: Writing time: 0.71s\n"
     ]
    },
    {
     "name": "stdout",
     "output_type": "stream",
     "text": [
      "Set parameter Username\n"
     ]
    },
    {
     "name": "stderr",
     "output_type": "stream",
     "text": [
      "INFO:gurobipy:Set parameter Username\n"
     ]
    },
    {
     "name": "stdout",
     "output_type": "stream",
     "text": [
      "Set parameter LicenseID to value 2659440\n"
     ]
    },
    {
     "name": "stderr",
     "output_type": "stream",
     "text": [
      "INFO:gurobipy:Set parameter LicenseID to value 2659440\n"
     ]
    },
    {
     "name": "stdout",
     "output_type": "stream",
     "text": [
      "Academic license - for non-commercial use only - expires 2026-04-30\n"
     ]
    },
    {
     "name": "stderr",
     "output_type": "stream",
     "text": [
      "INFO:gurobipy:Academic license - for non-commercial use only - expires 2026-04-30\n"
     ]
    },
    {
     "name": "stdout",
     "output_type": "stream",
     "text": [
      "Read LP format model from file /private/var/folders/dk/qccdw4qx5dq5wxkdgsyy_g400000gn/T/linopy-problem-4hiq8mqx.lp\n"
     ]
    },
    {
     "name": "stderr",
     "output_type": "stream",
     "text": [
      "INFO:gurobipy:Read LP format model from file /private/var/folders/dk/qccdw4qx5dq5wxkdgsyy_g400000gn/T/linopy-problem-4hiq8mqx.lp\n"
     ]
    },
    {
     "name": "stdout",
     "output_type": "stream",
     "text": [
      "Reading time = 0.25 seconds\n"
     ]
    },
    {
     "name": "stderr",
     "output_type": "stream",
     "text": [
      "INFO:gurobipy:Reading time = 0.25 seconds\n"
     ]
    },
    {
     "name": "stdout",
     "output_type": "stream",
     "text": [
      "obj: 96366 rows, 43805 columns, 179719 nonzeros\n"
     ]
    },
    {
     "name": "stderr",
     "output_type": "stream",
     "text": [
      "INFO:gurobipy:obj: 96366 rows, 43805 columns, 179719 nonzeros\n"
     ]
    },
    {
     "name": "stdout",
     "output_type": "stream",
     "text": [
      "Set parameter LogToConsole to value 0\n"
     ]
    },
    {
     "name": "stderr",
     "output_type": "stream",
     "text": [
      "INFO:gurobipy:Set parameter LogToConsole to value 0\n",
      "INFO:gurobipy:Gurobi Optimizer version 12.0.1 build v12.0.1rc0 (mac64[x86] - Darwin 21.6.0 21G531)\n",
      "INFO:gurobipy:\n",
      "INFO:gurobipy:CPU model: Intel(R) Core(TM) i5-8210Y CPU @ 1.60GHz\n",
      "INFO:gurobipy:Thread count: 2 physical cores, 4 logical processors, using up to 4 threads\n",
      "INFO:gurobipy:\n",
      "INFO:gurobipy:Non-default parameters:\n",
      "INFO:gurobipy:LogToConsole  0\n",
      "INFO:gurobipy:\n",
      "INFO:gurobipy:Optimize a model with 96366 rows, 43805 columns and 179719 nonzeros\n",
      "INFO:gurobipy:Model fingerprint: 0x984d0c35\n",
      "INFO:gurobipy:Coefficient statistics:\n",
      "INFO:gurobipy:  Matrix range     [1e-03, 1e+00]\n",
      "INFO:gurobipy:  Objective range  [2e+01, 8e+05]\n",
      "INFO:gurobipy:  Bounds range     [0e+00, 0e+00]\n",
      "INFO:gurobipy:  RHS range        [2e+04, 2e+07]\n",
      "INFO:gurobipy:Presolve removed 48051 rows and 4246 columns\n",
      "INFO:gurobipy:Presolve time: 0.34s\n",
      "INFO:gurobipy:Presolved: 48315 rows, 39559 columns, 127422 nonzeros\n",
      "INFO:gurobipy:\n",
      "INFO:gurobipy:Concurrent LP optimizer: dual simplex and barrier\n",
      "INFO:gurobipy:Showing barrier log only...\n",
      "INFO:gurobipy:\n",
      "INFO:gurobipy:Ordering time: 0.01s\n",
      "INFO:gurobipy:\n",
      "INFO:gurobipy:Barrier statistics:\n",
      "INFO:gurobipy: Dense cols : 5\n",
      "INFO:gurobipy: AA' NZ     : 9.663e+04\n",
      "INFO:gurobipy: Factor NZ  : 4.272e+05 (roughly 40 MB of memory)\n",
      "INFO:gurobipy: Factor Ops : 3.925e+06 (less than 1 second per iteration)\n",
      "INFO:gurobipy: Threads    : 1\n",
      "INFO:gurobipy:\n",
      "INFO:gurobipy:                  Objective                Residual\n",
      "INFO:gurobipy:Iter       Primal          Dual         Primal    Dual     Compl     Time\n",
      "INFO:gurobipy:   0   4.04395587e+12  0.00000000e+00  7.75e+09 0.00e+00  2.56e+09     1s\n",
      "INFO:gurobipy:   1   6.07645013e+12 -7.40257524e+11  1.44e+09 2.92e+02  5.00e+08     1s\n",
      "INFO:gurobipy:   2   3.51531064e+12 -8.44897136e+11  2.07e+07 3.43e-09  4.00e+07     1s\n",
      "INFO:gurobipy:   3   5.27262574e+11 -1.76384884e+11  2.17e+06 1.28e-09  6.05e+06     1s\n",
      "INFO:gurobipy:   4   1.44868877e+11 -7.93526917e+10  5.83e+05 1.46e-09  1.91e+06     1s\n",
      "INFO:gurobipy:   5   8.41702259e+10 -1.38625963e+10  2.81e+05 7.86e-10  8.30e+05     1s\n",
      "INFO:gurobipy:   6   5.68108422e+10  2.38985940e+09  1.63e+05 3.49e-10  4.61e+05     1s\n",
      "INFO:gurobipy:   7   5.39801904e+10  7.68316909e+09  1.51e+05 5.82e-10  3.92e+05     1s\n",
      "INFO:gurobipy:   8   4.30023053e+10  1.34205291e+10  1.02e+05 1.02e-09  2.50e+05     1s\n",
      "INFO:gurobipy:   9   3.06126078e+10  1.79034359e+10  3.35e+04 1.46e-09  1.07e+05     1s\n",
      "INFO:gurobipy:  10   2.75400775e+10  2.07230824e+10  1.55e+04 6.55e-11  5.76e+04     1s\n",
      "INFO:gurobipy:  11   2.62220939e+10  2.23400469e+10  8.46e+03 2.33e-09  3.28e+04     1s\n",
      "INFO:gurobipy:  12   2.55908382e+10  2.30937658e+10  5.10e+03 1.43e-09  2.11e+04     1s\n",
      "INFO:gurobipy:  13   2.52464908e+10  2.34317394e+10  3.29e+03 6.98e-10  1.53e+04     1s\n",
      "INFO:gurobipy:  14   2.50522276e+10  2.36819202e+10  2.29e+03 1.80e-09  1.16e+04     1s\n",
      "INFO:gurobipy:  15   2.48937976e+10  2.39246463e+10  1.51e+03 2.33e-10  8.18e+03     2s\n",
      "INFO:gurobipy:  16   2.47908891e+10  2.42032611e+10  1.01e+03 9.90e-10  4.96e+03     2s\n",
      "INFO:gurobipy:  17   2.46747768e+10  2.43049259e+10  4.85e+02 1.75e-09  3.12e+03     2s\n",
      "INFO:gurobipy:  18   2.46474259e+10  2.43475650e+10  3.71e+02 9.31e-10  2.53e+03     2s\n",
      "INFO:gurobipy:  19   2.46357797e+10  2.44041068e+10  3.24e+02 1.51e-09  1.95e+03     2s\n",
      "INFO:gurobipy:  20   2.46049992e+10  2.44269486e+10  1.99e+02 2.21e-09  1.50e+03     2s\n",
      "INFO:gurobipy:  21   2.45797824e+10  2.44826136e+10  9.84e+01 4.00e-10  8.19e+02     2s\n",
      "INFO:gurobipy:  22   2.45680258e+10  2.45080890e+10  5.49e+01 1.80e-09  5.05e+02     2s\n",
      "INFO:gurobipy:  23   2.45622943e+10  2.45354761e+10  3.47e+01 9.60e-10  2.26e+02     2s\n",
      "INFO:gurobipy:  24   2.45544276e+10  2.45412159e+10  7.15e+00 1.02e-09  1.11e+02     2s\n",
      "INFO:gurobipy:  25   2.45527798e+10  2.45498562e+10  2.53e+00 1.51e-09  2.47e+01     2s\n",
      "INFO:gurobipy:  26   2.45519368e+10  2.45512774e+10  3.56e-01 4.13e-09  5.56e+00     2s\n",
      "INFO:gurobipy:  27   2.45517789e+10  2.45517621e+10  2.22e-06 7.57e-10  1.41e-01     2s\n",
      "INFO:gurobipy:  28   2.45517741e+10  2.45517740e+10  6.87e-06 4.42e-09  2.99e-04     2s\n",
      "INFO:gurobipy:  29   2.45517740e+10  2.45517740e+10  1.02e-07 2.08e-08  3.92e-09     2s\n",
      "INFO:gurobipy:\n",
      "INFO:gurobipy:Barrier solved model in 29 iterations and 2.27 seconds (0.64 work units)\n",
      "INFO:gurobipy:Optimal objective 2.45517740e+10\n",
      "INFO:gurobipy:\n",
      "INFO:gurobipy:Crossover log...\n",
      "INFO:gurobipy:\n",
      "INFO:gurobipy:    8766 DPushes remaining with DInf 0.0000000e+00                 2s\n",
      "INFO:gurobipy:       0 DPushes remaining with DInf 0.0000000e+00                 3s\n",
      "INFO:gurobipy:Warning: Markowitz tolerance tightened to 0.5\n",
      "INFO:gurobipy:\n",
      "INFO:gurobipy:    1849 PPushes remaining with PInf 0.0000000e+00                 3s\n",
      "INFO:gurobipy:       0 PPushes remaining with PInf 0.0000000e+00                 3s\n",
      "INFO:gurobipy:\n",
      "INFO:gurobipy:  Push phase complete: Pinf 0.0000000e+00, Dinf 6.1275425e-08      3s\n",
      "INFO:gurobipy:\n",
      "INFO:gurobipy:\n",
      "INFO:gurobipy:Solved with barrier\n",
      "INFO:gurobipy:Iteration    Objective       Primal Inf.    Dual Inf.      Time\n",
      "INFO:gurobipy:    7448    2.4551774e+10   0.000000e+00   0.000000e+00      4s\n",
      "INFO:gurobipy:\n",
      "INFO:gurobipy:Solved in 7448 iterations and 3.51 seconds (2.17 work units)\n",
      "INFO:gurobipy:Optimal objective  2.455177405e+10\n",
      "INFO:linopy.constants: Optimization successful: \n",
      "Status: ok\n",
      "Termination condition: optimal\n",
      "Solution: 43805 primals, 96366 duals\n",
      "Objective: 2.46e+10\n",
      "Solver model: available\n",
      "Solver message: 2\n",
      "\n",
      "INFO:pypsa.optimization.optimize:The shadow-prices of the constraints Generator-ext-p-lower, Generator-ext-p-upper were not assigned to the network.\n",
      "WARNING:pypsa.consistency:The following buses have carriers which are not defined:\n",
      "Index(['electricity bus'], dtype='object', name='Bus')\n",
      "INFO:linopy.model: Solve problem using Gurobi solver\n",
      "INFO:linopy.model:Solver options:\n",
      " - LogToConsole: 0\n",
      "INFO:linopy.io:Writing objective.\n",
      "Writing constraints.: 100%|\u001b[38;2;128;191;255m██████████\u001b[0m| 6/6 [00:00<00:00,  9.94it/s]\n",
      "Writing continuous variables.: 100%|\u001b[38;2;128;191;255m██████████\u001b[0m| 2/2 [00:00<00:00, 20.51it/s]\n",
      "INFO:linopy.io: Writing time: 0.75s\n"
     ]
    },
    {
     "name": "stdout",
     "output_type": "stream",
     "text": [
      "Set parameter Username\n"
     ]
    },
    {
     "name": "stderr",
     "output_type": "stream",
     "text": [
      "INFO:gurobipy:Set parameter Username\n"
     ]
    },
    {
     "name": "stdout",
     "output_type": "stream",
     "text": [
      "Set parameter LicenseID to value 2659440\n"
     ]
    },
    {
     "name": "stderr",
     "output_type": "stream",
     "text": [
      "INFO:gurobipy:Set parameter LicenseID to value 2659440\n"
     ]
    },
    {
     "name": "stdout",
     "output_type": "stream",
     "text": [
      "Academic license - for non-commercial use only - expires 2026-04-30\n"
     ]
    },
    {
     "name": "stderr",
     "output_type": "stream",
     "text": [
      "INFO:gurobipy:Academic license - for non-commercial use only - expires 2026-04-30\n"
     ]
    },
    {
     "name": "stdout",
     "output_type": "stream",
     "text": [
      "Read LP format model from file /private/var/folders/dk/qccdw4qx5dq5wxkdgsyy_g400000gn/T/linopy-problem-l43e_xo5.lp\n"
     ]
    },
    {
     "name": "stderr",
     "output_type": "stream",
     "text": [
      "INFO:gurobipy:Read LP format model from file /private/var/folders/dk/qccdw4qx5dq5wxkdgsyy_g400000gn/T/linopy-problem-l43e_xo5.lp\n"
     ]
    },
    {
     "name": "stdout",
     "output_type": "stream",
     "text": [
      "Reading time = 0.29 seconds\n"
     ]
    },
    {
     "name": "stderr",
     "output_type": "stream",
     "text": [
      "INFO:gurobipy:Reading time = 0.29 seconds\n"
     ]
    },
    {
     "name": "stdout",
     "output_type": "stream",
     "text": [
      "obj: 96366 rows, 43805 columns, 179719 nonzeros\n"
     ]
    },
    {
     "name": "stderr",
     "output_type": "stream",
     "text": [
      "INFO:gurobipy:obj: 96366 rows, 43805 columns, 179719 nonzeros\n"
     ]
    },
    {
     "name": "stdout",
     "output_type": "stream",
     "text": [
      "Set parameter LogToConsole to value 0\n"
     ]
    },
    {
     "name": "stderr",
     "output_type": "stream",
     "text": [
      "INFO:gurobipy:Set parameter LogToConsole to value 0\n",
      "INFO:gurobipy:Gurobi Optimizer version 12.0.1 build v12.0.1rc0 (mac64[x86] - Darwin 21.6.0 21G531)\n",
      "INFO:gurobipy:\n",
      "INFO:gurobipy:CPU model: Intel(R) Core(TM) i5-8210Y CPU @ 1.60GHz\n",
      "INFO:gurobipy:Thread count: 2 physical cores, 4 logical processors, using up to 4 threads\n",
      "INFO:gurobipy:\n",
      "INFO:gurobipy:Non-default parameters:\n",
      "INFO:gurobipy:LogToConsole  0\n",
      "INFO:gurobipy:\n",
      "INFO:gurobipy:Optimize a model with 96366 rows, 43805 columns and 179719 nonzeros\n",
      "INFO:gurobipy:Model fingerprint: 0x079fbff3\n",
      "INFO:gurobipy:Coefficient statistics:\n",
      "INFO:gurobipy:  Matrix range     [1e-03, 1e+00]\n",
      "INFO:gurobipy:  Objective range  [2e+01, 8e+05]\n",
      "INFO:gurobipy:  Bounds range     [0e+00, 0e+00]\n",
      "INFO:gurobipy:  RHS range        [2e+04, 5e+06]\n",
      "INFO:gurobipy:Presolve removed 48051 rows and 4246 columns\n",
      "INFO:gurobipy:Presolve time: 0.28s\n",
      "INFO:gurobipy:Presolved: 48315 rows, 39559 columns, 127422 nonzeros\n",
      "INFO:gurobipy:\n",
      "INFO:gurobipy:Concurrent LP optimizer: dual simplex and barrier\n",
      "INFO:gurobipy:Showing barrier log only...\n",
      "INFO:gurobipy:\n",
      "INFO:gurobipy:Ordering time: 0.01s\n",
      "INFO:gurobipy:\n",
      "INFO:gurobipy:Barrier statistics:\n",
      "INFO:gurobipy: Dense cols : 5\n",
      "INFO:gurobipy: AA' NZ     : 9.663e+04\n",
      "INFO:gurobipy: Factor NZ  : 4.272e+05 (roughly 40 MB of memory)\n",
      "INFO:gurobipy: Factor Ops : 3.925e+06 (less than 1 second per iteration)\n",
      "INFO:gurobipy: Threads    : 1\n",
      "INFO:gurobipy:\n",
      "INFO:gurobipy:                  Objective                Residual\n",
      "INFO:gurobipy:Iter       Primal          Dual         Primal    Dual     Compl     Time\n",
      "INFO:gurobipy:   0   2.34750491e+12  0.00000000e+00  4.48e+09 0.00e+00  1.49e+09     0s\n",
      "INFO:gurobipy:   1   3.53184343e+12 -7.07794073e+11  8.18e+08 2.93e+02  2.89e+08     1s\n",
      "INFO:gurobipy:   2   2.26418412e+12 -7.53950734e+11  1.52e+07 1.16e-10  2.77e+07     1s\n",
      "INFO:gurobipy:   3   3.44228467e+11 -1.58292220e+11  1.89e+06 1.63e-09  4.32e+06     1s\n",
      "INFO:gurobipy:   4   2.31437757e+11 -1.08092518e+11  1.20e+06 3.49e-10  2.90e+06     1s\n",
      "INFO:gurobipy:   5   1.36357195e+11 -8.49845569e+10  6.27e+05 3.49e-10  1.88e+06     1s\n",
      "INFO:gurobipy:   6   8.37959498e+10 -3.77307344e+10  3.13e+05 2.26e-10  1.03e+06     1s\n",
      "INFO:gurobipy:   7   6.83815038e+10 -6.52023094e+09  2.36e+05 2.15e-09  6.35e+05     1s\n",
      "INFO:gurobipy:   8   5.76513125e+10  1.90820466e+09  1.78e+05 2.62e-09  4.72e+05     1s\n",
      "INFO:gurobipy:   9   5.45367397e+10  1.05831602e+10  1.57e+05 1.51e-09  3.72e+05     1s\n",
      "INFO:gurobipy:  10   4.31995064e+10  1.61164464e+10  8.69e+04 4.07e-09  2.29e+05     1s\n",
      "INFO:gurobipy:  11   3.72237959e+10  2.04430827e+10  4.30e+04 4.07e-10  1.42e+05     1s\n",
      "INFO:gurobipy:  12   3.50711982e+10  2.46602662e+10  2.77e+04 6.98e-10  8.80e+04     1s\n",
      "INFO:gurobipy:  13   3.37096423e+10  2.69581081e+10  1.86e+04 1.16e-09  5.70e+04     1s\n",
      "INFO:gurobipy:  14   3.29690822e+10  2.75131605e+10  1.35e+04 2.91e-11  4.61e+04     1s\n",
      "INFO:gurobipy:  15   3.25020924e+10  2.80413336e+10  1.03e+04 6.40e-10  3.77e+04     1s\n",
      "INFO:gurobipy:  16   3.20845768e+10  2.89871625e+10  7.50e+03 5.24e-10  2.62e+04     1s\n",
      "INFO:gurobipy:  17   3.17176968e+10  2.94726666e+10  5.32e+03 1.05e-09  1.90e+04     1s\n",
      "INFO:gurobipy:  18   3.14773079e+10  2.96505917e+10  3.90e+03 1.86e-09  1.54e+04     1s\n",
      "INFO:gurobipy:  19   3.13876586e+10  2.97564714e+10  3.42e+03 2.68e-09  1.38e+04     1s\n",
      "INFO:gurobipy:  20   3.12178108e+10  2.99248933e+10  2.40e+03 1.40e-09  1.09e+04     1s\n",
      "INFO:gurobipy:  21   3.11194294e+10  3.00280573e+10  1.85e+03 3.49e-10  9.21e+03     2s\n",
      "INFO:gurobipy:  22   3.10472797e+10  3.00982605e+10  1.45e+03 9.31e-10  8.01e+03     2s\n",
      "INFO:gurobipy:  23   3.09883615e+10  3.01904259e+10  1.14e+03 2.15e-09  6.73e+03     2s\n",
      "INFO:gurobipy:  24   3.09362581e+10  3.02761521e+10  8.72e+02 9.90e-10  5.57e+03     2s\n",
      "INFO:gurobipy:  25   3.09052636e+10  3.03242961e+10  7.06e+02 5.82e-10  4.90e+03     2s\n",
      "INFO:gurobipy:  26   3.08716127e+10  3.04597287e+10  5.48e+02 7.86e-10  3.47e+03     2s\n",
      "INFO:gurobipy:  27   3.08398652e+10  3.05350263e+10  4.03e+02 1.69e-09  2.57e+03     2s\n",
      "INFO:gurobipy:  28   3.08182424e+10  3.06075046e+10  3.02e+02 5.82e-10  1.78e+03     2s\n",
      "INFO:gurobipy:  29   3.07995119e+10  3.06319878e+10  2.24e+02 1.80e-09  1.41e+03     2s\n",
      "INFO:gurobipy:  30   3.07891126e+10  3.06409427e+10  1.82e+02 1.63e-09  1.25e+03     2s\n",
      "INFO:gurobipy:  31   3.07829522e+10  3.06728689e+10  1.58e+02 5.53e-10  9.29e+02     2s\n",
      "INFO:gurobipy:  32   3.07769323e+10  3.06804934e+10  1.34e+02 1.25e-09  8.14e+02     2s\n",
      "INFO:gurobipy:  33   3.07660046e+10  3.06988742e+10  8.97e+01 9.60e-10  5.66e+02     2s\n",
      "INFO:gurobipy:  34   3.07569255e+10  3.07057428e+10  5.58e+01 9.68e-10  4.32e+02     2s\n",
      "INFO:gurobipy:  35   3.07532152e+10  3.07148484e+10  4.21e+01 8.22e-10  3.24e+02     2s\n",
      "INFO:gurobipy:  36   3.07469598e+10  3.07235758e+10  1.96e+01 1.88e-09  1.97e+02     2s\n",
      "INFO:gurobipy:  37   3.07462152e+10  3.07270000e+10  1.70e+01 1.06e-09  1.62e+02     2s\n",
      "INFO:gurobipy:  38   3.07456781e+10  3.07273198e+10  1.53e+01 9.31e-10  1.55e+02     2s\n",
      "INFO:gurobipy:  39   3.07446601e+10  3.07282956e+10  1.19e+01 1.40e-09  1.38e+02     2s\n",
      "INFO:gurobipy:  40   3.07436679e+10  3.07327085e+10  8.55e+00 1.89e-09  9.24e+01     2s\n",
      "INFO:gurobipy:  41   3.07427118e+10  3.07344359e+10  5.28e+00 1.80e-09  6.98e+01     3s\n",
      "INFO:gurobipy:  42   3.07414991e+10  3.07384878e+10  1.52e+00 3.26e-09  2.54e+01     3s\n",
      "INFO:gurobipy:  43   3.07413783e+10  3.07388100e+10  1.21e+00 1.22e-09  2.17e+01     3s\n",
      "INFO:gurobipy:  44   3.07411573e+10  3.07394016e+10  6.02e-01 2.10e-09  1.48e+01     3s\n",
      "INFO:gurobipy:  45   3.07410296e+10  3.07396549e+10  2.88e-01 1.22e-09  1.16e+01     3s\n",
      "INFO:gurobipy:  46   3.07409701e+10  3.07405003e+10  1.29e-01 1.87e-09  3.96e+00     3s\n",
      "INFO:gurobipy:  47   3.07409377e+10  3.07408981e+10  5.87e-02 3.75e-09  3.34e-01     3s\n",
      "INFO:gurobipy:  48   3.07409214e+10  3.07409021e+10  2.29e-02 3.78e-09  1.62e-01     3s\n",
      "INFO:gurobipy:  49   3.07409110e+10  3.07409100e+10  1.02e-03 3.49e-10  7.90e-03     3s\n",
      "INFO:gurobipy:  50   3.07409103e+10  3.07409103e+10  2.02e-05 6.92e-09  6.16e-05     3s\n",
      "INFO:gurobipy:  51   3.07409103e+10  3.07409103e+10  1.97e-06 8.73e-09  3.32e-09     3s\n",
      "INFO:gurobipy:\n",
      "INFO:gurobipy:Barrier solved model in 51 iterations and 3.02 seconds (1.03 work units)\n",
      "INFO:gurobipy:Optimal objective 3.07409103e+10\n",
      "INFO:gurobipy:\n",
      "INFO:gurobipy:Crossover log...\n",
      "INFO:gurobipy:\n",
      "INFO:gurobipy:    8768 DPushes remaining with DInf 0.0000000e+00                 3s\n",
      "INFO:gurobipy:       0 DPushes remaining with DInf 0.0000000e+00                 3s\n",
      "INFO:gurobipy:Warning: Markowitz tolerance tightened to 0.5\n",
      "INFO:gurobipy:\n",
      "INFO:gurobipy:     670 PPushes remaining with PInf 0.0000000e+00                 3s\n",
      "INFO:gurobipy:       0 PPushes remaining with PInf 0.0000000e+00                 3s\n",
      "INFO:gurobipy:\n",
      "INFO:gurobipy:  Push phase complete: Pinf 0.0000000e+00, Dinf 4.5813179e-08      3s\n",
      "INFO:gurobipy:\n",
      "INFO:gurobipy:\n",
      "INFO:gurobipy:Solved with barrier\n",
      "INFO:gurobipy:Extra simplex iterations after uncrush: 1\n",
      "INFO:gurobipy:Iteration    Objective       Primal Inf.    Dual Inf.      Time\n",
      "INFO:gurobipy:    8169    3.0740910e+10   0.000000e+00   0.000000e+00      4s\n",
      "INFO:gurobipy:\n",
      "INFO:gurobipy:Solved in 8169 iterations and 3.79 seconds (1.90 work units)\n",
      "INFO:gurobipy:Optimal objective  3.074091033e+10\n",
      "INFO:linopy.constants: Optimization successful: \n",
      "Status: ok\n",
      "Termination condition: optimal\n",
      "Solution: 43805 primals, 96366 duals\n",
      "Objective: 3.07e+10\n",
      "Solver model: available\n",
      "Solver message: 2\n",
      "\n",
      "INFO:pypsa.optimization.optimize:The shadow-prices of the constraints Generator-ext-p-lower, Generator-ext-p-upper were not assigned to the network.\n",
      "WARNING:pypsa.consistency:The following buses have carriers which are not defined:\n",
      "Index(['electricity bus'], dtype='object', name='Bus')\n",
      "INFO:linopy.model: Solve problem using Gurobi solver\n",
      "INFO:linopy.model:Solver options:\n",
      " - LogToConsole: 0\n",
      "INFO:linopy.io:Writing objective.\n",
      "Writing constraints.: 100%|\u001b[38;2;128;191;255m██████████\u001b[0m| 6/6 [00:00<00:00,  9.89it/s]\n",
      "Writing continuous variables.: 100%|\u001b[38;2;128;191;255m██████████\u001b[0m| 2/2 [00:00<00:00, 18.57it/s]\n",
      "INFO:linopy.io: Writing time: 0.76s\n"
     ]
    },
    {
     "name": "stdout",
     "output_type": "stream",
     "text": [
      "Set parameter Username\n"
     ]
    },
    {
     "name": "stderr",
     "output_type": "stream",
     "text": [
      "INFO:gurobipy:Set parameter Username\n"
     ]
    },
    {
     "name": "stdout",
     "output_type": "stream",
     "text": [
      "Set parameter LicenseID to value 2659440\n"
     ]
    },
    {
     "name": "stderr",
     "output_type": "stream",
     "text": [
      "INFO:gurobipy:Set parameter LicenseID to value 2659440\n"
     ]
    },
    {
     "name": "stdout",
     "output_type": "stream",
     "text": [
      "Academic license - for non-commercial use only - expires 2026-04-30\n"
     ]
    },
    {
     "name": "stderr",
     "output_type": "stream",
     "text": [
      "INFO:gurobipy:Academic license - for non-commercial use only - expires 2026-04-30\n"
     ]
    },
    {
     "name": "stdout",
     "output_type": "stream",
     "text": [
      "Read LP format model from file /private/var/folders/dk/qccdw4qx5dq5wxkdgsyy_g400000gn/T/linopy-problem-jtbhr0q2.lp\n"
     ]
    },
    {
     "name": "stderr",
     "output_type": "stream",
     "text": [
      "INFO:gurobipy:Read LP format model from file /private/var/folders/dk/qccdw4qx5dq5wxkdgsyy_g400000gn/T/linopy-problem-jtbhr0q2.lp\n"
     ]
    },
    {
     "name": "stdout",
     "output_type": "stream",
     "text": [
      "Reading time = 0.29 seconds\n"
     ]
    },
    {
     "name": "stderr",
     "output_type": "stream",
     "text": [
      "INFO:gurobipy:Reading time = 0.29 seconds\n"
     ]
    },
    {
     "name": "stdout",
     "output_type": "stream",
     "text": [
      "obj: 96366 rows, 43805 columns, 179719 nonzeros\n"
     ]
    },
    {
     "name": "stderr",
     "output_type": "stream",
     "text": [
      "INFO:gurobipy:obj: 96366 rows, 43805 columns, 179719 nonzeros\n"
     ]
    },
    {
     "name": "stdout",
     "output_type": "stream",
     "text": [
      "Set parameter LogToConsole to value 0\n"
     ]
    },
    {
     "name": "stderr",
     "output_type": "stream",
     "text": [
      "INFO:gurobipy:Set parameter LogToConsole to value 0\n",
      "INFO:gurobipy:Gurobi Optimizer version 12.0.1 build v12.0.1rc0 (mac64[x86] - Darwin 21.6.0 21G531)\n",
      "INFO:gurobipy:\n",
      "INFO:gurobipy:CPU model: Intel(R) Core(TM) i5-8210Y CPU @ 1.60GHz\n",
      "INFO:gurobipy:Thread count: 2 physical cores, 4 logical processors, using up to 4 threads\n",
      "INFO:gurobipy:\n",
      "INFO:gurobipy:Non-default parameters:\n",
      "INFO:gurobipy:LogToConsole  0\n",
      "INFO:gurobipy:\n",
      "INFO:gurobipy:Optimize a model with 96366 rows, 43805 columns and 179719 nonzeros\n",
      "INFO:gurobipy:Model fingerprint: 0x037862b2\n",
      "INFO:gurobipy:Coefficient statistics:\n",
      "INFO:gurobipy:  Matrix range     [1e-03, 1e+00]\n",
      "INFO:gurobipy:  Objective range  [2e+01, 8e+05]\n",
      "INFO:gurobipy:  Bounds range     [0e+00, 0e+00]\n",
      "INFO:gurobipy:  RHS range        [2e+04, 1e+06]\n",
      "INFO:gurobipy:Presolve removed 48051 rows and 4246 columns\n",
      "INFO:gurobipy:Presolve time: 0.27s\n",
      "INFO:gurobipy:Presolved: 48315 rows, 39559 columns, 127422 nonzeros\n",
      "INFO:gurobipy:\n",
      "INFO:gurobipy:Concurrent LP optimizer: dual simplex and barrier\n",
      "INFO:gurobipy:Showing barrier log only...\n",
      "INFO:gurobipy:\n",
      "INFO:gurobipy:Ordering time: 0.01s\n",
      "INFO:gurobipy:\n",
      "INFO:gurobipy:Barrier statistics:\n",
      "INFO:gurobipy: Dense cols : 5\n",
      "INFO:gurobipy: AA' NZ     : 9.663e+04\n",
      "INFO:gurobipy: Factor NZ  : 4.272e+05 (roughly 40 MB of memory)\n",
      "INFO:gurobipy: Factor Ops : 3.925e+06 (less than 1 second per iteration)\n",
      "INFO:gurobipy: Threads    : 1\n",
      "INFO:gurobipy:\n",
      "INFO:gurobipy:                  Objective                Residual\n",
      "INFO:gurobipy:Iter       Primal          Dual         Primal    Dual     Compl     Time\n",
      "INFO:gurobipy:   0   1.10087192e+12  0.00000000e+00  2.08e+09 0.00e+00  6.93e+08     0s\n",
      "INFO:gurobipy:   1   1.65855447e+12 -6.61108763e+11  3.61e+08 2.94e+02  1.33e+08     1s\n",
      "INFO:gurobipy:   2   1.02669783e+12 -5.72358084e+11  6.71e+06 3.49e-09  1.43e+07     1s\n",
      "INFO:gurobipy:   3   1.56140008e+11 -5.82591428e+10  6.76e+05 4.77e-09  1.83e+06     1s\n",
      "INFO:gurobipy:   4   1.10942847e+11 -9.49082002e+09  4.49e+05 4.71e-09  1.02e+06     1s\n",
      "INFO:gurobipy:   5   9.37650323e+10 -6.85803566e+09  3.57e+05 4.07e-09  8.55e+05     1s\n",
      "INFO:gurobipy:   6   7.15654124e+10  2.65605150e+09  2.34e+05 1.75e-09  5.85e+05     1s\n",
      "INFO:gurobipy:   7   6.04922636e+10  9.93152378e+09  1.74e+05 2.74e-09  4.29e+05     1s\n",
      "INFO:gurobipy:   8   5.85555225e+10  1.41000175e+10  1.63e+05 2.15e-09  3.77e+05     1s\n",
      "INFO:gurobipy:   9   5.62323433e+10  1.67053492e+10  1.49e+05 1.75e-09  3.35e+05     1s\n",
      "INFO:gurobipy:  10   5.06821836e+10  2.24509385e+10  1.06e+05 1.54e-09  2.39e+05     1s\n",
      "INFO:gurobipy:  11   4.61021112e+10  2.41214449e+10  7.39e+04 1.92e-09  1.86e+05     1s\n",
      "INFO:gurobipy:  12   4.41761161e+10  2.50444412e+10  5.89e+04 1.05e-09  1.62e+05     1s\n",
      "INFO:gurobipy:  13   4.32286124e+10  2.57814284e+10  5.08e+04 1.05e-09  1.48e+05     1s\n",
      "INFO:gurobipy:  14   4.23456987e+10  2.71299612e+10  4.25e+04 1.22e-09  1.29e+05     1s\n",
      "INFO:gurobipy:  15   4.17973152e+10  2.77656178e+10  3.76e+04 6.40e-10  1.19e+05     1s\n",
      "INFO:gurobipy:  16   4.10314813e+10  2.89943924e+10  3.10e+04 1.16e-10  1.02e+05     1s\n",
      "INFO:gurobipy:  17   4.06294286e+10  2.96903129e+10  2.71e+04 6.40e-10  9.25e+04     1s\n",
      "INFO:gurobipy:  18   4.01140250e+10  3.11188058e+10  2.26e+04 1.46e-09  7.61e+04     1s\n",
      "INFO:gurobipy:  19   3.96819440e+10  3.13581960e+10  1.92e+04 4.07e-10  7.04e+04     2s\n",
      "INFO:gurobipy:  20   3.94112938e+10  3.19755555e+10  1.65e+04 2.62e-10  6.29e+04     2s\n",
      "INFO:gurobipy:  21   3.91961389e+10  3.22568041e+10  1.49e+04 7.57e-10  5.87e+04     2s\n",
      "INFO:gurobipy:  22   3.89259946e+10  3.30877753e+10  1.26e+04 6.98e-10  4.94e+04     2s\n",
      "INFO:gurobipy:  23   3.87152839e+10  3.33614285e+10  1.07e+04 2.33e-10  4.53e+04     2s\n",
      "INFO:gurobipy:  24   3.85144977e+10  3.41897186e+10  9.05e+03 1.86e-09  3.66e+04     2s\n",
      "INFO:gurobipy:  25   3.83476889e+10  3.43182721e+10  7.87e+03 1.28e-09  3.41e+04     2s\n",
      "INFO:gurobipy:  26   3.81575075e+10  3.45255476e+10  6.40e+03 9.31e-10  3.07e+04     2s\n",
      "INFO:gurobipy:  27   3.80545555e+10  3.46198979e+10  5.48e+03 8.15e-10  2.90e+04     2s\n",
      "INFO:gurobipy:  28   3.79572798e+10  3.47726887e+10  4.61e+03 5.82e-10  2.69e+04     2s\n",
      "INFO:gurobipy:  29   3.78611596e+10  3.48921499e+10  3.97e+03 4.66e-10  2.51e+04     2s\n",
      "INFO:gurobipy:  30   3.77829330e+10  3.53066169e+10  3.42e+03 9.31e-10  2.09e+04     2s\n",
      "INFO:gurobipy:  31   3.77216580e+10  3.53748640e+10  3.10e+03 1.92e-09  1.98e+04     2s\n",
      "INFO:gurobipy:  32   3.76650942e+10  3.55033668e+10  2.69e+03 2.91e-10  1.82e+04     2s\n",
      "INFO:gurobipy:  33   3.75851022e+10  3.57062683e+10  2.23e+03 7.57e-10  1.59e+04     2s\n",
      "INFO:gurobipy:  34   3.75314075e+10  3.57706839e+10  1.98e+03 5.82e-10  1.49e+04     2s\n",
      "INFO:gurobipy:  35   3.74881838e+10  3.60996638e+10  1.78e+03 9.31e-10  1.17e+04     2s\n",
      "INFO:gurobipy:  36   3.74477547e+10  3.61489230e+10  1.61e+03 5.24e-10  1.10e+04     2s\n",
      "INFO:gurobipy:  37   3.74378345e+10  3.61790970e+10  1.56e+03 5.82e-10  1.06e+04     2s\n",
      "INFO:gurobipy:  38   3.74029496e+10  3.63458020e+10  1.41e+03 6.69e-10  8.93e+03     2s\n",
      "INFO:gurobipy:  39   3.73864765e+10  3.64042840e+10  1.33e+03 4.95e-10  8.29e+03     3s\n",
      "INFO:gurobipy:  40   3.73388487e+10  3.64444000e+10  1.12e+03 2.33e-09  7.55e+03     3s\n",
      "INFO:gurobipy:  41   3.73049796e+10  3.64862382e+10  9.86e+02 4.73e-10  6.91e+03     3s\n",
      "INFO:gurobipy:  42   3.72905146e+10  3.65099363e+10  9.33e+02 6.98e-10  6.59e+03     3s\n",
      "INFO:gurobipy:  43   3.72712558e+10  3.65318530e+10  8.49e+02 6.40e-10  6.24e+03     3s\n",
      "INFO:gurobipy:  44   3.72363704e+10  3.65639137e+10  6.88e+02 1.80e-09  5.67e+03     3s\n",
      "INFO:gurobipy:  45   3.72233382e+10  3.66201406e+10  6.28e+02 3.49e-10  5.09e+03     3s\n",
      "INFO:gurobipy:  46   3.72111724e+10  3.66342555e+10  5.85e+02 2.62e-10  4.87e+03     3s\n",
      "INFO:gurobipy:  47   3.72028324e+10  3.66724107e+10  5.41e+02 1.40e-09  4.48e+03     3s\n",
      "INFO:gurobipy:  48   3.71833832e+10  3.67304735e+10  4.71e+02 1.29e-09  3.82e+03     3s\n",
      "INFO:gurobipy:  49   3.71778356e+10  3.67513915e+10  4.52e+02 1.88e-09  3.60e+03     3s\n",
      "INFO:gurobipy:  50   3.71742058e+10  3.67606450e+10  4.39e+02 2.71e-09  3.49e+03     3s\n",
      "INFO:gurobipy:  51   3.71658928e+10  3.67738121e+10  4.09e+02 2.79e-09  3.31e+03     3s\n",
      "INFO:gurobipy:  52   3.71592855e+10  3.67921117e+10  3.85e+02 2.96e-09  3.10e+03     3s\n",
      "INFO:gurobipy:  53   3.71487552e+10  3.68110550e+10  3.47e+02 3.37e-09  2.85e+03     3s\n",
      "INFO:gurobipy:  54   3.71326513e+10  3.68214174e+10  2.86e+02 3.38e-09  2.63e+03     3s\n",
      "INFO:gurobipy:  55   3.71208506e+10  3.68579974e+10  2.44e+02 3.73e-09  2.22e+03     3s\n",
      "INFO:gurobipy:  56   3.71122892e+10  3.68751019e+10  2.14e+02 3.84e-09  2.00e+03     3s\n",
      "INFO:gurobipy:  57   3.71091640e+10  3.68902488e+10  2.03e+02 3.97e-09  1.85e+03     3s\n",
      "INFO:gurobipy:  58   3.70981255e+10  3.69116707e+10  1.66e+02 4.37e-09  1.57e+03     4s\n",
      "INFO:gurobipy:  59   3.70918892e+10  3.69357187e+10  1.46e+02 3.70e-09  1.32e+03     4s\n",
      "INFO:gurobipy:  60   3.70855132e+10  3.69526595e+10  1.27e+02 3.42e-09  1.12e+03     4s\n",
      "INFO:gurobipy:  61   3.70845756e+10  3.69621188e+10  1.24e+02 3.11e-09  1.03e+03     4s\n",
      "INFO:gurobipy:  62   3.70834302e+10  3.69646827e+10  1.20e+02 3.24e-09  1.00e+03     4s\n",
      "INFO:gurobipy:  63   3.70824784e+10  3.69667803e+10  1.17e+02 3.06e-09  9.76e+02     4s\n",
      "INFO:gurobipy:  64   3.70791530e+10  3.69711695e+10  1.07e+02 3.02e-09  9.11e+02     4s\n",
      "INFO:gurobipy:  65   3.70728517e+10  3.69807477e+10  8.64e+01 2.55e-09  7.77e+02     4s\n",
      "INFO:gurobipy:  66   3.70674757e+10  3.69974700e+10  6.97e+01 1.13e-09  5.91e+02     4s\n",
      "INFO:gurobipy:  67   3.70627250e+10  3.70039874e+10  5.55e+01 9.60e-10  4.96e+02     4s\n",
      "INFO:gurobipy:  68   3.70591392e+10  3.70067971e+10  4.49e+01 9.90e-10  4.42e+02     4s\n",
      "INFO:gurobipy:  69   3.70573715e+10  3.70102349e+10  3.99e+01 1.22e-09  3.98e+02     4s\n",
      "INFO:gurobipy:  70   3.70563037e+10  3.70122653e+10  3.67e+01 1.18e-09  3.72e+02     4s\n",
      "INFO:gurobipy:  71   3.70544737e+10  3.70196084e+10  3.14e+01 9.90e-10  2.94e+02     4s\n",
      "INFO:gurobipy:  72   3.70524648e+10  3.70216075e+10  2.54e+01 3.86e-10  2.60e+02     5s\n",
      "INFO:gurobipy:  73   3.70515994e+10  3.70224192e+10  2.30e+01 2.04e-10  2.46e+02     5s\n",
      "INFO:gurobipy:  74   3.70508975e+10  3.70255502e+10  2.10e+01 2.04e-10  2.14e+02     5s\n",
      "INFO:gurobipy:  75   3.70466443e+10  3.70287157e+10  9.10e+00 1.11e-09  1.51e+02     5s\n",
      "INFO:gurobipy:  76   3.70456568e+10  3.70313797e+10  6.23e+00 2.33e-09  1.20e+02     5s\n",
      "INFO:gurobipy:  77   3.70454840e+10  3.70339007e+10  5.77e+00 2.04e-09  9.77e+01     5s\n",
      "INFO:gurobipy:  78   3.70452110e+10  3.70351405e+10  5.05e+00 4.48e-09  8.49e+01     5s\n",
      "INFO:gurobipy:  79   3.70438392e+10  3.70399689e+10  1.29e+00 9.97e-10  3.26e+01     5s\n",
      "INFO:gurobipy:  80   3.70436304e+10  3.70407737e+10  7.60e-01 8.44e-10  2.41e+01     5s\n",
      "INFO:gurobipy:  81   3.70435236e+10  3.70428612e+10  5.06e-01 1.73e-08  5.59e+00     5s\n",
      "INFO:gurobipy:  82   3.70433590e+10  3.70429818e+10  1.63e-01 1.10e-08  3.18e+00     5s\n",
      "INFO:gurobipy:  83   3.70433103e+10  3.70432304e+10  6.93e-02 1.11e-09  6.74e-01     5s\n",
      "INFO:gurobipy:  84   3.70433025e+10  3.70432388e+10  5.41e-02 9.46e-10  5.38e-01     6s\n",
      "INFO:gurobipy:  85   3.70432791e+10  3.70432470e+10  8.77e-03 1.31e-09  2.70e-01     6s\n",
      "INFO:gurobipy:  86   3.70432742e+10  3.70432566e+10  7.02e-04 1.45e-08  1.49e-01     6s\n",
      "INFO:gurobipy:  87   3.70432738e+10  3.70432729e+10  1.50e-05 8.99e-09  6.82e-03     6s\n",
      "INFO:gurobipy:  88   3.70432737e+10  3.70432737e+10  9.65e-08 3.09e-09  2.75e-07     6s\n",
      "INFO:gurobipy:  89   3.70432737e+10  3.70432737e+10  3.23e-07 4.31e-09  3.09e-13     6s\n",
      "INFO:gurobipy:\n",
      "INFO:gurobipy:Barrier solved model in 89 iterations and 5.86 seconds (1.71 work units)\n",
      "INFO:gurobipy:Optimal objective 3.70432737e+10\n",
      "INFO:gurobipy:\n",
      "INFO:gurobipy:Crossover log...\n",
      "INFO:gurobipy:\n",
      "INFO:gurobipy:    8767 DPushes remaining with DInf 0.0000000e+00                 6s\n",
      "INFO:gurobipy:       0 DPushes remaining with DInf 0.0000000e+00                 6s\n",
      "INFO:gurobipy:Warning: Markowitz tolerance tightened to 0.5\n",
      "INFO:gurobipy:\n",
      "INFO:gurobipy:     170 PPushes remaining with PInf 0.0000000e+00                 6s\n",
      "INFO:gurobipy:       0 PPushes remaining with PInf 0.0000000e+00                 6s\n",
      "INFO:gurobipy:\n",
      "INFO:gurobipy:  Push phase complete: Pinf 0.0000000e+00, Dinf 2.7347919e-09      6s\n",
      "INFO:gurobipy:\n",
      "INFO:gurobipy:\n",
      "INFO:gurobipy:Solved with barrier\n",
      "INFO:gurobipy:Iteration    Objective       Primal Inf.    Dual Inf.      Time\n",
      "INFO:gurobipy:    8452    3.7043274e+10   0.000000e+00   0.000000e+00      6s\n",
      "INFO:gurobipy:\n",
      "INFO:gurobipy:Solved in 8452 iterations and 6.27 seconds (1.81 work units)\n",
      "INFO:gurobipy:Optimal objective  3.704327374e+10\n",
      "INFO:linopy.constants: Optimization successful: \n",
      "Status: ok\n",
      "Termination condition: optimal\n",
      "Solution: 43805 primals, 96366 duals\n",
      "Objective: 3.70e+10\n",
      "Solver model: available\n",
      "Solver message: 2\n",
      "\n",
      "INFO:pypsa.optimization.optimize:The shadow-prices of the constraints Generator-ext-p-lower, Generator-ext-p-upper were not assigned to the network.\n"
     ]
    }
   ],
   "source": [
    "# Sensitivity Analysis: CO₂ Prices for Multiple Targets\n",
    "co2_limits_list = [60e6, 45e6, 30e6, 15e6, 5e6, 1e6]  # in tCO₂/year\n",
    "co2_prices = []\n",
    "total_costs = []\n",
    "\n",
    "for limit in co2_limits_list:\n",
    "    net = build_network_with_co2_limit(limit)\n",
    "    co2_prices.append(-net.global_constraints.mu['co2_limit'])\n",
    "    capex = net.statistics.capex().sum() / 1e9  # bn€/year\n",
    "    opex = net.statistics.opex().sum() / 1e9\n",
    "    total_costs.append(capex + opex)"
   ]
  },
  {
   "cell_type": "code",
   "execution_count": 72,
   "metadata": {},
   "outputs": [
    {
     "data": {
      "image/png": "[encoded data removed]",
      "text/plain": [
       "<Figure size 600x400 with 1 Axes>"
      ]
     },
     "metadata": {},
     "output_type": "display_data"
    }
   ],
   "source": [
    "# Plot CO₂ price vs. emissions constraint\n",
    "plt.figure(figsize=(6, 4))\n",
    "plt.plot(np.array(co2_limits_list) / 1e6, co2_prices, marker='o', color='red')\n",
    "plt.xlabel(\"CO₂ Emissions Limit (MtCO₂/year)\")\n",
    "plt.ylabel(\"CO₂ Price (€/tCO₂)\")\n",
    "plt.title(\"CO₂ Price vs. Emissions Constraint\")\n",
    "plt.grid(True)\n",
    "plt.gca().invert_xaxis()\n",
    "plt.tight_layout()\n",
    "plt.show()"
   ]
  },
  {
   "cell_type": "code",
   "execution_count": 73,
   "metadata": {},
   "outputs": [
    {
     "data": {
      "image/png": "[encoded data removed]",
      "text/plain": [
       "<Figure size 600x400 with 1 Axes>"
      ]
     },
     "metadata": {},
     "output_type": "display_data"
    }
   ],
   "source": [
    "# Plot total cost vs. CO₂ constraint\n",
    "plt.figure(figsize=(6, 4))\n",
    "plt.plot(np.array(co2_limits_list) / 1e6, total_costs, marker='s', color='blue')\n",
    "plt.xlabel(\"CO₂ Emissions Limit (MtCO₂/year)\")\n",
    "plt.ylabel(\"Total System Cost (bn€/year)\")\n",
    "plt.title(\"System Cost vs. CO₂ Constraint\")\n",
    "plt.grid(True)\n",
    "plt.gca().invert_xaxis()\n",
    "plt.tight_layout()\n",
    "plt.show()"
   ]
  }
 ],
 "metadata": {
  "kernelspec": {
   "display_name": "mi_entorno",
   "language": "python",
   "name": "python3"
  },
  "language_info": {
   "codemirror_mode": {
    "name": "ipython",
    "version": 3
   },
   "file_extension": ".py",
   "mimetype": "text/x-python",
   "name": "python",
   "nbconvert_exporter": "python",
   "pygments_lexer": "ipython3",
   "version": "3.11.11"
  }
 },
 "nbformat": 4,
 "nbformat_minor": 2
}
