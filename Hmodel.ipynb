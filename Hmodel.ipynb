{
 "cells": [
  {
   "cell_type": "markdown",
   "id": "22f6f5a8",
   "metadata": {},
   "source": [
    "### Part F"
   ]
  },
  {
   "cell_type": "code",
   "execution_count": 83,
   "id": "5d092b53",
   "metadata": {},
   "outputs": [],
   "source": [
    "import matplotlib.pyplot as plt\n",
    "import pandas as pd\n",
    "import pypsa\n",
    "import numpy as np\n",
    "import pypsa\n",
    "import warnings\n",
    "# Suppress all warnings\n",
    "warnings.filterwarnings(\"ignore\")\n",
    "import gurobipy as gp\n",
    "from gurobipy import GRB\n",
    "import cartopy.crs as ccrs\n",
    "from shapely.errors import ShapelyDeprecationWarning\n",
    "warnings.filterwarnings(\"ignore\", category=ShapelyDeprecationWarning)"
   ]
  },
  {
   "cell_type": "code",
   "execution_count": 84,
   "id": "4485baa1",
   "metadata": {},
   "outputs": [],
   "source": [
    "\"load electricity demand data\";\n",
    "df_elec = pd.read_csv('data/electricity_demand.csv', sep=';', index_col=0) # in MWh\n",
    "df_elec.index = pd.to_datetime(df_elec.index) #change index to datatime\n",
    "\n",
    "\"Load the heat demand data\";\n",
    "df_heat = pd.read_csv('data/heat_demand.csv', sep=';', index_col=0) # in MWh\n",
    "df_heat.index = pd.to_datetime(df_heat.index) #change index to datatime"
   ]
  },
  {
   "cell_type": "code",
   "execution_count": 85,
   "id": "eb3e9e68",
   "metadata": {},
   "outputs": [],
   "source": [
    "\"Onshore Wind\";\n",
    "df_onshorewind = pd.read_csv('data/onshore_wind_1979-2017.csv', sep=';', index_col=0)\n",
    "df_onshorewind.index = pd.to_datetime(df_onshorewind.index)\n",
    "\"Offshore Wind\";\n",
    "df_offshore = pd.read_csv('data/offshore_wind_1979-2017.csv', sep=';', index_col=0)\n",
    "df_offshore.index = pd.to_datetime(df_offshore.index)\n",
    "\"Solar Data\";\n",
    "df_solar = pd.read_csv('data/pv_optimal.csv', sep=';', index_col=0)\n",
    "df_solar.index = pd.to_datetime(df_solar.index)"
   ]
  },
  {
   "cell_type": "code",
   "execution_count": 86,
   "id": "c2a83416",
   "metadata": {},
   "outputs": [],
   "source": [
    "def annuity(n,r):\n",
    "    \"\"\" Calculate the annuity factor for an asset with lifetime n years and\n",
    "    discount rate  r \"\"\"\n",
    "\n",
    "    if r > 0:\n",
    "        return r/(1. - 1./(1.+r)**n)\n",
    "    else:\n",
    "        return 1/n"
   ]
  },
  {
   "cell_type": "code",
   "execution_count": 87,
   "id": "7ef8be91",
   "metadata": {},
   "outputs": [],
   "source": [
    "\"Time Period in which our model is running\";\n",
    "\n",
    "hours_in_2015 = pd.date_range('2015-01-01 00:00Z',\n",
    "                              '2015-12-31 23:00Z',\n",
    "                              freq='h')"
   ]
  },
  {
   "cell_type": "code",
   "execution_count": 88,
   "id": "c6820889",
   "metadata": {},
   "outputs": [],
   "source": [
    "n = pypsa.Network()\n",
    "n.set_snapshots(hours_in_2015.tz_convert(None))\n",
    "\n",
    "n.add(\"Carrier\", \"gas\", co2_emissions=0.19) # in t_CO2/MWh_th\n",
    "n.add(\"Carrier\", \"onshorewind\")\n",
    "n.add(\"Carrier\", \"offshorewind\")\n",
    "n.add(\"Carrier\", \"nuclear\")\n",
    "n.add(\"Carrier\",\"solar\")\n",
    "n.add(\"Carrier\",\"heat\")\n",
    "\n",
    "\n",
    " # CAPEX values for different technologies (in €/MW)\n",
    "offshoreWind_capex = 2.8e6\n",
    "onshoreWind_capex = 1.4e6\n",
    "solar_capex = 628e3\n",
    "ccgt_capex = 1.04e6\n",
    "nuclear_capex = 11.08e6\n",
    "electrolyzer_capex = 350e3\n",
    "h2_tank_capex = 8.4e3\n",
    "fuel_cell_capex = 339e3"
   ]
  },
  {
   "cell_type": "code",
   "execution_count": 89,
   "id": "9bb67be0",
   "metadata": {},
   "outputs": [
    {
     "data": {
      "text/plain": [
       "Index(['GBR', 'DNK'], dtype='object')"
      ]
     },
     "execution_count": 89,
     "metadata": {},
     "output_type": "execute_result"
    }
   ],
   "source": [
    "nodes = pd.Series( ['GBR', 'DNK']).values\n",
    "neighbors =pd.Series(['DNK']).values\n",
    "c = list(set(nodes) - set(neighbors))[0]\n",
    "\n",
    "# longitude\n",
    "xs = {'GBR':-2.1698,\n",
    "    'NLD':6.04248,\n",
    "     \"DNK\":9.732249,\n",
    "     }\n",
    "\n",
    "# latitude\n",
    "ys = {'GBR':53.243852,\n",
    "      'NLD':52.709675,\n",
    "     'DNK':55.990430,\n",
    "     }\n",
    "\n",
    "# this is in MW\n",
    "Nuclear_Cap = {'GBR':65000,\n",
    "      'NLD':500,\n",
    "     'DNK':0,\n",
    "     }\n",
    "\n",
    "n.madd(\"Bus\",\n",
    "       names=nodes,\n",
    "       x=[xs[n] for n in nodes],\n",
    "       y=[ys[n] for n in nodes],\n",
    "       location=nodes,\n",
    "       carrier=\"electricity\")"
   ]
  },
  {
   "cell_type": "code",
   "execution_count": 90,
   "id": "9c300240",
   "metadata": {},
   "outputs": [
    {
     "data": {
      "text/plain": [
       "Index(['electric load GBR', 'electric load DNK'], dtype='object')"
      ]
     },
     "execution_count": 90,
     "metadata": {},
     "output_type": "execute_result"
    }
   ],
   "source": [
    "\"Electrical Loads\";\n",
    "n.madd(\n",
    "    \"Load\",\n",
    "    names=[\"electric load \" + n for n in nodes],  # Unique names for electrical loads\n",
    "    bus=nodes,  # Assign to the corresponding electricity buses\n",
    "    p_set=df_elec[nodes].values  # Electricity demand values\n",
    ")"
   ]
  },
  {
   "cell_type": "code",
   "execution_count": 91,
   "id": "1718836e",
   "metadata": {},
   "outputs": [],
   "source": [
    "CF_wind_on = pd.DataFrame()\n",
    "CF_wind_off = pd.DataFrame()\n",
    "CF_solar = pd.DataFrame()\n",
    "for i in range(len(nodes)):\n",
    "    CF_wind_on[nodes[i]] = df_onshorewind[nodes[i]][[hour.strftime(\"%Y-%m-%dT%H:%M:%SZ\") for hour in n.snapshots]]\n",
    "    CF_wind_off[nodes[i]] = df_offshore[nodes[i]][[hour.strftime(\"%Y-%m-%dT%H:%M:%SZ\") for hour in n.snapshots]]\n",
    "    CF_solar[nodes[i]] = df_solar[nodes[i]][[hour.strftime(\"%Y-%m-%dT%H:%M:%SZ\") for hour in n.snapshots]]"
   ]
  },
  {
   "cell_type": "code",
   "execution_count": 92,
   "id": "b14c5181",
   "metadata": {},
   "outputs": [
    {
     "data": {
      "text/plain": [
       "Index(['GBR nuclear', 'DNK nuclear'], dtype='object')"
      ]
     },
     "execution_count": 92,
     "metadata": {},
     "output_type": "execute_result"
    }
   ],
   "source": [
    "capital_cost_onshorewind = annuity(25,0.07)*onshoreWind_capex*(1+0.03) # in €/MW\n",
    "n.madd(\"Generator\",\n",
    "        nodes + \" onshorewind\",\n",
    "        bus=nodes,\n",
    "        p_nom_extendable=True,\n",
    "        carrier=\"onshorewind\",\n",
    "        #p_nom_max=1000, # maximum capacity can be limited due to environmental constraints\n",
    "        capital_cost = capital_cost_onshorewind,\n",
    "        marginal_cost = 0,\n",
    "        p_max_pu = CF_wind_on[nodes].values)\n",
    "\n",
    "capital_cost_offshorewind = annuity(25,0.07)*offshoreWind_capex*(1+0.03) # in €/MW\n",
    "n.madd(\"Generator\",\n",
    "            nodes + \" offshorewind\",\n",
    "            bus=nodes,\n",
    "            p_nom_extendable=True,\n",
    "            carrier=\"offshorewind\",\n",
    "            #p_nom_max=1000, # maximum capacity can be limited due to environmental constraints\n",
    "            capital_cost = capital_cost_offshorewind,\n",
    "            marginal_cost = 0,\n",
    "            p_max_pu = CF_wind_off[nodes].values)\n",
    "\n",
    "\"CCGT (Combine Cycle Gas Turbine) generator\";\n",
    "capital_cost_CCGT = annuity(30,0.07)*(ccgt_capex + 14.32 * 1000) # in €/MW\n",
    "fuel_cost = 30.32 # in €/MWh_th\n",
    "efficiency = 0.5 # MWh_elec/MWh_th\n",
    "marginal_cost_CCGT = fuel_cost/efficiency # in €/MWh_el\n",
    "n.madd(\"Generator\",\n",
    "            nodes + \" CCGT\",\n",
    "            bus=nodes,\n",
    "            p_nom_extendable=True,\n",
    "            carrier=\"gas\",\n",
    "            #p_nom_max=1000,\n",
    "            capital_cost = capital_cost_CCGT,\n",
    "            marginal_cost = marginal_cost_CCGT)\n",
    "\"Solar\";\n",
    "capital_cost_solar = annuity(25,0.07)*solar_capex*(1+0.03) # in €/MW\n",
    "n.madd(\"Generator\",\n",
    "                  nodes + \" solar\",\n",
    "                  bus= nodes,\n",
    "                  p_nom_extendable=True,\n",
    "                  carrier=\"solar\",\n",
    "                  #p_nom_max=1000, # maximum capacity can be limited due to environmental constraints\n",
    "                  capital_cost = capital_cost_solar,\n",
    "                  marginal_cost = 0,\n",
    "                  p_max_pu = CF_solar.values)\n",
    "\n",
    "\"Nuclear\";\n",
    "capital_cost_nuclear = annuity(40,0.07)*(nuclear_capex + 14.45 * 1000) # in €/MW\n",
    "fuel_cost = 6.2 # in €/MWh_th\n",
    "efficiency = 0.33 # MWh_elec/MWh_th\n",
    "marginal_cost_nuclear = fuel_cost/efficiency # in €/MWh_el\n",
    "\n",
    "n.madd(\"Generator\",\n",
    "                  nodes + \" nuclear\",\n",
    "                  bus = nodes,\n",
    "                  p_nom_extendable=True,\n",
    "                  carrier=\"nuclear\",\n",
    "                  p_nom_max = [Nuclear_Cap[n] for n in nodes],\n",
    "                  capital_cost = capital_cost_nuclear,\n",
    "                  marginal_cost = marginal_cost_nuclear)"
   ]
  },
  {
   "cell_type": "markdown",
   "id": "f990c025",
   "metadata": {},
   "source": [
    "Total viking link capex: 855 million euros. Total capacity: 1400 MW"
   ]
  },
  {
   "cell_type": "code",
   "execution_count": 93,
   "id": "b4759b8f",
   "metadata": {},
   "outputs": [
    {
     "data": {
      "text/plain": [
       "Index(['Viking Link'], dtype='object')"
      ]
     },
     "execution_count": 93,
     "metadata": {},
     "output_type": "execute_result"
    }
   ],
   "source": [
    "\n",
    "# Add Viking link\n",
    "viking_link_length = 765 # in km\n",
    "capex_viking_link = 1.1186928104575162 # in €/MW \n",
    "n.add(\"Link\",\n",
    "      \"Viking Link\",\n",
    "      bus0=\"GBR\",\n",
    "      bus1=\"DNK\",\n",
    "      p_nom = 3000,#1400, # in MW\n",
    "      p_min_pu=-1, # negative flow possible (import from DNK to GBR)\n",
    "      p_max_pu=1, # positive flow possible (export from GBR to DNK)\n",
    "      r = 1,\n",
    "      x = 1,\n",
    "      length = viking_link_length, # in km\n",
    "      capital_cost = capex_viking_link,  # in €/MW\n",
    "      overwrite=True\n",
    ") "
   ]
  },
  {
   "cell_type": "code",
   "execution_count": 94,
   "id": "bf815690",
   "metadata": {},
   "outputs": [
    {
     "data": {
      "text/html": [
       "<div>\n",
       "<style scoped>\n",
       "    .dataframe tbody tr th:only-of-type {\n",
       "        vertical-align: middle;\n",
       "    }\n",
       "\n",
       "    .dataframe tbody tr th {\n",
       "        vertical-align: top;\n",
       "    }\n",
       "\n",
       "    .dataframe thead th {\n",
       "        text-align: right;\n",
       "    }\n",
       "</style>\n",
       "<table border=\"1\" class=\"dataframe\">\n",
       "  <thead>\n",
       "    <tr style=\"text-align: right;\">\n",
       "      <th>attribute</th>\n",
       "      <th>bus0</th>\n",
       "      <th>bus1</th>\n",
       "      <th>type</th>\n",
       "      <th>x</th>\n",
       "      <th>r</th>\n",
       "      <th>g</th>\n",
       "      <th>b</th>\n",
       "      <th>s_nom</th>\n",
       "      <th>s_nom_mod</th>\n",
       "      <th>s_nom_extendable</th>\n",
       "      <th>...</th>\n",
       "      <th>v_ang_min</th>\n",
       "      <th>v_ang_max</th>\n",
       "      <th>sub_network</th>\n",
       "      <th>x_pu</th>\n",
       "      <th>r_pu</th>\n",
       "      <th>g_pu</th>\n",
       "      <th>b_pu</th>\n",
       "      <th>x_pu_eff</th>\n",
       "      <th>r_pu_eff</th>\n",
       "      <th>s_nom_opt</th>\n",
       "    </tr>\n",
       "    <tr>\n",
       "      <th>Line</th>\n",
       "      <th></th>\n",
       "      <th></th>\n",
       "      <th></th>\n",
       "      <th></th>\n",
       "      <th></th>\n",
       "      <th></th>\n",
       "      <th></th>\n",
       "      <th></th>\n",
       "      <th></th>\n",
       "      <th></th>\n",
       "      <th></th>\n",
       "      <th></th>\n",
       "      <th></th>\n",
       "      <th></th>\n",
       "      <th></th>\n",
       "      <th></th>\n",
       "      <th></th>\n",
       "      <th></th>\n",
       "      <th></th>\n",
       "      <th></th>\n",
       "      <th></th>\n",
       "    </tr>\n",
       "  </thead>\n",
       "  <tbody>\n",
       "  </tbody>\n",
       "</table>\n",
       "<p>0 rows × 31 columns</p>\n",
       "</div>"
      ],
      "text/plain": [
       "Empty DataFrame\n",
       "Columns: [bus0, bus1, type, x, r, g, b, s_nom, s_nom_mod, s_nom_extendable, s_nom_min, s_nom_max, s_max_pu, capital_cost, active, build_year, lifetime, length, carrier, terrain_factor, num_parallel, v_ang_min, v_ang_max, sub_network, x_pu, r_pu, g_pu, b_pu, x_pu_eff, r_pu_eff, s_nom_opt]\n",
       "Index: []\n",
       "\n",
       "[0 rows x 31 columns]"
      ]
     },
     "execution_count": 94,
     "metadata": {},
     "output_type": "execute_result"
    }
   ],
   "source": [
    "n.lines"
   ]
  },
  {
   "cell_type": "code",
   "execution_count": 95,
   "id": "6414992b",
   "metadata": {},
   "outputs": [
    {
     "name": "stderr",
     "output_type": "stream",
     "text": [
      "WARNING:pypsa.consistency:The following links have carriers which are not defined:\n",
      "Index(['Viking Link'], dtype='object', name='Link')\n",
      "WARNING:pypsa.consistency:The following buses have carriers which are not defined:\n",
      "Index(['GBR', 'DNK'], dtype='object', name='Bus')\n",
      "INFO:linopy.model: Solve problem using Gurobi solver\n",
      "INFO:linopy.model:Solver options:\n",
      " - Output_flag: 0\n",
      "INFO:linopy.io:Writing objective.\n",
      "Writing constraints.: 100%|\u001b[38;2;128;191;255m██████████\u001b[0m| 7/7 [00:00<00:00,  9.59it/s]\n",
      "Writing continuous variables.: 100%|\u001b[38;2;128;191;255m██████████\u001b[0m| 3/3 [00:00<00:00, 23.05it/s]\n",
      "INFO:linopy.io: Writing time: 0.91s\n"
     ]
    },
    {
     "name": "stdout",
     "output_type": "stream",
     "text": [
      "Set parameter Username\n"
     ]
    },
    {
     "name": "stderr",
     "output_type": "stream",
     "text": [
      "INFO:gurobipy:Set parameter Username\n"
     ]
    },
    {
     "name": "stdout",
     "output_type": "stream",
     "text": [
      "Set parameter LicenseID to value 2587918\n"
     ]
    },
    {
     "name": "stderr",
     "output_type": "stream",
     "text": [
      "INFO:gurobipy:Set parameter LicenseID to value 2587918\n"
     ]
    },
    {
     "name": "stdout",
     "output_type": "stream",
     "text": [
      "Academic license - for non-commercial use only - expires 2025-11-20\n"
     ]
    },
    {
     "name": "stderr",
     "output_type": "stream",
     "text": [
      "INFO:gurobipy:Academic license - for non-commercial use only - expires 2025-11-20\n"
     ]
    },
    {
     "name": "stdout",
     "output_type": "stream",
     "text": [
      "Read LP format model from file C:\\Users\\carlo\\AppData\\Local\\Temp\\linopy-problem-0w0o83ac.lp\n"
     ]
    },
    {
     "name": "stderr",
     "output_type": "stream",
     "text": [
      "INFO:gurobipy:Read LP format model from file C:\\Users\\carlo\\AppData\\Local\\Temp\\linopy-problem-0w0o83ac.lp\n"
     ]
    },
    {
     "name": "stdout",
     "output_type": "stream",
     "text": [
      "Reading time = 0.27 seconds\n"
     ]
    },
    {
     "name": "stderr",
     "output_type": "stream",
     "text": [
      "INFO:gurobipy:Reading time = 0.27 seconds\n"
     ]
    },
    {
     "name": "stdout",
     "output_type": "stream",
     "text": [
      "obj: 210252 rows, 96370 columns, 376833 nonzeros\n"
     ]
    },
    {
     "name": "stderr",
     "output_type": "stream",
     "text": [
      "INFO:gurobipy:obj: 210252 rows, 96370 columns, 376833 nonzeros\n",
      "INFO:linopy.constants: Optimization successful: \n",
      "Status: ok\n",
      "Termination condition: optimal\n",
      "Solution: 96370 primals, 210252 duals\n",
      "Objective: 2.29e+10\n",
      "Solver model: available\n",
      "Solver message: 2\n",
      "\n",
      "INFO:pypsa.optimization.optimize:The shadow-prices of the constraints Generator-ext-p-lower, Generator-ext-p-upper, Link-fix-p-lower, Link-fix-p-upper were not assigned to the network.\n"
     ]
    },
    {
     "data": {
      "text/plain": [
       "('ok', 'optimal')"
      ]
     },
     "execution_count": 95,
     "metadata": {},
     "output_type": "execute_result"
    }
   ],
   "source": [
    "n.optimize(n.snapshots,\n",
    "             solver_name='gurobi',\n",
    "             Output_flag = 0)"
   ]
  },
  {
   "cell_type": "code",
   "execution_count": 97,
   "id": "3ab8c893",
   "metadata": {},
   "outputs": [
    {
     "data": {
      "text/plain": [
       "<Axes: title={'center': 'Flow from NLD to DNK'}, xlabel='snapshot', ylabel='flow'>"
      ]
     },
     "execution_count": 97,
     "metadata": {},
     "output_type": "execute_result"
    },
    {
     "data": {
      "image/png": "[encoded data removed]",
      "text/plain": [
       "<Figure size 600x200 with 1 Axes>"
      ]
     },
     "metadata": {},
     "output_type": "display_data"
    }
   ],
   "source": [
    "n.links_t.p0.loc[\"2015-01\", \"Viking Link\"].plot(figsize=(6, 2), ylabel=\"flow\", title=\"Flow from NLD to DNK\")"
   ]
  },
  {
   "cell_type": "code",
   "execution_count": null,
   "id": "53e3b378",
   "metadata": {},
   "outputs": [
    {
     "data": {
      "text/plain": [
       "Generator\n",
       "GBR onshorewind     49966.804979\n",
       "DNK onshorewind      5600.460606\n",
       "GBR offshorewind        0.000000\n",
       "DNK offshorewind        0.000000\n",
       "GBR CCGT            49928.659751\n",
       "DNK CCGT             5425.123552\n",
       "GBR solar               0.000000\n",
       "DNK solar               0.000000\n",
       "GBR nuclear             0.000000\n",
       "DNK nuclear             0.000000\n",
       "Name: p_nom_opt, dtype: float64"
      ]
     },
     "execution_count": 73,
     "metadata": {},
     "output_type": "execute_result"
    }
   ],
   "source": [
    "n.generators.p_nom_opt"
   ]
  },
  {
   "cell_type": "code",
   "execution_count": null,
   "id": "7f96581f",
   "metadata": {},
   "outputs": [
    {
     "data": {
      "text/plain": [
       "Line\n",
       "Viking Link    0.0\n",
       "dtype: float64"
      ]
     },
     "execution_count": 77,
     "metadata": {},
     "output_type": "execute_result"
    }
   ],
   "source": [
    "n.lines_t.p0.sum()"
   ]
  },
  {
   "cell_type": "code",
   "execution_count": null,
   "id": "4ce6ef5c",
   "metadata": {},
   "outputs": [
    {
     "data": {
      "image/png": "[encoded data removed]",
      "text/plain": [
       "<Figure size 1000x1000 with 1 Axes>"
      ]
     },
     "metadata": {},
     "output_type": "display_data"
    }
   ],
   "source": [
    "fig, ax = plt.subplots(\n",
    "    1, 1, subplot_kw={\"projection\": ccrs.EqualEarth()}, figsize=(10, 10)\n",
    ")\n",
    "\n",
    "load_distribution = (\n",
    "    n.loads_t.p_set.loc[n.snapshots[0]].groupby(n.loads.bus).sum()\n",
    ")\n",
    "n.plot(bus_sizes=0.5e-5 * load_distribution,margin= 1 ,ax=ax, title=\"Load distribution\");"
   ]
  },
  {
   "cell_type": "code",
   "execution_count": null,
   "id": "0b3c3d8a",
   "metadata": {},
   "outputs": [
    {
     "data": {
      "text/plain": [
       "bus\n",
       "DNK     3210.98\n",
       "GBR    29059.00\n",
       "Name: 2015-01-01 00:00:00, dtype: float64"
      ]
     },
     "execution_count": 50,
     "metadata": {},
     "output_type": "execute_result"
    }
   ],
   "source": [
    "load_distribution"
   ]
  },
  {
   "cell_type": "code",
   "execution_count": null,
   "id": "e252e6d5",
   "metadata": {},
   "outputs": [
    {
     "data": {
      "text/plain": [
       "np.float64(18996057.954290908)"
      ]
     },
     "execution_count": 51,
     "metadata": {},
     "output_type": "execute_result"
    }
   ],
   "source": [
    "n.generators_t.p[\"DNK offshorewind\"].sum()\n",
    "n.generators_t.p[\"DNK onshorewind\"].sum()\n",
    "n.generators_t.p[\"DNK solar\"].sum()\n",
    "n.generators_t.p[\"DNK nuclear\"].sum()\n",
    "n.generators_t.p[\"DNK CCGT\"].sum()"
   ]
  },
  {
   "cell_type": "code",
   "execution_count": null,
   "id": "724c892a",
   "metadata": {},
   "outputs": [
    {
     "data": {
      "image/png": "[encoded data removed]",
      "text/plain": [
       "<Figure size 800x800 with 1 Axes>"
      ]
     },
     "metadata": {},
     "output_type": "display_data"
    },
    {
     "data": {
      "image/png": "[encoded data removed]",
      "text/plain": [
       "<Figure size 800x800 with 1 Axes>"
      ]
     },
     "metadata": {},
     "output_type": "display_data"
    }
   ],
   "source": [
    "import matplotlib.pyplot as plt\n",
    "\n",
    "# List of countries\n",
    "countries = ['GBR', 'DNK']\n",
    "\n",
    "# List of energy sources\n",
    "energy_sources = ['offshorewind', 'onshorewind', 'solar', 'nuclear', 'CCGT']\n",
    "\n",
    "# Colors for the pie chart\n",
    "colors = ['lightblue', 'turquoise', 'orange', 'lightgreen', 'red']\n",
    "\n",
    "# Loop through each country\n",
    "for country in countries:\n",
    "    # Calculate the generation sums for each energy source\n",
    "    sizes = [n.generators_t.p[f\"{country} {source}\"].sum() for source in energy_sources]\n",
    "    \n",
    "    # Filter out sources with approximately zero contribution\n",
    "    filtered_sizes = [size for size in sizes if size > 0]\n",
    "    filtered_labels = [energy_sources[i] for i in range(len(sizes)) if sizes[i] > 0]\n",
    "    filtered_colors = [colors[i] for i in range(len(sizes)) if sizes[i] > 0]\n",
    "    \n",
    "    # Create the pie chart\n",
    "    if filtered_sizes:  # Only plot if there are non-zero contributions\n",
    "        plt.figure(figsize=(8, 8))\n",
    "        plt.pie(filtered_sizes, labels=filtered_labels, autopct='%1.1f%%', startangle=140, colors=filtered_colors)\n",
    "        plt.title(f'Energy Generation Distribution for {country}')\n",
    "        plt.show()"
   ]
  },
  {
   "cell_type": "code",
   "execution_count": null,
   "id": "9c696881",
   "metadata": {},
   "outputs": [
    {
     "data": {
      "text/plain": [
       "bus  carrier     \n",
       "DNK  gas             1.899606e+07\n",
       "     nuclear         0.000000e+00\n",
       "     offshorewind    0.000000e+00\n",
       "     onshorewind     1.381788e+07\n",
       "     solar           0.000000e+00\n",
       "GBR  gas             1.706459e+08\n",
       "     nuclear         0.000000e+00\n",
       "     offshorewind    0.000000e+00\n",
       "     onshorewind     1.115493e+08\n",
       "     solar           0.000000e+00\n",
       "Name: g, dtype: float64"
      ]
     },
     "execution_count": 53,
     "metadata": {},
     "output_type": "execute_result"
    }
   ],
   "source": [
    "gen = n.generators.assign(g=n.generators_t.p.sum()).groupby([\"bus\", \"carrier\"]).g.sum();\n",
    "gen"
   ]
  },
  {
   "cell_type": "code",
   "execution_count": null,
   "id": "45338932",
   "metadata": {},
   "outputs": [
    {
     "data": {
      "text/plain": [
       "np.float64(11025.584157575759)"
      ]
     },
     "execution_count": 54,
     "metadata": {},
     "output_type": "execute_result"
    }
   ],
   "source": [
    "n.generators.p_nom_opt.loc[n.generators.bus == \"DNK\"].sum()"
   ]
  },
  {
   "cell_type": "code",
   "execution_count": null,
   "id": "bb758459",
   "metadata": {},
   "outputs": [
    {
     "data": {
      "text/html": [
       "<div>\n",
       "<style scoped>\n",
       "    .dataframe tbody tr th:only-of-type {\n",
       "        vertical-align: middle;\n",
       "    }\n",
       "\n",
       "    .dataframe tbody tr th {\n",
       "        vertical-align: top;\n",
       "    }\n",
       "\n",
       "    .dataframe thead th {\n",
       "        text-align: right;\n",
       "    }\n",
       "</style>\n",
       "<table border=\"1\" class=\"dataframe\">\n",
       "  <thead>\n",
       "    <tr style=\"text-align: right;\">\n",
       "      <th></th>\n",
       "      <th>co2_emissions</th>\n",
       "      <th>color</th>\n",
       "      <th>nice_name</th>\n",
       "      <th>max_growth</th>\n",
       "      <th>max_relative_growth</th>\n",
       "    </tr>\n",
       "    <tr>\n",
       "      <th>Carrier</th>\n",
       "      <th></th>\n",
       "      <th></th>\n",
       "      <th></th>\n",
       "      <th></th>\n",
       "      <th></th>\n",
       "    </tr>\n",
       "  </thead>\n",
       "  <tbody>\n",
       "    <tr>\n",
       "      <th>gas</th>\n",
       "      <td>0.19</td>\n",
       "      <td></td>\n",
       "      <td></td>\n",
       "      <td>inf</td>\n",
       "      <td>0.0</td>\n",
       "    </tr>\n",
       "    <tr>\n",
       "      <th>onshorewind</th>\n",
       "      <td>0.00</td>\n",
       "      <td></td>\n",
       "      <td></td>\n",
       "      <td>inf</td>\n",
       "      <td>0.0</td>\n",
       "    </tr>\n",
       "    <tr>\n",
       "      <th>offshorewind</th>\n",
       "      <td>0.00</td>\n",
       "      <td></td>\n",
       "      <td></td>\n",
       "      <td>inf</td>\n",
       "      <td>0.0</td>\n",
       "    </tr>\n",
       "    <tr>\n",
       "      <th>nuclear</th>\n",
       "      <td>0.00</td>\n",
       "      <td></td>\n",
       "      <td></td>\n",
       "      <td>inf</td>\n",
       "      <td>0.0</td>\n",
       "    </tr>\n",
       "    <tr>\n",
       "      <th>solar</th>\n",
       "      <td>0.00</td>\n",
       "      <td></td>\n",
       "      <td></td>\n",
       "      <td>inf</td>\n",
       "      <td>0.0</td>\n",
       "    </tr>\n",
       "    <tr>\n",
       "      <th>heat</th>\n",
       "      <td>0.00</td>\n",
       "      <td></td>\n",
       "      <td></td>\n",
       "      <td>inf</td>\n",
       "      <td>0.0</td>\n",
       "    </tr>\n",
       "  </tbody>\n",
       "</table>\n",
       "</div>"
      ],
      "text/plain": [
       "              co2_emissions color nice_name  max_growth  max_relative_growth\n",
       "Carrier                                                                     \n",
       "gas                    0.19                         inf                  0.0\n",
       "onshorewind            0.00                         inf                  0.0\n",
       "offshorewind           0.00                         inf                  0.0\n",
       "nuclear                0.00                         inf                  0.0\n",
       "solar                  0.00                         inf                  0.0\n",
       "heat                   0.00                         inf                  0.0"
      ]
     },
     "execution_count": 55,
     "metadata": {},
     "output_type": "execute_result"
    }
   ],
   "source": [
    "n.carriers"
   ]
  },
  {
   "cell_type": "code",
   "execution_count": 98,
   "id": "284420b3",
   "metadata": {},
   "outputs": [
    {
     "name": "stderr",
     "output_type": "stream",
     "text": [
      "WARNING:pypsa.consistency:The following links have carriers which are not defined:\n",
      "Index(['Viking Link'], dtype='object', name='Link')\n",
      "WARNING:pypsa.consistency:The following buses have carriers which are not defined:\n",
      "Index(['GBR', 'DNK'], dtype='object', name='Bus')\n",
      "INFO:linopy.model: Solve problem using Gurobi solver\n",
      "INFO:linopy.model:Solver options:\n",
      " - Output_flag: 0\n",
      "INFO:linopy.io:Writing objective.\n",
      "Writing constraints.: 100%|\u001b[38;2;128;191;255m██████████\u001b[0m| 7/7 [00:00<00:00,  8.65it/s]\n",
      "Writing continuous variables.: 100%|\u001b[38;2;128;191;255m██████████\u001b[0m| 3/3 [00:00<00:00, 22.15it/s]\n",
      "INFO:linopy.io: Writing time: 1.0s\n"
     ]
    },
    {
     "name": "stdout",
     "output_type": "stream",
     "text": [
      "Set parameter Username\n"
     ]
    },
    {
     "name": "stderr",
     "output_type": "stream",
     "text": [
      "INFO:gurobipy:Set parameter Username\n"
     ]
    },
    {
     "name": "stdout",
     "output_type": "stream",
     "text": [
      "Set parameter LicenseID to value 2587918\n"
     ]
    },
    {
     "name": "stderr",
     "output_type": "stream",
     "text": [
      "INFO:gurobipy:Set parameter LicenseID to value 2587918\n"
     ]
    },
    {
     "name": "stdout",
     "output_type": "stream",
     "text": [
      "Academic license - for non-commercial use only - expires 2025-11-20\n"
     ]
    },
    {
     "name": "stderr",
     "output_type": "stream",
     "text": [
      "INFO:gurobipy:Academic license - for non-commercial use only - expires 2025-11-20\n"
     ]
    },
    {
     "name": "stdout",
     "output_type": "stream",
     "text": [
      "Read LP format model from file C:\\Users\\carlo\\AppData\\Local\\Temp\\linopy-problem-up5yzfnt.lp\n"
     ]
    },
    {
     "name": "stderr",
     "output_type": "stream",
     "text": [
      "INFO:gurobipy:Read LP format model from file C:\\Users\\carlo\\AppData\\Local\\Temp\\linopy-problem-up5yzfnt.lp\n"
     ]
    },
    {
     "name": "stdout",
     "output_type": "stream",
     "text": [
      "Reading time = 0.31 seconds\n"
     ]
    },
    {
     "name": "stderr",
     "output_type": "stream",
     "text": [
      "INFO:gurobipy:Reading time = 0.31 seconds\n"
     ]
    },
    {
     "name": "stdout",
     "output_type": "stream",
     "text": [
      "obj: 210252 rows, 96370 columns, 376833 nonzeros\n"
     ]
    },
    {
     "name": "stderr",
     "output_type": "stream",
     "text": [
      "INFO:gurobipy:obj: 210252 rows, 96370 columns, 376833 nonzeros\n",
      "INFO:linopy.constants: Optimization successful: \n",
      "Status: ok\n",
      "Termination condition: optimal\n",
      "Solution: 96370 primals, 210252 duals\n",
      "Objective: 2.31e+10\n",
      "Solver model: available\n",
      "Solver message: 2\n",
      "\n",
      "INFO:pypsa.optimization.optimize:The shadow-prices of the constraints Generator-ext-p-lower, Generator-ext-p-upper, Link-fix-p-lower, Link-fix-p-upper were not assigned to the network.\n",
      "WARNING:pypsa.consistency:The following links have carriers which are not defined:\n",
      "Index(['Viking Link'], dtype='object', name='Link')\n",
      "WARNING:pypsa.consistency:The following buses have carriers which are not defined:\n",
      "Index(['GBR', 'DNK'], dtype='object', name='Bus')\n",
      "INFO:linopy.model: Solve problem using Gurobi solver\n",
      "INFO:linopy.model:Solver options:\n",
      " - Output_flag: 0\n",
      "INFO:linopy.io:Writing objective.\n",
      "Writing constraints.: 100%|\u001b[38;2;128;191;255m██████████\u001b[0m| 7/7 [00:00<00:00,  9.38it/s]\n",
      "Writing continuous variables.: 100%|\u001b[38;2;128;191;255m██████████\u001b[0m| 3/3 [00:00<00:00, 21.32it/s]\n",
      "INFO:linopy.io: Writing time: 0.94s\n"
     ]
    },
    {
     "name": "stdout",
     "output_type": "stream",
     "text": [
      "Set parameter Username\n"
     ]
    },
    {
     "name": "stderr",
     "output_type": "stream",
     "text": [
      "INFO:gurobipy:Set parameter Username\n"
     ]
    },
    {
     "name": "stdout",
     "output_type": "stream",
     "text": [
      "Set parameter LicenseID to value 2587918\n"
     ]
    },
    {
     "name": "stderr",
     "output_type": "stream",
     "text": [
      "INFO:gurobipy:Set parameter LicenseID to value 2587918\n"
     ]
    },
    {
     "name": "stdout",
     "output_type": "stream",
     "text": [
      "Academic license - for non-commercial use only - expires 2025-11-20\n"
     ]
    },
    {
     "name": "stderr",
     "output_type": "stream",
     "text": [
      "INFO:gurobipy:Academic license - for non-commercial use only - expires 2025-11-20\n"
     ]
    },
    {
     "name": "stdout",
     "output_type": "stream",
     "text": [
      "Read LP format model from file C:\\Users\\carlo\\AppData\\Local\\Temp\\linopy-problem-g6deq9yf.lp\n"
     ]
    },
    {
     "name": "stderr",
     "output_type": "stream",
     "text": [
      "INFO:gurobipy:Read LP format model from file C:\\Users\\carlo\\AppData\\Local\\Temp\\linopy-problem-g6deq9yf.lp\n"
     ]
    },
    {
     "name": "stdout",
     "output_type": "stream",
     "text": [
      "Reading time = 0.25 seconds\n"
     ]
    },
    {
     "name": "stderr",
     "output_type": "stream",
     "text": [
      "INFO:gurobipy:Reading time = 0.25 seconds\n"
     ]
    },
    {
     "name": "stdout",
     "output_type": "stream",
     "text": [
      "obj: 210252 rows, 96370 columns, 376833 nonzeros\n"
     ]
    },
    {
     "name": "stderr",
     "output_type": "stream",
     "text": [
      "INFO:gurobipy:obj: 210252 rows, 96370 columns, 376833 nonzeros\n",
      "INFO:linopy.constants: Optimization successful: \n",
      "Status: ok\n",
      "Termination condition: optimal\n",
      "Solution: 96370 primals, 210252 duals\n",
      "Objective: 2.30e+10\n",
      "Solver model: available\n",
      "Solver message: 2\n",
      "\n",
      "INFO:pypsa.optimization.optimize:The shadow-prices of the constraints Generator-ext-p-lower, Generator-ext-p-upper, Link-fix-p-lower, Link-fix-p-upper were not assigned to the network.\n",
      "WARNING:pypsa.consistency:The following links have carriers which are not defined:\n",
      "Index(['Viking Link'], dtype='object', name='Link')\n",
      "WARNING:pypsa.consistency:The following buses have carriers which are not defined:\n",
      "Index(['GBR', 'DNK'], dtype='object', name='Bus')\n",
      "INFO:linopy.model: Solve problem using Gurobi solver\n",
      "INFO:linopy.model:Solver options:\n",
      " - Output_flag: 0\n",
      "INFO:linopy.io:Writing objective.\n",
      "Writing constraints.: 100%|\u001b[38;2;128;191;255m██████████\u001b[0m| 7/7 [00:00<00:00,  9.41it/s]\n",
      "Writing continuous variables.: 100%|\u001b[38;2;128;191;255m██████████\u001b[0m| 3/3 [00:00<00:00, 22.40it/s]\n",
      "INFO:linopy.io: Writing time: 0.93s\n"
     ]
    },
    {
     "name": "stdout",
     "output_type": "stream",
     "text": [
      "Set parameter Username\n"
     ]
    },
    {
     "name": "stderr",
     "output_type": "stream",
     "text": [
      "INFO:gurobipy:Set parameter Username\n"
     ]
    },
    {
     "name": "stdout",
     "output_type": "stream",
     "text": [
      "Set parameter LicenseID to value 2587918\n"
     ]
    },
    {
     "name": "stderr",
     "output_type": "stream",
     "text": [
      "INFO:gurobipy:Set parameter LicenseID to value 2587918\n"
     ]
    },
    {
     "name": "stdout",
     "output_type": "stream",
     "text": [
      "Academic license - for non-commercial use only - expires 2025-11-20\n"
     ]
    },
    {
     "name": "stderr",
     "output_type": "stream",
     "text": [
      "INFO:gurobipy:Academic license - for non-commercial use only - expires 2025-11-20\n"
     ]
    },
    {
     "name": "stdout",
     "output_type": "stream",
     "text": [
      "Read LP format model from file C:\\Users\\carlo\\AppData\\Local\\Temp\\linopy-problem-an3_pzzb.lp\n"
     ]
    },
    {
     "name": "stderr",
     "output_type": "stream",
     "text": [
      "INFO:gurobipy:Read LP format model from file C:\\Users\\carlo\\AppData\\Local\\Temp\\linopy-problem-an3_pzzb.lp\n"
     ]
    },
    {
     "name": "stdout",
     "output_type": "stream",
     "text": [
      "Reading time = 0.26 seconds\n"
     ]
    },
    {
     "name": "stderr",
     "output_type": "stream",
     "text": [
      "INFO:gurobipy:Reading time = 0.26 seconds\n"
     ]
    },
    {
     "name": "stdout",
     "output_type": "stream",
     "text": [
      "obj: 210252 rows, 96370 columns, 376833 nonzeros\n"
     ]
    },
    {
     "name": "stderr",
     "output_type": "stream",
     "text": [
      "INFO:gurobipy:obj: 210252 rows, 96370 columns, 376833 nonzeros\n",
      "INFO:linopy.constants: Optimization successful: \n",
      "Status: ok\n",
      "Termination condition: optimal\n",
      "Solution: 96370 primals, 210252 duals\n",
      "Objective: 2.30e+10\n",
      "Solver model: available\n",
      "Solver message: 2\n",
      "\n",
      "INFO:pypsa.optimization.optimize:The shadow-prices of the constraints Generator-ext-p-lower, Generator-ext-p-upper, Link-fix-p-lower, Link-fix-p-upper were not assigned to the network.\n",
      "WARNING:pypsa.consistency:The following links have carriers which are not defined:\n",
      "Index(['Viking Link'], dtype='object', name='Link')\n",
      "WARNING:pypsa.consistency:The following buses have carriers which are not defined:\n",
      "Index(['GBR', 'DNK'], dtype='object', name='Bus')\n",
      "INFO:linopy.model: Solve problem using Gurobi solver\n",
      "INFO:linopy.model:Solver options:\n",
      " - Output_flag: 0\n",
      "INFO:linopy.io:Writing objective.\n",
      "Writing constraints.: 100%|\u001b[38;2;128;191;255m██████████\u001b[0m| 7/7 [00:01<00:00,  6.52it/s]\n",
      "Writing continuous variables.: 100%|\u001b[38;2;128;191;255m██████████\u001b[0m| 3/3 [00:00<00:00,  8.92it/s]\n",
      "INFO:linopy.io: Writing time: 1.46s\n"
     ]
    },
    {
     "name": "stdout",
     "output_type": "stream",
     "text": [
      "Set parameter Username\n"
     ]
    },
    {
     "name": "stderr",
     "output_type": "stream",
     "text": [
      "INFO:gurobipy:Set parameter Username\n"
     ]
    },
    {
     "name": "stdout",
     "output_type": "stream",
     "text": [
      "Set parameter LicenseID to value 2587918\n"
     ]
    },
    {
     "name": "stderr",
     "output_type": "stream",
     "text": [
      "INFO:gurobipy:Set parameter LicenseID to value 2587918\n"
     ]
    },
    {
     "name": "stdout",
     "output_type": "stream",
     "text": [
      "Academic license - for non-commercial use only - expires 2025-11-20\n"
     ]
    },
    {
     "name": "stderr",
     "output_type": "stream",
     "text": [
      "INFO:gurobipy:Academic license - for non-commercial use only - expires 2025-11-20\n"
     ]
    },
    {
     "name": "stdout",
     "output_type": "stream",
     "text": [
      "Read LP format model from file C:\\Users\\carlo\\AppData\\Local\\Temp\\linopy-problem-8p9cdw71.lp\n"
     ]
    },
    {
     "name": "stderr",
     "output_type": "stream",
     "text": [
      "INFO:gurobipy:Read LP format model from file C:\\Users\\carlo\\AppData\\Local\\Temp\\linopy-problem-8p9cdw71.lp\n"
     ]
    },
    {
     "name": "stdout",
     "output_type": "stream",
     "text": [
      "Reading time = 0.71 seconds\n"
     ]
    },
    {
     "name": "stderr",
     "output_type": "stream",
     "text": [
      "INFO:gurobipy:Reading time = 0.71 seconds\n"
     ]
    },
    {
     "name": "stdout",
     "output_type": "stream",
     "text": [
      "obj: 210252 rows, 96370 columns, 376833 nonzeros\n"
     ]
    },
    {
     "name": "stderr",
     "output_type": "stream",
     "text": [
      "INFO:gurobipy:obj: 210252 rows, 96370 columns, 376833 nonzeros\n",
      "INFO:linopy.constants: Optimization successful: \n",
      "Status: ok\n",
      "Termination condition: optimal\n",
      "Solution: 96370 primals, 210252 duals\n",
      "Objective: 2.30e+10\n",
      "Solver model: available\n",
      "Solver message: 2\n",
      "\n",
      "INFO:pypsa.optimization.optimize:The shadow-prices of the constraints Generator-ext-p-lower, Generator-ext-p-upper, Link-fix-p-lower, Link-fix-p-upper were not assigned to the network.\n",
      "WARNING:pypsa.consistency:The following links have carriers which are not defined:\n",
      "Index(['Viking Link'], dtype='object', name='Link')\n",
      "WARNING:pypsa.consistency:The following buses have carriers which are not defined:\n",
      "Index(['GBR', 'DNK'], dtype='object', name='Bus')\n",
      "INFO:linopy.model: Solve problem using Gurobi solver\n",
      "INFO:linopy.model:Solver options:\n",
      " - Output_flag: 0\n",
      "INFO:linopy.io:Writing objective.\n",
      "Writing constraints.: 100%|\u001b[38;2;128;191;255m██████████\u001b[0m| 7/7 [00:01<00:00,  5.19it/s]\n",
      "Writing continuous variables.: 100%|\u001b[38;2;128;191;255m██████████\u001b[0m| 3/3 [00:00<00:00, 10.91it/s]\n",
      "INFO:linopy.io: Writing time: 1.72s\n"
     ]
    },
    {
     "name": "stdout",
     "output_type": "stream",
     "text": [
      "Set parameter Username\n"
     ]
    },
    {
     "name": "stderr",
     "output_type": "stream",
     "text": [
      "INFO:gurobipy:Set parameter Username\n"
     ]
    },
    {
     "name": "stdout",
     "output_type": "stream",
     "text": [
      "Set parameter LicenseID to value 2587918\n"
     ]
    },
    {
     "name": "stderr",
     "output_type": "stream",
     "text": [
      "INFO:gurobipy:Set parameter LicenseID to value 2587918\n"
     ]
    },
    {
     "name": "stdout",
     "output_type": "stream",
     "text": [
      "Academic license - for non-commercial use only - expires 2025-11-20\n"
     ]
    },
    {
     "name": "stderr",
     "output_type": "stream",
     "text": [
      "INFO:gurobipy:Academic license - for non-commercial use only - expires 2025-11-20\n"
     ]
    },
    {
     "name": "stdout",
     "output_type": "stream",
     "text": [
      "Read LP format model from file C:\\Users\\carlo\\AppData\\Local\\Temp\\linopy-problem-70lx2l8o.lp\n"
     ]
    },
    {
     "name": "stderr",
     "output_type": "stream",
     "text": [
      "INFO:gurobipy:Read LP format model from file C:\\Users\\carlo\\AppData\\Local\\Temp\\linopy-problem-70lx2l8o.lp\n"
     ]
    },
    {
     "name": "stdout",
     "output_type": "stream",
     "text": [
      "Reading time = 0.48 seconds\n"
     ]
    },
    {
     "name": "stderr",
     "output_type": "stream",
     "text": [
      "INFO:gurobipy:Reading time = 0.48 seconds\n"
     ]
    },
    {
     "name": "stdout",
     "output_type": "stream",
     "text": [
      "obj: 210252 rows, 96370 columns, 376833 nonzeros\n"
     ]
    },
    {
     "name": "stderr",
     "output_type": "stream",
     "text": [
      "INFO:gurobipy:obj: 210252 rows, 96370 columns, 376833 nonzeros\n",
      "INFO:linopy.constants: Optimization successful: \n",
      "Status: ok\n",
      "Termination condition: optimal\n",
      "Solution: 96370 primals, 210252 duals\n",
      "Objective: 2.30e+10\n",
      "Solver model: available\n",
      "Solver message: 2\n",
      "\n",
      "INFO:pypsa.optimization.optimize:The shadow-prices of the constraints Generator-ext-p-lower, Generator-ext-p-upper, Link-fix-p-lower, Link-fix-p-upper were not assigned to the network.\n",
      "WARNING:pypsa.consistency:The following links have carriers which are not defined:\n",
      "Index(['Viking Link'], dtype='object', name='Link')\n",
      "WARNING:pypsa.consistency:The following buses have carriers which are not defined:\n",
      "Index(['GBR', 'DNK'], dtype='object', name='Bus')\n",
      "INFO:linopy.model: Solve problem using Gurobi solver\n",
      "INFO:linopy.model:Solver options:\n",
      " - Output_flag: 0\n",
      "INFO:linopy.io:Writing objective.\n",
      "Writing constraints.: 100%|\u001b[38;2;128;191;255m██████████\u001b[0m| 7/7 [00:01<00:00,  5.29it/s]\n",
      "Writing continuous variables.: 100%|\u001b[38;2;128;191;255m██████████\u001b[0m| 3/3 [00:00<00:00, 13.25it/s]\n",
      "INFO:linopy.io: Writing time: 1.64s\n"
     ]
    },
    {
     "name": "stdout",
     "output_type": "stream",
     "text": [
      "Set parameter Username\n"
     ]
    },
    {
     "name": "stderr",
     "output_type": "stream",
     "text": [
      "INFO:gurobipy:Set parameter Username\n"
     ]
    },
    {
     "name": "stdout",
     "output_type": "stream",
     "text": [
      "Set parameter LicenseID to value 2587918\n"
     ]
    },
    {
     "name": "stderr",
     "output_type": "stream",
     "text": [
      "INFO:gurobipy:Set parameter LicenseID to value 2587918\n"
     ]
    },
    {
     "name": "stdout",
     "output_type": "stream",
     "text": [
      "Academic license - for non-commercial use only - expires 2025-11-20\n"
     ]
    },
    {
     "name": "stderr",
     "output_type": "stream",
     "text": [
      "INFO:gurobipy:Academic license - for non-commercial use only - expires 2025-11-20\n"
     ]
    },
    {
     "name": "stdout",
     "output_type": "stream",
     "text": [
      "Read LP format model from file C:\\Users\\carlo\\AppData\\Local\\Temp\\linopy-problem-swtigire.lp\n"
     ]
    },
    {
     "name": "stderr",
     "output_type": "stream",
     "text": [
      "INFO:gurobipy:Read LP format model from file C:\\Users\\carlo\\AppData\\Local\\Temp\\linopy-problem-swtigire.lp\n"
     ]
    },
    {
     "name": "stdout",
     "output_type": "stream",
     "text": [
      "Reading time = 0.41 seconds\n"
     ]
    },
    {
     "name": "stderr",
     "output_type": "stream",
     "text": [
      "INFO:gurobipy:Reading time = 0.41 seconds\n"
     ]
    },
    {
     "name": "stdout",
     "output_type": "stream",
     "text": [
      "obj: 210252 rows, 96370 columns, 376833 nonzeros\n"
     ]
    },
    {
     "name": "stderr",
     "output_type": "stream",
     "text": [
      "INFO:gurobipy:obj: 210252 rows, 96370 columns, 376833 nonzeros\n",
      "INFO:linopy.constants: Optimization successful: \n",
      "Status: ok\n",
      "Termination condition: optimal\n",
      "Solution: 96370 primals, 210252 duals\n",
      "Objective: 2.30e+10\n",
      "Solver model: available\n",
      "Solver message: 2\n",
      "\n",
      "INFO:pypsa.optimization.optimize:The shadow-prices of the constraints Generator-ext-p-lower, Generator-ext-p-upper, Link-fix-p-lower, Link-fix-p-upper were not assigned to the network.\n",
      "WARNING:pypsa.consistency:The following links have carriers which are not defined:\n",
      "Index(['Viking Link'], dtype='object', name='Link')\n",
      "WARNING:pypsa.consistency:The following buses have carriers which are not defined:\n",
      "Index(['GBR', 'DNK'], dtype='object', name='Bus')\n",
      "INFO:linopy.model: Solve problem using Gurobi solver\n",
      "INFO:linopy.model:Solver options:\n",
      " - Output_flag: 0\n",
      "INFO:linopy.io:Writing objective.\n",
      "Writing constraints.: 100%|\u001b[38;2;128;191;255m██████████\u001b[0m| 7/7 [00:01<00:00,  5.46it/s]\n",
      "Writing continuous variables.: 100%|\u001b[38;2;128;191;255m██████████\u001b[0m| 3/3 [00:00<00:00, 14.16it/s]\n",
      "INFO:linopy.io: Writing time: 1.58s\n"
     ]
    },
    {
     "name": "stdout",
     "output_type": "stream",
     "text": [
      "Set parameter Username\n"
     ]
    },
    {
     "name": "stderr",
     "output_type": "stream",
     "text": [
      "INFO:gurobipy:Set parameter Username\n"
     ]
    },
    {
     "name": "stdout",
     "output_type": "stream",
     "text": [
      "Set parameter LicenseID to value 2587918\n"
     ]
    },
    {
     "name": "stderr",
     "output_type": "stream",
     "text": [
      "INFO:gurobipy:Set parameter LicenseID to value 2587918\n"
     ]
    },
    {
     "name": "stdout",
     "output_type": "stream",
     "text": [
      "Academic license - for non-commercial use only - expires 2025-11-20\n"
     ]
    },
    {
     "name": "stderr",
     "output_type": "stream",
     "text": [
      "INFO:gurobipy:Academic license - for non-commercial use only - expires 2025-11-20\n"
     ]
    },
    {
     "name": "stdout",
     "output_type": "stream",
     "text": [
      "Read LP format model from file C:\\Users\\carlo\\AppData\\Local\\Temp\\linopy-problem-3qknujsv.lp\n"
     ]
    },
    {
     "name": "stderr",
     "output_type": "stream",
     "text": [
      "INFO:gurobipy:Read LP format model from file C:\\Users\\carlo\\AppData\\Local\\Temp\\linopy-problem-3qknujsv.lp\n"
     ]
    },
    {
     "name": "stdout",
     "output_type": "stream",
     "text": [
      "Reading time = 0.49 seconds\n"
     ]
    },
    {
     "name": "stderr",
     "output_type": "stream",
     "text": [
      "INFO:gurobipy:Reading time = 0.49 seconds\n"
     ]
    },
    {
     "name": "stdout",
     "output_type": "stream",
     "text": [
      "obj: 210252 rows, 96370 columns, 376833 nonzeros\n"
     ]
    },
    {
     "name": "stderr",
     "output_type": "stream",
     "text": [
      "INFO:gurobipy:obj: 210252 rows, 96370 columns, 376833 nonzeros\n",
      "INFO:linopy.constants: Optimization successful: \n",
      "Status: ok\n",
      "Termination condition: optimal\n",
      "Solution: 96370 primals, 210252 duals\n",
      "Objective: 2.30e+10\n",
      "Solver model: available\n",
      "Solver message: 2\n",
      "\n",
      "INFO:pypsa.optimization.optimize:The shadow-prices of the constraints Generator-ext-p-lower, Generator-ext-p-upper, Link-fix-p-lower, Link-fix-p-upper were not assigned to the network.\n"
     ]
    },
    {
     "name": "stdout",
     "output_type": "stream",
     "text": [
      "[{'System cost': 23078786157.532, 'Viking Link capacity': 0, 'DNK energy mix': {'offshorewind': np.float64(0.0), 'onshorewind': np.float64(13817881.175709091), 'solar': np.float64(0.0), 'nuclear': np.float64(0.0), 'CCGT': np.float64(18996057.954290908)}, 'GBR energy mix': {'offshorewind': np.float64(0.0), 'onshorewind': np.float64(111549255.41078839), 'solar': np.float64(0.0), 'nuclear': np.float64(0.0), 'CCGT': np.float64(170645933.5892116)}, 'DNK installed capacity': np.float64(11025.584157575759), 'GBR installed capacity': np.float64(99895.46473029046)}, {'System cost': 23024464399.512943, 'Viking Link capacity': 250, 'DNK energy mix': {'offshorewind': np.float64(0.0), 'onshorewind': np.float64(14516161.494537652), 'solar': np.float64(0.0), 'nuclear': np.float64(0.0), 'CCGT': np.float64(20233420.11951749)}, 'GBR energy mix': {'offshorewind': np.float64(0.0), 'onshorewind': np.float64(111877789.26733255), 'solar': np.float64(0.0), 'nuclear': np.float64(0.0), 'CCGT': np.float64(168381757.24861228)}, 'DNK installed capacity': np.float64(11056.161158798284), 'GBR installed capacity': np.float64(99769.12121212122)}, {'System cost': 23008910556.348793, 'Viking Link capacity': 500, 'DNK energy mix': {'offshorewind': np.float64(0.0), 'onshorewind': np.float64(15160991.633023256), 'solar': np.float64(0.0), 'nuclear': np.float64(0.0), 'CCGT': np.float64(21548946.008599363)}, 'GBR energy mix': {'offshorewind': np.float64(0.0), 'onshorewind': np.float64(112870224.71593022), 'solar': np.float64(0.0), 'nuclear': np.float64(0.0), 'CCGT': np.float64(165428965.77244717)}, 'DNK installed capacity': np.float64(11449.434127906978), 'GBR installed capacity': np.float64(100024.2722832981)}, {'System cost': 22999909844.728237, 'Viking Link capacity': 750, 'DNK energy mix': {'offshorewind': np.float64(0.0), 'onshorewind': np.float64(15843469.163544275), 'solar': np.float64(0.0), 'nuclear': np.float64(0.0), 'CCGT': np.float64(22819440.47242974)}, 'GBR energy mix': {'offshorewind': np.float64(0.0), 'onshorewind': np.float64(113080719.09660275), 'solar': np.float64(0.0), 'nuclear': np.float64(0.0), 'CCGT': np.float64(163265499.3974232)}, 'DNK installed capacity': np.float64(12006.870885750963), 'GBR installed capacity': np.float64(99829.209415144)}, {'System cost': 22991878839.650867, 'Viking Link capacity': 1000, 'DNK energy mix': {'offshorewind': np.float64(0.0), 'onshorewind': np.float64(16498143.432856139), 'solar': np.float64(0.0), 'nuclear': np.float64(0.0), 'CCGT': np.float64(24097120.605625562)}, 'GBR energy mix': {'offshorewind': np.float64(0.0), 'onshorewind': np.float64(112933251.76999605), 'solar': np.float64(0.0), 'nuclear': np.float64(0.0), 'CCGT': np.float64(161480612.32152227)}, 'DNK installed capacity': np.float64(12633.088160120544), 'GBR installed capacity': np.float64(99387.77032810272)}, {'System cost': 22980710583.856625, 'Viking Link capacity': 1400, 'DNK energy mix': {'offshorewind': np.float64(0.0), 'onshorewind': np.float64(17577408.87470228), 'solar': np.float64(0.0), 'nuclear': np.float64(0.0), 'CCGT': np.float64(26135944.25189348)}, 'GBR energy mix': {'offshorewind': np.float64(0.0), 'onshorewind': np.float64(112708000.70246297), 'solar': np.float64(0.0), 'nuclear': np.float64(0.0), 'CCGT': np.float64(158587774.3009413)}, 'DNK installed capacity': np.float64(13356.659273399015), 'GBR installed capacity': np.float64(98993.40559975735)}, {'System cost': 22971130543.92812, 'Viking Link capacity': 1800, 'DNK energy mix': {'offshorewind': np.float64(0.0), 'onshorewind': np.float64(18675141.756850403), 'solar': np.float64(0.0), 'nuclear': np.float64(0.0), 'CCGT': np.float64(28183403.8924688)}, 'GBR energy mix': {'offshorewind': np.float64(0.0), 'onshorewind': np.float64(112375814.86257201), 'solar': np.float64(0.0), 'nuclear': np.float64(0.0), 'CCGT': np.float64(155774767.6181088)}, 'DNK installed capacity': np.float64(14374.64975), 'GBR installed capacity': np.float64(98274.9251542)}]\n"
     ]
    }
   ],
   "source": [
    "# Define the CO2 constraint values for sensitivity analysis\n",
    "viking_link_capacity = [0, 250, 500, 750, 1000, 1400, 1800]  # in MW\n",
    "\n",
    "results = []\n",
    "\n",
    "# Loop through each CO2 limit\n",
    "for capacity in viking_link_capacity:\n",
    "    # Change the capacity of the Viking Link\n",
    "    n.links.at[\"Viking Link\", \"p_nom\"] = capacity\n",
    "    \n",
    "    # Solve the network\n",
    "    n.optimize(n.snapshots,\n",
    "                 solver_name='gurobi',\n",
    "                 Output_flag = 0)\n",
    "\n",
    "    system_cost = n.objective\n",
    "\n",
    "    dnk_capacity = n.generators.p_nom_opt.loc[n.generators.bus == \"DNK\"].sum()\n",
    "    gbr_capacity = n.generators.p_nom_opt.loc[n.generators.bus == \"GBR\"].sum()\n",
    "    # Extract the optimized generator capacities\n",
    "    results.append({\n",
    "        \"System cost\": system_cost,\n",
    "        \"Viking Link capacity\": capacity,\n",
    "        \"DNK energy mix\": {\n",
    "            \"offshorewind\": n.generators_t.p[\"DNK offshorewind\"].sum(),\n",
    "            \"onshorewind\": n.generators_t.p[\"DNK onshorewind\"].sum(),\n",
    "            \"solar\": n.generators_t.p[\"DNK solar\"].sum(),\n",
    "            \"nuclear\": n.generators_t.p[\"DNK nuclear\"].sum(),\n",
    "            \"CCGT\": n.generators_t.p[\"DNK CCGT\"].sum()\n",
    "        },\n",
    "        \"GBR energy mix\": {\n",
    "            \"offshorewind\": n.generators_t.p[\"GBR offshorewind\"].sum(),\n",
    "            \"onshorewind\": n.generators_t.p[\"GBR onshorewind\"].sum(),\n",
    "            \"solar\": n.generators_t.p[\"GBR solar\"].sum(),\n",
    "            \"nuclear\": n.generators_t.p[\"GBR nuclear\"].sum(),\n",
    "            \"CCGT\": n.generators_t.p[\"GBR CCGT\"].sum()\n",
    "        },\n",
    "        \"DNK installed capacity\": dnk_capacity,\n",
    "        \"GBR installed capacity\": gbr_capacity,\n",
    "    })\n",
    "\n",
    "# Save the results to a CSV file for further analysis\n",
    "# results.to_csv(\"sensitivity_analysis_results.csv\", index=False)\n",
    "\n",
    "# Display the results\n",
    "print(results)"
   ]
  },
  {
   "cell_type": "code",
   "execution_count": 101,
   "id": "562ec0b2",
   "metadata": {},
   "outputs": [
    {
     "data": {
      "text/plain": [
       "<matplotlib.legend.Legend at 0x257e009f610>"
      ]
     },
     "execution_count": 101,
     "metadata": {},
     "output_type": "execute_result"
    },
    {
     "data": {
      "image/png": "[encoded data removed]",
      "text/plain": [
       "<Figure size 1000x600 with 1 Axes>"
      ]
     },
     "metadata": {},
     "output_type": "display_data"
    }
   ],
   "source": [
    "# Plot variation of electricity mix with Viking Link capacity\n",
    "fig, ax = plt.subplots(figsize=(10, 6))\n",
    "for i, source in enumerate(energy_sources):\n",
    "    ax.plot(viking_link_capacity, [result[\"DNK energy mix\"][source] for result in results], label=source)\n",
    "ax.set_xlabel(\"Viking Link Capacity (MW)\")\n",
    "ax.legend()"
   ]
  }
 ],
 "metadata": {
  "kernelspec": {
   "display_name": "py311",
   "language": "python",
   "name": "python3"
  },
  "language_info": {
   "codemirror_mode": {
    "name": "ipython",
    "version": 3
   },
   "file_extension": ".py",
   "mimetype": "text/x-python",
   "name": "python",
   "nbconvert_exporter": "python",
   "pygments_lexer": "ipython3",
   "version": "3.11.10"
  }
 },
 "nbformat": 4,
 "nbformat_minor": 5
}
